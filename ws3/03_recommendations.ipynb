{
 "cells": [
  {
   "cell_type": "markdown",
   "metadata": {},
   "source": [
    "# Recommendations"
   ]
  },
  {
   "cell_type": "markdown",
   "metadata": {},
   "source": [
    "## Recommended IDEs\n",
    "\n",
    "**IPython**\n",
    "\n",
    "* on the command line, **IPython** is by far the best choice\n",
    "* it works similar to Jupyter, with TAB completion, syntax highlighting and much more\n",
    "* Documentation: https://ipython.readthedocs.io/en/stable/\n",
    "* Installation: `pip install ipython`"
   ]
  },
  {
   "cell_type": "markdown",
   "metadata": {},
   "source": [
    "**Visual Code**\n",
    "\n",
    "* currently (arguably) one of the best free editors available\n",
    "* offers built-in Jupyter Notebooks\n",
    "* integrated debugger, git checkouts, kubernetes\n",
    "* highly extendible\n",
    "* Documentation and download: https://code.visualstudio.com"
   ]
  },
  {
   "cell_type": "markdown",
   "metadata": {},
   "source": [
    "## Recommended Modules\n",
    "\n",
    "* [pdb - the Python Debugger](https://docs.python.org/3/library/pdb.html) - typically, you start debugging your script by adding `import pdb; pdb.set_trace()` somewhere. `n`(ext), `s`(tep), `c`(ontinue), `l`(ist) and `ll` (long list) are the typical keystrokes you'll need inside the debugger. Use `dir(object_of_interest)` to inspect the methods of a given object.\n",
    "* [defaultdict from the collections module](https://docs.python.org/3/library/collections.html#collections.defaultdict) - To avoid nasty and unnecessary KeyErrors when working with dicts.  \n",
    "* [tabulate](https://github.com/astanin/python-tabulate) - displaying tabular data on console\n",
    "* [sqlite](https://www.tutorialspoint.com/sqlite/sqlite_python.htm) – for a lightning-fast, file-based local database\n",
    "* [pytest](https://docs.pytest.org/en/latest/) - write better tests, write better programs\n",
    "* [Pandas](https://pandas.pydata.org/docs/getting_started/index.html), [numpy](https://numpy.org), [scipy](https://www.scipy.org/about.html), [matplotlib](https://matplotlib.org): the backbone modules for Data Scientists\n",
    "* [Spacy](https://spacy.io) for natural language processing (NLP)\n",
    "* [zlib](https://docs.python.org/3/library/zlib.html) – Compression compatible with gzip"
   ]
  },
  {
   "cell_type": "code",
   "execution_count": 2,
   "metadata": {},
   "outputs": [],
   "source": []
  },
  {
   "cell_type": "code",
   "execution_count": 6,
   "metadata": {},
   "outputs": [
    {
     "name": "stdout",
     "output_type": "stream",
     "text": [
      "-rwxr-xr-x   1 vermeul  staff    354 27 Nov 18:51 hello_click.py\n",
      "-rwxr-xr-x   1 vermeul  staff    361 28 Nov 20:57 hello_click_1.py\n",
      "-rwxr-xr-x   1 vermeul  staff     44 28 Nov 20:01 import_hello_click_1.py\n",
      "\n"
     ]
    }
   ],
   "source": [
    "print(output)"
   ]
  }
 ],
 "metadata": {
  "kernelspec": {
   "display_name": "Python 3",
   "language": "python",
   "name": "python3"
  },
  "language_info": {
   "codemirror_mode": {
    "name": "ipython",
    "version": 3
   },
   "file_extension": ".py",
   "mimetype": "text/x-python",
   "name": "python",
   "nbconvert_exporter": "python",
   "pygments_lexer": "ipython3",
   "version": "3.6.9"
  }
 },
 "nbformat": 4,
 "nbformat_minor": 4
}
