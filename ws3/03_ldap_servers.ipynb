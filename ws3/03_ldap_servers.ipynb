{
 "cells": [
  {
   "cell_type": "markdown",
   "metadata": {
    "editable": true,
    "slideshow": {
     "slide_type": "slide"
    },
    "tags": []
   },
   "source": [
    "# Talking to LDAP servers"
   ]
  },
  {
   "cell_type": "markdown",
   "metadata": {
    "slideshow": {
     "slide_type": "subslide"
    }
   },
   "source": [
    "To talk to LDAP servers (AD, LDAPS) we depend on the `ldap3` module which needs to be installed first:"
   ]
  },
  {
   "cell_type": "code",
   "execution_count": null,
   "metadata": {},
   "outputs": [],
   "source": [
    "!pip install --upgrade --break-system-packages ldap3"
   ]
  },
  {
   "cell_type": "markdown",
   "metadata": {
    "slideshow": {
     "slide_type": "slide"
    }
   },
   "source": [
    "## connect and bind to LDAP"
   ]
  },
  {
   "cell_type": "markdown",
   "metadata": {
    "slideshow": {
     "slide_type": "subslide"
    }
   },
   "source": [
    "**Note:** To connect and bind to our Active Directory, you need to be within the ETH domain.\n",
    "\n",
    "The connection needs information about the server name. Make sure you pass the `use_ssl=True` parameter to ensure your password is not sent over the internet unencrypted during the bind:"
   ]
  },
  {
   "cell_type": "code",
   "execution_count": null,
   "metadata": {
    "slideshow": {
     "slide_type": "slide"
    }
   },
   "outputs": [],
   "source": [
    "from ldap3 import Server, Connection, ALL, NTLM, SUBTREE, Tls\n",
    "\n",
    "server = Server(\"d.ethz.ch\", use_ssl=True)\n",
    "username = input(\"Username: \")"
   ]
  },
  {
   "cell_type": "markdown",
   "metadata": {
    "slideshow": {
     "slide_type": "slide"
    }
   },
   "source": [
    "Now, we can establish a connection. It happens in two steps:\n",
    "\n",
    "1. connection to the server\n",
    "2. bind – the actual authentication against the LDAPS server\n",
    "\n",
    "Most LDAP Severs expect a **distinguished name** (DN) instead of just a username. Within a directory, a username is not necessarily unique (AD is an exception: the sAMAccountName is forced to be unique within the whole directory). \n",
    "\n",
    "If the `conn.bind()` is False, then the connection could not be established, e.g. wrong credentials or username (DN)"
   ]
  },
  {
   "cell_type": "code",
   "execution_count": null,
   "metadata": {
    "slideshow": {
     "slide_type": "subslide"
    }
   },
   "outputs": [],
   "source": [
    "import getpass\n",
    "from ldap3 import Server, Connection, ALL, NTLM, SUBTREE, Tls\n",
    "\n",
    "server = Server(\"d.ethz.ch\", use_ssl=True)\n",
    "username = input(\"Username:\")\n",
    "\n",
    "conn = Connection(\n",
    "    server, \n",
    "    user=f'cn={username},OU=ETHUsers,DC=d,DC=ethz,DC=ch',\n",
    "    password=getpass.getpass()\n",
    ")\n",
    "conn.bind()"
   ]
  },
  {
   "cell_type": "markdown",
   "metadata": {
    "slideshow": {
     "slide_type": "slide"
    }
   },
   "source": [
    "**Note:** AD supports NTLM authentication (a proprietary protocol) to bind with `domain\\username` instead of the usual distinguishedName (dn), so you don't need to know the exact distinguishedName:"
   ]
  },
  {
   "cell_type": "code",
   "execution_count": null,
   "metadata": {
    "slideshow": {
     "slide_type": "subslide"
    }
   },
   "outputs": [],
   "source": [
    "conn = Connection(\n",
    "    server, \n",
    "    user=f'd\\\\{username}',\n",
    "    password=getpass.getpass()\n",
    ")\n",
    "conn.bind()"
   ]
  },
  {
   "cell_type": "markdown",
   "metadata": {
    "slideshow": {
     "slide_type": "slide"
    }
   },
   "source": [
    "## Searching\n",
    "\n",
    "Once we got a successful bind, we can **start searching** for data"
   ]
  },
  {
   "cell_type": "code",
   "execution_count": null,
   "metadata": {
    "slideshow": {
     "slide_type": "slide"
    }
   },
   "outputs": [],
   "source": [
    "attributes=[\"displayName\", \"mail\"]\n",
    "ok = conn.search(\n",
    "    search_base=\"DC=d,DC=ethz,DC=ch\",\n",
    "    search_filter=f\"(&(objectClass=user)(sAMAccountName={username}))\",\n",
    "    search_scope=SUBTREE,\n",
    "    attributes=attributes\n",
    ")\n",
    "if ok:\n",
    "    for response in conn.response:\n",
    "        if not 'dn' in response: continue\n",
    "        print(response['dn'])\n",
    "        for key in response.get('attributes', []):\n",
    "            print(key, \":\", response['attributes'].get(key))"
   ]
  },
  {
   "cell_type": "markdown",
   "metadata": {
    "slideshow": {
     "slide_type": "slide"
    }
   },
   "source": [
    "## Exercises\n",
    "\n",
    "1. Query for groups, using `(&(objectClass=group)(sAMAccountName=id-sis*))`\n",
    "2. Use the `*` to match any character (only use it at the end, for performance!)\n",
    "3. Try to use `attributes=[\"*\"]` to get all attributes (watch out, it can be a lot ;-)\n",
    "4. Query for all computers starting with `Q`, using `(&(objectClass=computer)(sAMAccountName=q*))`, "
   ]
  }
 ],
 "metadata": {
  "celltoolbar": "Slideshow",
  "kernelspec": {
   "display_name": "Python 3 (ipykernel)",
   "language": "python",
   "name": "python3"
  },
  "language_info": {
   "codemirror_mode": {
    "name": "ipython",
    "version": 3
   },
   "file_extension": ".py",
   "mimetype": "text/x-python",
   "name": "python",
   "nbconvert_exporter": "python",
   "pygments_lexer": "ipython3",
   "version": "3.11.9"
  }
 },
 "nbformat": 4,
 "nbformat_minor": 4
}
