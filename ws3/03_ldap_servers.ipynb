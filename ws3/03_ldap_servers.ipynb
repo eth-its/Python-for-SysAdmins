{
 "cells": [
  {
   "cell_type": "markdown",
   "metadata": {},
   "source": [
    "# Talking to LDAP servers"
   ]
  },
  {
   "cell_type": "markdown",
   "metadata": {},
   "source": [
    "To talk to LDAP servers (AD, LDAPS) we depend on the `ldap3` module which needs to be installed first:\n",
    "\n",
    "```bash\n",
    "$ pip install --upgrade ldap3\n",
    "```"
   ]
  },
  {
   "cell_type": "markdown",
   "metadata": {},
   "source": [
    "To bind to our Active Directory, you need to be within the ETH domain."
   ]
  },
  {
   "cell_type": "code",
   "execution_count": null,
   "metadata": {},
   "outputs": [],
   "source": [
    "import sys\n",
    "import getpass\n",
    "from ldap3 import Server, Connection, ALL, NTLM, SUBTREE, Tls\n",
    "\n",
    "server = Server(\"d.ethz.ch\", use_ssl=True)\n",
    "username = input(\"Username: \")"
   ]
  },
  {
   "cell_type": "markdown",
   "metadata": {},
   "source": [
    "Now, we can establish a connection. It happens in two steps:\n",
    "\n",
    "1. connection to the server\n",
    "2. bind – the actual authentication against the LDAPS server\n",
    "\n",
    "If the `conn.bind()` is False, then the connection could not be established, e.g. wrong credentials or username"
   ]
  },
  {
   "cell_type": "code",
   "execution_count": null,
   "metadata": {},
   "outputs": [],
   "source": [
    "conn = Connection(\n",
    "    server, \n",
    "    user=f'cn={username},OU=ETHUsers,DC=d,DC=ethz,DC=ch',\n",
    "    password=getpass.getpass()\n",
    ")\n",
    "conn.bind()"
   ]
  },
  {
   "cell_type": "markdown",
   "metadata": {},
   "source": [
    "**Note:** AD supports NTLM authentication to bind with `d\\username` instead of the distinguishedName (dn). Up to now, I could not get it working – if you do know how, please send me a note ;-)"
   ]
  },
  {
   "cell_type": "markdown",
   "metadata": {},
   "source": [
    "Once we got a successful bind, we can **start searching**"
   ]
  },
  {
   "cell_type": "code",
   "execution_count": null,
   "metadata": {},
   "outputs": [],
   "source": [
    "attributes=[\"displayName\", \"mail\"]\n",
    "ok = conn.search(\n",
    "    search_base=\"DC=d,DC=ethz,DC=ch\",\n",
    "    search_filter=f\"(&(objectClass=user)(sAMAccountName={username}))\",\n",
    "    search_scope=SUBTREE,\n",
    "    attributes=attributes\n",
    ")\n",
    "if ok:\n",
    "    for response in conn.response:\n",
    "        if not 'dn' in response: continue\n",
    "        print(response['dn'])\n",
    "        for key in response.get('attributes', []):\n",
    "            print(key, \":\", response['attributes'].get(key))"
   ]
  },
  {
   "cell_type": "markdown",
   "metadata": {},
   "source": [
    "## Exercises\n",
    "\n",
    "1. Query for groups, using `(&(objectClass=group)(sAMAccountName=id-sis*))`\n",
    "2. Use the `*` to match any character (only use it at the end, for performance!)\n",
    "3. Try to use `attributes=[\"*\"]` to get all attributes (watch out, it can be a lot ;-)\n",
    "4. Query for all computers starting with `Q`, using `(&(objectClass=computer)(sAMAccountName=q*))`, "
   ]
  },
  {
   "cell_type": "code",
   "execution_count": null,
   "metadata": {},
   "outputs": [],
   "source": []
  }
 ],
 "metadata": {
  "kernelspec": {
   "display_name": "Python 3",
   "language": "python",
   "name": "python3"
  },
  "language_info": {
   "codemirror_mode": {
    "name": "ipython",
    "version": 3
   },
   "file_extension": ".py",
   "mimetype": "text/x-python",
   "name": "python",
   "nbconvert_exporter": "python",
   "pygments_lexer": "ipython3",
   "version": "3.6.9"
  }
 },
 "nbformat": 4,
 "nbformat_minor": 4
}
