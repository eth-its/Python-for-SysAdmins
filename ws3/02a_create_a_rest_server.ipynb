{
 "cells": [
  {
   "cell_type": "markdown",
   "metadata": {},
   "source": [
    "# Create a REST server with openAPI"
   ]
  },
  {
   "cell_type": "markdown",
   "metadata": {},
   "source": [
    "## Glossary\n",
    "\n",
    "* [Flask](https://flask.palletsprojects.com/en/2.0.x/) - a popular, lightweight web framework\n",
    "* [connexion](https://github.com/zalando/connexion) – a Swagger/OpenAPI First framework for Python on top of Flask with automatic endpoint validation & OAuth2 support.\n",
    "* [API First](https://opensource.zalando.com/restful-api-guidelines/#api-first) – a common (and recommended) strategy when creating a new REST server: define its API before starting implementing it.\n",
    "* [openAPI specification](https://www.openapis.org) – the most commonly used standard how to define the API, currently in version 3.1.0. The specification is formerly known as Swagger\n",
    "* [Swagger](https://swagger.io) – former name of the OpenAPI specification, now a collection of tools to create the API and generate stub code\n",
    "* [gunicorn](https://gunicorn.org) – a popular application server for Python to run WSGI applications. Usually runs behind a proxy server (nginx, Apache)."
   ]
  },
  {
   "cell_type": "markdown",
   "metadata": {},
   "source": [
    "## A small Petstore\n",
    "\n",
    "### The API\n",
    "Open the [petstore/openapi/openapi.yaml](petstore/openapi/openapi.yaml). It contains the whole specification of the API. Some examples:\n",
    "\n",
    "- the endpoints, as defined under the `path:` section\n",
    "- `post`, `get`, `put`, `delete` operations (CRUD)\n",
    "- the exact definition of every parameter value (array, boolean, integer, number, object, string) including regular expressions.\n",
    "- the `operationId` params define the functions that handle a given request\n",
    "- the server API version, to allow backward incompatible changes, if needed"
   ]
  },
  {
   "cell_type": "markdown",
   "metadata": {},
   "source": [
    "### Server"
   ]
  },
  {
   "cell_type": "markdown",
   "metadata": {},
   "source": [
    "### Server\n",
    "\n",
    "Open the [petstore/app.py](petstore/app.py) server. It consists of a number of functions that are defined in the above OpenAPI specification. \n",
    "\n",
    "Run the application: `./app.py`\n",
    "\n",
    "It runs a standalone server on [http://localhost:7070/1.0/ui/](http://localhost:7070/1.0/ui/), which exposes the Swagger UI\n",
    "\n",
    "To run the application with gunicorn: `gunicorn app.py`. By default (without specifying a port), gunicorn runs on port 8000. Visit [http://localhost:8000/1.0/ui/](http://localhost:8000/1.0/ui/) to see the Swagger UI. "
   ]
  },
  {
   "cell_type": "markdown",
   "metadata": {},
   "source": [
    "## Editing / writing openAPIs\n",
    "\n",
    "The openapi.yaml can be edited by hand or by using a specialized editor, such as this [online Swagger Editor](https://editor.swagger.io). You can even use the [Swagger codegen](https://swagger.io/tools/swagger-codegen/) to directly generate server code in many languages.\n",
    "\n",
    "In Visual Studio Code, various Swagger / OpenAPI plugins help you to write the API."
   ]
  },
  {
   "cell_type": "markdown",
   "metadata": {},
   "source": [
    "Some good practices for working with OpenAPI and Flask: https://pythonawesome.com/swagger-openapi-first-framework-for-python-on-top-of-flask-with-automatic-endpoint-validation-oauth2-support/"
   ]
  },
  {
   "cell_type": "markdown",
   "metadata": {},
   "source": []
  }
 ],
 "metadata": {
  "kernelspec": {
   "display_name": "Python 3",
   "language": "python",
   "name": "python3"
  },
  "language_info": {
   "codemirror_mode": {
    "name": "ipython",
    "version": 3
   },
   "file_extension": ".py",
   "mimetype": "text/x-python",
   "name": "python",
   "nbconvert_exporter": "python",
   "pygments_lexer": "ipython3",
   "version": "3.6.9"
  }
 },
 "nbformat": 4,
 "nbformat_minor": 4
}
