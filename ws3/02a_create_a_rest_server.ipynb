{
 "cells": [
  {
   "cell_type": "markdown",
   "metadata": {
    "slideshow": {
     "slide_type": "slide"
    }
   },
   "source": [
    "# Create a webservice with FastAPI"
   ]
  },
  {
   "cell_type": "markdown",
   "metadata": {
    "slideshow": {
     "slide_type": "subslide"
    }
   },
   "source": [
    "## Glossary\n",
    "\n",
    "* [FastAPI](https://fastapi.tiangolo.com) - the today fastest and easiest way to build a web service\n",
    "* [Swagger](https://swagger.io) – former name of the OpenAPI specification, now a collection of tools to create the API and generate stub code\n",
    "* [uvicorn](https://www.uvicorn.org) Uvicorn is an ASGI web server implementation for Python.\n",
    "* [gunicorn](https://gunicorn.org) – a popular application server for Python to run WSGI applications. Usually runs behind a proxy server (nginx, Apache)."
   ]
  },
  {
   "cell_type": "markdown",
   "metadata": {
    "slideshow": {
     "slide_type": "slide"
    }
   },
   "source": [
    "## An experimental webserver\n",
    "\n",
    "First, we need to install FastAPI:\n",
    "\n",
    "\n",
    "```\n",
    "pip install \"fastapi[all]\"\n",
    "```\n",
    "\n"
   ]
  },
  {
   "cell_type": "markdown",
   "metadata": {
    "slideshow": {
     "slide_type": "slide"
    }
   },
   "source": [
    "To start your first hello-world webserver, you only need the following:\n",
    "\n",
    "```python\n",
    "from fastapi import FastAPI\n",
    "\n",
    "app = FastAPI()\n",
    "\n",
    "\n",
    "@app.get(\"/\")\n",
    "async def root():\n",
    "    return {\"message\": \"Hello World\"}\n",
    "```\n"
   ]
  },
  {
   "cell_type": "markdown",
   "metadata": {
    "slideshow": {
     "slide_type": "slide"
    }
   },
   "source": [
    "Put the code above in a file `main.py`. Then, start your webserver:\n",
    "\n",
    "```\n",
    "uvicorn main:app --reload\n",
    "```"
   ]
  },
  {
   "cell_type": "markdown",
   "metadata": {
    "slideshow": {
     "slide_type": "slide"
    }
   },
   "source": [
    "Try these endpoints:\n",
    "\n",
    "```\n",
    "http://localhost:8000/\n",
    "http://localhost:8000/docs\n",
    "http://localhost:8000/redoc\n",
    "```\n",
    "\n"
   ]
  },
  {
   "cell_type": "markdown",
   "metadata": {
    "slideshow": {
     "slide_type": "notes"
    }
   },
   "source": [
    "This should hopefully wet your appetite :)\n",
    "\n",
    "The documentation of [FastAPI](https://fastapi.tiangolo.com/) is excellent, it not only contains a great tutorial but also many examples how to do a professional deployment."
   ]
  }
 ],
 "metadata": {
  "celltoolbar": "Slideshow",
  "kernelspec": {
   "display_name": "Python 3 (ipykernel)",
   "language": "python",
   "name": "python3"
  },
  "language_info": {
   "codemirror_mode": {
    "name": "ipython",
    "version": 3
   },
   "file_extension": ".py",
   "mimetype": "text/x-python",
   "name": "python",
   "nbconvert_exporter": "python",
   "pygments_lexer": "ipython3",
   "version": "3.9.6"
  }
 },
 "nbformat": 4,
 "nbformat_minor": 4
}
