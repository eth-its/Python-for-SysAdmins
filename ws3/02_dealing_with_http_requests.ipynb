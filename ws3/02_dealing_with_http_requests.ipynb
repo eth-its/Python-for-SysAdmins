{
 "cells": [
  {
   "cell_type": "markdown",
   "metadata": {},
   "source": [
    "# Dealing with http requests"
   ]
  },
  {
   "cell_type": "markdown",
   "metadata": {},
   "source": [
    "## The `requests` module"
   ]
  },
  {
   "cell_type": "markdown",
   "metadata": {},
   "source": [
    "Using this module is simply the most popular way to fetch data from a website or to talk to REST endpoints of some webservice. The only current limitation is the fact that it **cannot handle asynchronous requests** out of the box. If speed is of concern and you would like to fetch data from many sources at the same time, have a look at the [HTTPX Module](https://www.python-httpx.org). It offers an almost identical interface as the Requests module, with `asynch` options."
   ]
  },
  {
   "cell_type": "markdown",
   "metadata": {},
   "source": [
    "Installation is a simple pip install away:\n",
    "\n",
    "```bash\n",
    "$ pip install requests\n",
    "```"
   ]
  },
  {
   "cell_type": "markdown",
   "metadata": {},
   "source": [
    "The most simple way to fetch the content of a given endpoint is like this:\n",
    "\n",
    "```python\n",
    "r = requests.get('https://api.github.com/user', auth=('username', 'password'))\n",
    "print(r.status_code)   \n",
    "# returns 200 if ok\n",
    "print(r.headers['content-type'])  \n",
    "# 'application/json; charset=utf8'\n",
    "r.encoding\n",
    "# 'utf-8'\n",
    "r.text\n",
    "# '{\"type\":\"User\"...'\n",
    "r.json()  # decode the string as json\n",
    "# {'private_gists': 419, 'total_private_repos': 77, ...}\n",
    "```\n"
   ]
  },
  {
   "cell_type": "markdown",
   "metadata": {},
   "source": [
    "In reality, you need to pass the correct headers and maybe ignore the SSL certificates, because you used self-signed certificates."
   ]
  },
  {
   "cell_type": "markdown",
   "metadata": {},
   "source": [
    "```python\n",
    "resp = requests.post(\n",
    "    url = 'https://my.endpoint.com',\n",
    "    data = json.dumps(payload),\n",
    "    headers={\n",
    "        'Content-Type': 'application/json',\n",
    "         'Accept': 'application/json'\n",
    "    },\n",
    "    auth=('username', 'password'),\n",
    "    verify=False,   # do not verify SSL certificates\n",
    "    timeout=10,     # timeout in seconds\n",
    ")\n",
    "```"
   ]
  },
  {
   "cell_type": "markdown",
   "metadata": {},
   "source": [
    "The **timeout** can also contain a tuple, e.g. `(3,8)`. The request will then wait 3 seconds to establish a connection and wait another 8 seconds for the result."
   ]
  },
  {
   "cell_type": "markdown",
   "metadata": {},
   "source": [
    "### GET, POST, PUT, DELETE requests"
   ]
  },
  {
   "cell_type": "markdown",
   "metadata": {},
   "source": [
    "As you might have guessed, the requests module not only offers `get` requests, but any kind of HTTP request. The most popular come with their own method, include the typical CRUD (create, read, update delete) requests:\n",
    "\n",
    "```python\n",
    "requests.post(url, data)                # CREATE data. Posted data is usually a string containing json\n",
    "requests.get(url, params, args)         # READ data\n",
    "requests.put(url, data, args)           # UPDATE data\n",
    "requests.delete(url, args)              # DELETE data\n",
    "requests.head(url, args)\n",
    "requests.patch(url, data, args)\n",
    "```"
   ]
  },
  {
   "cell_type": "markdown",
   "metadata": {},
   "source": [
    "Typically, programmers json-encode their data structure themselves and pass the content as `data`:\n",
    "\n",
    "```python\n",
    "import json\n",
    "import requests\n",
    "\n",
    "url = 'https://api.github.com/some/endpoint'\n",
    "payload = {'some': 'data'}\n",
    "headers = {'content-type': 'application/json'}\n",
    "response = requests.post(\n",
    "    url = url,\n",
    "    data = json.dumps(payload),\n",
    "    headers = headers\n",
    ")\n",
    "```\n",
    "\n",
    "You can also pass the payload with the `json` parameter; the headers `content-type: application/json` get set automatically:\n",
    "\n",
    "```python\n",
    "response = requests.post(url = url, json = payload)\n",
    "```\n",
    "\n",
    "\n"
   ]
  },
  {
   "cell_type": "markdown",
   "metadata": {},
   "source": [
    "The **response object** offers a number of useful methods and status values:"
   ]
  },
  {
   "cell_type": "markdown",
   "metadata": {},
   "source": [
    "```python\n",
    "response.ok       # HTTP status code is 2xx\n",
    "response.headers  # all header information as a dict\n",
    "response.content  # raw binary content\n",
    "response.text     # the raw text\n",
    "response.apparent_encoding  # utf-8 etc.\n",
    "response.json()   # decode JSON string into Python data structure\n",
    "```"
   ]
  },
  {
   "cell_type": "markdown",
   "metadata": {},
   "source": [
    "## Exercise 1\n",
    "\n",
    "1. Get information about a given Kostenstelle. The endpoint is: `http://n-vermeul.ethz.ch/sap_info?kostl=6005` (or any Kostenstelle you are interested in)\n",
    "2. make sure the response has a status code of 2xx by checking `response.ok`\n",
    "3. compare content, text and json"
   ]
  },
  {
   "cell_type": "code",
   "execution_count": null,
   "metadata": {},
   "outputs": [],
   "source": []
  },
  {
   "cell_type": "markdown",
   "metadata": {},
   "source": [
    "## Exercise 2\n",
    "\n",
    "1. Use a **list comprehension** to only retrieve these attributes: kostl, fonds, beschr\n",
    "2. create an **array of dictionaries**"
   ]
  },
  {
   "cell_type": "code",
   "execution_count": null,
   "metadata": {},
   "outputs": [],
   "source": []
  },
  {
   "cell_type": "markdown",
   "metadata": {},
   "source": [
    "## Excercise 3\n",
    "\n",
    "1. Read about the [filter functions in Python](https://gitlab.ethz.ch/vermeul/python-best-practices/-/blob/master/07-Built-in_Functions.md)\n",
    "2. create a filter function which selects certain records, e.g. fonds `startswith('2-70')`\n",
    "3. apply the filter to the already created list comprehension"
   ]
  },
  {
   "cell_type": "code",
   "execution_count": null,
   "metadata": {},
   "outputs": [],
   "source": []
  },
  {
   "cell_type": "markdown",
   "metadata": {},
   "source": [
    "## Excercise 4\n",
    "\n",
    "1. Read about the [sort functions in Python](https://gitlab.ethz.ch/vermeul/python-best-practices/-/blob/master/07-Built-in_Functions.md)\n",
    "2. create a `sorted` function which extracts the middle number in the `fonds` attribute, e.g. `70110` in `2-70110-13`\n",
    "3. use a regular expression, use the re.X (extended syntax) parameter\n",
    "4. return 0 if no match, return int(middle_number) if match\n",
    "5. apply the `sorted` function to the already created list comprehension"
   ]
  },
  {
   "cell_type": "markdown",
   "metadata": {},
   "source": []
  },
  {
   "cell_type": "markdown",
   "metadata": {},
   "source": [
    "## Solution to Exercise 1"
   ]
  },
  {
   "cell_type": "code",
   "execution_count": null,
   "metadata": {},
   "outputs": [],
   "source": [
    "import requests\n",
    "import json\n",
    "response = requests.get('http://n-vermeul.ethz.ch/sap_info?kostl=6005')\n",
    "\n",
    "if response.ok:\n",
    "    binary = response.content\n",
    "    text   = response.text\n",
    "    data_structure = response.json()"
   ]
  },
  {
   "cell_type": "code",
   "execution_count": null,
   "metadata": {},
   "outputs": [],
   "source": [
    "binary"
   ]
  },
  {
   "cell_type": "code",
   "execution_count": null,
   "metadata": {},
   "outputs": [],
   "source": [
    "text"
   ]
  },
  {
   "cell_type": "code",
   "execution_count": null,
   "metadata": {},
   "outputs": [],
   "source": [
    "data_structure"
   ]
  },
  {
   "cell_type": "code",
   "execution_count": null,
   "metadata": {},
   "outputs": [],
   "source": [
    "response.json()"
   ]
  },
  {
   "cell_type": "markdown",
   "metadata": {},
   "source": [
    "## Solution to Exercise 2"
   ]
  },
  {
   "cell_type": "code",
   "execution_count": null,
   "metadata": {},
   "outputs": [],
   "source": [
    "import requests\n",
    "import json\n",
    "response = requests.get('http://n-vermeul.ethz.ch/sap_info?kostl=6005')\n",
    "\n",
    "costcentre_infos = []\n",
    "interesting_attributes = ['kostl','fonds', 'beschr']\n",
    "if response.ok:\n",
    "    all_costcentres = response.json()\n",
    "    costcentre_infos = [\n",
    "        {\n",
    "            attr: costcentre.get(attr, '') for attr in interesting_attributes\n",
    "        }\n",
    "        for costcentre in all_costcentres\n",
    "    ]\n",
    "    \n",
    "costcentre_infos"
   ]
  },
  {
   "cell_type": "markdown",
   "metadata": {},
   "source": [
    "## Solution to Exercise 3"
   ]
  },
  {
   "cell_type": "code",
   "execution_count": null,
   "metadata": {},
   "outputs": [],
   "source": [
    "import requests\n",
    "import json\n",
    "response = requests.get('http://n-vermeul.ethz.ch/sap_info?kostl=6005')\n",
    "\n",
    "def my_filter(costcentre):\n",
    "    if costcentre.get('fonds', '').startswith('2-70'):\n",
    "        return costcentre\n",
    "\n",
    "selected_costcentres = []\n",
    "interesting_attributes = ['kostl','fonds', 'beschr']\n",
    "if response.ok:\n",
    "    all_costcentres = response.json()\n",
    "    selected_costcentres = [\n",
    "        {\n",
    "            attr: costcentre.get(attr, '') for attr in interesting_attributes\n",
    "        }\n",
    "        for costcentre in filter(my_filter, all_costcentres)\n",
    "    ]\n",
    "    \n",
    "selected_costcentres"
   ]
  },
  {
   "cell_type": "markdown",
   "metadata": {},
   "source": [
    "## Solution to Exercise 4"
   ]
  },
  {
   "cell_type": "code",
   "execution_count": null,
   "metadata": {},
   "outputs": [],
   "source": [
    "import requests\n",
    "import json\n",
    "import re\n",
    "\n",
    "response = requests.get('http://n-vermeul.ethz.ch/sap_info?kostl=6005')\n",
    "\n",
    "extract_middle_number = re.compile(r'''\n",
    "    ^\\d+                       # start with at least a number\n",
    "    \\-                         # followed by a dash\n",
    "    (?P<middle_number>\\d+)     # followed by numbers, capture these\n",
    "    \\-                         # followed by a dash\n",
    "    \\d+                        # followed by the last digits\n",
    "    $                          # end of string\n",
    "    ''', \n",
    "    re.X\n",
    ")\n",
    "\n",
    "def my_filter(costcentre):\n",
    "    if costcentre.get('fonds', '').startswith('2-70'):\n",
    "        return costcentre\n",
    "    \n",
    "def my_sort(costcentre):\n",
    "    \"\"\"This function first extracts the middle number, using a regular expression.\n",
    "    If we have a match, return the integer representation of that number to enforce number comparison.\n",
    "    If we do not have a match, return 0\n",
    "    \"\"\"\n",
    "    fonds = costcentre.get('fonds','')\n",
    "    match = extract_middle_number.search(fonds)\n",
    "    if match:\n",
    "        return int(match.groupdict()['middle_number'])  # return int() to enforce number comparison\n",
    "    else:\n",
    "        return 0\n",
    "    \n",
    "\n",
    "selected_and_sorted_costcentres = []\n",
    "interesting_attributes = ['kostl','fonds', 'beschr']\n",
    "if response.ok:\n",
    "    all_costcentres = response.json()\n",
    "    selected_and_sorted_costcentres = [\n",
    "        {\n",
    "            attr: costcentre.get(attr, '') for attr in interesting_attributes\n",
    "        }\n",
    "        for costcentre in sorted(\n",
    "            filter(my_filter, all_costcentres),\n",
    "            key = my_sort\n",
    "        )\n",
    "    ]\n",
    "    \n",
    "selected_and_sorted_costcentres"
   ]
  },
  {
   "cell_type": "code",
   "execution_count": null,
   "metadata": {},
   "outputs": [],
   "source": []
  }
 ],
 "metadata": {
  "kernelspec": {
   "display_name": "Python 3",
   "language": "python",
   "name": "python3"
  },
  "language_info": {
   "codemirror_mode": {
    "name": "ipython",
    "version": 3
   },
   "file_extension": ".py",
   "mimetype": "text/x-python",
   "name": "python",
   "nbconvert_exporter": "python",
   "pygments_lexer": "ipython3",
   "version": "3.6.9"
  }
 },
 "nbformat": 4,
 "nbformat_minor": 4
}
