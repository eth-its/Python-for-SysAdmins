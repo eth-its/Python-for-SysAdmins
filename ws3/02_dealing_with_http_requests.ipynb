{
 "cells": [
  {
   "cell_type": "markdown",
   "metadata": {
    "slideshow": {
     "slide_type": "slide"
    }
   },
   "source": [
    "# Dealing with http requests"
   ]
  },
  {
   "cell_type": "markdown",
   "metadata": {
    "slideshow": {
     "slide_type": "subslide"
    }
   },
   "source": [
    "## The `urllib.request` module"
   ]
  },
  {
   "cell_type": "markdown",
   "metadata": {
    "slideshow": {
     "slide_type": "notes"
    }
   },
   "source": [
    "This is part of the standard library, no 3rd party library is required.\n",
    "It can be used to fetch data from a website or to talk to REST endpoints of some webservice. The only current limitation is the fact that it cannot handle asynchronous requests out of the box. If speed is of concern and you would like to fetch data from many sources at the same time, have a look at the [HTTPX Module](https://www.python-httpx.org/). It offers an almost identical interface as the Requests module, with async options.\n",
    "\n",
    "Note: [requests](https://docs.python-requests.org/en/latest/index.html) is a more userfriendly / popular version of `urrlib.request`"
   ]
  },
  {
   "cell_type": "markdown",
   "metadata": {
    "slideshow": {
     "slide_type": "notes"
    }
   },
   "source": [
    "The most simple way to fetch the content of a given endpoint is like this:"
   ]
  },
  {
   "cell_type": "code",
   "execution_count": null,
   "metadata": {
    "editable": true,
    "slideshow": {
     "slide_type": "slide"
    },
    "tags": []
   },
   "outputs": [],
   "source": [
    "import urllib.request\n",
    "\n",
    "with urllib.request.urlopen(\"https://ipecho.net/plain\") as response:\n",
    "    print(response.status, response.reason, response.headers[\"content-type\"])\n",
    "    print(response.read().decode('utf-8')"
   ]
  },
  {
   "cell_type": "markdown",
   "metadata": {
    "slideshow": {
     "slide_type": "fragment"
    }
   },
   "source": [
    "The `with` block opens a connection to `ipecho.net` and automatically closes the connection when the block ends.\n",
    "Within the block, `response` is a file-like object which can be passed to `json.read` or other functions expecting an input stream. Here we just use the `read()` method of such objects."
   ]
  },
  {
   "cell_type": "markdown",
   "metadata": {
    "slideshow": {
     "slide_type": "notes"
    }
   },
   "source": [
    "If authentication is required, things get more tedious:"
   ]
  },
  {
   "cell_type": "code",
   "execution_count": null,
   "metadata": {
    "editable": true,
    "slideshow": {
     "slide_type": "slide"
    },
    "tags": []
   },
   "outputs": [],
   "source": [
    "import urllib.request\n",
    "import base64\n",
    "\n",
    "username = \"chucknorris\"\n",
    "password = \"does-not-need-a-pw---the-pw-needs-him\"\n",
    "\n",
    "# Here, the testserver \"https://httpbin.org/basic-auth/{username}/{password}\"\n",
    "# will check that the provided credentials match the url parameters:\n",
    "request = urllib.request.Request(\n",
    "    f\"https://httpbin.org/basic-auth/{username}/{password}\",\n",
    "    headers={\"Authorization\": b\"Basic \" + base64.b64encode(f\"{username}:{password}\".encode())}\n",
    ")\n",
    "with urllib.request.urlopen(request) as response:\n",
    "    print(response.status, response.reason, response.headers[\"content-type\"])\n",
    "    print(response.read().decode())"
   ]
  },
  {
   "cell_type": "code",
   "execution_count": null,
   "metadata": {
    "editable": true,
    "slideshow": {
     "slide_type": "slide"
    },
    "tags": []
   },
   "outputs": [],
   "source": [
    "# If the credentials do not match, we get \"unauthorized\":\n",
    "request = urllib.request.Request(\n",
    "    f\"https://httpbin.org/basic-auth/chucknorris/no-password\",\n",
    "    headers={\"Authorization\": b\"Basic \" + base64.b64encode(f\"looser:wrong-password\".encode())}\n",
    ")\n",
    "with urllib.request.urlopen(request) as response:\n",
    "    print(response.status, response.reason, response.headers[\"content-type\"])\n",
    "    print(response.read().decode())"
   ]
  },
  {
   "cell_type": "markdown",
   "metadata": {
    "editable": true,
    "slideshow": {
     "slide_type": "fragment"
    },
    "tags": []
   },
   "source": [
    "The above was using [basic authentication](https://developer.mozilla.org/en-US/docs/Web/HTTP/Authentication#basic). Visit the link to see which other authentication methods exist."
   ]
  },
  {
   "cell_type": "markdown",
   "metadata": {
    "editable": true,
    "slideshow": {
     "slide_type": "subslide"
    },
    "tags": []
   },
   "source": [
    "Next, we are trying [bearer authentication](https://developer.mozilla.org/en-US/docs/Web/HTTP/Authentication#bearer)."
   ]
  },
  {
   "cell_type": "code",
   "execution_count": null,
   "metadata": {
    "editable": true,
    "slideshow": {
     "slide_type": "fragment"
    },
    "tags": []
   },
   "outputs": [],
   "source": [
    "# The content of the token does not matter for the test server https://httpbin.org/bearer\n",
    "token = b\"Y2h1Y2tub3JyaXM6ZG9lcyBub3QgbmVlZCBhIHB3IC0gdGhlIHB3IG5lZWRzIGhpbQ==\"\n",
    "request = urllib.request.Request(\n",
    "    \"https://httpbin.org/bearer\",\n",
    "    headers={\"Authorization\": b\"Bearer \" + token}\n",
    ")\n",
    "with urllib.request.urlopen(request) as response:\n",
    "    print(response.status, response.reason, response.headers[\"content-type\"])\n",
    "    print(response.read().decode())"
   ]
  },
  {
   "cell_type": "code",
   "execution_count": null,
   "metadata": {
    "editable": true,
    "slideshow": {
     "slide_type": "subslide"
    },
    "tags": []
   },
   "outputs": [],
   "source": [
    "# But if the header is wrong, we get \"unauthorized\"\n",
    "token = b\"Y2h1Y2tub3JyaXM6ZG9lcyBub3QgbmVlZCBhIHB3IC0gdGhlIHB3IG5lZWRzIGhpbQ==\"\n",
    "request = urllib.request.Request(\n",
    "    \"https://httpbin.org/bearer\",\n",
    "    headers={\"Authorization\": b\"Basic \" + token}\n",
    ")\n",
    "with urllib.request.urlopen(request) as response:\n",
    "    print(response.status, response.reason, response.headers[\"content-type\"])\n",
    "    print(response.read().decode())"
   ]
  },
  {
   "cell_type": "markdown",
   "metadata": {
    "editable": true,
    "slideshow": {
     "slide_type": "subslide"
    },
    "tags": []
   },
   "source": [
    "### GET, POST, PUT, DELETE requests"
   ]
  },
  {
   "cell_type": "markdown",
   "metadata": {
    "slideshow": {
     "slide_type": "subslide"
    }
   },
   "source": [
    "As you might have guessed, the `urllib.request` module not only offers `get` requests, but any kind of HTTP request. The most popular come with their own method, include the typical CRUD (create, read, update delete) requests:\n",
    "\n",
    "```python\n",
    "urllib.request.Request(url, data=data, method=\"POST\")     # CREATE data. Posted data = \"payload\"\n",
    "urllib.request.Request(url)                               # READ data\n",
    "urllib.request.Request(url, data=data, method=\"PUT\")      # UPDATE data\n",
    "urllib.request.Request(url, data=data, method=\"DELETE\")   # DELETE data\n",
    "\n",
    "# other methods: HEAD, PATCH\n",
    "```"
   ]
  },
  {
   "cell_type": "markdown",
   "metadata": {
    "slideshow": {
     "slide_type": "slide"
    }
   },
   "source": [
    "## json data\n",
    "\n",
    "With `urllib.request`, programmers have to serialize and deserialize json themselves."
   ]
  },
  {
   "cell_type": "code",
   "execution_count": null,
   "metadata": {
    "slideshow": {
     "slide_type": "subslide"
    }
   },
   "outputs": [],
   "source": [
    "import urllib.request\n",
    "import json\n",
    "response = urllib.request.urlopen(\"https://ipinfo.io/json\")\n",
    "data = json.load(response) # response behaves like a file which you can read from\n",
    "print(data)"
   ]
  },
  {
   "cell_type": "markdown",
   "metadata": {
    "slideshow": {
     "slide_type": "fragment"
    }
   },
   "source": [
    "When using the `POST` method to upload json data, the `data` argument to `urllib.request.urlopen` or `urllib.request.Request` must be bytes:\n",
    "```py\n",
    "data = {\"username\": \"chucknorris\", \"fact\": \"Two heart attacks had Chuck Norris\"}\n",
    "urllib.request.urlopen(url, data=json.dumps(data).encode()) # By default, if you pass `data`, method=\"POST\" will be used\n",
    "```"
   ]
  },
  {
   "cell_type": "code",
   "execution_count": null,
   "metadata": {
    "slideshow": {
     "slide_type": "subslide"
    }
   },
   "outputs": [],
   "source": [
    "import json\n",
    "import urllib.request\n",
    "\n",
    "data = {\n",
    "    \"name\": \"Chuck Norris\",\n",
    "    \"age\": \"83\",\n",
    "    \"email\": \"chucknorris@roundhouse.gov\",\n",
    "    \"image\": \"chucknorris.png\"\n",
    "}\n",
    "\n",
    "request = urllib.request.Request(\n",
    "    \"http://validate.jsontest.com/\",\n",
    "    headers={\"content-type\": \"application/json\"},\n",
    "    data=json.dumps(data).encode()\n",
    ")\n",
    "with urllib.request.urlopen(request) as response:\n",
    "    print(response.status, response.reason)\n",
    "    print(response.headers[\"content-type\"])\n",
    "    print(response.read())"
   ]
  },
  {
   "cell_type": "markdown",
   "metadata": {
    "slideshow": {
     "slide_type": "slide"
    }
   },
   "source": [
    "## Exercise 1: get info, decode json\n",
    "\n",
    "Get information about a given Kostenstelle. The endpoint is: `http://n-vermeul.ethz.ch/sap_info?kostl=6005` (try out any *Kostenstelle* you are interested in)\n",
    "\n",
    "- [ ] Decode the json payload and print the `\"beschr\"` entry of the first item in the returned list."
   ]
  },
  {
   "cell_type": "code",
   "execution_count": null,
   "metadata": {
    "editable": true,
    "slideshow": {
     "slide_type": "slide"
    },
    "tags": []
   },
   "outputs": [],
   "source": [
    "import urllib.request\n",
    "import json\n",
    "with urllib.request.urlopen('http://n-vermeul.ethz.ch/sap_info?kostl=6005') as response:\n",
    "    ...\n",
    "\n",
    "# now your turn!"
   ]
  },
  {
   "cell_type": "markdown",
   "metadata": {
    "slideshow": {
     "slide_type": "slide"
    }
   },
   "source": [
    "## Exercise 2: handle errors\n",
    "\n",
    "If the Kostenstelle does not exist and the Response has not a status code of `2**`, `urllib.request.urlopen` will raise a `HTTPError`. Handle this situation by enclosing the `with` block by a `try`, `except` directive and test with `kostl=-1`.\n",
    "\n",
    "- [ ] Provoke an exception, e.g. by providing an *invalid* `kostl` value like `kostl=-1`.\n",
    "- [ ] enclose the `with` block by a try-except block that handles the error\n",
    "  - hint: the error is part of the `urllib.error`\n",
    "- [ ] Provoke other exceptions (eg. `something://` instead of `http://`) \n",
    "- [ ] try to figure out where these exceptions are raised\n",
    "- [ ] handle these exceptions, using additional `except` blocks"
   ]
  },
  {
   "cell_type": "code",
   "execution_count": null,
   "metadata": {
    "slideshow": {
     "slide_type": "slide"
    }
   },
   "outputs": [],
   "source": [
    "import urllib.request\n",
    "\n",
    "# catch this!\n",
    "with urllib.request.urlopen('http://n-vermeul.ethz.ch/sap_info?kostl=-1') as response:\n",
    "    ...\n"
   ]
  },
  {
   "cell_type": "markdown",
   "metadata": {
    "slideshow": {
     "slide_type": "slide"
    }
   },
   "source": [
    "## Exercise 3: extract and re-arrange data\n",
    "\n",
    "You might be only interested in the following attributes:\n",
    "\n",
    "```python\n",
    "interesting_keys = {\"kostl\": int, \"fonds\": str, \"beschr\": str}\n",
    "```\n",
    "\n",
    "The structure should remain, an array of dictionaries, but `kostl` should be converted to an `int` e.g.\n",
    "\n",
    "```python\n",
    "[\n",
    "    {\"kostl\": 6005, \"fonds\": \"0-21408-18\", \"beschr\": \"PHRT-Driver-Project PRECISE\"},\n",
    "    {\"kostl\": 6005, \"fonds\": \"2-67400-09\", \"beschr\": \"SysX_SyBIT-Rinn\"},\n",
    " ...\n",
    "]\n",
    "```\n",
    "\n",
    "- [ ] decode the content of the response into a Python structure, using `json.load()` and assign it to a variable `cost_centres_raw`\n",
    "- [ ] Write a function `rearrange_dict()` which takes a single raw entry (`dict`) of the `cost_centres_raw` `list` as input and returns a rearanged `dict`, only containing items with keys present in `interesting_keys` (each value should be converted to the corresponding type given in `interesting_keys`).\n",
    "- [ ] Use a list comprehension (`[do_something_with(item) for item in items]`) to transform the `list` of raw `dict`'s to a `list` of rearranged `dict`'s using `rearrange_dict()`."
   ]
  },
  {
   "cell_type": "code",
   "execution_count": null,
   "metadata": {
    "slideshow": {
     "slide_type": "slide"
    }
   },
   "outputs": [],
   "source": [
    "import urllib.request\n",
    "import json\n",
    "\n",
    "interesting_keys = {\"kostl\": int, \"fonds\": str, \"beschr\": str}\n",
    "\n",
    "def rearrange_dict(row: dict) -> dict:\n",
    "    return ... # your code goes here :)\n",
    "\n",
    "with urllib.request.urlopen(\"http://n-vermeul.ethz.ch/sap_info?kostl=6005\") as response:\n",
    "    cost_centres_raw = json.load(response)\n",
    "    # your code goes here :)"
   ]
  },
  {
   "cell_type": "markdown",
   "metadata": {
    "slideshow": {
     "slide_type": "slide"
    }
   },
   "source": [
    "## Excercise 4: filtering\n",
    "\n",
    "1. Familiarize yourself with [filter functions in Python](https://gitlab.ethz.ch/vermeul/python-best-practices/-/blob/master/07-Built-in_Functions.md#filtering-the-filter-function)\n",
    "2. create a filter function which selects certain records, e.g. the `fonds` attribute starts with `2-70`\n",
    "3. apply the filter to the costcentres\n",
    "4. extract certain attributes you're interested in\n",
    "\n",
    "**Bonus:**\n",
    "\n",
    "* apply the filter to the outer list comprehension"
   ]
  },
  {
   "cell_type": "code",
   "execution_count": null,
   "metadata": {
    "slideshow": {
     "slide_type": "slide"
    }
   },
   "outputs": [],
   "source": [
    "import urllib.request\n",
    "import json\n",
    "\n",
    "with urllib.request.urlopen(\"http://n-vermeul.ethz.ch/sap_info?kostl=6005\") as response:\n",
    "    cost_centres_raw = json.load(response)\n",
    "\n",
    "def fonds_filter(cost_centre):\n",
    "    # define your filter here, should return True or False\n",
    "\n",
    "# apply the filter, loop over the remaining costcentres\n",
    "    \n",
    "# store the matching raw entries in a list `cost_centre_infos`\n",
    "\n",
    "cost_centre_infos = [...]\n",
    "    \n",
    "cost_centre_infos"
   ]
  },
  {
   "cell_type": "markdown",
   "metadata": {
    "slideshow": {
     "slide_type": "slide"
    }
   },
   "source": [
    "## Excercise 5: sorting\n",
    "\n",
    "1. Read about the [sort functions in Python](https://gitlab.ethz.ch/vermeul/python-best-practices/-/blob/master/07-Built-in_Functions.md#sorting-the-sorted-function)\n",
    "2. start with the code below\n",
    "3. create a `def my_sort(costcentre)` function which uses the regex above\n",
    "4. hint: `match.groupdict()['middle_number']` will access the capture group item\n",
    "5. hint: the `my_sort` should return 0 if no match, or return int(middle_number) otherwise\n",
    "\n",
    "**Bonus**\n",
    "\n",
    "6. try to achieve the same thing using the nested list comprehensions"
   ]
  },
  {
   "cell_type": "code",
   "execution_count": null,
   "metadata": {
    "slideshow": {
     "slide_type": "slide"
    }
   },
   "outputs": [],
   "source": [
    "import urllib.request\n",
    "import json\n",
    "import re\n",
    "\n",
    "with urllib.request.urlopen(\"http://n-vermeul.ethz.ch/sap_info?kostl=6005\") as response:\n",
    "    cost_centres_raw = json.load(response)\n",
    "\n",
    "extract_middle_number = re.compile(r'''\n",
    "    ^\\d+                       # start with at least a number\n",
    "    \\-                         # followed by a dash\n",
    "    (?P<middle_number>\\d+)     # followed by numbers, capture these\n",
    "    \\-                         # followed by a dash\n",
    "    \\d+                        # followed by the last digits\n",
    "    $                          # end of string\n",
    "    ''', \n",
    "    re.X\n",
    ")\n",
    "\n",
    "def fonds_filter(cost_centre):\n",
    "    if cost_centre.get('fonds', '').startswith('2-70'):\n",
    "        return cost_centre\n",
    "    return None\n",
    "    \n",
    "def my_sort(costcentre):\n",
    "    \"\"\"This function first extracts the middle number, using a regular expression.\n",
    "    If we have a match, return the integer representation of that number to enforce number comparison.\n",
    "    If we do not have a match, return 0\n",
    "    \"\"\"\n",
    "    ### your code here\n",
    "    \n",
    "\n",
    "interesting_cost_centres = filter(fonds_filter, cost_centres_raw)\n",
    "interesting_attributes = {'kostl','fonds', 'beschr'}\n",
    "reduced_cost_centres = [\n",
    "    {attr: cost_centre.get(attr, '') for attr in interesting_attributes}\n",
    "       for cost_centre in interesting_cost_centres\n",
    "]\n",
    "sorted_cost_centres = sorted(reduced_cost_centres, key=my_sort)\n",
    "    \n",
    "sorted_cost_centres"
   ]
  },
  {
   "cell_type": "markdown",
   "metadata": {
    "slideshow": {
     "slide_type": "skip"
    }
   },
   "source": [
    "## Solution to Exercise 1"
   ]
  },
  {
   "cell_type": "code",
   "execution_count": null,
   "metadata": {
    "slideshow": {
     "slide_type": "skip"
    }
   },
   "outputs": [],
   "source": [
    "import urllib.request\n",
    "import json\n",
    "with urllib.request.urlopen('http://n-vermeul.ethz.ch/sap_info?kostl=6005') as response:\n",
    "    cost_centres = json.load(response)\n",
    "\n",
    "for cost_centre in cost_centres:\n",
    "    print(cost_centre[\"beschr\"])"
   ]
  },
  {
   "cell_type": "markdown",
   "metadata": {
    "slideshow": {
     "slide_type": "skip"
    }
   },
   "source": [
    "## Solution to Exercise 2"
   ]
  },
  {
   "cell_type": "markdown",
   "metadata": {
    "slideshow": {
     "slide_type": "skip"
    }
   },
   "source": [
    "**Solution to 2.1 - 2.3**"
   ]
  },
  {
   "cell_type": "code",
   "execution_count": null,
   "metadata": {
    "slideshow": {
     "slide_type": "skip"
    }
   },
   "outputs": [],
   "source": [
    "import urllib.request\n",
    "\n",
    "try:\n",
    "    with urllib.request.urlopen('http://n-vermeul.ethz.ch/sap_info?kostl=-1') as response:\n",
    "        ...\n",
    "except urllib.error.HTTPError as exc:\n",
    "    print(f\"💥 This url does not exist: {exc}\")"
   ]
  },
  {
   "cell_type": "markdown",
   "metadata": {
    "slideshow": {
     "slide_type": "skip"
    }
   },
   "source": [
    "**Solution to 2.4 - 2.6**"
   ]
  },
  {
   "cell_type": "code",
   "execution_count": null,
   "metadata": {
    "slideshow": {
     "slide_type": "skip"
    }
   },
   "outputs": [],
   "source": [
    "import urllib.request\n",
    "\n",
    "try:\n",
    "    with urllib.request.urlopen('something://n-vermeul.ethz.ch/sap_info?kostl=-1') as response:\n",
    "        ...\n",
    "except urllib.error.HTTPError as exc:\n",
    "    print(f\"💥 This url does not exist: {exc}\")\n",
    "except urllib.error.URLError as exc:\n",
    "    print(f\"💣 This endpoint is not even a valid schema: {exc}\")"
   ]
  },
  {
   "cell_type": "markdown",
   "metadata": {
    "slideshow": {
     "slide_type": "skip"
    }
   },
   "source": [
    "## Solution to Exercise 3"
   ]
  },
  {
   "cell_type": "markdown",
   "metadata": {
    "slideshow": {
     "slide_type": "skip"
    }
   },
   "source": [
    "**Solution 3.1 - 3.6**"
   ]
  },
  {
   "cell_type": "code",
   "execution_count": null,
   "metadata": {
    "slideshow": {
     "slide_type": "skip"
    }
   },
   "outputs": [],
   "source": [
    "import urllib.request\n",
    "import json\n",
    "from dataclasses import dataclass, fields\n",
    "\n",
    "interesting_keys = {\"kostl\": int, \"fonds\": str, \"beschr\": str}\n",
    "\n",
    "def rearrange_dict(raw_entry):\n",
    "    return {key: interesting_keys[key](val) for key, val in raw_entry.items() if key in interesting_keys}\n",
    "\n",
    "with urllib.request.urlopen(\"http://n-vermeul.ethz.ch/sap_info?kostl=6005\") as response:\n",
    "    # your code goes here :)\n",
    "    cost_centres_raw = json.load(response)\n",
    "\n",
    "cost_centres = [rearrange_dict(entry) for entry in cost_centres_raw]\n",
    "cost_centres"
   ]
  },
  {
   "cell_type": "markdown",
   "metadata": {
    "slideshow": {
     "slide_type": "skip"
    }
   },
   "source": [
    "## Solution to Exercise 4"
   ]
  },
  {
   "cell_type": "markdown",
   "metadata": {
    "slideshow": {
     "slide_type": "skip"
    }
   },
   "source": [
    "**Solution to 4.1 - 4.4**"
   ]
  },
  {
   "cell_type": "code",
   "execution_count": null,
   "metadata": {
    "slideshow": {
     "slide_type": "skip"
    }
   },
   "outputs": [],
   "source": [
    "import urllib.request\n",
    "import json\n",
    "\n",
    "with urllib.request.urlopen(\"http://n-vermeul.ethz.ch/sap_info?kostl=6005\") as response:\n",
    "    # your code goes here :)\n",
    "    cost_centres_raw = json.load(response)\n",
    "\n",
    "def fonds_filter(cost_centre):\n",
    "    if cost_centre.get('fonds', '').startswith('2-70'):\n",
    "        return cost_centre\n",
    "    return None\n",
    "\n",
    "cost_centre_infos = list(filter(fonds_filter, cost_centres_raw))\n",
    "\n",
    "cost_centre_infos"
   ]
  },
  {
   "cell_type": "markdown",
   "metadata": {
    "slideshow": {
     "slide_type": "skip"
    }
   },
   "source": [
    "**Bonus** same thing, using list comprehension"
   ]
  },
  {
   "cell_type": "code",
   "execution_count": null,
   "metadata": {
    "editable": true,
    "slideshow": {
     "slide_type": "skip"
    },
    "tags": []
   },
   "outputs": [],
   "source": [
    "import urllib.request\n",
    "import json\n",
    "\n",
    "with urllib.request.urlopen(\"http://n-vermeul.ethz.ch/sap_info?kostl=6005\") as response:\n",
    "    cost_centres_raw = json.load(response)\n",
    "\n",
    "cost_centre_infos = [entry for entry in cost_centres_raw if entry.get('fonds', '').startswith('2-70')]\n",
    "\n",
    "cost_centre_infos"
   ]
  },
  {
   "cell_type": "markdown",
   "metadata": {
    "slideshow": {
     "slide_type": "skip"
    }
   },
   "source": [
    "## Solution to Exercise 5"
   ]
  },
  {
   "cell_type": "markdown",
   "metadata": {
    "slideshow": {
     "slide_type": "skip"
    }
   },
   "source": [
    "**Solutions to 5.1 - 5.5**"
   ]
  },
  {
   "cell_type": "code",
   "execution_count": null,
   "metadata": {
    "editable": true,
    "slideshow": {
     "slide_type": "skip"
    },
    "tags": []
   },
   "outputs": [],
   "source": [
    "import urllib.request\n",
    "import json\n",
    "import re\n",
    "\n",
    "with urllib.request.urlopen(\"http://n-vermeul.ethz.ch/sap_info?kostl=6005\") as response:\n",
    "    cost_centres_raw = json.load(response)\n",
    "\n",
    "extract_middle_number = re.compile(r'''\n",
    "    ^\\d+                       # start with at least a number\n",
    "    \\-                         # followed by a dash\n",
    "    (?P<middle_number>\\d+)     # followed by numbers, capture these\n",
    "    \\-                         # followed by a dash\n",
    "    \\d+                        # followed by the last digits\n",
    "    $                          # end of string\n",
    "    ''', \n",
    "    re.X\n",
    ")\n",
    "\n",
    "def fonds_filter(cost_centre):\n",
    "    if cost_centre.get('fonds', '').startswith('2-70'):\n",
    "        return cost_centre\n",
    "    return None\n",
    "    \n",
    "def my_sort(costcentre):\n",
    "    \"\"\"This function first extracts the middle number, using a regular expression.\n",
    "    If we have a match, return the integer representation of that number to enforce number comparison.\n",
    "    If we do not have a match, return 0\n",
    "    \"\"\"\n",
    "    ### your code here\n",
    "    fonds = costcentre.get('fonds','')\n",
    "    match = extract_middle_number.search(fonds)\n",
    "    if match:\n",
    "        return int(match.groupdict()['middle_number'])  # return int() to enforce number comparison\n",
    "    else:\n",
    "        return 0\n",
    "    \n",
    "\n",
    "interesting_cost_centres = filter(fonds_filter, cost_centres_raw)\n",
    "interesting_attributes = {'kostl','fonds', 'beschr'}\n",
    "reduced_cost_centres = [\n",
    "    {attr: cost_centre.get(attr, '') for attr in interesting_attributes}\n",
    "       for cost_centre in interesting_cost_centres\n",
    "]\n",
    "sorted_cost_centres = sorted(reduced_cost_centres, key=my_sort)\n",
    "    \n",
    "sorted_cost_centres"
   ]
  }
 ],
 "metadata": {
  "celltoolbar": "Slideshow",
  "kernelspec": {
   "display_name": "Python 3 (ipykernel)",
   "language": "python",
   "name": "python3"
  },
  "language_info": {
   "codemirror_mode": {
    "name": "ipython",
    "version": 3
   },
   "file_extension": ".py",
   "mimetype": "text/x-python",
   "name": "python",
   "nbconvert_exporter": "python",
   "pygments_lexer": "ipython3",
   "version": "3.11.9"
  }
 },
 "nbformat": 4,
 "nbformat_minor": 4
}
