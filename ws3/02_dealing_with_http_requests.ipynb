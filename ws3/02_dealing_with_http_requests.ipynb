{
 "cells": [
  {
   "cell_type": "markdown",
   "metadata": {},
   "source": [
    "# Dealing with http requests"
   ]
  },
  {
   "cell_type": "markdown",
   "metadata": {},
   "source": [
    "## The `requests` module"
   ]
  },
  {
   "cell_type": "markdown",
   "metadata": {},
   "source": [
    "Using this module is simply the most popular way to fetch data from a website or to talk to REST endpoints of some webservice. The only current limitation is the fact that it **cannot handle asynchronous requests** out of the box. If speed is of concern and you would like to fetch data from many sources at the same time, have a look at the [HTTPX Module](https://www.python-httpx.org). It offers an almost identical interface as the Requests module, with `asynch` options."
   ]
  },
  {
   "cell_type": "markdown",
   "metadata": {},
   "source": [
    "Installation is a simple pip install away:\n",
    "\n",
    "```bash\n",
    "$ pip install requests\n",
    "```"
   ]
  },
  {
   "cell_type": "markdown",
   "metadata": {},
   "source": [
    "The most simple way to fetch the content of a given endpoint is like this:"
   ]
  },
  {
   "cell_type": "code",
   "execution_count": null,
   "metadata": {},
   "outputs": [],
   "source": [
    "import getpass\n",
    "username = 'pulsargranular'\n",
    "resp = requests.get(f'https://api.github.com/users/{username}', auth=(username, getpass.getpass()))\n",
    "\n",
    "print(resp.status_code)              # returns 200 if ok\n",
    "print(resp.headers['content-type'])  # 'application/json; charset=utf8'\n",
    "print(resp.encoding)                 # 'utf-8'\n",
    "print(resp.text)                     # '{\"type\":\"User\"...'\n",
    "print(resp.json())                   # decode the string as json"
   ]
  },
  {
   "cell_type": "markdown",
   "metadata": {},
   "source": [
    "In reality, you might need to pass the correct headers and maybe ignore the SSL certificates, because you used self-signed certificates."
   ]
  },
  {
   "cell_type": "markdown",
   "metadata": {},
   "source": [
    "```python\n",
    "resp = requests.post(\n",
    "    url = 'https://my.endpoint.com',\n",
    "    data = json.dumps(payload),\n",
    "    headers={\n",
    "        'Content-Type': 'application/json',\n",
    "         'Accept': 'application/json'\n",
    "    },\n",
    "    auth=('username', 'password'),\n",
    "    verify=False,   # do not verify SSL certificates\n",
    "    timeout=10,     # timeout in seconds\n",
    ")\n",
    "```"
   ]
  },
  {
   "cell_type": "markdown",
   "metadata": {},
   "source": [
    "The **timeout** can also contain a tuple, e.g. `(3,8)`. The request will then wait 3 seconds to establish a connection and wait another 8 seconds for the result."
   ]
  },
  {
   "cell_type": "markdown",
   "metadata": {},
   "source": [
    "### GET, POST, PUT, DELETE requests"
   ]
  },
  {
   "cell_type": "markdown",
   "metadata": {},
   "source": [
    "As you might have guessed, the requests module not only offers `get` requests, but any kind of HTTP request. The most popular come with their own method, include the typical CRUD (create, read, update delete) requests:\n",
    "\n",
    "```python\n",
    "requests.post(url, data)                # CREATE data. Posted data is usually a string containing json\n",
    "requests.get(url, params, args)         # READ data\n",
    "requests.put(url, data, args)           # UPDATE data\n",
    "requests.delete(url, args)              # DELETE data\n",
    "requests.head(url, args)\n",
    "requests.patch(url, data, args)\n",
    "```"
   ]
  },
  {
   "cell_type": "markdown",
   "metadata": {},
   "source": [
    "Typically, programmers json-encode their data structure themselves and pass the content as `data`:\n",
    "\n",
    "```python\n",
    "import json\n",
    "import requests\n",
    "\n",
    "url = 'https://api.github.com/some/endpoint'\n",
    "payload = {'some': 'data'}\n",
    "headers = {'content-type': 'application/json'}\n",
    "response = requests.post(\n",
    "    url = url,\n",
    "    data = json.dumps(payload),\n",
    "    headers = headers\n",
    ")\n",
    "```\n",
    "\n",
    "You can also pass the payload with the `json` parameter; the headers `content-type: application/json` get set automatically:\n",
    "\n",
    "```python\n",
    "response = requests.post(url = url, json = payload)\n",
    "```\n",
    "\n",
    "\n"
   ]
  },
  {
   "cell_type": "markdown",
   "metadata": {},
   "source": [
    "The **response object** offers a number of useful methods and status values:"
   ]
  },
  {
   "cell_type": "markdown",
   "metadata": {},
   "source": [
    "```python\n",
    "response.ok       # HTTP status code is 2xx\n",
    "response.headers  # all header information as a dict\n",
    "response.content  # raw binary content\n",
    "response.text     # the raw text\n",
    "response.apparent_encoding  # utf-8 etc.\n",
    "response.json()   # decode JSON string into Python data structure\n",
    "```"
   ]
  },
  {
   "cell_type": "markdown",
   "metadata": {},
   "source": [
    "## Exercise 1: get info, decode json\n",
    "\n",
    "1. Get information about a given Kostenstelle. The endpoint is: `http://n-vermeul.ethz.ch/sap_info?kostl=6005` (or any Kostenstelle you are interested in)\n",
    "2. make sure the response has a status code of 2xx by checking `response.ok` is `True`\n",
    "3. compare content, text and json"
   ]
  },
  {
   "cell_type": "markdown",
   "metadata": {},
   "source": [
    "## Exercise 2: handle errors\n",
    "\n",
    "1. Provoke an exception, e.g. provide an innvalid enpoint\n",
    "2. write a try-except block that handles the error\n",
    "3. hint: the error is part of the `requests` module: `requests.ConnectionError`\n",
    "4. Provoke other exceptions (eg. `something://` instead of `http://`) \n",
    "5. try to figure out where these exceptions are raised\n",
    "6. handle these exceptions, using additional `except` blocks"
   ]
  },
  {
   "cell_type": "markdown",
   "metadata": {},
   "source": [
    "## Exercise 3: extract and re-arrange data\n",
    "\n",
    "You might be only interested in the following attributes: \n",
    "\n",
    "```python\n",
    "attributes = ['kostl','fonds', 'beschr']\n",
    "```\n",
    "\n",
    "The structure should remain, an array of dictionaries, e.g.\n",
    "\n",
    "```python\n",
    "[{'kostl': '6005',\n",
    "  'fonds': '0-21408-18',\n",
    "  'beschr': 'PHRT-Driver-Project PRECISE'},\n",
    " {'kostl': '6005', 'fonds': '2-67400-09', 'beschr': 'SysX_SyBIT-Rinn'},\n",
    " ...\n",
    "]\n",
    "```\n",
    "\n",
    "0. start with the code below\n",
    "1. decode the content of the response into a Python structure, using `response.json()` and assign it to a variable `all_costcentres`\n",
    "2. loop over all costcentres, create a new dictionary\n",
    "3. inside that loop, create another loop over the attributes\n",
    "4. build your dictionary for the three attributes.\n",
    "5. hint: the `.get('key', '')` method avoids KeyErrors that might occur: `costcentre[\"this_key_does_not_exist\"]`\n",
    "6. append the dictionary to the `costcentre_infos` array, using the `.append()` method\n",
    "\n",
    "**Bonus**\n",
    "\n",
    "7. Try to use a (nested) list comprehension instead of a nested `for` loop"
   ]
  },
  {
   "cell_type": "code",
   "execution_count": null,
   "metadata": {},
   "outputs": [],
   "source": [
    "import requests\n",
    "import json\n",
    "response = requests.get('http://n-vermeul.ethz.ch/sap_info?kostl=6005')\n",
    "\n",
    "costcentre_infos = []\n",
    "attributes = ['kostl','fonds', 'beschr']\n",
    "if response.ok:\n",
    "    # your code goes here"
   ]
  },
  {
   "cell_type": "markdown",
   "metadata": {},
   "source": [
    "## Excercise 4: filtering\n",
    "\n",
    "1. Read about the [filter functions in Python](https://gitlab.ethz.ch/vermeul/python-best-practices/-/blob/master/07-Built-in_Functions.md#filtering-the-filter-function)\n",
    "2. create a filter function which selects certain records, e.g. fonds `.startswith('2-70')`\n",
    "3. apply the filter to the outer loop (`for costcentre in all_costcentres`)\n",
    "\n",
    "**Bonus:**\n",
    "\n",
    "4. apply the filter to the outer list comprehension"
   ]
  },
  {
   "cell_type": "markdown",
   "metadata": {},
   "source": [
    "## Excercise 5: sorting\n",
    "\n",
    "1. Read about the [sort functions in Python](https://gitlab.ethz.ch/vermeul/python-best-practices/-/blob/master/07-Built-in_Functions.md#sorting-the-sorted-function)\n",
    "2. start with the code below\n",
    "3. create a `def my_sort(costcentre)` function which uses the regex above\n",
    "4. hint: `match.groupdict()['middle_number']` will access the capture group item\n",
    "5. hint: the `my_sort` should return 0 if no match, or return int(middle_number) otherwise\n",
    "\n",
    "**Bonus**\n",
    "\n",
    "6. try to achieve the same thing using the nested list comprehensions"
   ]
  },
  {
   "cell_type": "code",
   "execution_count": null,
   "metadata": {},
   "outputs": [],
   "source": [
    "import requests\n",
    "import json\n",
    "import re\n",
    "\n",
    "response = requests.get('http://n-vermeul.ethz.ch/sap_info?kostl=6005')\n",
    "\n",
    "extract_middle_number = re.compile(r'''\n",
    "    ^\\d+                       # start with at least a number\n",
    "    \\-                         # followed by a dash\n",
    "    (?P<middle_number>\\d+)     # followed by numbers, capture these\n",
    "    \\-                         # followed by a dash\n",
    "    \\d+                        # followed by the last digits\n",
    "    $                          # end of string\n",
    "    ''', \n",
    "    re.X\n",
    ")\n",
    "\n",
    "def my_filter(costcentre):\n",
    "    if costcentre.get('fonds', '').startswith('2-70'):\n",
    "        return costcentre\n",
    "    \n",
    "def my_sort(costcentre):\n",
    "    \"\"\"This function first extracts the middle number, using a regular expression.\n",
    "    If we have a match, return the integer representation of that number to enforce number comparison.\n",
    "    If we do not have a match, return 0\n",
    "    \"\"\"\n",
    "    ### your code here\n",
    "    \n",
    "\n",
    "selected_and_sorted_costcentres = []\n",
    "interesting_attributes = ['kostl','fonds', 'beschr']\n",
    "if response.ok:\n",
    "    all_costcentres = response.json()\n",
    "    selected_and_sorted_costcentres = [\n",
    "        {\n",
    "            attr: costcentre.get(attr, '') for attr in interesting_attributes\n",
    "        }\n",
    "        for costcentre in sorted(\n",
    "            filter(my_filter, all_costcentres),\n",
    "            key = my_sort\n",
    "        )\n",
    "    ]\n",
    "    \n",
    "selected_and_sorted_costcentres"
   ]
  },
  {
   "cell_type": "markdown",
   "metadata": {},
   "source": [
    "## Solution to Exercise 1"
   ]
  },
  {
   "cell_type": "code",
   "execution_count": null,
   "metadata": {},
   "outputs": [],
   "source": [
    "import requests\n",
    "import json\n",
    "response = requests.get('http://n-vermeul.ethz.ch/sap_info?kostl=6005')\n",
    "\n",
    "if response.ok:\n",
    "    binary = response.content\n",
    "    text   = response.text\n",
    "    data_structure = response.json()"
   ]
  },
  {
   "cell_type": "code",
   "execution_count": null,
   "metadata": {},
   "outputs": [],
   "source": [
    "binary"
   ]
  },
  {
   "cell_type": "code",
   "execution_count": null,
   "metadata": {},
   "outputs": [],
   "source": [
    "text"
   ]
  },
  {
   "cell_type": "code",
   "execution_count": null,
   "metadata": {},
   "outputs": [],
   "source": [
    "data_structure"
   ]
  },
  {
   "cell_type": "code",
   "execution_count": null,
   "metadata": {},
   "outputs": [],
   "source": [
    "response.json()"
   ]
  },
  {
   "cell_type": "markdown",
   "metadata": {},
   "source": [
    "## Solution to Exercise 2"
   ]
  },
  {
   "cell_type": "markdown",
   "metadata": {},
   "source": [
    "**Solution to 2.1 - 2.3**"
   ]
  },
  {
   "cell_type": "code",
   "execution_count": null,
   "metadata": {},
   "outputs": [],
   "source": [
    "import requests\n",
    "import json\n",
    "\n",
    "try: \n",
    "    response = requests.get('http://n-vermeul.notreallythere.ch/sap_info?kostl=6005')\n",
    "except requests.ConnectionError as exc:\n",
    "    print(f\"This url does not exist: {exc}\")\n",
    "\n",
    "if response.ok:\n",
    "    binary = response.content\n",
    "    text   = response.text\n",
    "    data_structure = response.json()"
   ]
  },
  {
   "cell_type": "markdown",
   "metadata": {},
   "source": [
    "**Solution to 2.4 - 2.6**"
   ]
  },
  {
   "cell_type": "code",
   "execution_count": null,
   "metadata": {},
   "outputs": [],
   "source": [
    "import requests\n",
    "import json\n",
    "\n",
    "try: \n",
    "    response = requests.get('not_a_valid_schema://n-vermeul.notreallythere.ch/sap_info?kostl=6005')\n",
    "    \n",
    "except requests.ConnectionError as exc:\n",
    "    print(f\"This url does not exist: {exc}\")\n",
    "    \n",
    "except requests.sessions.InvalidSchema as exc:\n",
    "    print(f\"This endpoint is not even a valid schema: {exc}\")\n",
    "    \n",
    "if response.ok:\n",
    "    binary = response.content\n",
    "    text   = response.text\n",
    "    data_structure = response.json()"
   ]
  },
  {
   "cell_type": "markdown",
   "metadata": {},
   "source": [
    "## Solution to Exercise 3"
   ]
  },
  {
   "cell_type": "markdown",
   "metadata": {},
   "source": [
    "**Solution 3.1 - 3.6**"
   ]
  },
  {
   "cell_type": "code",
   "execution_count": null,
   "metadata": {},
   "outputs": [],
   "source": [
    "import requests\n",
    "import json\n",
    "response = requests.get('http://n-vermeul.ethz.ch/sap_info?kostl=6005')\n",
    "\n",
    "costcentre_infos = []\n",
    "attributes = ['kostl','fonds', 'beschr']\n",
    "if response.ok:\n",
    "    all_costcentres = response.json()\n",
    "    \n",
    "    for costcentre in all_costcentres:\n",
    "        costcentre_info = {}\n",
    "        for attribute in attributes:\n",
    "            costcentre_info[attribute] = costcentre.get(attribute,'')\n",
    "        costcentre_infos.append(costcentre_info)\n",
    "    \n",
    "costcentre_infos"
   ]
  },
  {
   "cell_type": "markdown",
   "metadata": {},
   "source": [
    "**Bonus:** using a nested _list comprehension_ instead of a nested for-loop"
   ]
  },
  {
   "cell_type": "code",
   "execution_count": null,
   "metadata": {},
   "outputs": [],
   "source": [
    "import requests\n",
    "import json\n",
    "response = requests.get('http://n-vermeul.ethz.ch/sap_info?kostl=6005')\n",
    "\n",
    "interesting_attributes = ['kostl','fonds', 'beschr']\n",
    "if response.ok:\n",
    "    all_costcentres = response.json()\n",
    "    costcentre_infos = [\n",
    "        {\n",
    "            attr: costcentre.get(attr, '')             # inner list comprehension\n",
    "            for attr in interesting_attributes         # creates a dictionary (inside { } )\n",
    "        }\n",
    "        for costcentre in all_costcentres              # outer list comprehension creates an array (inside [ ] )\n",
    "    ]\n",
    "    \n",
    "costcentre_infos"
   ]
  },
  {
   "cell_type": "markdown",
   "metadata": {},
   "source": [
    "## Solution to Exercise 4"
   ]
  },
  {
   "cell_type": "markdown",
   "metadata": {},
   "source": [
    "**Solution to 4.1 - 4.3**"
   ]
  },
  {
   "cell_type": "code",
   "execution_count": null,
   "metadata": {},
   "outputs": [],
   "source": [
    "import requests\n",
    "import json\n",
    "response = requests.get('http://n-vermeul.ethz.ch/sap_info?kostl=6005')\n",
    "\n",
    "def my_filter(costcentre):\n",
    "    if costcentre.get('fonds', '').startswith('2-70'):\n",
    "        return costcentre\n",
    "\n",
    "costcentre_infos = []\n",
    "attributes = ['kostl','fonds', 'beschr']\n",
    "if response.ok:\n",
    "    all_costcentres = response.json()\n",
    "    \n",
    "    for costcentre in filter(my_filter, all_costcentres):\n",
    "        costcentre_info = {}\n",
    "        for attribute in attributes:\n",
    "            costcentre_info[attribute] = costcentre.get(attribute,'')\n",
    "        costcentre_infos.append(costcentre_info)\n",
    "    \n",
    "costcentre_infos"
   ]
  },
  {
   "cell_type": "markdown",
   "metadata": {},
   "source": [
    "**Bonus** same thing, using list comprehension"
   ]
  },
  {
   "cell_type": "code",
   "execution_count": null,
   "metadata": {},
   "outputs": [],
   "source": [
    "import requests\n",
    "import json\n",
    "response = requests.get('http://n-vermeul.ethz.ch/sap_info?kostl=6005')\n",
    "\n",
    "def my_filter(costcentre):\n",
    "    if costcentre.get('fonds', '').startswith('2-70'):\n",
    "        return costcentre\n",
    "\n",
    "interesting_attributes = ['kostl','fonds', 'beschr']\n",
    "if response.ok:\n",
    "    all_costcentres = response.json()\n",
    "    selected_costcentres = [\n",
    "        {\n",
    "            attr: costcentre.get(attr, '') for attr in interesting_attributes\n",
    "        }\n",
    "        for costcentre in filter(my_filter, all_costcentres)\n",
    "    ]\n",
    "    \n",
    "selected_costcentres"
   ]
  },
  {
   "cell_type": "markdown",
   "metadata": {},
   "source": [
    "## Solution to Exercise 5"
   ]
  },
  {
   "cell_type": "markdown",
   "metadata": {},
   "source": [
    "**Solutions to 5.1 - 5.5**"
   ]
  },
  {
   "cell_type": "code",
   "execution_count": null,
   "metadata": {},
   "outputs": [],
   "source": [
    "import requests\n",
    "import json\n",
    "import re\n",
    "\n",
    "response = requests.get('http://n-vermeul.ethz.ch/sap_info?kostl=6005')\n",
    "\n",
    "extract_middle_number = re.compile(r'''\n",
    "    ^\\d+                       # start with at least a number\n",
    "    \\-                         # followed by a dash\n",
    "    (?P<middle_number>\\d+)     # followed by numbers, capture these\n",
    "    \\-                         # followed by a dash\n",
    "    \\d+                        # followed by the last digits\n",
    "    $                          # end of string\n",
    "    ''', \n",
    "    re.X\n",
    ")\n",
    "\n",
    "def my_filter(costcentre):\n",
    "    if costcentre.get('fonds', '').startswith('2-70'):\n",
    "        return costcentre\n",
    "    \n",
    "def my_sort(costcentre):\n",
    "    \"\"\"This function first extracts the middle number, using a regular expression.\n",
    "    If we have a match, return the integer representation of that number to enforce number comparison.\n",
    "    If we do not have a match, return 0\n",
    "    \"\"\"\n",
    "    fonds = costcentre.get('fonds','')\n",
    "    match = extract_middle_number.search(fonds)\n",
    "    if match:\n",
    "        return int(match.groupdict()['middle_number'])  # return int() to enforce number comparison\n",
    "    else:\n",
    "        return 0\n",
    "    \n",
    "\n",
    "selected_and_sorted_costcentres = []\n",
    "interesting_attributes = ['kostl','fonds', 'beschr']\n",
    "if response.ok:\n",
    "    all_costcentres = response.json()\n",
    "    \n",
    "    for costcentre in sorted(\n",
    "        filter(my_filter, all_costcentres),\n",
    "        key = my_sort\n",
    "    ):\n",
    "        costcentre_info = {}\n",
    "        for attribute in attributes:\n",
    "            costcentre_info[attribute] = costcentre.get(attribute,'')\n",
    "        selected_and_sorted_costcentres.append(costcentre_info)\n",
    "    \n",
    "selected_and_sorted_costcentres"
   ]
  },
  {
   "cell_type": "markdown",
   "metadata": {},
   "source": [
    "**Bonus:** the same as above, using list comprehension"
   ]
  },
  {
   "cell_type": "code",
   "execution_count": null,
   "metadata": {},
   "outputs": [],
   "source": [
    "import requests\n",
    "import json\n",
    "import re\n",
    "\n",
    "response = requests.get('http://n-vermeul.ethz.ch/sap_info?kostl=6005')\n",
    "\n",
    "extract_middle_number = re.compile(r'''\n",
    "    ^\\d+                       # start with at least a number\n",
    "    \\-                         # followed by a dash\n",
    "    (?P<middle_number>\\d+)     # followed by numbers, capture these\n",
    "    \\-                         # followed by a dash\n",
    "    \\d+                        # followed by the last digits\n",
    "    $                          # end of string\n",
    "    ''', \n",
    "    re.X\n",
    ")\n",
    "\n",
    "def my_filter(costcentre):\n",
    "    if costcentre.get('fonds', '').startswith('2-70'):\n",
    "        return costcentre\n",
    "    \n",
    "def my_sort(costcentre):\n",
    "    \"\"\"This function first extracts the middle number, using a regular expression.\n",
    "    If we have a match, return the integer representation of that number to enforce number comparison.\n",
    "    If we do not have a match, return 0\n",
    "    \"\"\"\n",
    "    fonds = costcentre.get('fonds','')\n",
    "    match = extract_middle_number.search(fonds)\n",
    "    if match:\n",
    "        return int(match.groupdict()['middle_number'])  # return int() to enforce number comparison\n",
    "    else:\n",
    "        return 0\n",
    "    \n",
    "\n",
    "selected_and_sorted_costcentres = []\n",
    "interesting_attributes = ['kostl','fonds', 'beschr']\n",
    "if response.ok:\n",
    "    all_costcentres = response.json()\n",
    "    selected_and_sorted_costcentres = [\n",
    "        {\n",
    "            attr: costcentre.get(attr, '') for attr in interesting_attributes\n",
    "        }\n",
    "        for costcentre in sorted(\n",
    "            filter(my_filter, all_costcentres),\n",
    "            key = my_sort\n",
    "        )\n",
    "    ]\n",
    "    \n",
    "selected_and_sorted_costcentres"
   ]
  }
 ],
 "metadata": {
  "kernelspec": {
   "display_name": "Python 3",
   "language": "python",
   "name": "python3"
  },
  "language_info": {
   "codemirror_mode": {
    "name": "ipython",
    "version": 3
   },
   "file_extension": ".py",
   "mimetype": "text/x-python",
   "name": "python",
   "nbconvert_exporter": "python",
   "pygments_lexer": "ipython3",
   "version": "3.6.9"
  }
 },
 "nbformat": 4,
 "nbformat_minor": 4
}
