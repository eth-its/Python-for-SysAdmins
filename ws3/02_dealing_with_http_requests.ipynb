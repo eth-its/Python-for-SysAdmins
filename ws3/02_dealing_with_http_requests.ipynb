{
 "cells": [
  {
   "cell_type": "markdown",
   "metadata": {},
   "source": [
    "# Dealing with http requests"
   ]
  },
  {
   "cell_type": "markdown",
   "metadata": {},
   "source": [
    "## The `requests` module"
   ]
  },
  {
   "cell_type": "markdown",
   "metadata": {},
   "source": [
    "Using this module is simply the most popular way to fetch data from a website or to talk to REST endpoints of some webservice. The only current limitation is the fact that it **cannot handle asynchronous requests** out of the box. If speed is of concern and you would like to fetch data from many sources at the same time, have a look at the [HTTPX Module](https://www.python-httpx.org). It offers an almost identical interface as the Requests module, with `asynch` options."
   ]
  },
  {
   "cell_type": "markdown",
   "metadata": {},
   "source": [
    "Installation is a simple pip install away:\n",
    "\n",
    "```bash\n",
    "$ pip install requests\n",
    "```"
   ]
  },
  {
   "cell_type": "markdown",
   "metadata": {},
   "source": [
    "The most simple way to fetch the content of a given endpoint is like this:\n",
    "\n",
    "```python\n",
    "r = requests.get('https://api.github.com/user', auth=('username', 'password'))\n",
    "print(r.status_code)   \n",
    "# returns 200 if ok\n",
    "print(r.headers['content-type'])  \n",
    "# 'application/json; charset=utf8'\n",
    "r.encoding\n",
    "# 'utf-8'\n",
    "r.text\n",
    "# '{\"type\":\"User\"...'\n",
    "r.json()  # decode the string as json\n",
    "# {'private_gists': 419, 'total_private_repos': 77, ...}\n",
    "```\n"
   ]
  },
  {
   "cell_type": "markdown",
   "metadata": {},
   "source": [
    "In reality, you need to pass the correct headers and maybe ignore the SSL certificates, because you used self-signed certificates."
   ]
  },
  {
   "cell_type": "markdown",
   "metadata": {},
   "source": [
    "```python\n",
    "resp = requests.post(\n",
    "    url = 'https://my.endpoint.com',\n",
    "    data = json.dumps(payload),\n",
    "    headers={\n",
    "        'Content-Type': 'application/json',\n",
    "         'Accept': 'application/json'\n",
    "    },\n",
    "    auth=('username', 'password'),\n",
    "    verify=False,   # do not verify SSL certificates\n",
    "    timeout=60,\n",
    ")\n",
    "```"
   ]
  },
  {
   "cell_type": "markdown",
   "metadata": {},
   "source": [
    "### other type of requests"
   ]
  },
  {
   "cell_type": "markdown",
   "metadata": {},
   "source": [
    "As you might have guessed, the requests module not only offers `get` requests, but any kind of HTTP request. The most popular come with their own method, include the typical CRUD (create, read, update delete) requests:\n",
    "\n",
    "```python\n",
    "requests.post(url, data)                # CREATE data. Posted data is usually a json string \n",
    "requests.get(url, params, args)         # READ data\n",
    "requests.put(url, data, args)           # UPDATE data\n",
    "requests.delete(url, args)              # DELETE data\n",
    "requests.head(url, args)\n",
    "requests.patch(url, data, args)\n",
    "```"
   ]
  },
  {
   "cell_type": "markdown",
   "metadata": {},
   "source": [
    "Typically, programmers json-encode their data structure themselves and pass the content as `data`:\n",
    "\n",
    "```python\n",
    "import json\n",
    "import requests\n",
    "\n",
    "url = 'https://api.github.com/some/endpoint'\n",
    "payload = {'some': 'data'}\n",
    "headers = {'content-type': 'application/json'}\n",
    "response = requests.post(\n",
    "    url = url,\n",
    "    data = json.dumps(payload),\n",
    "    headers = headers\n",
    ")\n",
    "```\n",
    "\n",
    "You can also pass the payload with the `json` parameter; the headers `content-type: application/json` get set automatically:\n",
    "\n",
    "```python\n",
    "response = requests.post(url = url, json = payload)\n",
    "```\n",
    "\n",
    "\n"
   ]
  },
  {
   "cell_type": "code",
   "execution_count": null,
   "metadata": {},
   "outputs": [],
   "source": []
  }
 ],
 "metadata": {
  "kernelspec": {
   "display_name": "Python 3",
   "language": "python",
   "name": "python3"
  },
  "language_info": {
   "codemirror_mode": {
    "name": "ipython",
    "version": 3
   },
   "file_extension": ".py",
   "mimetype": "text/x-python",
   "name": "python",
   "nbconvert_exporter": "python",
   "pygments_lexer": "ipython3",
   "version": "3.6.9"
  }
 },
 "nbformat": 4,
 "nbformat_minor": 4
}
