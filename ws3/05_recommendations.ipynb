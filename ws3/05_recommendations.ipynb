{
 "cells": [
  {
   "cell_type": "markdown",
   "metadata": {},
   "source": [
    "# Recommendations"
   ]
  },
  {
   "cell_type": "markdown",
   "metadata": {},
   "source": [
    "## Recommended IDEs\n",
    "\n",
    "**IPython**\n",
    "\n",
    "* on the command line, **IPython** is by far the best choice\n",
    "* it works similar to Jupyter, with TAB completion, syntax highlighting and much more\n",
    "* Documentation: https://ipython.readthedocs.io/en/stable/\n",
    "* Installation: `pip install ipython`"
   ]
  },
  {
   "cell_type": "markdown",
   "metadata": {},
   "source": [
    "**Visual Studio Code**\n",
    "\n",
    "* currently (arguably) one of the best free IDEs available\n",
    "* offers built-in Jupyter Notebooks\n",
    "* integrated debugger, git, ssh-remote, docker, kubernetes\n",
    "* VIM integration :)\n",
    "* highly extendible\n",
    "* and ...fast!\n",
    "* Documentation and download: https://code.visualstudio.com"
   ]
  },
  {
   "cell_type": "markdown",
   "metadata": {},
   "source": [
    "## Recommended Modules\n",
    "\n",
    "* [pytest](https://docs.pytest.org/en/latest/) - write better tests, write better programs\n",
    "* [pdb - the Python Debugger](https://docs.python.org/3/library/pdb.html) - typically, you start debugging your script by adding the line `import pdb; pdb.set_trace()` and then execute it. The debugger will stop the program and wait for your input. These are the typical keystrokes you'll need inside the debugger:\n",
    "   * `n`(ext) execute next statement\n",
    "   * `s`(tep) when there is a function call, step will visit that function too.\n",
    "   * `c`(ontinue) exit the debugger, continue with the program\n",
    "   *`l`(ist)  show the part of the current code\n",
    "   *`ll` (long list) show a bigger part of the code\n",
    "* [defaultdict from the collections module](https://docs.python.org/3/library/collections.html#collections.defaultdict) - To avoid nasty and unnecessary KeyErrors when working with dicts.  \n",
    "* [tabulate](https://github.com/astanin/python-tabulate) - displaying tabular data on console\n",
    "* [zlib](https://docs.python.org/3/library/zlib.html) – Compression compatible with gzip\n",
    "* [sqlite](https://www.tutorialspoint.com/sqlite/sqlite_python.htm) – for a lightning-fast, file-based local database\n",
    "* [SQL Alchemy](https://www.sqlalchemy.org) – probably the most popular ORM (Object Relational Mapper), comparable with Java's Hybernate. Supports almost any database backend and SQL dialects (MySQL, Oracle, PostgreSQL, SQLite, Microsof SQL Server etc.). Here is a [quick guide](https://www.tutorialspoint.com/sqlalchemy/sqlalchemy_quick_guide.htm) for getting started.\n",
    "* [Pandas](https://pandas.pydata.org/docs/getting_started/index.html), [numpy](https://numpy.org), [scipy](https://www.scipy.org/about.html), [matplotlib](https://matplotlib.org): the «backbone modules» for Data Scientists. These modules are the reason why Data Scientists love Python.\n",
    "* [scikit-learn](https://scikit-learn.org/stable/), [Tensor Flow](https://github.com/tensorflow/tensorflow) and [Keras](https://keras.io) – the three most popular machine learning platforms. They are the reason why machine learning is closely associated with Python\n",
    "* [Spacy](https://spacy.io) for natural language processing (NLP), based on pre-trained language models, with the possibility to train your own models"
   ]
  },
  {
   "cell_type": "code",
   "execution_count": null,
   "metadata": {},
   "outputs": [],
   "source": []
  }
 ],
 "metadata": {
  "kernelspec": {
   "display_name": "Python 3",
   "language": "python",
   "name": "python3"
  },
  "language_info": {
   "codemirror_mode": {
    "name": "ipython",
    "version": 3
   },
   "file_extension": ".py",
   "mimetype": "text/x-python",
   "name": "python",
   "nbconvert_exporter": "python",
   "pygments_lexer": "ipython3",
   "version": "3.6.9"
  }
 },
 "nbformat": 4,
 "nbformat_minor": 4
}
