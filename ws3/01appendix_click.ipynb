{
 "cells": [
  {
   "cell_type": "markdown",
   "id": "e7366a80",
   "metadata": {
    "slideshow": {
     "slide_type": "slide"
    }
   },
   "source": [
    "## Appendix: The `click` module"
   ]
  },
  {
   "cell_type": "markdown",
   "id": "5b7cc8db",
   "metadata": {
    "slideshow": {
     "slide_type": "subslide"
    }
   },
   "source": [
    "### Installation of `click`\n",
    "\n",
    "The installation of the module is easy:\n",
    "\n",
    "```bash\n",
    "pip install -U click\n",
    "```\n",
    "\n",
    "Note that\n",
    "* `install` is the command\n",
    "* `-U` is an option, a shorthand for `--upgrade` which forces pip to install the latest version of that module\n",
    "* `click` is the argument, in our case the name of the module"
   ]
  },
  {
   "cell_type": "markdown",
   "id": "b8e3575b",
   "metadata": {
    "slideshow": {
     "slide_type": "fragment"
    }
   },
   "source": [
    "Documentation of the `click` module can be found [here](https://click.palletsprojects.com/en/7.x/)."
   ]
  },
  {
   "cell_type": "markdown",
   "id": "6b64d66a",
   "metadata": {
    "slideshow": {
     "slide_type": "subslide"
    }
   },
   "source": [
    "```python\n",
    "import click\n",
    "\n",
    "@click.command()\n",
    "@click.option(\"--count\",  \"-c\", default=1, help=\"Number of greetings.\")\n",
    "@click.option(\"--polite\", \"-p\", is_flag=True)\n",
    "@click.option(\"--name\",   \"-n\", help=\"The person to greet.\")\n",
    "def hello(count, polite, name):\n",
    "    if polite:\n",
    "        greeting = \"Your Serene Highness\"\n",
    "    else:\n",
    "        greeting = \"Hello\"\n",
    "\n",
    "    for _ in range(count):\n",
    "        click.echo(f\"{greeting} {name}!\")\n",
    "\n",
    "if __name__ == \"__main__\":\n",
    "    hello()\n",
    "```"
   ]
  },
  {
   "cell_type": "markdown",
   "id": "c60bdce4",
   "metadata": {
    "slideshow": {
     "slide_type": "subslide"
    }
   },
   "source": [
    "The first line we already understand:\n",
    "\n",
    "```python\n",
    "import click\n",
    "```\n",
    "\n",
    "This just imports the click module, ready to be used."
   ]
  },
  {
   "cell_type": "markdown",
   "id": "17ac22db",
   "metadata": {
    "slideshow": {
     "slide_type": "subslide"
    }
   },
   "source": [
    "Next, we discover some new elements right above the function:\n",
    "\n",
    "```python\n",
    "@click.command()\n",
    "@click.option(\"--count\",  \"-c\", default=1, help=\"Number of greetings.\")\n",
    "@click.option(\"--polite\", \"-p\", is_flag=True)\n",
    "@click.option(\"--name\",   \"-n\", help=\"The person to greet.\")\n",
    "def hello(count, polite, name):\n",
    "```\n",
    "\n",
    "These elements are so called **decorators**. Their functionality is to **wrap** a function or a method. Before the `def hello()` function is being executed, first the `click.command()` is executed, then three times a `click.option()` decorator, before we actually see the function definition.\n",
    "\n",
    "The options `--count`, `--polite` and `--name` are passed as parameters `count`, `polite` and `name` to our  function, in the order they appear.\n",
    "\n",
    "You can also define kebab-style options, e.g. `--test-only` which then will be passed as a `test_only` parameter to your function."
   ]
  },
  {
   "cell_type": "markdown",
   "id": "7c5f67bb",
   "metadata": {
    "slideshow": {
     "slide_type": "subslide"
    }
   },
   "source": [
    "```python\n",
    "def hello(count, polite, name):\n",
    "    if polite:\n",
    "        greeting = \"Your Serene Highness\"\n",
    "    else:\n",
    "        greeting = \"Hello\"\n",
    "        \n",
    "    if not name:\n",
    "        name = \"unknown stranger\"\n",
    "\n",
    "    for x in range(count):\n",
    "        click.echo(f\"{greeting} {name}!\")\n",
    "```"
   ]
  },
  {
   "cell_type": "markdown",
   "id": "e41d4024",
   "metadata": {
    "slideshow": {
     "slide_type": "notes"
    }
   },
   "source": [
    "The rest of the code in this method prints out a message a number of times, using the `click.echo()` method and the convenient [f-string notation](https://realpython.com/python-f-strings/)"
   ]
  },
  {
   "cell_type": "markdown",
   "id": "c9ef1345",
   "metadata": {
    "slideshow": {
     "slide_type": "subslide"
    }
   },
   "source": [
    "### Boolean values (flags)\n",
    "\n",
    "Often we want to adjust the behaviour of our command line tool by providing boolean flags. The presence of the flag will set it to True:\n",
    "\n",
    "```python\n",
    "\n",
    "@click.option(\n",
    "    '-d', '--delete',\n",
    "    is_flag=True,\n",
    "    help='delete this user'\n",
    ")\n",
    "```"
   ]
  },
  {
   "cell_type": "markdown",
   "id": "94187241",
   "metadata": {
    "slideshow": {
     "slide_type": "subslide"
    }
   },
   "source": [
    "### Passwords\n",
    "\n",
    "When you enter a password or some other confidential value, you don't want to see on the screen what you write. The `hide_input=True` parameter will prevent this.\n",
    "\n",
    "When resetting passwords, one often needs to enter the new password twice, in case you entered a typo. Use `confirmation_prompt=True` to show the password prompt a second time and compare the two inputs."
   ]
  },
  {
   "cell_type": "markdown",
   "id": "6e226ada",
   "metadata": {
    "slideshow": {
     "slide_type": "subslide"
    }
   },
   "source": [
    "```python\n",
    "@click.option(\n",
    "    '--password', \n",
    "    prompt=True,                 # does what it says: it prompts\n",
    "    confirmation_prompt=True,    # the password has to be entered twice\n",
    "    hide_input=True              # do not show the input characters\n",
    ")\n",
    "```"
   ]
  },
  {
   "cell_type": "markdown",
   "id": "c9cd70d9",
   "metadata": {
    "slideshow": {
     "slide_type": "subslide"
    }
   },
   "source": [
    "## Arguments\n",
    "\n",
    "[Arguments](https://click.palletsprojects.com/en/8.0.x/arguments/) work almost like options with the difference that they are *positional*. By adding the parameter `nargs=-1`, you can add as many values for one argument (only works for *one* argument, as it eats up all other arguments):\n",
    "\n",
    "Example:\n",
    "\n",
    "```python\n",
    "@click.command()\n",
    "@click.argument('src', nargs=-1)\n",
    "@click.argument('dst', nargs=1)\n",
    "def copy(src, dst):\n",
    "    \"\"\"Move file SRC to DST.\"\"\"\n",
    "    for fn in src:\n",
    "        click.echo(f\"move {fn} to folder {dst}\")\n",
    "```"
   ]
  },
  {
   "cell_type": "markdown",
   "id": "cc2d8feb",
   "metadata": {
    "slideshow": {
     "slide_type": "subslide"
    }
   },
   "source": [
    "### Exercise 2\n",
    "\n",
    "modify hello_click.py\n",
    "\n",
    "- add a help text for the `--polite` option and test it\n",
    "- add a `prompt` parameter to obtain a name, if it is not provided\n",
    "- add an *optional* [file argument](https://click.palletsprojects.com/en/7.x/arguments/#file-path-arguments) (with `nargs=-1`)\n",
    "- if the argument is present, open the content of the file and print it after the greeting"
   ]
  },
  {
   "cell_type": "markdown",
   "id": "126ca49b",
   "metadata": {
    "slideshow": {
     "slide_type": "subslide"
    }
   },
   "source": [
    "## Sub-Commands\n",
    "\n",
    "Sub-commands are a way to conveniently group options for a given task. For example, the [ethz-iam-webservice](https://gitlab.ethz.ch/vermeul/ethz-iam-webservice) CLI offers the `person`, `user` and the `group` command. Below you see some examples how the utility takes a **command** followed by an **argument** and some **options**:\n",
    "\n",
    "```bash\n",
    "$ iam person swen@ethz.ch\n",
    "$ iam user vermeul\n",
    "$ iam user vermeul --grant-service LDAPS\n",
    "$ iam group my_group\n",
    "$ iam group my_group -a new_user1 -a new_user2 -r old_user3\n",
    "$ iam group my_group --delete\n",
    "```"
   ]
  },
  {
   "cell_type": "markdown",
   "id": "244f4838",
   "metadata": {
    "slideshow": {
     "slide_type": "subslide"
    }
   },
   "source": [
    "### How to implement a sub-command\n",
    "\n",
    "1. define the main entry function, e.g. `def do_something()`\n",
    "2. decorate it with the `@click.group()` decorator\n",
    "3. define the subcommand function, e.g. `def sing()`\n",
    "4. decorate it with the `@do_something.command()` decorator"
   ]
  },
  {
   "cell_type": "markdown",
   "id": "11433e09",
   "metadata": {
    "slideshow": {
     "slide_type": "subslide"
    }
   },
   "source": [
    "### How to pass context\n",
    "\n",
    "From the [documentation](https://click.palletsprojects.com/en/8.0.x/commands/#nested-handling-and-contexts)\n",
    "\n",
    "```python\n",
    "@click.group()\n",
    "@click.option('--debug/--no-debug', default=False)\n",
    "@click.pass_context\n",
    "def cli(ctx, debug):\n",
    "    # ensure that ctx.obj exists and is a dict (in case `cli()` is called\n",
    "    # by means other than the `if` block below)\n",
    "    ctx.ensure_object(dict)\n",
    "\n",
    "    ctx.obj['DEBUG'] = debug\n",
    "\n",
    "@cli.command()\n",
    "@click.pass_context\n",
    "def sync(ctx):\n",
    "    click.echo(f\"Debug is {'on' if ctx.obj['DEBUG'] else 'off'}\")\n",
    "\n",
    "if __name__ == '__main__':\n",
    "    cli(obj={}`\n",
    "```"
   ]
  },
  {
   "cell_type": "markdown",
   "id": "ca914656",
   "metadata": {
    "slideshow": {
     "slide_type": "subslide"
    }
   },
   "source": [
    "### Exercise 3\n",
    "\n",
    "Open [click_commands.py](click_commands.py)\n",
    "\n",
    "- observe how the two sub-commands are defined\n",
    "- try to pass some options and arguments to the sub-commands\n",
    "- implement an example which takes a value of the main option and passes it to the sub-command"
   ]
  }
 ],
 "metadata": {
  "celltoolbar": "Slideshow",
  "kernelspec": {
   "display_name": "Python 3 (ipykernel)",
   "language": "python",
   "name": "python3"
  },
  "language_info": {
   "codemirror_mode": {
    "name": "ipython",
    "version": 3
   },
   "file_extension": ".py",
   "mimetype": "text/x-python",
   "name": "python",
   "nbconvert_exporter": "python",
   "pygments_lexer": "ipython3",
   "version": "3.10.10"
  }
 },
 "nbformat": 4,
 "nbformat_minor": 5
}
