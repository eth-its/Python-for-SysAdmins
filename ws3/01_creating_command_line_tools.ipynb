{
 "cells": [
  {
   "cell_type": "markdown",
   "metadata": {},
   "source": [
    "# Creating command line tools CLI"
   ]
  },
  {
   "cell_type": "markdown",
   "metadata": {},
   "source": [
    "## The `click` module"
   ]
  },
  {
   "cell_type": "markdown",
   "metadata": {},
   "source": [
    "For System Administrators, command line tools are the daily bread. This section helps to create beautiful command line interfaces in a composable way with as little code as necessary. The [click module](https://click.palletsprojects.com/en/7.x/api/#click.option) is the most popular among the many that exist, e.g. [argparse](https://click.palletsprojects.com/en/7.x/why/#why-not-argparse), [docopt](https://click.palletsprojects.com/en/7.x/why/#why-not-docopt-etc) among others."
   ]
  },
  {
   "cell_type": "markdown",
   "metadata": {},
   "source": [
    "The click module not only makes it relatively easy to create nice command line interfaces, but also implements many best practices. For example, it automatically creates a help page for you (for every command and subcommand), handles flags and passwords in a consistent and predictable way."
   ]
  },
  {
   "cell_type": "markdown",
   "metadata": {},
   "source": [
    "Installation with `pip` is easy. Note the `-U` parameter, a shorthand for `--upgrade` which forces pip to install the latest version of that module:"
   ]
  },
  {
   "cell_type": "code",
   "execution_count": null,
   "metadata": {},
   "outputs": [],
   "source": [
    "!pip install -U click"
   ]
  },
  {
   "cell_type": "markdown",
   "metadata": {},
   "source": [
    "A minimal example, taken from the [click documentation](https://click.palletsprojects.com/en/7.x/):"
   ]
  },
  {
   "cell_type": "code",
   "execution_count": 32,
   "metadata": {},
   "outputs": [],
   "source": [
    "import click\n",
    "\n",
    "@click.command()\n",
    "@click.option('--count', default=1, help='Number of greetings.')\n",
    "@click.option('--name', prompt='Your name', help='The person to greet.')\n",
    "def hello(count, name):\n",
    "    \"\"\"Simple program that greets NAME for a total of COUNT times.\"\"\"\n",
    "    for x in range(count):\n",
    "        click.echo('Hello %s!' % name)\n"
   ]
  },
  {
   "cell_type": "markdown",
   "metadata": {},
   "source": [
    "The first line we already understand:\n",
    "\n",
    "```python\n",
    "import click\n",
    "```\n",
    "\n",
    "This just imports the click module, ready to be used.\n",
    "\n",
    "Next, we discover some new elements:\n",
    "\n",
    "```python\n",
    "@click.command()\n",
    "@click.option('--count', default=1, help='Number of greetings.')\n",
    "@click.option('--name', prompt='Your name', help='The person to greet.')\n",
    "def hello(count, name):\n",
    "```\n",
    "\n",
    "These elements are so called so called **decorators**. Their functionality is to **wrap** a function or a method. Before the `def hello()` function is being executed, first the `click.command()` is executed, then two times a `click.option()` decorator.\n",
    "\n",
    "The options `--count` and `--name` are passed as parameters `count` and `name` to our `hello(count, name)` function."
   ]
  },
  {
   "cell_type": "markdown",
   "metadata": {},
   "source": [
    "### how to define the entry point in a script\n",
    "\n",
    "If we put the code above into a python script (open [hello_click.py](hello_click.py)), and then we run it with the Python interpreter `python3 hello_click.py`, what happens?\n",
    "\n",
    "**Nothing**. But why?\n",
    "\n",
    "The reason is simple: The Python interpreter needs to know what to run. It imports the click module, then it compiles our `hello()` method, finally reaches the end of the script and exits.\n",
    "\n",
    "We have to tell Python to execute our function if **the caller is the main process**. We could simply add\n",
    "\n",
    "```python\n",
    "hello()\n",
    "```\n",
    "\n",
    "at the end of our script, that function would **always be executed**, as shown in [hello_click_1.py](hello_click_1.py)"
   ]
  },
  {
   "cell_type": "code",
   "execution_count": 16,
   "metadata": {},
   "outputs": [
    {
     "name": "stdout",
     "output_type": "stream",
     "text": [
      "Hello World!\n",
      "Hello World!\n",
      "Hello World!\n"
     ]
    }
   ],
   "source": [
    "!./hello_click_1.py --name World --count 3"
   ]
  },
  {
   "cell_type": "markdown",
   "metadata": {},
   "source": [
    "However, if we only want to import our `hello_click_1` script from some other script, e.g. [import_hello_click_1.py](import_hello_click_1.py), the function gets executed automatically:"
   ]
  },
  {
   "cell_type": "code",
   "execution_count": 17,
   "metadata": {},
   "outputs": [],
   "source": [
    "!./import_hello_click_1.py"
   ]
  },
  {
   "cell_type": "markdown",
   "metadata": {},
   "source": [
    "Klick on the stop button ∎ to interrupt the execution above."
   ]
  },
  {
   "cell_type": "markdown",
   "metadata": {},
   "source": [
    "To avoid this behaviour and to distinguish between the two cases, we need to **identify the caller**. In Python, this statement can typically be found at the end of the main script:"
   ]
  },
  {
   "cell_type": "markdown",
   "metadata": {},
   "source": [
    "```python\n",
    "if __name__ == '__main__':\n",
    "    hello()\n",
    "```"
   ]
  },
  {
   "cell_type": "markdown",
   "metadata": {},
   "source": [
    "### Excercise 1\n",
    "\n",
    "modify hello_click.py so you can\n",
    "\n",
    "1. execute it from command line\n",
    "2. import from within this Jupyter notebook"
   ]
  },
  {
   "cell_type": "markdown",
   "metadata": {},
   "source": [
    "### Exercise 2\n",
    "\n",
    "Have a look at [main.py](main.py), the entry point for the ethz-iam-webservice command line tool I wrote this year. Can you identify the entry point?"
   ]
  },
  {
   "cell_type": "markdown",
   "metadata": {},
   "source": [
    "## Obtaining parameters"
   ]
  },
  {
   "cell_type": "markdown",
   "metadata": {},
   "source": [
    "**Normal values**"
   ]
  },
  {
   "cell_type": "markdown",
   "metadata": {},
   "source": [
    "As we have noticed already, we can obtain parameters from the command line via decorators, e.g.\n",
    "\n",
    "```python\n",
    "@click.option(\"--name\", prompt=\"Your name\", help=\"The person to greet.\")\n",
    "```\n",
    "\n",
    "If we want to use this method in a «traditional» context, we would use `click.prompt() instead`:"
   ]
  },
  {
   "cell_type": "code",
   "execution_count": 29,
   "metadata": {},
   "outputs": [
    {
     "name": "stdout",
     "output_type": "stream",
     "text": [
      "Your name: "
     ]
    },
    {
     "name": "stdin",
     "output_type": "stream",
     "text": [
      " gil\n"
     ]
    },
    {
     "name": "stdout",
     "output_type": "stream",
     "text": [
      "Hello gil!\n"
     ]
    }
   ],
   "source": [
    "import click\n",
    "\n",
    "name = click.prompt(text=\"Your name\")\n",
    "\n",
    "print(f\"Hello {name}!\")"
   ]
  },
  {
   "cell_type": "markdown",
   "metadata": {},
   "source": [
    "**Boolean values: Flags**"
   ]
  },
  {
   "cell_type": "markdown",
   "metadata": {},
   "source": [
    "Often we want to adjust the behaviour of our command line tool by providing boolean flags. The presence of the flag will set it to True:\n",
    "\n",
    "```python\n",
    "\n",
    "@click.option(\n",
    "    '-d', '--delete',\n",
    "    is_flag=True,\n",
    "    help='delete this user'\n",
    ")\n",
    "```\n",
    "\n"
   ]
  },
  {
   "cell_type": "markdown",
   "metadata": {},
   "source": [
    "**Passwords**"
   ]
  },
  {
   "cell_type": "markdown",
   "metadata": {},
   "source": [
    "```python\n",
    "@click.option(\n",
    "    '--password', \n",
    "    prompt=True,                 # does what it says: it prompts, it actively waits for input\n",
    "    confirmation_prompt=True,    # the password has to be entered twice\n",
    "    hide_input=True              # do not show the input characters, of course...\n",
    ")\n",
    "```\n"
   ]
  },
  {
   "cell_type": "markdown",
   "metadata": {},
   "source": [
    "### Exercise 3\n",
    "\n",
    "Have again a look at [main.py](main.py). How and at when needs the password entered to be? What is the `ctx` object all about?"
   ]
  },
  {
   "cell_type": "markdown",
   "metadata": {},
   "source": [
    "## Sub commands with click"
   ]
  },
  {
   "cell_type": "markdown",
   "metadata": {},
   "source": [
    "Sub-commands are a way to conveniently group commands that have certain parameters in common. For example, the `ethz-iam-webservice` CLI offers the group subcommand:\n",
    "\n",
    "```bash\n",
    "$ iam group my_group -i\n",
    "$ iam group my_group -a new_user1 -a new_user2 -r old_user3\n",
    "$ iam group my_group --delete\n",
    "```\n",
    "\n",
    "Two steps are required:\n",
    "\n",
    "1. decorate a function with `@click.command()`\n",
    "2. register the command with the `click.add_command()` function"
   ]
  },
  {
   "cell_type": "markdown",
   "metadata": {},
   "source": [
    "### Exercise 4\n",
    "\n",
    "Investigate [main.py](main.py) and see how the subcommands are registered. Which other subcommands are registered?"
   ]
  },
  {
   "cell_type": "markdown",
   "metadata": {},
   "source": [
    "## Outlook: how to configure your `setup.py` to register a command line utility automatically"
   ]
  },
  {
   "cell_type": "markdown",
   "metadata": {},
   "source": [
    "When you install the `ethz-iam-webservice` utility using `pip install`, you will end up with a command line tool named `iam`. How did that happen?"
   ]
  },
  {
   "cell_type": "markdown",
   "metadata": {},
   "source": [
    "When you run a `pip install`, the `setup.py` is executed. It contains a lot of options, among them the entry_points with the so called **console_scripts**:\n",
    "\n",
    "```python\n",
    "    entry_points={\n",
    "        'console_scripts' : [\n",
    "            'iam=ethz_iam_webservice.main:cli'\n",
    "        ]\n",
    "    }\n",
    "```\n",
    "\n",
    "The setuptools will create a small python script for you and store it in the `bin` directory next to your Python interpreter. That Python script has the name `iam`, imports the `cli` function from the `ethz_iam_webservice.main` module and executes it. Note that `ethz_iam_webservice.main` actually refers to `ethz_iam_webservice/main.py`."
   ]
  },
  {
   "cell_type": "markdown",
   "metadata": {},
   "source": [
    "### Exercise 5\n",
    "\n",
    "Look at the full `setup.py` in the [nethz-iam-repository](https://gitlab.ethz.ch/vermeul/nethz-iam-webservice/-/blob/master/). Locally clone the repository and install the utility, using the `pip install` command."
   ]
  },
  {
   "cell_type": "code",
   "execution_count": null,
   "metadata": {},
   "outputs": [],
   "source": []
  }
 ],
 "metadata": {
  "kernelspec": {
   "display_name": "Python 3",
   "language": "python",
   "name": "python3"
  },
  "language_info": {
   "codemirror_mode": {
    "name": "ipython",
    "version": 3
   },
   "file_extension": ".py",
   "mimetype": "text/x-python",
   "name": "python",
   "nbconvert_exporter": "python",
   "pygments_lexer": "ipython3",
   "version": "3.6.0"
  }
 },
 "nbformat": 4,
 "nbformat_minor": 4
}
