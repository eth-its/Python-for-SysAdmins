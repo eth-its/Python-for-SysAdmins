{
 "cells": [
  {
   "cell_type": "markdown",
   "metadata": {
    "slideshow": {
     "slide_type": "slide"
    }
   },
   "source": [
    "# Creating command line tools CLI"
   ]
  },
  {
   "cell_type": "markdown",
   "metadata": {
    "slideshow": {
     "slide_type": "fragment"
    }
   },
   "source": [
    "## The `click` module"
   ]
  },
  {
   "cell_type": "markdown",
   "metadata": {
    "slideshow": {
     "slide_type": "notes"
    }
   },
   "source": [
    "For System Administrators, command line tools are their daily bread. This section helps to create beautiful command line interfaces in a composable way with as little code as necessary. The [click module](https://click.palletsprojects.com/en/7.x/) is the most popular among the many that exist, e.g. [argparse](https://click.palletsprojects.com/en/7.x/why/#why-not-argparse), [docopt](https://click.palletsprojects.com/en/7.x/why/#why-not-docopt-etc) among others."
   ]
  },
  {
   "cell_type": "markdown",
   "metadata": {
    "slideshow": {
     "slide_type": "notes"
    }
   },
   "source": [
    "The `click` module not only makes it relatively easy to create nice and **extendible command line interfaces**, but also implements many best practices. For example, it automagically creates a **help page** for every command and subcommand, handles flags and passwords in a consistent and predictable way and generates human-friendly errors."
   ]
  },
  {
   "cell_type": "markdown",
   "metadata": {
    "slideshow": {
     "slide_type": "notes"
    }
   },
   "source": [
    "But before we start, we need to understand how command line utilities usually work. They consists of three parts:"
   ]
  },
  {
   "cell_type": "markdown",
   "metadata": {
    "slideshow": {
     "slide_type": "slide"
    }
   },
   "source": [
    "* `command`\n",
    "* `option(s)`\n",
    "* `argument`"
   ]
  },
  {
   "cell_type": "markdown",
   "metadata": {
    "slideshow": {
     "slide_type": "slide"
    }
   },
   "source": [
    "The `command` is the **verb**, it explains what we would like to do, e.g. `import-datasets` or `copy-logfiles`. You can offer **sub-commands** if you need to. You can completely omit commands, if your utility is doing only one thing."
   ]
  },
  {
   "cell_type": "markdown",
   "metadata": {
    "slideshow": {
     "slide_type": "fragment"
    }
   },
   "source": [
    "The `options` (one, many or none) define more precisely how the utility or the chosen command should behave. Options start with either:\n",
    "* one dash followed by a letter, e.g. `-a`, `-d`\n",
    "* two dashes followed by a word,  e.g. `--add`, `--delete`\n",
    "* options containing two words: `--show-keys`\n",
    "* Typically most options have a short and a long version\n",
    "* ... so users can either write `-a` or `--add`.\n",
    "* Options can be followed by an argument or can act as a switch, like the `--verbose` switch"
   ]
  },
  {
   "cell_type": "markdown",
   "metadata": {
    "slideshow": {
     "slide_type": "fragment"
    }
   },
   "source": [
    "The `argument` is the **subject**, often a filename, but it can be a simple string too. The `argument` follows after each `option`, but can also follow after a command."
   ]
  },
  {
   "cell_type": "markdown",
   "metadata": {
    "slideshow": {
     "slide_type": "slide"
    }
   },
   "source": [
    "### Installation of `click`\n",
    "\n",
    "The installation of the module is easy:\n",
    "\n",
    "```bash\n",
    "pip install -U click\n",
    "```\n",
    "\n",
    "Note that\n",
    "* `install` is the command\n",
    "* `-U` is an option, a shorthand for `--upgrade` which forces pip to install the latest version of that module\n",
    "* `click` is the argument, in our case the name of the module"
   ]
  },
  {
   "cell_type": "markdown",
   "metadata": {
    "slideshow": {
     "slide_type": "skip"
    }
   },
   "source": [
    "Documentation of the `click` module can be found [here](https://click.palletsprojects.com/en/7.x/)."
   ]
  },
  {
   "cell_type": "markdown",
   "metadata": {
    "slideshow": {
     "slide_type": "slide"
    }
   },
   "source": [
    "## Your first command-line tool\n",
    "\n",
    "Your first module does a lot of useful things:\n",
    "\n",
    "* it prompts for your name\n",
    "* it greets you the many times you want\n",
    "* it offers a polite version\n",
    "\n",
    "Open the file [hello_click.py](hello_click.py) or look at the code below."
   ]
  },
  {
   "cell_type": "markdown",
   "metadata": {
    "slideshow": {
     "slide_type": "notes"
    }
   },
   "source": [
    "```python\n",
    "import click\n",
    "\n",
    "@click.command()\n",
    "@click.option(\"--count\",  \"-c\", default=1, help=\"Number of greetings.\")\n",
    "@click.option(\"--polite\", \"-p\", is_flag=True)\n",
    "@click.option(\"--name\",   \"-n\", help=\"The person to greet.\")\n",
    "def hello(count, polite, name):\n",
    "    if polite:\n",
    "        greeting = \"Your Serene Highness\"\n",
    "    else:\n",
    "        greeting = \"Hello\"\n",
    "\n",
    "    for x in range(count):\n",
    "        click.echo(f\"{greeting} {name}!\")\n",
    "\n",
    "if __name__ == \"__main__\":\n",
    "    hello()\n",
    "```"
   ]
  },
  {
   "cell_type": "markdown",
   "metadata": {
    "slideshow": {
     "slide_type": "slide"
    }
   },
   "source": [
    "The first line we already understand:\n",
    "\n",
    "```python\n",
    "import click\n",
    "```\n",
    "\n",
    "This just imports the click module, ready to be used."
   ]
  },
  {
   "cell_type": "markdown",
   "metadata": {
    "slideshow": {
     "slide_type": "slide"
    }
   },
   "source": [
    "Next, we discover some new elements right above the function:\n",
    "\n",
    "```python\n",
    "@click.command()\n",
    "@click.option(\"--count\",  \"-c\", default=1, help=\"Number of greetings.\")\n",
    "@click.option(\"--polite\", \"-p\", is_flag=True)\n",
    "@click.option(\"--name\",   \"-n\", help=\"The person to greet.\")\n",
    "def hello(count, polite, name):\n",
    "```\n",
    "\n",
    "These elements are so called **decorators**. Their functionality is to **wrap** a function or a method. Before the `def hello()` function is being executed, first the `click.command()` is executed, then three times a `click.option()` decorator, before we actually see the function definition.\n",
    "\n",
    "The options `--count`, `--polite` and `--name` are passed as parameters `count`, `polite` and `name` to our  function, in the order they appear.\n",
    "\n",
    "You can also define kebab-style options, e.g. `--test-only` which then will be passed as a `test_only` parameter to your function."
   ]
  },
  {
   "cell_type": "markdown",
   "metadata": {
    "slideshow": {
     "slide_type": "notes"
    }
   },
   "source": [
    "```python\n",
    "def hello(count, polite, name):\n",
    "    if polite:\n",
    "        greeting = \"Your Serene Highness\"\n",
    "    else:\n",
    "        greeting = \"Hello\"\n",
    "        \n",
    "    if not name:\n",
    "        name = \"unknown stranger\"\n",
    "\n",
    "    for x in range(count):\n",
    "        click.echo(f\"{greeting} {name}!\")\n",
    "```"
   ]
  },
  {
   "cell_type": "markdown",
   "metadata": {
    "slideshow": {
     "slide_type": "notes"
    }
   },
   "source": [
    "The rest of the code in this method prints out a message a number of times, using the `click.echo()` method and the convenient [f-string notation](https://realpython.com/python-f-strings/)"
   ]
  },
  {
   "cell_type": "markdown",
   "metadata": {
    "slideshow": {
     "slide_type": "slide"
    }
   },
   "source": [
    "### The entry point of your script: `__name__ == '__main__'`\n",
    "\n",
    "At the end of our small script, you see one of the more confusing things in Python is this pattern:\n",
    "\n",
    "```python\n",
    "if __name__ == \"__main__\":\n",
    "    hello()\n",
    "```\n",
    "\n",
    "It's called the **entry point** of a script. It tells the interpreter to call the `hello()` function."
   ]
  },
  {
   "cell_type": "markdown",
   "metadata": {
    "slideshow": {
     "slide_type": "slide"
    }
   },
   "source": [
    "### Exercise 1\n",
    "\n",
    "* Try to remove the entry point from your [hello_click.py](hello_click.py) script and then run it with Python interpreter `python hello_click.py`.\n",
    "* Observe: what happens?\n",
    "* try to introduce an obvious error (e.g. `result = 100/0`, either inside or outside the function and run it again.\n",
    "* Can you explain the behaviour?"
   ]
  },
  {
   "cell_type": "markdown",
   "metadata": {
    "slideshow": {
     "slide_type": "notes"
    }
   },
   "source": [
    "**Explanation**\n",
    "\n",
    "The Python interpreter first performs a syntax check on your script. After the syntax check it imports the click module, it wraps our `hello()` function with 4 decorators, makes the function `hello` available to the program. Finally it reaches the end of the script and exits.\n",
    "\n",
    "If any error occurs in the **main section** of the program, the Python interpreter halts and prints out a stacktrace. Non syntax-errors *inside* a function or method are *not* detected, they only occur when a function or method is *executed*.\n",
    "\n",
    "After the compilation step, we have to tell the Python interpreter what to do next, e.g. execute our function. For this we could also simply add:\n",
    "\n",
    "```python\n",
    "hello()\n",
    "```"
   ]
  },
  {
   "cell_type": "markdown",
   "metadata": {
    "slideshow": {
     "slide_type": "notes"
    }
   },
   "source": [
    "However, that `hello()` function call then would **always be executed**, even when we only want to import the script from another script. So we need a way to decide, in which **context** our script was called. That's what the\n",
    "\n",
    "```python\n",
    "if __name__ == \"__main__\":\n",
    "    hello()\n",
    "```\n",
    "\n",
    "statement is for. The special variable `__name__` contains the value `__main__` if the script was the first thing that got started. On the other hand, if our script got `import`ed by another script or module, the `__name__` variable contains the name of the importer. In this case, we probably don't want to run anything automatically."
   ]
  },
  {
   "cell_type": "markdown",
   "metadata": {
    "slideshow": {
     "slide_type": "slide"
    }
   },
   "source": [
    "### Boolean values (flags)\n",
    "\n",
    "Often we want to adjust the behaviour of our command line tool by providing boolean flags. The presence of the flag will set it to True:\n",
    "\n",
    "```python\n",
    "\n",
    "@click.option(\n",
    "    '-d', '--delete',\n",
    "    is_flag=True,\n",
    "    help='delete this user'\n",
    ")\n",
    "```\n",
    "\n"
   ]
  },
  {
   "cell_type": "markdown",
   "metadata": {
    "slideshow": {
     "slide_type": "slide"
    }
   },
   "source": [
    "### Passwords\n",
    "\n",
    "When you enter a password or some other confidential value, you don't want to see on the screen what you write. The `hide_input=True` parameter will prevent this.\n",
    "\n",
    "When resetting passwords, one often needs to enter the new password twice, in case you entered a typo. Use `confirmation_prompt=True` to show the password prompt a second time and compare the two inputs."
   ]
  },
  {
   "cell_type": "markdown",
   "metadata": {
    "slideshow": {
     "slide_type": "slide"
    }
   },
   "source": [
    "```python\n",
    "@click.option(\n",
    "    '--password', \n",
    "    prompt=True,                 # does what it says: it prompts\n",
    "    confirmation_prompt=True,    # the password has to be entered twice\n",
    "    hide_input=True              # do not show the input characters\n",
    ")\n",
    "```\n"
   ]
  },
  {
   "cell_type": "markdown",
   "metadata": {
    "slideshow": {
     "slide_type": "slide"
    }
   },
   "source": [
    "## Arguments\n",
    "\n",
    "[Arguments](https://click.palletsprojects.com/en/8.0.x/arguments/) work almost like options with the difference that they are *positional*. By adding the parameter `nargs=-1`, you can add as many values for one argument (only works for *one* argument, as it eats up all other arguments):\n",
    "\n",
    "Example:\n",
    "\n",
    "```python\n",
    "@click.command()\n",
    "@click.argument('src', nargs=-1)\n",
    "@click.argument('dst', nargs=1)\n",
    "def copy(src, dst):\n",
    "    \"\"\"Move file SRC to DST.\"\"\"\n",
    "    for fn in src:\n",
    "        click.echo(f\"move {fn} to folder {dst}\")\n",
    "```"
   ]
  },
  {
   "cell_type": "markdown",
   "metadata": {
    "slideshow": {
     "slide_type": "slide"
    }
   },
   "source": [
    "### Exercise 2\n",
    "\n",
    "modify hello_click.py\n",
    "\n",
    "- add a help text for the `--polite` option and test it\n",
    "- add a `prompt` parameter to obtain a name, if it is not provided\n",
    "- add an *optional* [file argument](https://click.palletsprojects.com/en/7.x/arguments/#file-path-arguments) (with `nargs=-1`)\n",
    "- if the argument is present, open the content of the file and print it after the greeting"
   ]
  },
  {
   "cell_type": "markdown",
   "metadata": {
    "slideshow": {
     "slide_type": "slide"
    }
   },
   "source": [
    "## Sub-Commands\n",
    "\n",
    "Sub-commands are a way to conveniently group options for a given task. For example, the [ethz-iam-webservice](https://gitlab.ethz.ch/vermeul/ethz-iam-webservice) CLI offers the `person`, `user` and the `group` command. Below you see some examples how the utility takes a **command** followed by an **argument** and some **options**:\n",
    "\n",
    "```bash\n",
    "$ iam person swen@ethz.ch\n",
    "$ iam user vermeul\n",
    "$ iam user vermeul --grant-service LDAPS\n",
    "$ iam group my_group\n",
    "$ iam group my_group -a new_user1 -a new_user2 -r old_user3\n",
    "$ iam group my_group --delete\n",
    "```"
   ]
  },
  {
   "cell_type": "markdown",
   "metadata": {
    "slideshow": {
     "slide_type": "slide"
    }
   },
   "source": [
    "### How to implement a sub-command\n",
    "\n",
    "1. define the main entry function, e.g. `def do_something()`\n",
    "2. decorate it with the `@click.group()` decorator\n",
    "3. define the subcommand function, e.g. `def sing()`\n",
    "4. decorate it with the `@do_something.command()` decorator"
   ]
  },
  {
   "cell_type": "markdown",
   "metadata": {
    "slideshow": {
     "slide_type": "slide"
    }
   },
   "source": [
    "### How to pass context\n",
    "\n",
    "From the [documentation](https://click.palletsprojects.com/en/8.0.x/commands/#nested-handling-and-contexts)\n",
    "\n",
    "```python\n",
    "@click.group()\n",
    "@click.option('--debug/--no-debug', default=False)\n",
    "@click.pass_context\n",
    "def cli(ctx, debug):\n",
    "    # ensure that ctx.obj exists and is a dict (in case `cli()` is called\n",
    "    # by means other than the `if` block below)\n",
    "    ctx.ensure_object(dict)\n",
    "\n",
    "    ctx.obj['DEBUG'] = debug\n",
    "\n",
    "@cli.command()\n",
    "@click.pass_context\n",
    "def sync(ctx):\n",
    "    click.echo(f\"Debug is {'on' if ctx.obj['DEBUG'] else 'off'}\")\n",
    "\n",
    "if __name__ == '__main__':\n",
    "    cli(obj={}`\n",
    "```"
   ]
  },
  {
   "cell_type": "markdown",
   "metadata": {
    "slideshow": {
     "slide_type": "slide"
    }
   },
   "source": [
    "### Exercise 3\n",
    "\n",
    "Open [click_commands.py](click_commands.py)\n",
    "\n",
    "- observe how the two sub-commands are defined\n",
    "- try to pass some options and arguments to the sub-commands\n",
    "- implement an example which takes a value of the main option and passes it to the sub-command"
   ]
  },
  {
   "cell_type": "markdown",
   "metadata": {
    "slideshow": {
     "slide_type": "slide"
    }
   },
   "source": [
    "# register a command line utility\n",
    "\n",
    "When you install the [ethz-iam-webservice]((https://gitlab.ethz.ch/vermeul/ethz-iam-webservice/-/tree/master)) utility using \n",
    "\n",
    "```\n",
    "pip install ethz-iam-webservice\n",
    "```\n",
    "\n",
    "you will end up with a command line tool named `iam`. How did that happen?"
   ]
  },
  {
   "cell_type": "markdown",
   "metadata": {
    "slideshow": {
     "slide_type": "slide"
    }
   },
   "source": [
    "### Package configuration, the traditional way\n",
    "\n",
    "When you run a `pip install`, the included `setup.py` script is executed. It contains a lot of options, among them the [entry_points](https://setuptools.pypa.io/en/latest/userguide/entry_point.html) with the `console_scripts`:\n",
    "\n",
    "```python\n",
    "    entry_points={\n",
    "        'console_scripts' : [\n",
    "            'iam=ethz_iam_webservice.main:cli'\n",
    "        ]\n",
    "    }\n",
    "```\n",
    "\n",
    "The setuptools will create a small python script (a wrapper script) for you and store it in the `bin/` directory next to your Python interpreter. That Python script has the name `iam` which executes `ethz_iam_webservice.main:cli`:\n",
    "\n",
    "```\n",
    "ethz_iam_webservice.main:cli\n",
    "      ^              ^    ^\n",
    "      |              |    |\n",
    "  module name   main.py  method name\n",
    "```"
   ]
  },
  {
   "cell_type": "markdown",
   "metadata": {
    "slideshow": {
     "slide_type": "slide"
    }
   },
   "source": [
    "### Package configuration, the new way\n",
    "\n",
    "Since pip version v.21.1, the **build** and the **setup** of a package are separated.\n",
    "\n",
    "Instead of having one single `setup.py`, we have\n",
    "\n",
    "* `pyproject.toml`\n",
    "   * declares which build system should be used\n",
    "   * contains pylint, tox, formatting etc. instructions\n",
    "   * [documentation](https://pip.pypa.io/en/stable/reference/build-system/pyproject-toml/)\n",
    "* `setup.cfg` the package information, which contains metadata, contents, dependencies, etc.\n",
    "\n",
    "Both files are written in a INI-style format, with a section title in `[brackets]` and key-value pairs:"
   ]
  },
  {
   "cell_type": "markdown",
   "metadata": {
    "slideshow": {
     "slide_type": "slide"
    }
   },
   "source": [
    "`pyproject.toml`\n",
    "```ini\n",
    "[build-system]\n",
    "requires = [\"setuptools\", \"wheel\"]\n",
    "build-backend = \"setuptools.build_meta\"\n",
    "```\n",
    "\n",
    "`setup.cfg`\n",
    "```ini\n",
    "[metadata]\n",
    "name = my_doings\n",
    "version = 0.0.1\n",
    "\n",
    "[options]\n",
    "packages = my_doings\n",
    "\n",
    "[options.entry_points]\n",
    "console_scripts =\n",
    "    do_something = my_doings.click_commands:do_something\n",
    "```"
   ]
  },
  {
   "cell_type": "markdown",
   "metadata": {
    "slideshow": {
     "slide_type": "slide"
    }
   },
   "source": [
    "### Create the package (done ;-)\n",
    "\n",
    "1. create a folder `my_doings` and move (or copy) `click_commands.py` into that folder\n",
    "2. inside `my_doings`, create an empty file `__init__.py`\n",
    "3. create a configuration file `setup.cfg` as shown above, add the entry point:\n",
    "\n",
    "```ini\n",
    "[options.entry_points]\n",
    "console_scripts =\n",
    "    do_something = my_doings.click_commands:do_something\n",
    "```\n",
    "\n",
    "4. create a project file `pyproject.toml` as shown above"
   ]
  },
  {
   "cell_type": "markdown",
   "metadata": {
    "slideshow": {
     "slide_type": "slide"
    }
   },
   "source": [
    "### Exercise 4: install your command-line tool locally\n",
    "\n",
    "**6a.** on a machine *without* privileges:\n",
    "   - use `pip install . --prefix local_python_packages` to specify a folder where packages are installed\n",
    "      - Notice how a `local_python_packages` folder is created\n",
    "   - add the `local_python` folder to your `PYTHONPATH` (make sure you pick the right Python version!)\n",
    "      - `export PYTHONPATH=\"$PWD/local_python_packages/lib/python3.9/site-packages\"`\n",
    "   - add this path to your `PATH`:\n",
    "      - `export PATH=\"$PWD/local_python_packages/bin:$PATH\"`\n",
    "   - try out the new utility:\n",
    "      - `do_something`"
   ]
  },
  {
   "cell_type": "markdown",
   "metadata": {
    "slideshow": {
     "slide_type": "slide"
    }
   },
   "source": [
    "**6b.** on a machine with install privileges (e.g. your own machine):\n",
    "   -  install the utility with from the command line with `pip install .`\n",
    "   - try it out! The new command `do_something` should now be available inside the console"
   ]
  },
  {
   "cell_type": "markdown",
   "metadata": {
    "slideshow": {
     "slide_type": "slide"
    }
   },
   "source": [
    "# execute shell commands from Python\n",
    "\n",
    "While `click` module allows us to create complex command line programs, we still often have to rely on existing tools, i.e. **we need to execute a command on the shell** from within Python. To achieve this, we use the [subprocess module](https://docs.python.org/3/library/subprocess.html), a module from the standard library which faced a lot of changes in the past and is sometimes not very straight forward to use."
   ]
  },
  {
   "cell_type": "markdown",
   "metadata": {
    "slideshow": {
     "slide_type": "slide"
    }
   },
   "source": [
    "## Execute a command and capture the output\n"
   ]
  },
  {
   "cell_type": "markdown",
   "metadata": {
    "slideshow": {
     "slide_type": "fragment"
    }
   },
   "source": [
    "the following **only works with Python 3.7 and onwards:** \n",
    "\n",
    "```python\n",
    "import subprocess\n",
    "result = subprocess.run([\"ls\", \"-la\"], capture_output=True)\n",
    "print(result.stdout.decode(\"utf-8\"))   # stdout is in bytes, we need to decode\n",
    "```"
   ]
  },
  {
   "cell_type": "markdown",
   "metadata": {
    "slideshow": {
     "slide_type": "fragment"
    }
   },
   "source": [
    "For **up to Python 3.6** use this:\n",
    "\n",
    "```python\n",
    "import subprocess\n",
    "result = subprocess.run([\"ls\", \"-la\"], stdout=subprocess.PIPE)\n",
    "print(result.stdout.decode(\"utf-8\"))   # stdout is in bytes, we need to decode\n",
    "```"
   ]
  },
  {
   "cell_type": "markdown",
   "metadata": {
    "slideshow": {
     "slide_type": "slide"
    }
   },
   "source": [
    "\n",
    "## Pipe a command to another \n",
    "\n",
    "In Unix, piping the results of one command into another is one of the biggest inventions since the invention of the surfboard. Unfortunately, in Python, piping is not very straight-forward to get it right:\n",
    "\n",
    "1. start a subprocess p1 for the first command\n",
    "2. retrieve the `stdout` from p1\n",
    "3. start a subprocess p2, feed the `p1.stdout` into the `stdin` of p2\n",
    "4. close the `stdout` of p1\n",
    "5. invoke the `p2.communicate()` method\n",
    "6. retrieve the output of p2\n",
    "\n",
    "Here is a simple example which actually works, so you don't have to google it yourself."
   ]
  },
  {
   "cell_type": "markdown",
   "metadata": {
    "slideshow": {
     "slide_type": "slide"
    }
   },
   "source": [
    "```python\n",
    "import subprocess\n",
    "\n",
    "p1 = subprocess.Popen([\"ls\", \"-la\"], stdout=subprocess.PIPE)\n",
    "p2 = subprocess.Popen(\n",
    "    [\"grep\", \"hello\"], \n",
    "    stdin=p1.stdout, \n",
    "    stdout=subprocess.PIPE\n",
    ")\n",
    "p1.stdout.close()  # Allow p1 to receive a SIGPIPE if p2 exits.\n",
    "output = p2.communicate()[0]\n",
    "print(output.decode('utf-8'))\n",
    "```\n"
   ]
  }
 ],
 "metadata": {
  "celltoolbar": "Slideshow",
  "kernelspec": {
   "display_name": "Python 3 (ipykernel)",
   "language": "python",
   "name": "python3"
  },
  "language_info": {
   "codemirror_mode": {
    "name": "ipython",
    "version": 3
   },
   "file_extension": ".py",
   "mimetype": "text/x-python",
   "name": "python",
   "nbconvert_exporter": "python",
   "pygments_lexer": "ipython3",
   "version": "3.9.6"
  }
 },
 "nbformat": 4,
 "nbformat_minor": 4
}
