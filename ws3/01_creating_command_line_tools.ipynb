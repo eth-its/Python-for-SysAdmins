{
 "cells": [
  {
   "cell_type": "markdown",
   "metadata": {},
   "source": [
    "# Creating command line tools CLI"
   ]
  },
  {
   "cell_type": "markdown",
   "metadata": {},
   "source": [
    "## The `click` module"
   ]
  },
  {
   "cell_type": "markdown",
   "metadata": {},
   "source": [
    "For System Administrators, command line tools are their daily bread. This section helps to create beautiful command line interfaces in a composable way with as little code as necessary. The [click module](https://click.palletsprojects.com/en/7.x/) is the most popular among the many that exist, e.g. [argparse](https://click.palletsprojects.com/en/7.x/why/#why-not-argparse), [docopt](https://click.palletsprojects.com/en/7.x/why/#why-not-docopt-etc) among others."
   ]
  },
  {
   "cell_type": "markdown",
   "metadata": {},
   "source": [
    "The click module not only makes it relatively easy to create nice and extendible command line interfaces, but also implements many best practices. For example, it automatically creates a help page for you (for every command and subcommand), handles flags and passwords in a consistent and predictable way and generates human-friendly errors."
   ]
  },
  {
   "cell_type": "markdown",
   "metadata": {},
   "source": [
    "But before we start, we need to understand how command line utilities usually work. They consists of three parts:\n",
    "\n",
    "* `command`\n",
    "* `option(s)`\n",
    "* `argument`\n",
    "\n",
    "The `command` is the verb, it explains what we would like to do, e.g. **import-datasets** or **copy-logfiles**. Important: it is not necessary to have a command when your utility is just doing one thing.\n",
    "\n",
    "The `options` (one, many or none) define more precisely how a utility should behave. Options start with either:\n",
    "* one dash followed by a letter, e.g. `-a`, `-v`\n",
    "* two dashes followed by a word,  e.g. `--add`, `--verbose`\n",
    "Typically most options have a short and a long version, so users can either write `-a` or `--add`. Options can be followed by an argument or can act as a switch, like the `--verbose` switch\n",
    "\n",
    "The `argument` is the subject, often a filename, but it can be a simple string too. The `argument` follows after each `option`, but can also follow after a command."
   ]
  },
  {
   "cell_type": "markdown",
   "metadata": {},
   "source": [
    "### Installation of `click`\n",
    "\n",
    "The installation of the module, using the `pip` utility, is easy. Note that\n",
    "* `install` is the command\n",
    "* `-U` is an option, a shorthand for `--upgrade` which forces pip to install the latest version of that module\n",
    "* `click` is the argument, in our case the name of the module\n",
    "\n",
    "Documentation of the module can be found [here](https://click.palletsprojects.com/en/7.x/)."
   ]
  },
  {
   "cell_type": "code",
   "execution_count": null,
   "metadata": {},
   "outputs": [],
   "source": [
    "!pip install -U click --user"
   ]
  },
  {
   "cell_type": "markdown",
   "metadata": {},
   "source": [
    "### Your first CLI tool"
   ]
  },
  {
   "cell_type": "markdown",
   "metadata": {},
   "source": [
    "Your first module does a lot of useful things:\n",
    "\n",
    "* it prompts for your name\n",
    "* it greets you the many times you want\n",
    "* it offers a polite version\n",
    "\n",
    "Open the file [hello_click.py](hello_click.py) or look at the code below."
   ]
  },
  {
   "cell_type": "markdown",
   "metadata": {},
   "source": [
    "```python\n",
    "import click\n",
    "\n",
    "@click.command()\n",
    "@click.option('--count',  '-c', default=1, help='Number of greetings.')\n",
    "@click.option('--polite', '-p', is_flag=True)\n",
    "@click.option('--name',   '-n', prompt='Your name', help='The person to greet.')\n",
    "def hello(count, polite, name):\n",
    "    \"\"\"Simple program that greets NAME for a total of COUNT times.\"\"\"\n",
    "\n",
    "    if polite:\n",
    "        greeting = 'Your Serene Highness'\n",
    "    else:\n",
    "        greeting = 'Hello'\n",
    "        \n",
    "    for x in range(count):\n",
    "        click.echo(f'{greeting} {name}!')\n",
    "\n",
    "if __name__ == '__main__':\n",
    "    hello()\n",
    "```"
   ]
  },
  {
   "cell_type": "markdown",
   "metadata": {},
   "source": [
    "### Understanding the decorators"
   ]
  },
  {
   "cell_type": "markdown",
   "metadata": {},
   "source": [
    "The first line we already understand:\n",
    "\n",
    "```python\n",
    "import click\n",
    "```\n",
    "\n",
    "This just imports the click module, ready to be used.\n",
    "\n",
    "Next, we discover some new elements:\n",
    "\n",
    "```python\n",
    "@click.command()\n",
    "@click.option('--count',  '-c', default=1, help='Number of greetings.')\n",
    "@click.option('--polite', '-p', is_flag=True)\n",
    "@click.option('--name',   '-n', prompt='Your name', help='The person to greet.')\n",
    "def hello(count, polite, name):\n",
    "```\n",
    "\n",
    "These elements are so called **decorators**. Their functionality is to **wrap** a function or a method. Before the `def hello()` function is being executed, first the `click.command()` is executed, then three times a `click.option()` decorator, before we actually see the function definition.\n",
    "\n",
    "The options `--count`, `--polite` and `--name` are passed as parameters `count`, `polite` and `name` to our `hello` function.\n",
    "\n",
    "You can also define kebab-style options, e.g. `--test-only` which then will be passed as a `test_only` parameter to your function."
   ]
  },
  {
   "cell_type": "markdown",
   "metadata": {},
   "source": [
    "### The entry point of your script: `__name__ == '__main__'`\n",
    "\n",
    "One of the more confusing things in Python is this pattern:\n",
    "\n",
    "```python\n",
    "if __name__ == '__main__':\n",
    "    hello()\n",
    "```\n",
    "\n",
    "Try to remove this code from your [hello_click.py](hello_click.py) script and then run it with Python interpreter `python hello_click.py`. What happens?\n",
    "\n",
    "**Nothing**. Really?\n",
    "\n",
    "The Python interpreter indeed runs your script. After the syntax check, it first imports the click module, then it wraps our `hello()` function with 4 decorators, makes the function `hello` available to the program. Finally it reaches the end of the script and exits.\n",
    "\n",
    "We have to tell the Python interpreter what to do next, e.g. execute our function. For this we could simply add\n",
    "\n",
    "```python\n",
    "hello()\n",
    "```\n",
    "\n",
    "at the end of our script, that function would **always be executed**, especially when we import the script from another script. Open [import_hello_click.py](import_hello_click.py) and then run it: `python import_hello_click.py`.\n",
    "\n",
    "**Explanation**\n",
    "\n",
    "When importing a script (or a module), all code gets compiled. If there is any function call, that function gets executed too. The special variable `__name__` contains the value `__main__` if the script was the first thing that got started. It contains the module name `hello_click` if the script got imported."
   ]
  },
  {
   "cell_type": "markdown",
   "metadata": {},
   "source": [
    "### Excercise\n",
    "\n",
    "modify hello_click.py\n",
    "\n",
    "- add a help text for the `--polite` option and test it\n",
    "- add a file **argument** which also tests the existence of the file\n",
    "- use the [documentation](https://click.palletsprojects.com/en/7.x/arguments/#file-path-arguments) how to write that decorator"
   ]
  },
  {
   "cell_type": "markdown",
   "metadata": {},
   "source": [
    "## Obtaining options\n",
    "\n",
    "[Options](https://click.palletsprojects.com/en/8.0.x/options/) are - as the name suggests - optional. In addtion options are not positional, they can be provided in any order. Your CLI should always work without any options given. If your CLI needs at least one value, use [Arguments](https://click.palletsprojects.com/en/8.0.x/arguments/) instead (see below)"
   ]
  },
  {
   "cell_type": "markdown",
   "metadata": {},
   "source": [
    "### String values"
   ]
  },
  {
   "cell_type": "markdown",
   "metadata": {},
   "source": [
    "As we learned already, we can obtain options from the command line via `@click.option` decorators, e.g.\n",
    "\n",
    "```python\n",
    "@click.option(\"--name\", prompt=\"Your name\", help=\"The person to greet.\")\n",
    "```\n",
    "\n",
    "If we want to use this method to generate a prompt and directly assign an input value to a variable, we would use `click.prompt()` instead:"
   ]
  },
  {
   "cell_type": "code",
   "execution_count": null,
   "metadata": {},
   "outputs": [],
   "source": [
    "import click\n",
    "\n",
    "name = click.prompt(text=\"Your name\")\n",
    "\n",
    "print(f\"Hello {name}!\")"
   ]
  },
  {
   "cell_type": "markdown",
   "metadata": {},
   "source": [
    "### Boolean values (flags)"
   ]
  },
  {
   "cell_type": "markdown",
   "metadata": {},
   "source": [
    "Often we want to adjust the behaviour of our command line tool by providing boolean flags. The presence of the flag will set it to True:\n",
    "\n",
    "```python\n",
    "\n",
    "@click.option(\n",
    "    '-d', '--delete',\n",
    "    is_flag=True,\n",
    "    help='delete this user'\n",
    ")\n",
    "```\n",
    "\n"
   ]
  },
  {
   "cell_type": "markdown",
   "metadata": {},
   "source": [
    "### Passwords\n",
    "\n",
    "When you enter a password or some other confidential value, you don't want to see on the screen what you write. The `hide_input=True` parameter will prevent this.\n",
    "\n",
    "When resetting passwords, one often needs to enter the new password twice, in case you entered a typo. Use `confirmation_prompt=True` to show the password prompt a second time and compare the two inputs."
   ]
  },
  {
   "cell_type": "markdown",
   "metadata": {},
   "source": [
    "```python\n",
    "@click.option(\n",
    "    '--password', \n",
    "    prompt=True,                 # does what it says: it prompts, it actively waits for input\n",
    "    confirmation_prompt=True,    # the password has to be entered twice\n",
    "    hide_input=True              # do not show the input characters, of course...\n",
    ")\n",
    "```\n"
   ]
  },
  {
   "cell_type": "markdown",
   "metadata": {},
   "source": [
    "### Exercise 2\n",
    "\n",
    "Open again [hello_click.py](hello_click.py)\n",
    "\n",
    "- add a password option to obtain a password\n",
    "- if no name is provided, instead of prompting, use the username\n",
    "- hint 1: use the `default` parameter\n",
    "- hint 2: use the `lambda: ` and the `os.environ` module to obtain the 'USER' environment variable."
   ]
  },
  {
   "cell_type": "markdown",
   "metadata": {},
   "source": [
    "## Arguments\n",
    "\n",
    "[Arguments](https://click.palletsprojects.com/en/8.0.x/arguments/) work almost like options with the difference that they are *positional*. By adding the parameter `nargs=-1`, you can add as many values for one argument (only works for *one* argument):\n",
    "\n",
    "Example:\n",
    "\n",
    "```python\n",
    "@click.command()\n",
    "@click.argument('src', nargs=-1)\n",
    "@click.argument('dst', nargs=1)\n",
    "def copy(src, dst):\n",
    "    \"\"\"Move file SRC to DST.\"\"\"\n",
    "    for fn in src:\n",
    "        click.echo(f\"move {fn} to folder {dst}\")\n",
    "```"
   ]
  },
  {
   "cell_type": "markdown",
   "metadata": {},
   "source": [
    "## Commands"
   ]
  },
  {
   "cell_type": "markdown",
   "metadata": {},
   "source": [
    "Commands are a way to conveniently group options for a given task. For example, the [ethz-iam-webservice](https://gitlab.ethz.ch/vermeul/ethz-iam-webservice) CLI offers the `person`, `user` and the `group` command. Below you see some examples how the utility takes a **command** followed by an **argument** and some **options**:\n",
    "\n",
    "```bash\n",
    "$ iam person swen@ethz.ch\n",
    "$ iam user vermeul\n",
    "$ iam user vermeul --grant-service LDAPS\n",
    "$ iam group my_group\n",
    "$ iam group my_group -a new_user1 -a new_user2 -r old_user3\n",
    "$ iam group my_group --delete\n",
    "```\n",
    "\n",
    "To **implement a command**:\n",
    "\n",
    "1. define the main entry function, e.g. `def do_something:` and decorate it with the `@click.group()` decorator\n",
    "2. define the subcommand function, e.g. `def sing:` and decorate it with the `@do_something.command()` (not `@click.command()`!) decorator"
   ]
  },
  {
   "cell_type": "markdown",
   "metadata": {},
   "source": [
    "### Exercise 3\n",
    "\n",
    "Open [click_commands.py](click_commands.py)\n",
    "\n",
    "- observe how the two sub commands are defined\n",
    "- try to pass some options and arguments to the commands\n",
    "- implement an example which takes a value of the main option and passes it to the command"
   ]
  },
  {
   "cell_type": "markdown",
   "metadata": {},
   "source": [
    "# register a command line utility"
   ]
  },
  {
   "cell_type": "markdown",
   "metadata": {},
   "source": [
    "When you install the [ethz-iam-webservice]((https://gitlab.ethz.ch/vermeul/ethz-iam-webservice/-/tree/master)) utility using `pip install ethz-iam-webservice --user`, you will end up with a command line tool named `iam`. How did that happen?"
   ]
  },
  {
   "cell_type": "markdown",
   "metadata": {},
   "source": [
    "When you run a `pip install`, the included `setup.py` script is executed. It contains a lot of options, among them the [entry_points](https://setuptools.pypa.io/en/latest/userguide/entry_point.html) with the `console_scripts`:\n",
    "\n",
    "```python\n",
    "    entry_points={\n",
    "        'console_scripts' : [\n",
    "            'iam=ethz_iam_webservice.main:cli'\n",
    "        ]\n",
    "    }\n",
    "```\n",
    "\n",
    "The setuptools will create a small python script (a wrapper script) for you and store it in the `bin/` directory next to your Python interpreter. That Python script has the name `iam` which executes `ethz_iam_webservice.main:cli`:\n",
    "\n",
    "```\n",
    "ethz_iam_webservice.main:cli\n",
    "      ^              ^    ^\n",
    "      |              |    |\n",
    "  module name   main.py  method name\n",
    "```\n",
    "\n",
    "Instead of including it into `setup.py`, you could also create a configuration file `setup.cfg`:\n",
    "\n",
    "```\n",
    "[options.entry_points]\n",
    "console_scripts =\n",
    "    iam = ethz_iam_webservice.main:cli\n",
    "```"
   ]
  },
  {
   "cell_type": "markdown",
   "metadata": {},
   "source": [
    "### Exercise 4\n",
    "\n",
    "1. create a folder `my_doings` and move or copy `click_commands.py` into that folder\n",
    "2. inside that folder, create an empty file `__init__.py` to indicate `my_doings` is actually a Python module\n",
    "3. in the `ws3/` folder, create a configuration file `setup.cfg` with the following content:\n",
    "\n",
    "```\n",
    "[metadata]\n",
    "name = my_doings\n",
    "version = 0.0.1\n",
    "\n",
    "[options]\n",
    "packages = my_doings\n",
    "```\n",
    "\n",
    "4. Add the [options.entry_points] section to create a globally available command-line tool `do_something` (see example above)\n",
    "\n",
    "5. in the `ws3/` folder, create a project file `pyproject.toml` with the following content:\n",
    "\n",
    "```\n",
    "[build-system]\n",
    "requires = [\"setuptools\", \"wheel\"]\n",
    "build-backend = \"setuptools.build_meta\"\n",
    "```\n",
    "\n",
    "6. install the utility with `pip install --editable . --user`\n",
    "7. try it out! The command `do_something` should now be available inside the console"
   ]
  },
  {
   "cell_type": "markdown",
   "metadata": {},
   "source": [
    "# working with the shell from Python\n",
    "\n",
    "While `click` module allows us to create complex command line programs, we still often have to rely on existing tools, i.e. **we need to execute a command on the shell** from within Python. To achieve this, we use the [subprocess module](https://docs.python.org/3/library/subprocess.html), a module from the standard library which faced a lot of changes in the past and is sometimes not very straight forward to use."
   ]
  },
  {
   "cell_type": "markdown",
   "metadata": {},
   "source": [
    "## Execute a command and capture the output\n",
    "\n",
    "the following **only works with Python 3.7 and onwards:** "
   ]
  },
  {
   "cell_type": "code",
   "execution_count": null,
   "metadata": {},
   "outputs": [],
   "source": [
    "import subprocess\n",
    "result = subprocess.run([\"ls\", \"-la\"], capture_output=True)\n",
    "print(result.stdout.decode(\"utf-8\"))   # stdout is in bytes, we need to decode it to utf-8"
   ]
  },
  {
   "cell_type": "markdown",
   "metadata": {},
   "source": [
    "For **up to Python 3.6** use this:"
   ]
  },
  {
   "cell_type": "code",
   "execution_count": null,
   "metadata": {},
   "outputs": [],
   "source": [
    "import subprocess\n",
    "result = subprocess.run([\"ls\", \"-la\"], stdout=subprocess.PIPE)\n",
    "print(result.stdout.decode(\"utf-8\"))   # stdout is in bytes, we need to decode it to utf-8"
   ]
  },
  {
   "cell_type": "markdown",
   "metadata": {},
   "source": [
    "## Pipe a command to another \n",
    "\n",
    "In Unix, piping the results of one command into another is one of the biggest inventions since the invention of the surfboard. Unfortunately, in Python, piping is not very straight-forward to get it right:\n",
    "\n",
    "1. start a subprocess p1 for the first command\n",
    "2. retrieve the `stdout` from p1\n",
    "3. start a subprocess p2, feed the `p1.stdout` into the `stdin` of p2\n",
    "4. close the `stdout` of p1\n",
    "5. invoke the `p2.communicate()` method\n",
    "6. retrieve the output of p2\n",
    "\n",
    "Here is a simple example which actually works, so you don't have to google it yourself."
   ]
  },
  {
   "cell_type": "code",
   "execution_count": null,
   "metadata": {},
   "outputs": [],
   "source": [
    "# Imitate piping on the shell\n",
    "import subprocess\n",
    "p1 = subprocess.Popen([\"ls\", \"-la\"], stdout=subprocess.PIPE)\n",
    "p2 = subprocess.Popen([\"grep\", \"hello\"], stdin=p1.stdout, stdout=subprocess.PIPE)\n",
    "p1.stdout.close()  # Allow p1 to receive a SIGPIPE if p2 exits.\n",
    "output = p2.communicate()[0]\n",
    "print(output.decode('utf-8'))"
   ]
  }
 ],
 "metadata": {
  "kernelspec": {
   "display_name": "Python 3",
   "language": "python",
   "name": "python3"
  },
  "language_info": {
   "codemirror_mode": {
    "name": "ipython",
    "version": 3
   },
   "file_extension": ".py",
   "mimetype": "text/x-python",
   "name": "python",
   "nbconvert_exporter": "python",
   "pygments_lexer": "ipython3",
   "version": "3.6.9"
  }
 },
 "nbformat": 4,
 "nbformat_minor": 4
}
