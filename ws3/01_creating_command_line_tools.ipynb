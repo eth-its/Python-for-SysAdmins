{
 "cells": [
  {
   "cell_type": "markdown",
   "metadata": {
    "slideshow": {
     "slide_type": "slide"
    }
   },
   "source": [
    "# Creating command line tools CLI"
   ]
  },
  {
   "cell_type": "markdown",
   "metadata": {
    "slideshow": {
     "slide_type": "fragment"
    }
   },
   "source": [
    "## The `argparse` module"
   ]
  },
  {
   "cell_type": "markdown",
   "metadata": {
    "slideshow": {
     "slide_type": "notes"
    }
   },
   "source": [
    "For System Administrators, command line tools are their daily bread. This section helps to create beautiful command line interfaces.\n",
    "To make it possible to develop standalone python scripts without dependencies to 3rd party libraries, we will focus on [argparse](https://docs.python.org/3/library/argparse.html), which is available in the python standard library.\n",
    "\n",
    "<div class=\"alert alert-block alert-success\">\n",
    "    The 3rd party <a href=\"https://click.palletsprojects.com/en/7.x/\">click module</a> is the most popular among the many that exist, and has some <a href=\"https://click.palletsprojects.com/en/7.x/why/#why-not-argparse\">advantages over argparse</a>, still in many cases, <a href=\"https://docs.python.org/3/library/argparse.html\">argparse</a> will do the job.\n",
    "</div>"
   ]
  },
  {
   "cell_type": "markdown",
   "metadata": {
    "slideshow": {
     "slide_type": "notes"
    }
   },
   "source": [
    "The `argparse` module not only makes it relatively easy to create nice and **extendible command line interfaces**, but also implements many best practices. For example, it automagically creates a **help page** for the command line interface and each of its sub-commands, handles flags in a consistent and predictable way and generates human-friendly errors."
   ]
  },
  {
   "cell_type": "markdown",
   "metadata": {
    "slideshow": {
     "slide_type": "notes"
    }
   },
   "source": [
    "But before we start, we need to understand how command line utilities usually work. They consists of three parts:"
   ]
  },
  {
   "cell_type": "markdown",
   "metadata": {
    "slideshow": {
     "slide_type": "slide"
    }
   },
   "source": [
    "```sh\n",
    "cp -r src/ dest/\n",
    "```\n",
    "\n",
    "```\n",
    " |  |  └────┴── Arguments\n",
    " |  └────────── Option (flag)\n",
    " └───────────── Command\n",
    "```"
   ]
  },
  {
   "cell_type": "markdown",
   "metadata": {
    "slideshow": {
     "slide_type": "fragment"
    }
   },
   "source": [
    "```sh\n",
    "git diff -p dev\n",
    "```\n",
    "\n",
    "```\n",
    " |    |    |  └── Argument\n",
    " |    |    └───── Option (flag)\n",
    " |    └────────── Sub-command\n",
    " └─────────────── Command\n",
    "```"
   ]
  },
  {
   "cell_type": "markdown",
   "metadata": {
    "slideshow": {
     "slide_type": "slide"
    }
   },
   "source": [
    "The *command* is the **verb**, it explains what we would like to do, e.g. `import-datasets` or `copy-logfiles`. You can offer **sub-commands** if you need to. You can completely omit sub-commands, if your utility is doing only one thing."
   ]
  },
  {
   "cell_type": "markdown",
   "metadata": {
    "editable": true,
    "slideshow": {
     "slide_type": "subslide"
    },
    "tags": []
   },
   "source": [
    "The *Options* (one, many or none) define more precisely how the utility or the chosen command should behave. Options start with either:\n",
    "* one dash followed by a letter, e.g. `-a`, `-d`\n",
    "* two dashes followed by a word,  e.g. `--add`, `--delete`\n",
    "* options containing two words: `--show-keys`\n",
    "* Typically most options have a short and a long version\n",
    "* ... so users can either write `-a` or `--add`.\n",
    "* Options can be followed by an argument or can act as a switch, like the `--verbose` switch"
   ]
  },
  {
   "cell_type": "markdown",
   "metadata": {
    "slideshow": {
     "slide_type": "fragment"
    }
   },
   "source": [
    "The *argument*(s) is/are the **subject**, often a filename, but it can be a simple string too. The *argument* follows after each *option*, but can also follow after a *command*."
   ]
  },
  {
   "cell_type": "markdown",
   "metadata": {
    "editable": true,
    "slideshow": {
     "slide_type": "subslide"
    },
    "tags": []
   },
   "source": [
    "### Example: Swen's iam tool\n",
    "✨ ETH gitlab: [gitlab.ethz.ch/sis/tools/ethz-iam-webservice](https://gitlab.ethz.ch/sis/tools/ethz-iam-webservice).\n",
    "\n",
    "```\n",
    "Usage: iam [OPTIONS] COMMAND [ARGS]...\n",
    "\n",
    "  ETHZ IAM command-line tool.\n",
    "\n",
    "Options:\n",
    "  -u, --username TEXT  username of ETHZ IAM admin account or IAM_USERNAME env\n",
    "  --password TEXT      password of ETHZ IAM admin account or IAM_PASSWORD env\n",
    "  --version            Show the version and exit.\n",
    "  --help               Show this message and exit.\n",
    "\n",
    "Commands:\n",
    "  group    manage security groups\n",
    "  groups   show all kinds of groups (in LDAP only)\n",
    "  guest    manage guests\n",
    "  person   manage persons\n",
    "  persons  search for persons\n",
    "  user     manage users and their services\n",
    "```"
   ]
  },
  {
   "cell_type": "markdown",
   "metadata": {
    "editable": true,
    "slideshow": {
     "slide_type": "slide"
    },
    "tags": []
   },
   "source": [
    "## Your first command-line tool\n",
    "\n",
    "Your first module does a lot of useful things:\n",
    "\n",
    "* it prompts for your name\n",
    "* it greets you the many times you want\n",
    "* it offers a polite version\n",
    "\n",
    "Look at the code below."
   ]
  },
  {
   "cell_type": "code",
   "execution_count": null,
   "metadata": {
    "slideshow": {
     "slide_type": "slide"
    }
   },
   "outputs": [],
   "source": [
    "%%writefile greeter.py\n",
    "#!/bin/env python3\n",
    "\n",
    "import argparse\n",
    "\n",
    "def main():\n",
    "    parser = argparse.ArgumentParser()\n",
    "    parser.add_argument(\"--count\", \"-c\", default=1, type=int, help=\"Number of greetings.\")\n",
    "    parser.add_argument(\"--polite\", \"-p\", action=\"store_true\")\n",
    "    parser.add_argument(\"--name\", \"-n\", required=True, help=\"The person to greet.\")\n",
    "    args = parser.parse_args()\n",
    "    hello(args.count, args.polite, args.name)\n",
    "\n",
    "\n",
    "def hello(count, polite, name):\n",
    "    if polite:\n",
    "        greeting = \"Your Serene Highness\"\n",
    "    else:\n",
    "        greeting = \"Hello\"\n",
    "\n",
    "    for _ in range(count):\n",
    "        print(f\"{greeting} {name}!\")\n",
    "\n",
    "\n",
    "if __name__ == \"__main__\":\n",
    "    main()"
   ]
  },
  {
   "cell_type": "code",
   "execution_count": null,
   "metadata": {
    "slideshow": {
     "slide_type": "subslide"
    }
   },
   "outputs": [],
   "source": [
    "!chmod u+x greeter.py"
   ]
  },
  {
   "cell_type": "code",
   "execution_count": null,
   "metadata": {
    "slideshow": {
     "slide_type": "fragment"
    }
   },
   "outputs": [],
   "source": [
    "%%script bash --no-raise-error\n",
    "\n",
    "./greeter.py"
   ]
  },
  {
   "cell_type": "code",
   "execution_count": null,
   "metadata": {
    "slideshow": {
     "slide_type": "fragment"
    }
   },
   "outputs": [],
   "source": [
    "!./greeter.py --help"
   ]
  },
  {
   "cell_type": "code",
   "execution_count": null,
   "metadata": {
    "slideshow": {
     "slide_type": "subslide"
    }
   },
   "outputs": [],
   "source": [
    "%%script bash --no-raise-error\n",
    "\n",
    "./greeter.py -n \"Chuck Norris\""
   ]
  },
  {
   "cell_type": "code",
   "execution_count": null,
   "metadata": {
    "slideshow": {
     "slide_type": "fragment"
    }
   },
   "outputs": [],
   "source": [
    "%%script bash --no-raise-error\n",
    "\n",
    "./greeter.py -p --count 2 -n \"Chuck Norris\""
   ]
  },
  {
   "cell_type": "code",
   "execution_count": null,
   "metadata": {
    "slideshow": {
     "slide_type": "fragment"
    }
   },
   "outputs": [],
   "source": [
    "%%script bash --no-raise-error\n",
    "\n",
    "./greeter.py -p --count one # not convertable to an int"
   ]
  },
  {
   "cell_type": "markdown",
   "metadata": {
    "slideshow": {
     "slide_type": "slide"
    }
   },
   "source": [
    "### The entry point of your script: `__name__ == '__main__'`\n",
    "\n",
    "At the end of our small script, you see one of the more confusing things in Python is this pattern:\n",
    "\n",
    "```python\n",
    "if __name__ == \"__main__\":\n",
    "    main()\n",
    "```\n",
    "\n",
    "It's called the **entry point** of a script. It tells the interpreter to call the `hello()` function."
   ]
  },
  {
   "cell_type": "markdown",
   "metadata": {
    "slideshow": {
     "slide_type": "slide"
    }
   },
   "source": [
    "### Exercise 1\n",
    "\n",
    "* Try to remove the entry point from your [greeter.py](greeter.py) script and then run it with the Python interpreter\n",
    "```sh\n",
    "python greeter.py\n",
    "```\n",
    "* Observe: what happens?\n",
    "* try to introduce an obvious error (e.g. `result = 100/0`, either inside or outside the `hello()` function and run it again.\n",
    "* Can you explain the behaviour?"
   ]
  },
  {
   "cell_type": "markdown",
   "metadata": {
    "slideshow": {
     "slide_type": "notes"
    }
   },
   "source": [
    "**Explanation**\n",
    "\n",
    "The Python interpreter first performs a syntax check on your script. After the syntax check it imports `argparse` and defines the `hello()` function, making the function `hello()` available to the program. Finally it reaches the end of the script and exits.\n",
    "\n",
    "If any error occurs in the **main section** of the program, the Python interpreter halts and prints out a stacktrace. Non syntax-errors *inside* a function or method are *not* detected, they only occur when a function or method is *executed*.\n",
    "\n",
    "After the compilation step, we have to tell the Python interpreter what to do next, e.g. execute our function. For this we could also simply add:\n",
    "\n",
    "```python\n",
    "hello()\n",
    "```"
   ]
  },
  {
   "cell_type": "markdown",
   "metadata": {
    "slideshow": {
     "slide_type": "notes"
    }
   },
   "source": [
    "However, that `hello()` function call then would **always be executed**, even when we only want to import the script from another script. So we need a way to decide, in which **context** our script was called. That's what the\n",
    "\n",
    "```python\n",
    "if __name__ == \"__main__\":\n",
    "    hello()\n",
    "```\n",
    "\n",
    "statement is for. The special variable `__name__` contains the value `__main__` if the script was the first thing that got started. On the other hand, if our script got `import`ed by another script or module, the `__name__` variable contains the name of the importer. In this case, we probably don't want to run anything automatically."
   ]
  },
  {
   "cell_type": "markdown",
   "metadata": {
    "slideshow": {
     "slide_type": "subslide"
    }
   },
   "source": [
    "### Boolean values (flags)\n",
    "\n",
    "Often we want to adjust the behaviour of our command line tool by providing boolean flags.\n",
    "An example of a flag is `-p` / `--polite` in the above example. We use `action=\"store_true\"` to define a flag.\n",
    "\n",
    "Also other so called actions are available in `argparse`: https://docs.python.org/3/library/argparse.html#action"
   ]
  },
  {
   "cell_type": "markdown",
   "metadata": {
    "slideshow": {
     "slide_type": "slide"
    }
   },
   "source": [
    "## Arguments\n",
    "\n",
    "Work almost like options with the difference that they are *positional*. By adding the parameter `nargs=\"+\"`, you can pass one or more values for the argument.\n",
    "\n",
    "<div class=\"alert alert-block alert-warning\">\n",
    "⚠️ If the parser expects more than one option, only one of the options can have <code>nargs=\"+\"</code> or <code>nargs=\"*\"</code>, as it eats up all remaining arguments passed to the script.\n",
    "</div>"
   ]
  },
  {
   "cell_type": "markdown",
   "metadata": {
    "slideshow": {
     "slide_type": "fragment"
    }
   },
   "source": [
    "| |                   |                   |                     |                    |\n",
    "|-|-------------------|-------------------|---------------------|--------------------|\n",
    "| |       ✅          |         ✅        |       ✅           |       ❌          |\n",
    "| CLI command | `ln -s src dest`  |  `cp src* dest/`  | `chown user files*` |  `cp src* dest*`   |\n",
    "| | `       ^    ^`   |  `    ^     ^  `  | `        ^    ^`    |  `    ^     ^  `   |\n",
    "|Arguments | `\"src\", nargs=1 `|  ` \"src\", nargs=\"+\" `|`\"src\", nargs=1`|  ` \"src\", nargs=\"+\" `|\n",
    "| | `\"dest\", nargs=1`|  `\"dest\", nargs=1 `|`\"dest\", nargs=+`|  `\"dest\", nargs=\"+\"`|\n"
   ]
  },
  {
   "cell_type": "markdown",
   "metadata": {
    "slideshow": {
     "slide_type": "subslide"
    }
   },
   "source": [
    "### Example"
   ]
  },
  {
   "cell_type": "code",
   "execution_count": null,
   "metadata": {
    "slideshow": {
     "slide_type": "fragment"
    }
   },
   "outputs": [],
   "source": [
    "%%writefile move.py\n",
    "#!/bin/env python3\n",
    "\n",
    "import argparse\n",
    "\n",
    "parser = argparse.ArgumentParser(description=\"Move file SRC to DST.\")\n",
    "parser.add_argument(\"src\", nargs=\"+\", help=\"Source file(s)\")\n",
    "parser.add_argument(\"dest\", help=\"Destination file\")\n",
    "\n",
    "args = parser.parse_args()\n",
    "\n",
    "for src in args.src:\n",
    "    print(f\"{src} -> {args.dest}\")"
   ]
  },
  {
   "cell_type": "code",
   "execution_count": null,
   "metadata": {
    "slideshow": {
     "slide_type": "skip"
    }
   },
   "outputs": [],
   "source": [
    "!chmod u+x move.py"
   ]
  },
  {
   "cell_type": "code",
   "execution_count": null,
   "metadata": {
    "slideshow": {
     "slide_type": "subslide"
    }
   },
   "outputs": [],
   "source": [
    "%%script bash --no-raise-error\n",
    "\n",
    "./move.py src-1.txt src-2.txt dest_folder/"
   ]
  },
  {
   "cell_type": "markdown",
   "metadata": {
    "slideshow": {
     "slide_type": "slide"
    }
   },
   "source": [
    "### Exercise 2\n",
    "\n",
    "modify [greeter.py](greeter.py)\n",
    "\n",
    "- [ ] add a help text for the `--polite` option and test it\n",
    "- [ ] If the name option is not passed, prompt the userfor a name (remove `required=True`)\n",
    "- [ ] add an *optional* file argument which raises an error if the path does not exist.\n",
    "  Instructions:\n",
    "  * Write a function `def existing_file(path: str) -> pathlib.Path` which takes a path as a `str` as argument,\n",
    "    creates a `pathlib.Path` object and calls its `exists()` method. If the path exists, return the `pathlib.Path` object, otherwise it raises a `ValueError`.\n",
    "  * Use `type=existing_file` in `parser.add_argument` (the `type` parameter can be any `Callable` which takes a `str` as an input and canverts it into the desired target type).\n",
    "- [ ] After parsing the command line options using `args = parser.parse_args()`, if no error happened, open the content of the file and print it after the greeting."
   ]
  },
  {
   "cell_type": "code",
   "execution_count": null,
   "metadata": {
    "slideshow": {
     "slide_type": "notes"
    }
   },
   "outputs": [],
   "source": [
    "#!/bin/env python3\n",
    "\n",
    "import argparse\n",
    "import pathlib\n",
    "from typing import Optional\n",
    "\n",
    "def main(*options: str) -> None:\n",
    "    parser = argparse.ArgumentParser()\n",
    "    parser.add_argument(\"--count\", \"-c\", default=1, type=int, help=\"Number of greetings.\")\n",
    "    parser.add_argument(\"--polite\", \"-p\", action=\"store_true\")\n",
    "    parser.add_argument(\"--name\", \"-n\", help=\"The person to greet.\")\n",
    "    parser.add_argument(\"--file\", type=existing_file, help=\"An optional path to a file which will be printed on greeting.\")\n",
    "    args = parser.parse_args(options)\n",
    "    if args.name is None:\n",
    "        name = input(\"Please enter a name: \")\n",
    "    else:\n",
    "        name = args.name\n",
    "    hello(args.count, args.polite, name, args.file)\n",
    "\n",
    "def existing_file(path: str) -> pathlib.Path:\n",
    "    path_obj = pathlib.Path(path)\n",
    "    if path_obj.exists():\n",
    "        return path_obj\n",
    "    raise ValueError(f\"Path `{path}` does not exist\")\n",
    "\n",
    "\n",
    "def hello(count: int, polite: bool, name: str, path: Optional[str]) -> None:\n",
    "    if polite:\n",
    "        greeting = \"Your Serene Highness\"\n",
    "    else:\n",
    "        greeting = \"Hello\"\n",
    "\n",
    "    for _ in range(count):\n",
    "        print(f\"{greeting} {name}!\")\n",
    "    \n",
    "    if path is not None:\n",
    "        with open(path) as f:\n",
    "            print(f.read())\n",
    "\n",
    "if __name__ == \"__main__\":\n",
    "    import sys\n",
    "    main(*sys.argv[1:])"
   ]
  },
  {
   "cell_type": "code",
   "execution_count": null,
   "metadata": {
    "slideshow": {
     "slide_type": "skip"
    }
   },
   "outputs": [],
   "source": [
    "main()"
   ]
  },
  {
   "cell_type": "code",
   "execution_count": null,
   "metadata": {
    "slideshow": {
     "slide_type": "skip"
    }
   },
   "outputs": [],
   "source": [
    "with open(\"msg.txt\", \"w\") as f:\n",
    "    f.write(\"🗯️\")\n",
    "main(\"--name\", \"Chuck Norris\", \"--file\", \"msg.txt\")\n",
    "main(\"--name\", \"Chuck Norris\") # file not passed\n",
    "main(\"--name\", \"Chuck Norris\", \"--file\", \"not_existing.txt\")"
   ]
  },
  {
   "cell_type": "markdown",
   "metadata": {
    "slideshow": {
     "slide_type": "slide"
    }
   },
   "source": [
    "## Sub-commands\n",
    "\n",
    "Sub-commands are a way to conveniently group options for a given task. For example, the [ethz-iam-webservice](https://gitlab.ethz.ch/vermeul/ethz-iam-webservice) CLI offers the `person`, `user` and the `group` *sub-commands*. Below you see some examples how the utility takes a **sub-command** followed by an **argument** and some **options**:\n",
    "\n",
    "```sh\n",
    "iam person swen@ethz.ch\n",
    "iam user vermeul\n",
    "iam user vermeul --grant-service LDAPS\n",
    "iam group my_group\n",
    "iam group my_group -a new_user1 -a new_user2 -r old_user3\n",
    "iam group my_group --delete\n",
    "```"
   ]
  },
  {
   "cell_type": "markdown",
   "metadata": {
    "slideshow": {
     "slide_type": "slide"
    }
   },
   "source": [
    "### How to implement a sub-command\n",
    "\n",
    "1. Use the `add_subparsers` method of `argparse.ArgumentParser` to enable sub-commands:\n",
    "  ```py\n",
    "  subparsers = parser.add_subparsers(\n",
    "     dest=\"subcmd\",\n",
    "     required=True,\n",
    "     title=\"List of sub-commands\",\n",
    "     description=\"For an overview of action specific parameters, use %(prog)s <SUB-COMMAND> --help\",\n",
    "     help=\"Sub-command help\", metavar=\"<SUB-COMMAND>\"\n",
    "  )\n",
    "  ```\n",
    "2. For each sub-command, add a subparser to `subparsers`:\n",
    "  ```py\n",
    "  subparser = subparsers.add_parser(\"user\", help=\"Manage users\")\n",
    "  ```\n",
    "3. Add options to each subparser by using its `add_argument()` method, as you would do it for `argparse.ArgumentParser`\n",
    "4. After a call to `args = parser.parse_args()`, `args.subcmd` will hold the name of the invoked sub-command as a `str`. `args` will also hold all values for options of the sub-command together with values for global options."
   ]
  },
  {
   "cell_type": "markdown",
   "metadata": {
    "slideshow": {
     "slide_type": "subslide"
    }
   },
   "source": [
    "### Example\n",
    "\n",
    "<div class=\"alert alert-block alert-info\">\n",
    "ℹ In the following example, we are going to use so called <a href=\"https://www.pythonstacks.com/blog/post/type-hints-python/\">type hints</a>. We will use them as an aid for the reader understand which types a function expect as an argument and which type the function returns.\n",
    "</div>\n",
    "The following function `manage_user` expects a `str` as an argument and has no return value:\n",
    "\n",
    "```py\n",
    "def manage_user(user: str) -> None: ...\n",
    "```"
   ]
  },
  {
   "cell_type": "code",
   "execution_count": null,
   "metadata": {
    "slideshow": {
     "slide_type": "subslide"
    }
   },
   "outputs": [],
   "source": [
    "%%writefile iam_example.py\n",
    "#!/bin/env python3\n",
    "\n",
    "import argparse\n",
    "\n",
    "def manage_user(user: str) -> None:\n",
    "    print(f\"👤 {user}\")\n",
    "\n",
    "def manage_group(group: str) -> None:\n",
    "    print(f\"👥 {group}\")\n",
    "\n",
    "def main():\n",
    "    parser = argparse.ArgumentParser(description=\"IAM tool\")\n",
    "    subparsers = parser.add_subparsers(\n",
    "        dest=\"subcmd\",\n",
    "        required=True,\n",
    "        title=\"List of sub-commands\",\n",
    "        description=\"For an overview of action specific parameters, use %(prog)s <SUB-COMMAND> --help\",\n",
    "        help=\"Sub-command help\", metavar=\"<SUB-COMMAND>\"\n",
    "    )\n",
    "    subparser_user = subparsers.add_parser(\"user\", help=\"Manage users\")\n",
    "    subparser_user.add_argument(\"user\", help=\"The user to manage\")\n",
    "    subparser_group = subparsers.add_parser(\"group\", help=\"Manage groups\")\n",
    "    subparser_group.add_argument(\"group\", help=\"The group to manage\")\n",
    "\n",
    "    args = parser.parse_args()\n",
    "    if args.subcmd == \"user\":\n",
    "        manage_user(args.user)\n",
    "    elif args.subcmd == \"group\":\n",
    "        manage_group(args.group)\n",
    "\n",
    "if __name__ == \"__main__\":\n",
    "    main()"
   ]
  },
  {
   "cell_type": "code",
   "execution_count": null,
   "metadata": {
    "slideshow": {
     "slide_type": "skip"
    }
   },
   "outputs": [],
   "source": [
    "!chmod u+x iam_example.py"
   ]
  },
  {
   "cell_type": "code",
   "execution_count": null,
   "metadata": {
    "slideshow": {
     "slide_type": "subslide"
    }
   },
   "outputs": [],
   "source": [
    "%%script bash --no-raise-error\n",
    "\n",
    "./iam_example.py"
   ]
  },
  {
   "cell_type": "code",
   "execution_count": null,
   "metadata": {
    "slideshow": {
     "slide_type": "fragment"
    }
   },
   "outputs": [],
   "source": [
    "%%script bash --no-raise-error\n",
    "\n",
    "./iam_example.py --help"
   ]
  },
  {
   "cell_type": "code",
   "execution_count": null,
   "metadata": {
    "slideshow": {
     "slide_type": "subslide"
    }
   },
   "outputs": [],
   "source": [
    "%%script bash --no-raise-error\n",
    "\n",
    "./iam_example.py user --help"
   ]
  },
  {
   "cell_type": "code",
   "execution_count": null,
   "metadata": {
    "editable": true,
    "slideshow": {
     "slide_type": "fragment"
    },
    "tags": []
   },
   "outputs": [],
   "source": [
    "%%script bash --no-raise-error\n",
    "\n",
    "./iam_example.py user chucknorris\n",
    "./iam_example.py group roundhousekicks"
   ]
  },
  {
   "cell_type": "markdown",
   "metadata": {
    "editable": true,
    "slideshow": {
     "slide_type": "subslide"
    },
    "tags": []
   },
   "source": [
    "### Pro Tipp: avoid if / else branching\n",
    "\n",
    "```py\n",
    "    ...\n",
    "    subparser_user = subparsers.add_parser(\"user\", help=\"Manage users\")\n",
    "    subparser_user.add_argument(\"user\", help=\"The user to manage\")\n",
    "    subparser_group = subparsers.add_parser(\"group\", help=\"Manage groups\")\n",
    "    subparser_group.add_argument(\"group\", help=\"The group to manage\")\n",
    "    ...\n",
    "```\n",
    "\n",
    "After parsing the command line using `args = parser.parse_args()`, `args` will hold a string valued field `subcmd`."
   ]
  },
  {
   "cell_type": "markdown",
   "metadata": {
    "editable": true,
    "slideshow": {
     "slide_type": "fragment"
    },
    "tags": []
   },
   "source": [
    "We then have to compare this string against all possibilities 🤢:\n",
    "\n",
    "```py\n",
    " if args.subcmd == \"user\": ...\n",
    " elif args.subcmd == \"group\": ...\n",
    " ... # maybe more to come?\n",
    "```"
   ]
  },
  {
   "cell_type": "markdown",
   "metadata": {
    "editable": true,
    "slideshow": {
     "slide_type": "subslide"
    },
    "tags": []
   },
   "source": [
    "**👍 Better**:\n",
    "\n",
    "```py\n",
    "    ...\n",
    "    subparser_user = subparsers.add_parser(\"user\", help=\"Manage users\")\n",
    "    subparser_user.set_defaults(subcmd=manage_user) # <- new\n",
    "    subparser_user.add_argument(\"user\", help=\"The user to manage\")\n",
    "    subparser_group = subparsers.add_parser(\"group\", help=\"Manage group\")\n",
    "    subparser_group.set_defaults(subcmd=manage_group) # <- new\n",
    "    subparser_group.add_argument(\"group\", help=\"The group to manage\")\n",
    "    ...\n",
    "```"
   ]
  },
  {
   "cell_type": "markdown",
   "metadata": {
    "editable": true,
    "slideshow": {
     "slide_type": "subslide"
    },
    "tags": []
   },
   "source": [
    "After parsing the command line, `args.subcmd` will hold a function instead of a string (either `manage_user` or `manage_group`).\n",
    "But we still need to either call `args.subcmd(args.user)` is `args.subcmd` is `manage_user` or `args.subcmd(args.group)` if `args.subcmd` is `manage_group`.\n",
    "\n",
    "🥵 This still would require an `if` / `else` branching for the argument."
   ]
  },
  {
   "cell_type": "markdown",
   "metadata": {
    "editable": true,
    "slideshow": {
     "slide_type": "subslide"
    },
    "tags": []
   },
   "source": [
    "**👍👍 Even better**:\n",
    "\n",
    "We can pass to `args.subcmd` all variables contained in `args` (except `subcmd`) as keyword arguments by using the `**` operator:\n",
    "\n",
    "```py\n",
    "args = parser.parse_args()\n",
    "# turn `args` into a dict:\n",
    "kwargs = vars(args)\n",
    "# Extract the subcmd field from kwargs.\n",
    "# As we dont want to pass `args.subcmd` to the functions (we dont want to pass the function to itself), we use `pop` to remove `subcmd` from the `dict` resulting from `vars()`:\n",
    "subcmd = kwargs.pop(\"subcmd\")\n",
    "# Pass all remaining arguments to the function `subcmd`:\n",
    "subcmd(**kwargs)\n",
    "```"
   ]
  },
  {
   "cell_type": "markdown",
   "metadata": {
    "editable": true,
    "slideshow": {
     "slide_type": "slide"
    },
    "tags": []
   },
   "source": [
    "### Exercise 3\n",
    "\n",
    "Write a CLI `user.py` with 2 sub-commands `add`, `remove` which calls the following 2 functions:\n",
    "\n",
    "```py\n",
    "def add(user: str, groups: list[str]) -> None:\n",
    "    group_repr = \" 👥 \" + \",\".join(groups) if groups else \"\"\n",
    "    print(f\"👤 {user}{group_repr}\")\n",
    "\n",
    "def remove(user: str) -> None:\n",
    "    print(f\"❌ {user}\")\n",
    "```\n",
    "\n",
    "The command line should look like:\n",
    "```sh\n",
    "./user.py add \"chucknorris\" -g \"admin\" -g \"superpower\"\n",
    "./user.py remove \"bambi\"\n",
    "```"
   ]
  },
  {
   "cell_type": "markdown",
   "metadata": {
    "editable": true,
    "slideshow": {
     "slide_type": "subslide"
    },
    "tags": []
   },
   "source": [
    "#### Tipps\n",
    "\n",
    "* Use `action=\"append\"` for the `-g` argument so it can be passed multiple times and appends each option to a list.\n",
    "* Use the `dest` keyword in `add_argument()` so the value names in `args` match the argument names of the functions `add()`, `remove()`"
   ]
  },
  {
   "cell_type": "code",
   "execution_count": null,
   "metadata": {
    "slideshow": {
     "slide_type": "notes"
    }
   },
   "outputs": [],
   "source": [
    "%%writefile ex3_solution.py\n",
    "#!/bin/env python3\n",
    "\n",
    "import argparse\n",
    "\n",
    "def add(user: str, groups: list[str]) -> None:\n",
    "    group_repr = \" 👥 \" + \",\".join(groups) if groups else \"\"\n",
    "    print(f\"👤 {user}{group_repr}\")\n",
    "\n",
    "def remove(user: str) -> None:\n",
    "    print(f\"❌ {user}\")\n",
    "\n",
    "def main():\n",
    "    parser = argparse.ArgumentParser(description=\"User tool\")\n",
    "    subparsers = parser.add_subparsers(\n",
    "        dest=\"subcmd\",\n",
    "        required=True,\n",
    "        title=\"List of sub-commands\",\n",
    "        description=\"For an overview of action specific parameters, use %(prog)s <SUB-COMMAND> --help\",\n",
    "        help=\"Sub-command help\", metavar=\"<SUB-COMMAND>\"\n",
    "    )\n",
    "    subparser_add = subparsers.add_parser(\"add\", help=\"Add user\")\n",
    "    subparser_add.add_argument(\"user\", help=\"The user to add\")\n",
    "    subparser_add.add_argument(\n",
    "        \"--group\", \"-g\",\n",
    "        dest=\"groups\",\n",
    "        action=\"append\",\n",
    "        help=\"Add user to a group (can be passed multiple times)\"\n",
    "    )\n",
    "    subparser_add.set_defaults(subcmd=add)\n",
    "    subparser_remove = subparsers.add_parser(\"remove\", help=\"Remove user\")\n",
    "    subparser_remove.add_argument(\"user\", help=\"The user to remove\")\n",
    "    subparser_remove.set_defaults(subcmd=remove)\n",
    "\n",
    "    args = vars(parser.parse_args())\n",
    "    subcmd = args.pop(\"subcmd\")\n",
    "    subcmd(**args)\n",
    "\n",
    "if __name__ == \"__main__\":\n",
    "    main()"
   ]
  },
  {
   "cell_type": "code",
   "execution_count": null,
   "metadata": {
    "slideshow": {
     "slide_type": "skip"
    }
   },
   "outputs": [],
   "source": [
    "!chmod u+x ex3_solution.py"
   ]
  },
  {
   "cell_type": "code",
   "execution_count": null,
   "metadata": {
    "slideshow": {
     "slide_type": "skip"
    }
   },
   "outputs": [],
   "source": [
    "%%script bash --no-raise-error\n",
    "\n",
    "./ex3_solution.py"
   ]
  },
  {
   "cell_type": "code",
   "execution_count": null,
   "metadata": {
    "slideshow": {
     "slide_type": "skip"
    }
   },
   "outputs": [],
   "source": [
    "%%script bash --no-raise-error\n",
    "\n",
    "./ex3_solution.py add \"chucknorris\" -g \"roundhouse-kicks\" -g \"can-count-to-infinity\"\n",
    "./ex3_solution.py remove \"some_user\""
   ]
  },
  {
   "cell_type": "markdown",
   "metadata": {
    "slideshow": {
     "slide_type": "subslide"
    }
   },
   "source": [
    "## Trickier Topics"
   ]
  },
  {
   "cell_type": "markdown",
   "metadata": {
    "slideshow": {
     "slide_type": "subslide"
    }
   },
   "source": [
    "### Passwords\n",
    "\n",
    "Sometimes you want to let the CLI prompt the user for a password.\n",
    "Of course, you don't want to see the input on the screen.\n",
    "\n",
    "With `argparse` this can be done by writing a custom [Action class](https://docs.python.org/3/library/argparse.html#action-classes) (with [click](https://click.palletsprojects.com/en/7.x/), this would be much easier)."
   ]
  },
  {
   "cell_type": "code",
   "execution_count": null,
   "metadata": {
    "slideshow": {
     "slide_type": "subslide"
    }
   },
   "outputs": [],
   "source": [
    "%%writefile auth.py\n",
    "#!/bin/env python3\n",
    "\n",
    "import argparse\n",
    "import getpass\n",
    "\n",
    "class PasswordPrompAction(argparse.Action):\n",
    "    def __init__(self, *args, **kwargs):\n",
    "        super().__init__(*args, nargs=0, **kwargs)\n",
    "\n",
    "    def __call__(self, parser, namespace, values, option_string=None):\n",
    "        password = getpass.getpass(prompt='🔑: ')\n",
    "        setattr(namespace, self.dest, password)\n",
    "        \n",
    "def main():\n",
    "    parser = argparse.ArgumentParser()\n",
    "    parser.add_argument(\"--password\", \"-p\", action=PasswordPrompAction, help=\"Prompt for a password\")\n",
    "    args = parser.parse_args()\n",
    "    print(f\"Who needs privacy? Lets leak the password: {args.password}\")\n",
    "\n",
    "\n",
    "if __name__ == \"__main__\":\n",
    "    main()"
   ]
  },
  {
   "cell_type": "code",
   "execution_count": null,
   "metadata": {
    "slideshow": {
     "slide_type": "skip"
    }
   },
   "outputs": [],
   "source": [
    "!chmod u+x auth.py"
   ]
  },
  {
   "cell_type": "markdown",
   "metadata": {
    "slideshow": {
     "slide_type": "slide"
    }
   },
   "source": [
    "You have to run this script from the command line, Jupyter has troubles reading passwords from a shell command. In Jupyter Lab, click on the `+` symbol right to the last tab and open a terminal\n",
    "\n",
    "```sh\n",
    "python ./auth.py -p\n",
    "```"
   ]
  },
  {
   "cell_type": "markdown",
   "metadata": {
    "slideshow": {
     "slide_type": "fragment"
    }
   },
   "source": [
    "When resetting passwords, one often needs to enter the new password twice, in case you entered a typo. To show the password prompt a second time and compare the two inputs, we would replace our `__call__` according to:"
   ]
  },
  {
   "cell_type": "code",
   "execution_count": null,
   "metadata": {
    "slideshow": {
     "slide_type": "subslide"
    }
   },
   "outputs": [],
   "source": [
    "%%writefile auth_confirm.py\n",
    "#!/bin/env python3\n",
    "\n",
    "import argparse\n",
    "import getpass\n",
    "\n",
    "class PasswordPrompAction(argparse.Action):\n",
    "    def __init__(self, *args, **kwargs):\n",
    "        super().__init__(*args, nargs=0, **kwargs)\n",
    "\n",
    "    def __call__(self, parser, namespace, values, option_string=None):\n",
    "        password = getpass.getpass(prompt='🔑: ')\n",
    "        confirmation = getpass.getpass(prompt='🔑 (confirmation): ')\n",
    "        if confirmation != password:\n",
    "            raise argparse.ArgumentError(self, \"💥 You entered two different passwords!\")\n",
    "        setattr(namespace, self.dest, password)\n",
    "        \n",
    "def main():\n",
    "    parser = argparse.ArgumentParser()\n",
    "    parser.add_argument(\"--password\", \"-p\", action=PasswordPrompAction, help=\"Prompt for a password\")\n",
    "    args = parser.parse_args()\n",
    "    print(f\"Who needs privacy? Lets leak the password: {args.password}\")\n",
    "\n",
    "\n",
    "if __name__ == \"__main__\":\n",
    "    main()"
   ]
  },
  {
   "cell_type": "code",
   "execution_count": null,
   "metadata": {
    "slideshow": {
     "slide_type": "subslide"
    }
   },
   "outputs": [],
   "source": [
    "!chmod u+x auth_confirm.py"
   ]
  },
  {
   "cell_type": "markdown",
   "metadata": {
    "slideshow": {
     "slide_type": "subslide"
    }
   },
   "source": [
    "```sh\n",
    "python ./auth_confirm.py -p\n",
    "```"
   ]
  }
 ],
 "metadata": {
  "celltoolbar": "Slideshow",
  "kernelspec": {
   "display_name": "Python 3 (ipykernel)",
   "language": "python",
   "name": "python3"
  },
  "language_info": {
   "codemirror_mode": {
    "name": "ipython",
    "version": 3
   },
   "file_extension": ".py",
   "mimetype": "text/x-python",
   "name": "python",
   "nbconvert_exporter": "python",
   "pygments_lexer": "ipython3",
   "version": "3.11.9"
  }
 },
 "nbformat": 4,
 "nbformat_minor": 4
}
