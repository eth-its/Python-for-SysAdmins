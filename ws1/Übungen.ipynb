{
 "cells": [
  {
   "cell_type": "markdown",
   "metadata": {},
   "source": [
    "Fibonacci-Reihe:   \n",
    "1. Berechne die 100. Fibnoacci-Zahl und teile diese durch die vorhergehende.\n",
    "1. Berechne alle Fibnoacci-Zahlen bis 50 und schreibe für jeden Schritt den Wert *fibo(n)/fibo(n-1)* hinaus."
   ]
  },
  {
   "cell_type": "code",
   "execution_count": 8,
   "metadata": {},
   "outputs": [
    {
     "name": "stdout",
     "output_type": "stream",
     "text": [
      "1.618033988749895\n",
      "1: 2.0\n",
      "2: 1.5\n",
      "3: 1.6666666666666667\n",
      "4: 1.6\n",
      "5: 1.625\n",
      "6: 1.6153846153846154\n",
      "7: 1.619047619047619\n",
      "8: 1.6176470588235294\n",
      "9: 1.6181818181818182\n",
      "10: 1.6179775280898876\n",
      "11: 1.6180555555555556\n",
      "12: 1.6180257510729614\n",
      "13: 1.6180371352785146\n",
      "14: 1.618032786885246\n",
      "15: 1.618034447821682\n",
      "16: 1.6180338134001253\n",
      "17: 1.618034055727554\n",
      "18: 1.6180339631667064\n",
      "19: 1.6180339985218033\n",
      "20: 1.618033985017358\n",
      "21: 1.6180339901755971\n",
      "22: 1.618033988205325\n",
      "23: 1.618033988957902\n",
      "24: 1.6180339886704431\n",
      "25: 1.6180339887802426\n",
      "26: 1.618033988738303\n",
      "27: 1.6180339887543225\n",
      "28: 1.6180339887482036\n",
      "29: 1.6180339887505408\n",
      "30: 1.6180339887496482\n",
      "31: 1.618033988749989\n",
      "32: 1.618033988749859\n",
      "33: 1.6180339887499087\n",
      "34: 1.6180339887498896\n",
      "35: 1.618033988749897\n",
      "36: 1.618033988749894\n",
      "37: 1.6180339887498951\n",
      "38: 1.6180339887498947\n",
      "39: 1.618033988749895\n",
      "40: 1.618033988749895\n",
      "41: 1.618033988749895\n",
      "42: 1.618033988749895\n",
      "43: 1.618033988749895\n",
      "44: 1.618033988749895\n",
      "45: 1.618033988749895\n",
      "46: 1.618033988749895\n",
      "47: 1.618033988749895\n",
      "48: 1.618033988749895\n",
      "49: 1.618033988749895\n",
      "50: 1.618033988749895\n"
     ]
    }
   ],
   "source": [
    "def fibo(n=0):\n",
    "    cursor = (0, 1, 1)\n",
    "    if n == 0:\n",
    "        return cursor[1]\n",
    "    if n==1:\n",
    "        return cursor[2]\n",
    "    i = 1\n",
    "    while i<n:\n",
    "        cursor = (cursor[1], cursor[2], cursor[1] + cursor[2])\n",
    "        i += 1\n",
    "    return cursor[2]\n",
    "\n",
    "print(fibo(100)/fibo(99))\n",
    "\n",
    "def fibop(stop=0):\n",
    "    cursor = (0, 1, 1)\n",
    "    if stop == 0:\n",
    "        print(f\"0: 1\")\n",
    "        return\n",
    "    if stop==1:\n",
    "        print(f\"1: 1\")\n",
    "        return\n",
    "    i = 1\n",
    "    while i<=stop:\n",
    "        cursor = (cursor[1], cursor[2], cursor[1] + cursor[2])\n",
    "        print(f\"{i}: {cursor[2]/cursor[1]}\")\n",
    "        i += 1\n",
    "    \n",
    "fibop(50)"
   ]
  }
 ],
 "metadata": {
  "kernelspec": {
   "display_name": "Python 3",
   "language": "python",
   "name": "python3"
  },
  "language_info": {
   "codemirror_mode": {
    "name": "ipython",
    "version": 3
   },
   "file_extension": ".py",
   "mimetype": "text/x-python",
   "name": "python",
   "nbconvert_exporter": "python",
   "pygments_lexer": "ipython3",
   "version": "3.8.6"
  }
 },
 "nbformat": 4,
 "nbformat_minor": 4
}
