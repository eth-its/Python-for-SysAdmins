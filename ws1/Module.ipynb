{
 "cells": [
  {
   "cell_type": "markdown",
   "metadata": {},
   "source": [
    "# Skripte und Module\n",
    "\n",
    "Python-Code, d.h. die Sammlung von Python-Funktionen und -Klassen, welcher in einem File mit der Endung *.py* gespeichert wird, nennt man *Skript* oder *Modul*.   \n",
    "Ein *Skript* wird üblicherweise vom Benützer direkt aufgerufen (mit `python my_script` auf der Kommandozeile).   \n",
    "Ein *Modul* wird in ein Skript importiert, damit im Skript schon vorhandene Funktionalität genutzt werden kann (*Wiederverwendung*).\n",
    "\n",
    "*Beispiel*: *random* ist ein Python-Modul, welches Funktionalität für Zufallszahlen enthält. Es kann mit der `import`-Anweisung importiert werden."
   ]
  },
  {
   "cell_type": "code",
   "execution_count": null,
   "metadata": {},
   "outputs": [],
   "source": [
    "import random\n",
    "\n",
    "print(f\"Zufallszahl zwischen 0 und 1: {random.random()}\")\n",
    "print(f\"Zufallszahl zwischen 20 und 50: {random.uniform(20,50)}\")"
   ]
  },
  {
   "cell_type": "markdown",
   "metadata": {},
   "source": [
    "Einzelne Funktionen werden mit `from module import func1, func2` importiert:"
   ]
  },
  {
   "cell_type": "code",
   "execution_count": null,
   "metadata": {},
   "outputs": [],
   "source": [
    "from random import uniform, random\n",
    "\n",
    "print(f\"Zufallszahl zwischen 0 und 1: {random()}\")\n",
    "print(f\"Zufallszahl zwischen 20 und 50: {uniform(20,50)}\")"
   ]
  },
  {
   "cell_type": "code",
   "execution_count": null,
   "metadata": {},
   "outputs": [],
   "source": [
    "from random import uniform as zufall\n",
    "\n",
    "print(f\"Zufallszahl zwischen 20 und 50: {zufall(20,50)}\")"
   ]
  },
  {
   "cell_type": "markdown",
   "metadata": {},
   "source": [
    "Ein File *shout.py* mit folgendem Inhalt kann als Modul importiert werden, wenn ein Skript die Funktion `shout()` benötigt: "
   ]
  },
  {
   "cell_type": "code",
   "execution_count": null,
   "metadata": {},
   "outputs": [],
   "source": [
    "def shout():\n",
    "    print(\"Waaaaaäääh\")"
   ]
  },
  {
   "cell_type": "markdown",
   "metadata": {},
   "source": [
    "Wird dieses File in der Kommandozeile mit `python shout.py` aufgerufen, passiert nichts.   \n",
    "Damit ein solcher Aufruf auch die Funktion `shout()` ausführt, muss das Modul wie folgt aussehen:"
   ]
  },
  {
   "cell_type": "code",
   "execution_count": null,
   "metadata": {},
   "outputs": [],
   "source": [
    "def shout():\n",
    "    print(\"Waaaaaäääh\")\n",
    "    \n",
    "shout()"
   ]
  },
  {
   "cell_type": "markdown",
   "metadata": {},
   "source": [
    "Das führt allerdings zum Problem, dass die Funktion `shout()` auch dann ausgeführt wird, wenn das Modul importiert wird.\n",
    "\n",
    "*Lösung*: im Modul werden folgende Zeilen eingefügt, damit es als Skript verwendet werden kann:"
   ]
  },
  {
   "cell_type": "code",
   "execution_count": null,
   "metadata": {},
   "outputs": [],
   "source": [
    "def shout():\n",
    "    print(\"Waaaaaäääh\")\n",
    "    \n",
    "if __name__ == \"__main__\":\n",
    "    shout()"
   ]
  },
  {
   "cell_type": "markdown",
   "metadata": {},
   "source": [
    "Wenn das File von der Kommandozeile aufgerufen wird (und nicht von einem anderen Skript oder Modul), dann wird das File als *main*-File ausgeführt, entsprechend ist die Bedingung `__name__ == \"__main__\"` korrekt und der anschliessende Block wird ausgeführt.\n",
    "\n",
    "Wird das File jedock importiert, ist es nicht das *main*-File und der entsprechende Block wird nicht ausgeführt."
   ]
  }
 ],
 "metadata": {
  "kernelspec": {
   "display_name": "Python 3",
   "language": "python",
   "name": "python3"
  },
  "language_info": {
   "codemirror_mode": {
    "name": "ipython",
    "version": 3
   },
   "file_extension": ".py",
   "mimetype": "text/x-python",
   "name": "python",
   "nbconvert_exporter": "python",
   "pygments_lexer": "ipython3",
   "version": "3.8.6"
  }
 },
 "nbformat": 4,
 "nbformat_minor": 4
}
