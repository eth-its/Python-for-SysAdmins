{
 "cells": [
  {
   "cell_type": "markdown",
   "metadata": {
    "slideshow": {
     "slide_type": "slide"
    }
   },
   "source": [
    "# Skripte und Module\n",
    "\n",
    "Python-Code, d.h. die Sammlung von Python-Funktionen und -Klassen, welcher in einem File mit der Endung *.py* gespeichert wird, nennt man *Skript* oder *Modul*. Was ist der Unterschied?    \n",
    "Ein *Skript* wird ausgeführt (mit `python my_script` auf der Kommandozeile), ein *Modul* wird eingebunden (mit `import module_name`). Das *Modul* ist somit ein Hilfsmittel, um Funktionalität wiederzuverwenden.\n",
    "\n",
    "*Beispiel*: *random* ist ein Python-Modul, welches Funktionalität für Zufallszahlen enthält. Es kann mit der `import`-Anweisung importiert werden."
   ]
  },
  {
   "cell_type": "code",
   "execution_count": null,
   "metadata": {
    "slideshow": {
     "slide_type": "fragment"
    }
   },
   "outputs": [],
   "source": [
    "import random\n",
    "\n",
    "print(f\"Zufallszahl zwischen 0 und 1: {random.random()}\")\n",
    "print(f\"Zufallszahl zwischen 20 und 50: {random.uniform(20,50)}\")"
   ]
  },
  {
   "cell_type": "markdown",
   "metadata": {
    "slideshow": {
     "slide_type": "subslide"
    }
   },
   "source": [
    "Einzelne Funktionen werden mit `from module import func1, func2` importiert:"
   ]
  },
  {
   "cell_type": "code",
   "execution_count": null,
   "metadata": {
    "slideshow": {
     "slide_type": "fragment"
    }
   },
   "outputs": [],
   "source": [
    "from random import uniform, random\n",
    "\n",
    "print(f\"Zufallszahl zwischen 0 und 1: {random()}\")\n",
    "print(f\"Zufallszahl zwischen 20 und 50: {uniform(20,50)}\")"
   ]
  },
  {
   "cell_type": "code",
   "execution_count": null,
   "metadata": {
    "slideshow": {
     "slide_type": "fragment"
    }
   },
   "outputs": [],
   "source": [
    "from random import uniform as zufall\n",
    "\n",
    "print(f\"Zufallszahl zwischen 20 und 50: {zufall(20,50)}\")"
   ]
  },
  {
   "cell_type": "markdown",
   "metadata": {
    "slideshow": {
     "slide_type": "subslide"
    }
   },
   "source": [
    "Ein File *shout.py* mit folgendem Inhalt kann als Modul importiert werden, wenn ein Skript die Funktion `shout()` benötigt: "
   ]
  },
  {
   "cell_type": "code",
   "execution_count": null,
   "metadata": {
    "slideshow": {
     "slide_type": "fragment"
    }
   },
   "outputs": [],
   "source": [
    "def shout():\n",
    "    print(\"Waaaaaäääh\")"
   ]
  },
  {
   "cell_type": "markdown",
   "metadata": {
    "slideshow": {
     "slide_type": "fragment"
    }
   },
   "source": [
    "Wird dieses File in der Kommandozeile mit `python shout.py` aufgerufen, passiert nichts.   \n",
    "Damit ein solcher Aufruf auch die Funktion `shout()` ausführt, muss das Modul wie folgt aussehen:"
   ]
  },
  {
   "cell_type": "code",
   "execution_count": null,
   "metadata": {
    "slideshow": {
     "slide_type": "fragment"
    }
   },
   "outputs": [],
   "source": [
    "def shout():\n",
    "    print(\"Waaaaaäääh\")\n",
    "    \n",
    "shout()"
   ]
  },
  {
   "cell_type": "markdown",
   "metadata": {
    "slideshow": {
     "slide_type": "subslide"
    }
   },
   "source": [
    "Das führt allerdings zum Problem, dass die Funktion `shout()` auch dann ausgeführt wird, wenn das Modul importiert wird.\n",
    "\n",
    "*Lösung*: im Modul werden folgende Zeilen eingefügt, damit es als Skript verwendet werden kann:"
   ]
  },
  {
   "cell_type": "code",
   "execution_count": null,
   "metadata": {
    "slideshow": {
     "slide_type": "fragment"
    }
   },
   "outputs": [],
   "source": [
    "def shout():\n",
    "    print(\"Waaaaaäääh\")\n",
    "    \n",
    "if __name__ == \"__main__\":\n",
    "    shout()"
   ]
  },
  {
   "cell_type": "markdown",
   "metadata": {
    "slideshow": {
     "slide_type": "notes"
    }
   },
   "source": [
    "Wenn das File von der Kommandozeile aufgerufen wird (und nicht von einem anderen Skript oder Modul), dann wird das File als *main*-File ausgeführt, entsprechend ist die Bedingung `__name__ == \"__main__\"` korrekt und der anschliessende Block wird ausgeführt.\n",
    "\n",
    "Wird das File jedoch importiert, ist es nicht das *main*-File und der entsprechende Block wird nicht ausgeführt."
   ]
  }
 ],
 "metadata": {
  "celltoolbar": "Slideshow",
  "kernelspec": {
   "display_name": "Python 3 (ipykernel)",
   "language": "python",
   "name": "python3"
  },
  "language_info": {
   "codemirror_mode": {
    "name": "ipython",
    "version": 3
   },
   "file_extension": ".py",
   "mimetype": "text/x-python",
   "name": "python",
   "nbconvert_exporter": "python",
   "pygments_lexer": "ipython3",
   "version": "3.9.12"
  }
 },
 "nbformat": 4,
 "nbformat_minor": 4
}
