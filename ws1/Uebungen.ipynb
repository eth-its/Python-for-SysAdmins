{
 "cells": [
  {
   "cell_type": "markdown",
   "metadata": {},
   "source": [
    "Fibonacci-Reihe:   \n",
    "1. Berechne die 100. Fibnoacci-Zahl und teile diese durch die vorhergehende.\n",
    "1. Berechne alle Fibnoacci-Zahlen bis 50 und schreibe für jeden Schritt den Wert *fibo(n)/fibo(n-1)* hinaus."
   ]
  },
  {
   "cell_type": "code",
   "execution_count": null,
   "metadata": {},
   "outputs": [],
   "source": [
    "def fibo(n=0):\n",
    "    cursor = (0, 1, 1)\n",
    "    if n == 0:\n",
    "        return cursor[1]\n",
    "    if n == 1:\n",
    "        return cursor[2]\n",
    "    i = 1\n",
    "    while i < n:\n",
    "        cursor = (cursor[1], cursor[2], cursor[1] + cursor[2])\n",
    "        i += 1\n",
    "    return cursor[2]\n",
    "\n",
    "print(fibo(100)/fibo(99))\n",
    "\n",
    "def fibop(stop=0):\n",
    "    cursor = (0, 1, 1)\n",
    "    if stop == 0:\n",
    "        print(f\"0: 1\")\n",
    "        return\n",
    "    if stop == 1:\n",
    "        print(f\"1: 1\")\n",
    "        return\n",
    "    i = 1\n",
    "    while i <= stop:\n",
    "        cursor = (cursor[1], cursor[2], cursor[1] + cursor[2])\n",
    "        print(f\"{i}: {cursor[2]/cursor[1]}\")\n",
    "        i += 1\n",
    "    \n",
    "fibop(50)"
   ]
  }
 ],
 "metadata": {
  "kernelspec": {
   "display_name": "Python 3",
   "language": "python",
   "name": "python3"
  },
  "language_info": {
   "codemirror_mode": {
    "name": "ipython",
    "version": 3
   },
   "file_extension": ".py",
   "mimetype": "text/x-python",
   "name": "python",
   "nbconvert_exporter": "python",
   "pygments_lexer": "ipython3",
   "version": "3.8.6"
  }
 },
 "nbformat": 4,
 "nbformat_minor": 4
}
