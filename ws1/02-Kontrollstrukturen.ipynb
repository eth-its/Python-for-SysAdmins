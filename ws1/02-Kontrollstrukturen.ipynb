{
 "cells": [
  {
   "cell_type": "markdown",
   "metadata": {
    "slideshow": {
     "slide_type": "slide"
    }
   },
   "source": [
    "# Kontrollstrukturen\n",
    "\n",
    "## Codeblöcke"
   ]
  },
  {
   "cell_type": "code",
   "execution_count": null,
   "metadata": {
    "slideshow": {
     "slide_type": "fragment"
    }
   },
   "outputs": [],
   "source": [
    "if 1 == 1:\n",
    "    a = 1\n",
    "    print(\"Code block\")"
   ]
  },
  {
   "cell_type": "code",
   "execution_count": null,
   "metadata": {
    "slideshow": {
     "slide_type": "fragment"
    }
   },
   "outputs": [],
   "source": [
    "if 1 == 1:\n",
    "    a = 1\n",
    "      print(a) # 💥: Konsistente Einrückung innerhalb eines Blocks!"
   ]
  },
  {
   "cell_type": "markdown",
   "metadata": {
    "slideshow": {
     "slide_type": "notes"
    }
   },
   "source": [
    "In Python werden Blöcke von Anweisungen durch Einrücken gebildet und nicht wie beispielsweise in Java oder JavaScript mit geschweiften Klammern. Die letzte Codezeile vor dem Block endet mit einem Doppelpunkt `:`. Auf diese Weise erzwingt Python, dass ein Block auch visuell klar zum Ausdruck kommt.\n",
    "\n",
    "Das Einrücken kann Leerzeichen oder dem Tabulator erzeugt werden. Wichtig ist, dass innerhalb eines Blocks immer das gleiche Zeichen verwendet wird. Eine gute Konvention ist, dass innerhalb des Programms und über die Programme hinaus immer der gleiche Stil verwendet wird."
   ]
  },
  {
   "cell_type": "markdown",
   "metadata": {
    "slideshow": {
     "slide_type": "fragment"
    }
   },
   "source": [
    "Die [PEP 8](https://peps.python.org/pep-0008/) Konvention sind *vier Leerzeichen* für das Einrücken."
   ]
  },
  {
   "cell_type": "markdown",
   "metadata": {
    "slideshow": {
     "slide_type": "slide"
    }
   },
   "source": [
    "## Kommentare\n",
    "\n",
    "```py\n",
    "# Kommentar\n",
    "\n",
    "def f(x):\n",
    "    \"\"\"Dokumentation der Funktion f\"\"\"\n",
    "    ...\n",
    "```"
   ]
  },
  {
   "cell_type": "markdown",
   "metadata": {
    "slideshow": {
     "slide_type": "fragment"
    }
   },
   "source": [
    "Ein Kommentar (einzeilig) wird mit der Raute `#` eingeleitet. Dieses Zeichen kann an einer beliebigen Stelle auf einer Zeile stehen, üblicherweise hinter dem Code der betreffenden Zeile.\n",
    "\n",
    "Ein *docstring* (Effektlose Anweisung) wird durch drei `\"\"\"` (oder `'''`) eröffnet und abgeschlossen. Diese Form wird vor allem zu Dokumentation von Funktionen und Klassen verwendet.\n",
    "\n",
    "Der Unterschied zwischen einem Kommentar und einem docstring ist, dass der python interpreter Kommentare komplett ignoriert, docstrings dagegen als Metadaten von python Objekten zur Laufzeit abrufbar sind."
   ]
  },
  {
   "cell_type": "markdown",
   "metadata": {
    "slideshow": {
     "slide_type": "slide"
    }
   },
   "source": [
    "## Verzweigungen\n",
    "\n",
    "Für bedingte Verzweigungen gibt es in Python\n",
    "```py\n",
    "if condition: ...\n",
    "elif condition2: ...\n",
    "else: ...\n",
    "```"
   ]
  },
  {
   "cell_type": "code",
   "execution_count": null,
   "metadata": {
    "slideshow": {
     "slide_type": "fragment"
    }
   },
   "outputs": [],
   "source": [
    "temperature = 15\n",
    "if temperature <= 10:\n",
    "    print(\"kalt\")\n",
    "elif temperature > 10 and temperature <= 25:\n",
    "    print(\"angenehm\")\n",
    "else:\n",
    "    print(\"heiss\")"
   ]
  },
  {
   "cell_type": "markdown",
   "metadata": {
    "slideshow": {
     "slide_type": "subslide"
    }
   },
   "source": [
    "Übungen zu *if-else*: https://www.w3schools.com/python/exercise.asp?filename=exercise_ifelse1   \n",
    "Anspruchsvolle Übungen zu *if-else*: https://realpython.com/quizzes/python-conditional-statements/viewer/"
   ]
  },
  {
   "cell_type": "markdown",
   "metadata": {
    "slideshow": {
     "slide_type": "slide"
    }
   },
   "source": [
    "## Schleifen\n",
    "\n",
    "Es gibt bedingte Schleifen (`while`) und Iterationen (`for`).\n",
    "\n",
    "Mit `while` wird ein Block ausgeführt, bis eine Bedinung nicht mehr erfüllt ist:"
   ]
  },
  {
   "cell_type": "code",
   "execution_count": null,
   "metadata": {
    "slideshow": {
     "slide_type": "fragment"
    }
   },
   "outputs": [],
   "source": [
    "i = 4\n",
    "while (i < 9):\n",
    "    i = i+2\n",
    "    print(i)"
   ]
  },
  {
   "cell_type": "markdown",
   "metadata": {
    "slideshow": {
     "slide_type": "subslide"
    }
   },
   "source": [
    "Übungen zu *while*-Schleifen: https://www.w3schools.com/python/exercise.asp?filename=exercise_while_loops1"
   ]
  },
  {
   "cell_type": "markdown",
   "metadata": {
    "slideshow": {
     "slide_type": "subslide"
    }
   },
   "source": [
    "Mit *for*-Schleifen können wir über Listen iterieren.    \n",
    "Beipiel: finde alle Primzahlen:"
   ]
  },
  {
   "cell_type": "code",
   "execution_count": null,
   "metadata": {
    "slideshow": {
     "slide_type": "fragment"
    }
   },
   "outputs": [],
   "source": [
    "for n in range(2, 20):\n",
    "    for x in range(2, n):\n",
    "        if n % x == 0:\n",
    "            print(f\"{n} ist gleich {x}*{n//x}\")\n",
    "            break\n",
    "    else: # Dieses else wird genau dann ausgeführt, wenn in der for Schleife kein break erreicht wird\n",
    "        print(f\"{n} ist einer Primzahl\")"
   ]
  },
  {
   "cell_type": "markdown",
   "metadata": {
    "slideshow": {
     "slide_type": "notes"
    }
   },
   "source": [
    "*Hinweis 1*: in diesem Beispiel werden zwei Schleifen verschachtelt.\n",
    "\n",
    "*Hinweis 2*: dieses wie auch die anderen Beispiele zeigen, dass mit *f-String* gut lesbarer Code erzeugt werden kann. Wenn in den geschweiften Klammer Operationen ausgeführt werden, hat das allerdings den Nachteil, dass eine Fehlersuche schwierig werden kann."
   ]
  },
  {
   "cell_type": "markdown",
   "metadata": {
    "slideshow": {
     "slide_type": "subslide"
    }
   },
   "source": [
    "**Schlüsselwörter** `break` und `continue`.\n",
    "\n",
    "Mit `break` wird die innere Schleife verlassen, wenn festgestellt wird, dass die aktuell getestete Zahl keine Primzahl ist.\n",
    "\n",
    "Das Schlüsselwort `continue` bewirkt, dass die restlichen Anweisungen im Block nicht ausgeübt werden. Stattdessen wird die nächste Iteration aufgerufen."
   ]
  },
  {
   "cell_type": "code",
   "execution_count": null,
   "metadata": {
    "slideshow": {
     "slide_type": "fragment"
    }
   },
   "outputs": [],
   "source": [
    "for i in range(10):\n",
    "    print(f\"Durchlauf {i}...\")\n",
    "    continue\n",
    "    print(\"Das wird nicht ausgegeben!\")"
   ]
  },
  {
   "cell_type": "markdown",
   "metadata": {
    "slideshow": {
     "slide_type": "subslide"
    }
   },
   "source": [
    "Übungen zu *for*-Schleifen: https://www.w3schools.com/python/exercise.asp?filename=exercise_for_loops1"
   ]
  },
  {
   "cell_type": "markdown",
   "metadata": {
    "slideshow": {
     "slide_type": "slide"
    }
   },
   "source": [
    "## Funktionen\n",
    "\n",
    "Eine Funktion in Python hat folgendes Aussehen:\n",
    "```py\n",
    "def func_name(parameters):\n",
    "    ...\n",
    "    return value\n",
    "```\n",
    "\n",
    "*Beispiel*: Währungskonverter:"
   ]
  },
  {
   "cell_type": "code",
   "execution_count": null,
   "metadata": {
    "slideshow": {
     "slide_type": "fragment"
    }
   },
   "outputs": [],
   "source": [
    "def euro_to_chf(euro_amount):\n",
    "    return euro_amount * 1.08015\n",
    "\n",
    "print(f\"50 Euro sind Fr. {euro_to_chf(50)}.\")"
   ]
  },
  {
   "cell_type": "markdown",
   "metadata": {
    "slideshow": {
     "slide_type": "subslide"
    }
   },
   "source": [
    "Es gibt verschiedene Arten von Parametern und Argumenten bei Python-Funktionen:\n",
    "- **optionales Argument**: ein Parameter wird mit einem Standardwert ausgestattet\n",
    "- **zwingendes Argument**: ein Parameter ohne Standartwert\n",
    "- **positionales Argument**: Zuordnung des Übergabewerts (Arguments) zum Parameter auf Grund der Position\n",
    "- **Schlüsselwort-Argument**: Zuordnung des Übergabewerts zum Parameter auf Grund des Namens\n",
    "- **multiple Argumente**: einem Parameter werden eine Liste von Argumenten übergeben\n",
    "- **multiple Schlüsselwort-Argumente**: einem Parameter wird ein Argumente-Dictionary übergeben"
   ]
  },
  {
   "cell_type": "code",
   "execution_count": null,
   "metadata": {
    "slideshow": {
     "slide_type": "subslide"
    }
   },
   "outputs": [],
   "source": [
    "def concat_names(first='', middle='', last=''): # alle Argumente sind optional    \n",
    "    if middle.strip():\n",
    "        middle = middle[0] + '. '\n",
    "    print(f\"{first} {middle}{last}\")\n",
    "\n",
    "concat_names() # Verwende default Argumente"
   ]
  },
  {
   "cell_type": "code",
   "execution_count": null,
   "metadata": {
    "slideshow": {
     "slide_type": "fragment"
    }
   },
   "outputs": [],
   "source": [
    "concat_names(\"Adam\", \"Maria\", \"Riese\") # Aufruf mit positionalen Argumenten"
   ]
  },
  {
   "cell_type": "code",
   "execution_count": null,
   "metadata": {
    "slideshow": {
     "slide_type": "fragment"
    }
   },
   "outputs": [],
   "source": [
    "# besser mit Schlüsselwort-Argumenten:\n",
    "concat_names(first=\"Chuck\", last=\"Norris\")\n",
    "concat_names(last=\"Norris\", first=\"Chuck\")\n",
    "concat_names(last=\"Norris\", first=\"Chuck\", middle=\"Carlos Ray\")"
   ]
  },
  {
   "cell_type": "markdown",
   "metadata": {
    "slideshow": {
     "slide_type": "subslide"
    }
   },
   "source": [
    "Beispiel für beliebig viele postitionale Argumente:"
   ]
  },
  {
   "cell_type": "code",
   "execution_count": null,
   "metadata": {
    "slideshow": {
     "slide_type": "fragment"
    }
   },
   "outputs": [],
   "source": [
    "def arithmetic_mean(x, *other):\n",
    "    sum = x\n",
    "    for i in other:\n",
    "        sum += i\n",
    "    return sum / (1.0 + len(other))\n",
    "\n",
    "print(f\"Mittelwert von [4, 5] ist {arithmetic_mean(4, 5)}!\")\n",
    "print(f\"Mittelwert von [4, 9, 3, 33, 20] ist {arithmetic_mean(4, 9, 3, 33, 20)}!\")"
   ]
  },
  {
   "cell_type": "markdown",
   "metadata": {
    "slideshow": {
     "slide_type": "subslide"
    }
   },
   "source": [
    "Beispiel für beliebig viele Schlüsselwort-Argumente:"
   ]
  },
  {
   "cell_type": "code",
   "execution_count": null,
   "metadata": {
    "slideshow": {
     "slide_type": "fragment"
    }
   },
   "outputs": [],
   "source": [
    "def kv_ex(**args):\n",
    "    for k,v in args.items():\n",
    "        print(f\"{k}={v}\")\n",
    "        \n",
    "print(\"1 =============\")\n",
    "kv_ex()\n",
    "print(\"2 =============\")\n",
    "kv_ex(de=\"German\",en=\"English\",fr=\"French\")\n",
    "print(\"3 =============\")"
   ]
  },
  {
   "cell_type": "markdown",
   "metadata": {
    "slideshow": {
     "slide_type": "subslide"
    }
   },
   "source": [
    "⚠ Gefährliche Default-Werte - Veränderbare python Objekte sollten nicht als Default-Werte benutzt werden:"
   ]
  },
  {
   "cell_type": "code",
   "execution_count": null,
   "metadata": {
    "slideshow": {
     "slide_type": "fragment"
    }
   },
   "outputs": [],
   "source": [
    "def combine(*input_dicts, out={}):\n",
    "    \"\"\"Kann auf 2 Arten benutzt werden:\n",
    "    >>> d = combine({\"a\": 1}, {\"b\": 2})\n",
    "    oder:\n",
    "    >>> d = {}\n",
    "    >>> combine({\"a\": 1}, {\"b\": 2}, out = d)\n",
    "    \"\"\"\n",
    "    for d in input_dicts:\n",
    "        out.update(d)\n",
    "    return out"
   ]
  },
  {
   "cell_type": "code",
   "execution_count": null,
   "metadata": {
    "slideshow": {
     "slide_type": "fragment"
    }
   },
   "outputs": [],
   "source": [
    "combine({\"a\": 1})"
   ]
  },
  {
   "cell_type": "code",
   "execution_count": null,
   "metadata": {
    "slideshow": {
     "slide_type": "fragment"
    }
   },
   "outputs": [],
   "source": [
    "combine({\"b\": 1}) # 🤔"
   ]
  },
  {
   "cell_type": "markdown",
   "metadata": {
    "slideshow": {
     "slide_type": "subslide"
    }
   },
   "source": [
    "Übungen zu Funktionen: https://www.w3schools.com/python/exercise.asp?filename=exercise_functions1"
   ]
  },
  {
   "cell_type": "markdown",
   "metadata": {
    "slideshow": {
     "slide_type": "slide"
    }
   },
   "source": [
    "## Fehlerbehandlung\n",
    "\n",
    "Mit einem `try: ... except: ...`-Block können Fehler in Python sauber abgefangen werden.   \n",
    "Der `finally`-Block wird in jedem Fall durchlaufen. Das kann hilfreich sein, um einen Zustand aufzuräumen. "
   ]
  },
  {
   "cell_type": "code",
   "execution_count": null,
   "metadata": {
    "slideshow": {
     "slide_type": "fragment"
    }
   },
   "outputs": [],
   "source": [
    "def temp_convert(var):\n",
    "    try:\n",
    "        return int(var)\n",
    "    except ValueError as Argument:\n",
    "        print(\"Das Argument ist keine Zahl: \", Argument)\n",
    "    finally:\n",
    "        print(\"...\")\n",
    "\n",
    "temp_convert(\"xyz\")\n",
    "temp_convert(123)"
   ]
  },
  {
   "cell_type": "markdown",
   "metadata": {
    "slideshow": {
     "slide_type": "slide"
    }
   },
   "source": [
    "## *with*-Statement"
   ]
  },
  {
   "cell_type": "markdown",
   "metadata": {
    "slideshow": {
     "slide_type": "notes"
    }
   },
   "source": [
    "Bei einer Interaktion über die Systemgrenzen hinaus kann vieles schief gehen. Innerhalb des Systems können wir die Strukturen kontrollieren, ausserhalb des Systems ist das meistens nicht möglich. Ein typischer Fall ist die Interaktion mit dem Filesystem (Lesen/Schreiben von Files): Ist das File vorhanden? Ist der Inhalt kompatibel? Hat es Platz zum Schreiben?\n",
    "\n",
    "In solchen Fällen ist das `with`-Statement hilfreich. Es sorgt dafür, dass beim Verlassen des Blocks sauber aufgeräumt wird, z.B. dass ein offener File-Zugriff automatisch geschlossen wird. Dies erübrigt einen `finally`-Block und macht den Code besser lesbar."
   ]
  },
  {
   "cell_type": "code",
   "execution_count": null,
   "metadata": {
    "slideshow": {
     "slide_type": "fragment"
    }
   },
   "outputs": [],
   "source": [
    "# try-except:\n",
    "file = open(\"out.txt\", \"w\", encoding=\"utf-8\")\n",
    "try:\n",
    "    file.write(\"...\")\n",
    "finally:\n",
    "    file.close()\n",
    "\n",
    "# with:\n",
    "with open(\"out.txt\", \"w\") as file:\n",
    "    file.write(\"...\")"
   ]
  },
  {
   "cell_type": "markdown",
   "metadata": {
    "slideshow": {
     "slide_type": "slide"
    }
   },
   "source": [
    "## *raise*-Statemen\n",
    "\n",
    "Mit *raise* kann eine Fehlerbehandlung ausgelöst werden:"
   ]
  },
  {
   "cell_type": "code",
   "execution_count": null,
   "metadata": {
    "slideshow": {
     "slide_type": "fragment"
    }
   },
   "outputs": [],
   "source": [
    "x = -1\n",
    "\n",
    "if x < 0:\n",
    "    raise Exception(\"Sorry, keine negativen Zahlen erlaubt!\") "
   ]
  },
  {
   "cell_type": "markdown",
   "metadata": {
    "slideshow": {
     "slide_type": "slide"
    }
   },
   "source": [
    "## Übungen: Kontrollstrukturen\n",
    "\n",
    "Fibonacci-Reihe:   \n",
    "1. Berechne die 100. Fibnoacci-Zahl und teile diese durch die vorhergehende.\n",
    "1. Berechne alle Fibnoacci-Zahlen bis 50 und schreibe für jeden Schritt den Wert *fibo(n)/fibo(n-1)* hinaus."
   ]
  }
 ],
 "metadata": {
  "celltoolbar": "Slideshow",
  "kernelspec": {
   "display_name": "Python 3 (ipykernel)",
   "language": "python",
   "name": "python3"
  },
  "language_info": {
   "codemirror_mode": {
    "name": "ipython",
    "version": 3
   },
   "file_extension": ".py",
   "mimetype": "text/x-python",
   "name": "python",
   "nbconvert_exporter": "python",
   "pygments_lexer": "ipython3",
   "version": "3.9.12"
  }
 },
 "nbformat": 4,
 "nbformat_minor": 2
}
