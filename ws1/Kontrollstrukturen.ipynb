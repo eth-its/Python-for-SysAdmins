{
 "cells": [
  {
   "cell_type": "markdown",
   "metadata": {},
   "source": [
    "# Kontrollstrukturen\n",
    "\n",
    "## Codeblöcke\n",
    "\n",
    "In Python werden Blöcke von Anweisungen durch Einrücken gebildet. Die letzte Codezeile vor dem Block endet mit einem Doppelpunkt `:`. Auf diese Weise erzwingt Python, dass ein Block auch visuell klar zum Ausdruck kommt.\n",
    "\n",
    "Das Einrücken kann Leerzeichen oder dem Tabulator erzeugt werden. Wichtig ist, dass innerhalb eines Blocks immer das gleiche Zeichen verwendet wird. Eine gute Konvention ist, dass innerhalb des Programms und über die Programme hinaus immer der gleiche Stil verwendet wird. Typisch sind *vier Leerzeichen* für das Einrücken.\n",
    "\n",
    "## Kommentare\n",
    "\n",
    "Ein Kommentar (einzeilig) wird mit der Raute `#` eingeleitet. Dieses Zeichen kann an einer beliebigen Stelle auf einer Zeile stehen, üblicherweise hinter dem Code der betreffenden Zeile.\n",
    "\n",
    "Ein mehrzeiliger Kommentar (auch *docstring* genannt, wird durch drei `\"\"\"` eröffnet und abgeschlossen.\n",
    "\n",
    "## Verzweigungen\n",
    "\n",
    "Für bedingte Verzweigungen gibt es in Python `if condition: ... elif condition2: ... else: ...`."
   ]
  },
  {
   "cell_type": "code",
   "execution_count": null,
   "metadata": {},
   "outputs": [],
   "source": [
    "temperature = 15\n",
    "if temperature <= 10:\n",
    "    print(\"kalt\")\n",
    "elif temperature > 10 and temperature <= 25:\n",
    "    print(\"angenehm\")\n",
    "else:\n",
    "    print(\"heiss\")"
   ]
  },
  {
   "cell_type": "markdown",
   "metadata": {},
   "source": [
    "Übungen zu *if-else*: https://www.w3schools.com/python/exercise.asp?filename=exercise_ifelse1   \n",
    "Anspruchsvolle Übungen zu *if-else*: https://realpython.com/quizzes/python-conditional-statements/viewer/"
   ]
  },
  {
   "cell_type": "markdown",
   "metadata": {},
   "source": [
    "## Schleifen\n",
    "\n",
    "Es gibt bedingte Schleifen (`while`) und Iterationen (`for`).\n",
    "\n",
    "Mit `while` wird ein Block ausgeführt, bis eine Bedinung nicht mehr erfüllt ist:"
   ]
  },
  {
   "cell_type": "code",
   "execution_count": null,
   "metadata": {},
   "outputs": [],
   "source": [
    "i = 4\n",
    "while (i < 9):\n",
    "    i = i+2\n",
    "    print(i)"
   ]
  },
  {
   "cell_type": "markdown",
   "metadata": {},
   "source": [
    "Übungen zu *while*-Schleifen: https://www.w3schools.com/python/exercise.asp?filename=exercise_while_loops1\n",
    "\n",
    "Mit *for*-Schleifen können wir über Listen iterieren.    \n",
    "Beipiel: finde alle Primzahlen:"
   ]
  },
  {
   "cell_type": "code",
   "execution_count": null,
   "metadata": {},
   "outputs": [],
   "source": [
    "for n in range(2, 20):\n",
    "    for x in range(2, n):\n",
    "        if n%x == 0:\n",
    "            print(f\"{n} ist gleich {x}*{n//x}\")\n",
    "            break\n",
    "    else:\n",
    "        print(f\"{n} ist einer Primzahl\")"
   ]
  },
  {
   "cell_type": "markdown",
   "metadata": {},
   "source": [
    "*Hinweis*: in diesem Beispiel werden zwei Schleifen verschachtelt.\n",
    "\n",
    "**Schlüsselwörter** `break` und `continue`.\n",
    "\n",
    "Mit `break` wird die innere Schleife verlassen, wenn festgestellt wird, dass die aktuell getestete Zahl keine Primzahl ist.\n",
    "\n",
    "Das Schlüsselwort `continue` bewirkt, dass die restlichen Anweisungen im Block nicht ausgeübt werden. Stattdessen wird die nächste Iteration aufgerufen."
   ]
  },
  {
   "cell_type": "code",
   "execution_count": null,
   "metadata": {},
   "outputs": [],
   "source": [
    "for i in range(10):\n",
    "    print(f\"Durchlauf {i}...\")\n",
    "    continue\n",
    "    print(\"Das wird nicht ausgegeben!\")"
   ]
  },
  {
   "cell_type": "markdown",
   "metadata": {},
   "source": [
    "Übungen zu *for*-Schleifen: https://www.w3schools.com/python/exercise.asp?filename=exercise_for_loops1"
   ]
  },
  {
   "cell_type": "markdown",
   "metadata": {},
   "source": [
    "## Funktionen\n",
    "\n",
    "Eine Funktion in Python hat folgendes Aussehen: `def func_name(parameters): ... return value`.\n",
    "\n",
    "*Beispiel*: Währungskonverter:"
   ]
  },
  {
   "cell_type": "code",
   "execution_count": null,
   "metadata": {},
   "outputs": [],
   "source": [
    "def euro_to_chf(euro_amount):\n",
    "    return euro_amount * 1.08015\n",
    "\n",
    "print(f\"50 Euro sind Fr. {euro_to_chf(50)}.\")"
   ]
  },
  {
   "cell_type": "markdown",
   "metadata": {},
   "source": [
    "Es gibt verschiedene Arten von Parametern und Argumenten bei Python-Funktionen:\n",
    "- optionales Argument: ein Parameter wird mit einem Standardwert ausgestattet\n",
    "- zwingendes Argument: ein Parameter ohne Standartwert\n",
    "- positionales Argument: Zuordnung des Übergabewerts (Arguments) zum Parameter auf Grund der Position\n",
    "- Schlüsselwort-Argument: Zuordnung des Übergabewerts zum Parameter auf Grund des Namens\n",
    "- multiple Argumente: einem Parameter werden eine Liste von Argumenten übergeben\n",
    "- multiple Schlüsselwort-Argumente: einem Parameter wird ein Argumente-Dictionary übergeben"
   ]
  },
  {
   "cell_type": "code",
   "execution_count": null,
   "metadata": {},
   "outputs": [],
   "source": [
    "def concat_names(first='', middle='', last=''):\n",
    "    if middle.strip():\n",
    "        middle = middle[0] + '. '\n",
    "    print(f\"{first} {middle}{last}\")\n",
    "\n",
    "# alle Argumente sind optional    \n",
    "print(\"vor Aufruf\")\n",
    "concat_names()\n",
    "print(\"nach Aufruf\")\n",
    "\n",
    "# positional\n",
    "concat_names(\"Adam\", \"Maria\", \"Riese\")\n",
    "\n",
    "# besser mit Schlüsselwort-Argumenten\n",
    "concat_names(first=\"Adam\", last=\"Riese\")\n",
    "concat_names(last=\"Riese\", first=\"Adam\")\n",
    "concat_names(last=\"Riese\", first=\"Adam\", middle=\"Maria\")\n",
    "\n",
    "# Beispiel für beliebig viele Argumente\n",
    "def arithmetic_mean(x, *other):\n",
    "    sum = x\n",
    "    for i in other:\n",
    "        sum += i\n",
    "    return sum / (1.0 + len(other))\n",
    "\n",
    "print(f\"Mittelwert von [4, 5] ist {arithmetic_mean(4, 5)}!\")\n",
    "print(f\"Mittelwert von [4, 9, 3, 33, 20] ist {arithmetic_mean(4, 9, 3, 33, 20)}!\")\n",
    "\n",
    "# Beispiel für beliebig viele Schlüsselwort-Argumente\n",
    "def kv_ex(**args):\n",
    "    for k,v in args.items():\n",
    "        print(f\"{k}={v}\")\n",
    "        \n",
    "print(\"1 =============\")\n",
    "kv_ex()\n",
    "print(\"2 =============\")\n",
    "kv_ex(de=\"German\",en=\"English\",fr=\"French\")\n",
    "print(\"3 =============\")"
   ]
  },
  {
   "cell_type": "markdown",
   "metadata": {},
   "source": [
    "Übungen zu Funktionen: https://www.w3schools.com/python/exercise.asp?filename=exercise_functions1\n",
    "\n",
    "\n",
    "## Fehlerbehandlung\n",
    "\n",
    "Mit einem `try: ... except: ...`-Block können Fehler in Python sauber abgefangen werden.   \n",
    "Der `finally`-Block wird in jedem Fall durchlaufen. Das ist notwendig, um einen Zustand aufzuräumen, z.B. einen File-Zugriff zu schliessen. "
   ]
  },
  {
   "cell_type": "code",
   "execution_count": null,
   "metadata": {},
   "outputs": [],
   "source": [
    "def temp_convert(var):\n",
    "    try:\n",
    "        return int(var)\n",
    "    except ValueError as Argument:\n",
    "        print(\"Das Argument ist keine Zahl: \", Argument)\n",
    "    finally:\n",
    "        print(\"...\")\n",
    "\n",
    "temp_convert(\"xyz\")\n",
    "temp_convert(123)\n",
    "\n",
    "file_name = \"non_existing.txt\"\n",
    "try:\n",
    "    fh = open(file_name)\n",
    "    try:\n",
    "        print(f\"Anzahl Zeichen: {len(fh.read())}\")\n",
    "    except:\n",
    "        print(\"Beim Lesen ist ein Fehler aufgetreten\")\n",
    "    finally:\n",
    "        fh.close()\n",
    "except:\n",
    "    print(f\"Fehler: das File '{file_name}' kann nicht gefunden werden!\")\n"
   ]
  },
  {
   "cell_type": "markdown",
   "metadata": {},
   "source": [
    "## Übungen: Kontrollstrukturen\n",
    "\n",
    "Fibonacci-Reihe:   \n",
    "1. Berechne die 100. Fibnoacci-Zahl und teile diese durch die vorhergehende.\n",
    "1. Berechne alle Fibnoacci-Zahlen bis 50 und schreibe für jeden Schritt den Wert *fibo(n)/fibo(n-1)* hinaus."
   ]
  }
 ],
 "metadata": {
  "kernelspec": {
   "display_name": "Python 3",
   "language": "python",
   "name": "python3"
  },
  "language_info": {
   "codemirror_mode": {
    "name": "ipython",
    "version": 3
   },
   "file_extension": ".py",
   "mimetype": "text/x-python",
   "name": "python",
   "nbconvert_exporter": "python",
   "pygments_lexer": "ipython3",
   "version": "3.8.6"
  }
 },
 "nbformat": 4,
 "nbformat_minor": 2
}
