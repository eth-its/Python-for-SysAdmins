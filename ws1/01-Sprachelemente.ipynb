{
 "cells": [
  {
   "cell_type": "markdown",
   "metadata": {
    "slideshow": {
     "slide_type": "slide"
    }
   },
   "source": [
    "# Einführung in Python\n",
    "\n",
    "## Konventionen\n",
    "\n",
    "* Variablen, Funktionen, Methoden: `snake_case`\n",
    "* Klassen, Typen: `PascalCase`\n",
    "* Konstanten: `GROSSBUCHSTABEN`\n",
    "\n",
    "Mehr Details: [PEP 8](https://peps.python.org/pep-0008/) (PEP: Python Enhancement Proposal)\n",
    "\n",
    "Style (und best practices) checker: [pylint](https://pylint.pycqa.org/en/latest/), [flake8](https://flake8.pycqa.org/en/latest/)."
   ]
  },
  {
   "cell_type": "markdown",
   "metadata": {
    "slideshow": {
     "slide_type": "subslide"
    }
   },
   "source": [
    "Begriffe aus der Problemdomäne verwenden (und nicht aus dem technischen Lösungsraum):   \n",
    "Z.B. `next_gene_sample()` 👍 statt `next_record()` 👎."
   ]
  },
  {
   "cell_type": "markdown",
   "metadata": {
    "slideshow": {
     "slide_type": "fragment"
    }
   },
   "source": [
    "👎 Typische Begriffe aus dem technische Lösungsraum:   \n",
    "*node*, *item*, *element*, *object*, *index*, *key*, *data*, *values*, *record*, *descriptor*, *list*, *tree*"
   ]
  },
  {
   "cell_type": "markdown",
   "metadata": {
    "slideshow": {
     "slide_type": "slide"
    }
   },
   "source": [
    "## Eingebaute Funktionen (*built-in functions*)\n",
    "\n",
    "`print()`, `len()` oder `range()` sind sog. eingebaute Funktionen (*built-in functions*).   \n",
    "Sie werden auf das Objekt angewendet, welches als Parameter übergeben wird.\n",
    "\n",
    "Liste aller *built-in functions*: https://docs.python.org/3/library/functions.html"
   ]
  },
  {
   "cell_type": "code",
   "execution_count": null,
   "metadata": {
    "slideshow": {
     "slide_type": "subslide"
    }
   },
   "outputs": [],
   "source": [
    "print(\"Chuck Norris hat bis ∞ gezählt - Zwei mal!\")"
   ]
  },
  {
   "cell_type": "code",
   "execution_count": null,
   "metadata": {
    "slideshow": {
     "slide_type": "fragment"
    }
   },
   "outputs": [],
   "source": [
    "n = \"∞\"\n",
    "print(f\"Chuck Norris hat bis {n} gezählt - Zwei mal!\")"
   ]
  },
  {
   "cell_type": "markdown",
   "metadata": {
    "slideshow": {
     "slide_type": "slide"
    }
   },
   "source": [
    "## Datentypen"
   ]
  },
  {
   "cell_type": "markdown",
   "metadata": {
    "slideshow": {
     "slide_type": "slide"
    }
   },
   "source": [
    "## Zahlen\n",
    "\n",
    "Python kennt ganze Zahlen und Fliesskommazahlen. Letztere können mit einem Punkt (z.B. `3.141`) oder in Exponentialschreibweise dargestellt werden."
   ]
  },
  {
   "cell_type": "code",
   "execution_count": null,
   "metadata": {
    "slideshow": {
     "slide_type": "fragment"
    }
   },
   "outputs": [],
   "source": [
    "n = 42\n",
    "print(f\"Integer: {n}\")\n",
    "\n",
    "f = 4.2\n",
    "print(f\"Float: {f}\")\n",
    "\n",
    "nf = n * 1.0\n",
    "print(f\"Konvertierter Float: {nf}\")\n",
    "\n",
    "print(f\"Exponentialschreibweise: 4321e-3={4321e-3}\")"
   ]
  },
  {
   "cell_type": "markdown",
   "metadata": {
    "slideshow": {
     "slide_type": "slide"
    }
   },
   "source": [
    "### Wahrheitswerte\n",
    "\n",
    "`True` / `False`"
   ]
  },
  {
   "cell_type": "markdown",
   "metadata": {
    "slideshow": {
     "slide_type": "fragment"
    }
   },
   "source": [
    "Interpretation von numerischen Werten:\n",
    "\n",
    "`0` -> `False` / `!= 0` -> `True`"
   ]
  },
  {
   "cell_type": "markdown",
   "metadata": {
    "slideshow": {
     "slide_type": "fragment"
    }
   },
   "source": [
    "Interpretation von Strings:\n",
    "\n",
    "`\"\"` -> `False`, alle anderen Strings: `True`"
   ]
  },
  {
   "cell_type": "markdown",
   "metadata": {
    "slideshow": {
     "slide_type": "fragment"
    }
   },
   "source": [
    "Interpretation von Listen, Tuples, Dicts:\n",
    "\n",
    "`[]`, `()`, `{}` -> `False`, alles andere: `True`"
   ]
  },
  {
   "cell_type": "markdown",
   "metadata": {
    "slideshow": {
     "slide_type": "slide"
    }
   },
   "source": [
    "Konversion von `x` nach `bool`: `bool(x)`"
   ]
  },
  {
   "cell_type": "code",
   "execution_count": null,
   "metadata": {
    "slideshow": {
     "slide_type": "fragment"
    }
   },
   "outputs": [],
   "source": [
    "bool(\"\")"
   ]
  },
  {
   "cell_type": "code",
   "execution_count": null,
   "metadata": {
    "slideshow": {
     "slide_type": "fragment"
    }
   },
   "outputs": [],
   "source": [
    "bool(\"False\")"
   ]
  },
  {
   "cell_type": "code",
   "execution_count": null,
   "metadata": {
    "slideshow": {
     "slide_type": "fragment"
    }
   },
   "outputs": [],
   "source": [
    "bool(3+4)"
   ]
  },
  {
   "cell_type": "code",
   "execution_count": null,
   "metadata": {
    "slideshow": {
     "slide_type": "fragment"
    }
   },
   "outputs": [],
   "source": [
    "bool(0)"
   ]
  },
  {
   "cell_type": "code",
   "execution_count": null,
   "metadata": {
    "slideshow": {
     "slide_type": "fragment"
    }
   },
   "outputs": [],
   "source": [
    "bool(-1)"
   ]
  },
  {
   "cell_type": "code",
   "execution_count": null,
   "metadata": {
    "slideshow": {
     "slide_type": "subslide"
    }
   },
   "outputs": [],
   "source": [
    "bool([])"
   ]
  },
  {
   "cell_type": "code",
   "execution_count": null,
   "metadata": {
    "slideshow": {
     "slide_type": "fragment"
    }
   },
   "outputs": [],
   "source": [
    "bool([0])"
   ]
  },
  {
   "cell_type": "code",
   "execution_count": null,
   "metadata": {
    "slideshow": {
     "slide_type": "fragment"
    }
   },
   "outputs": [],
   "source": [
    "3 == 4"
   ]
  },
  {
   "cell_type": "code",
   "execution_count": null,
   "metadata": {
    "slideshow": {
     "slide_type": "fragment"
    }
   },
   "outputs": [],
   "source": [
    "True or False"
   ]
  },
  {
   "cell_type": "code",
   "execution_count": null,
   "metadata": {
    "slideshow": {
     "slide_type": "fragment"
    }
   },
   "outputs": [],
   "source": [
    "True and False"
   ]
  },
  {
   "cell_type": "markdown",
   "metadata": {
    "slideshow": {
     "slide_type": "subslide"
    }
   },
   "source": [
    "**Übungen**:\n",
    "\n",
    "- zu Boolean: https://www.w3schools.com/python/exercise.asp?x=xrcise_booleans1\n",
    "- zu Datentypen: https://www.w3schools.com/python/exercise.asp?x=xrcise_datatypes1"
   ]
  },
  {
   "cell_type": "markdown",
   "metadata": {
    "slideshow": {
     "slide_type": "slide"
    }
   },
   "source": [
    "### Listen\n",
    "\n",
    "Liste: Wird mit eckigen Klammern gebildet `[]` (leere Liste)."
   ]
  },
  {
   "cell_type": "code",
   "execution_count": null,
   "metadata": {
    "slideshow": {
     "slide_type": "fragment"
    }
   },
   "outputs": [],
   "source": [
    "numbers = [1,2,3]"
   ]
  },
  {
   "cell_type": "markdown",
   "metadata": {
    "slideshow": {
     "slide_type": "subslide"
    }
   },
   "source": [
    "Hinzufügen von Elementen:"
   ]
  },
  {
   "cell_type": "code",
   "execution_count": null,
   "metadata": {
    "slideshow": {
     "slide_type": "fragment"
    }
   },
   "outputs": [],
   "source": [
    "numbers.append(\"42\")\n",
    "print(f\"append: {numbers}\")"
   ]
  },
  {
   "cell_type": "code",
   "execution_count": null,
   "metadata": {
    "slideshow": {
     "slide_type": "fragment"
    }
   },
   "outputs": [],
   "source": [
    "original_numbers = numbers.copy()\n",
    "print(f\"copy: {original_numbers}\") "
   ]
  },
  {
   "cell_type": "code",
   "execution_count": null,
   "metadata": {
    "slideshow": {
     "slide_type": "fragment"
    }
   },
   "outputs": [],
   "source": [
    "numbers.append(5)\n",
    "print(f\"count of 5 (in numbers): {numbers.count(5)}\")\n",
    "print(f\"count of 5 (in original_numbers): {original_numbers.count(5)}\")"
   ]
  },
  {
   "cell_type": "code",
   "execution_count": null,
   "metadata": {
    "slideshow": {
     "slide_type": "fragment"
    }
   },
   "outputs": [],
   "source": [
    "print(f\"index of 5 (in numbers): {numbers.index(5)}\")"
   ]
  },
  {
   "cell_type": "code",
   "execution_count": null,
   "metadata": {
    "slideshow": {
     "slide_type": "subslide"
    }
   },
   "outputs": [],
   "source": [
    "numbers.insert(0, 5)\n",
    "print(f\"insert: {numbers}\")"
   ]
  },
  {
   "cell_type": "code",
   "execution_count": null,
   "metadata": {
    "slideshow": {
     "slide_type": "fragment"
    }
   },
   "outputs": [],
   "source": [
    "numbers.pop(0)\n",
    "print(f\"pop: {numbers}\")"
   ]
  },
  {
   "cell_type": "code",
   "execution_count": null,
   "metadata": {
    "slideshow": {
     "slide_type": "fragment"
    }
   },
   "outputs": [],
   "source": [
    "numbers.remove(5) # Mit list.remove(v) wird der (erste) Wert v aus der Liste entfernt.\n",
    "print(f\"remove: {numbers}\")"
   ]
  },
  {
   "cell_type": "code",
   "execution_count": null,
   "metadata": {
    "slideshow": {
     "slide_type": "fragment"
    }
   },
   "outputs": [],
   "source": [
    "numbers.reverse()\n",
    "print(f\"reverse: {numbers}\")"
   ]
  },
  {
   "cell_type": "code",
   "execution_count": null,
   "metadata": {
    "slideshow": {
     "slide_type": "subslide"
    }
   },
   "outputs": [],
   "source": [
    "numbers.remove('42')\n",
    "numbers.append(55)\n",
    "numbers.append(22)\n",
    "numbers.sort()\n",
    "print(f\"sort: {numbers}\")"
   ]
  },
  {
   "cell_type": "code",
   "execution_count": null,
   "metadata": {
    "slideshow": {
     "slide_type": "fragment"
    }
   },
   "outputs": [],
   "source": [
    "numbers.clear()\n",
    "print(f\"clear (numbers): {numbers}\")\n",
    "print(f\"clear (original_numbers): {original_numbers}\")"
   ]
  },
  {
   "cell_type": "code",
   "execution_count": null,
   "metadata": {
    "slideshow": {
     "slide_type": "fragment"
    }
   },
   "outputs": [],
   "source": [
    "print(f\"len numbers: {len(numbers)}\")\n",
    "print(f\"len original_numbers: {len(original_numbers)}\")"
   ]
  },
  {
   "cell_type": "markdown",
   "metadata": {
    "slideshow": {
     "slide_type": "notes"
    }
   },
   "source": [
    "Mit `v in list` kann überprüft werden, ob ein bestimmter Wert in der Liste existiert.   \n",
    "Mit `list.remove(v)` wird der (erste) Wert *v* aus der Liste entfernt.   \n",
    "Mit `del list[i]` wird der Wert an der Stelle *i* in der Liste entfernt. \n",
    "\n",
    "Zugriff auf Listenelement (index >= 0):   \n",
    "- `my_list[index]` Element an der Stelle *index-1* (*zero-based*)\n",
    "- `my_list[-index]` Element an der Stelle *len(my_list)-index*   "
   ]
  },
  {
   "cell_type": "markdown",
   "metadata": {
    "slideshow": {
     "slide_type": "notes"
    }
   },
   "source": [
    "Zugriff auf Listenbereich (*slicing*):    \n",
    "- `my_list[start:stop]` Elemente von *start* bis *stop-1*\n",
    "- `my_list[start:]` Elemente von *start* bis zum Listenende\n",
    "- `my_list[:stop]` Elemente am Listenanfang bis *stop-1*\n",
    "- `my_list[:]` Kope der ganzen Liste\n",
    "\n",
    "Mit `del list[start:stop]` werden die Elemente von *start* bis *stop-1* aus der Liste entfernt."
   ]
  },
  {
   "cell_type": "code",
   "execution_count": null,
   "metadata": {
    "slideshow": {
     "slide_type": "subslide"
    }
   },
   "outputs": [],
   "source": [
    "numbers = [0, 1, 2, 3, 4, 5, 6, 7, 8, 9]\n",
    "\n",
    "print(f\"1) {42 in numbers}\")\n",
    "numbers.append(42)\n",
    "print(f\"2) {42 in numbers}\")\n",
    "numbers.remove(42)\n",
    "print(f\"3) {42 in numbers}\")\n",
    "\n",
    "print(numbers[4])\n",
    "print(numbers[1:4])\n",
    "print(numbers[-1])\n",
    "print(numbers[-4:])\n",
    "print(f\"Anzahl Elemente (1): {len(numbers)}\")\n",
    "\n",
    "del numbers[1:4]\n",
    "print(f\"Anzahl Elemente (2): {len(numbers)}\")"
   ]
  },
  {
   "cell_type": "markdown",
   "metadata": {
    "slideshow": {
     "slide_type": "subslide"
    }
   },
   "source": [
    "#### List comprehension\n",
    "\n",
    "*List comprehension* ist eine Technik, um auf einer Code-Zeile die Elemente einer Liste zu verwalten oder umzuorganisieren.   \n",
    "Der Code einer *list comprehension* sieht tyischerweise wie folgt aus:\n",
    "```py\n",
    "[op(i) for i in list if condition(i)]\n",
    "```\n",
    "\n",
    "Beispiel: erzeuge eine Liste aller (ungeraden) Quadrate der Zahlen 1 bis 10:"
   ]
  },
  {
   "cell_type": "code",
   "execution_count": null,
   "metadata": {
    "slideshow": {
     "slide_type": "subslide"
    }
   },
   "outputs": [],
   "source": [
    "squares = [i**2 for i in range(1,11)]\n",
    "print(squares)\n",
    "\n",
    "odd_squares = [i**2 for i in range(1,11) if i%2 == 1]\n",
    "print(odd_squares)"
   ]
  },
  {
   "cell_type": "markdown",
   "metadata": {
    "slideshow": {
     "slide_type": "subslide"
    }
   },
   "source": [
    "**Übungen zu Listen**:   \n",
    "- https://www.w3schools.com/python/exercise.asp?x=xrcise_lists1\n",
    "- Erzeuge eine Liste mit den Zahlen 1 bis 30 mit einem einzeiligen Befehl.\n",
    "- Schreibe eine Python-Funktion, die eine Liste von Zahlen annimmt und die Summe aller Elemente in der Liste zurückgibt:\n",
    "```python\n",
    "def sum_list_elements(numbers):\n",
    "    pass  # Your code here\n",
    "```\n",
    "- Schreibe eine Python-Funktion, die eine Liste annimmt und eine neue Liste mit den Elementen in umgekehrter Reihenfolge zurückgibt, ohne die eingebaute Funktion `reverse` oder *List Slicing* zu verwenden:\n",
    "```python\n",
    "def reverse_list(lst):\n",
    "    pass  # Your code here\n",
    "```"
   ]
  },
  {
   "cell_type": "markdown",
   "metadata": {
    "slideshow": {
     "slide_type": "slide"
    }
   },
   "source": [
    "### Tupel\n",
    "\n",
    "Tupel sind unveränderliche Listen. Sie werden mit runden Klammern `()` erzeugt."
   ]
  },
  {
   "cell_type": "code",
   "execution_count": null,
   "metadata": {
    "slideshow": {
     "slide_type": "fragment"
    }
   },
   "outputs": [],
   "source": [
    "immutable = (0, 1, 2, 3)\n",
    "print(f\"{immutable}\")\n",
    "print(f\"{immutable[-2:]}\")"
   ]
  },
  {
   "cell_type": "markdown",
   "metadata": {
    "slideshow": {
     "slide_type": "slide"
    }
   },
   "source": [
    "### Strings\n",
    "\n",
    "Strings: `\"...\"` oder `'...'`, Longstrings mit `\"\"\"........\"\"\"` .  \n",
    "Ein String ist eine Liste von Zeichen.   \n",
    "f-String: `f\"String mit Wert={some_variable}!\"` (formattierter String)\n",
    "\n",
    "#### String-Methoden\n",
    "\n",
    "Methoden, welche speziell auf Strings wirken (siehe https://www.w3schools.com/python/python_ref_string.asp).   \n",
    "Beispiel: `s.strip()`"
   ]
  },
  {
   "cell_type": "code",
   "execution_count": null,
   "metadata": {
    "slideshow": {
     "slide_type": "fragment"
    }
   },
   "outputs": [],
   "source": [
    "text = \"          nur text         \"\n",
    "print(f\"original: >{text}<\")\n",
    "print(f\"stripped: >{text.strip()}<\")"
   ]
  },
  {
   "cell_type": "markdown",
   "metadata": {
    "slideshow": {
     "slide_type": "notes"
    }
   },
   "source": [
    "**Hinweis**: `separator.join(list_of_strings)`\n",
    "Konvertiert eine Liste in einen String, wobei der String `separator` als Separator der Listenelemente verwendet wird.\n",
    "\n",
    "**Effizienz**: Strings sind unveränderliche Objekte. Es ist deshalb einfacher, eine lange Liste mit `list_of_strings.append(element)` zu erzeugen und danach die Liste mit `\"\".join(list)` zu einem String zu konvertieren, als den String mit `long_string + element` laufend neu zu erzeugen."
   ]
  },
  {
   "cell_type": "code",
   "execution_count": null,
   "metadata": {
    "slideshow": {
     "slide_type": "subslide"
    }
   },
   "outputs": [],
   "source": [
    "long_list = [\"a\", \"b\", \"c\", \"d\", \"e\", \"f\", \"g\", \"h\", \"i\", \"j\", \"k\", \"l\", \"m\", \"n\", \"o\", \"p\", \"q\", \"r\", \"s\", \"t\", \"u\", \"v\", \"w\", \"x\", \"y\"]\n",
    "long_list.append(\"z\")\n",
    "\"\".join(long_list)\n",
    "print(\"\".join(long_list))\n",
    "\n",
    "# weniger effizient\n",
    "long_string = \"abcdefghijklmnopqrstuvwxy\"\n",
    "long_string = long_string + \"z\"\n",
    "print(long_string)\n",
    "\n",
    "print(\"\".join(long_list) == long_string)"
   ]
  },
  {
   "cell_type": "markdown",
   "metadata": {
    "slideshow": {
     "slide_type": "subslide"
    }
   },
   "source": [
    "Slicen von Strings:"
   ]
  },
  {
   "cell_type": "code",
   "execution_count": null,
   "metadata": {
    "slideshow": {
     "slide_type": "fragment"
    }
   },
   "outputs": [],
   "source": [
    "zeichenkette = \"Ein String ist eine Liste von Zeichen\"\n",
    "print(zeichenkette[4])\n",
    "print(zeichenkette[1:4])\n",
    "print(zeichenkette[-1])\n",
    "print(zeichenkette[-4:])\n",
    "print(f\"count 'e': {zeichenkette.count('e')}\")\n",
    "print(f\"Anzahl Zeichen: {len(zeichenkette)}\")"
   ]
  },
  {
   "cell_type": "markdown",
   "metadata": {
    "slideshow": {
     "slide_type": "subslide"
    }
   },
   "source": [
    "#### Zeichensätze\n",
    "\n",
    "Strings sind in Python 3 Unicode-Objekte. Strings können somit nicht nur ASCII-Zeichen, sondern auch aller Umlaute und sogar Emojis enthalten."
   ]
  },
  {
   "cell_type": "code",
   "execution_count": null,
   "metadata": {
    "scrolled": true,
    "slideshow": {
     "slide_type": "fragment"
    }
   },
   "outputs": [],
   "source": [
    "unicode_string = \"Dieser Text enthält ein Emoji: 👻!\"\n",
    "print(unicode_string)\n",
    "print(type(unicode_string))"
   ]
  },
  {
   "cell_type": "markdown",
   "metadata": {
    "slideshow": {
     "slide_type": "notes"
    }
   },
   "source": [
    "Innerhalb einer Python-Applikation soll beim Arbeiten mit Strings ausschliesslich mit Unicode-Objekten gearbeitet werden. Das bedeutet, dass an einer Systemgrenze (z.B. an der Schnittstelle zum Filesystem oder zu einer Datenbank) Texte beim Lesen in Unicode umgewandelt (*decodiert*) werden müssen. Beim Schreiben erfolgt der umgekehrte Prozess, der String muss *codiert* werden (z.B. in *UTF-8* oder *iso_8859_1*)."
   ]
  },
  {
   "cell_type": "code",
   "execution_count": null,
   "metadata": {
    "slideshow": {
     "slide_type": "subslide"
    }
   },
   "outputs": [],
   "source": [
    "lines = []\n",
    "with open('unicode.txt', encoding='utf-8') as f:\n",
    "    for line in f:\n",
    "        lines.append(line)\n",
    "        \n",
    "print(\"-> \".join(lines))"
   ]
  },
  {
   "cell_type": "markdown",
   "metadata": {
    "slideshow": {
     "slide_type": "slide"
    }
   },
   "source": [
    "### Dictionaries\n",
    "\n",
    "Ein *Python Dictionary* ist eine Zuordnung von Schlüssel zu Werten. Der Zweck eines *Dictionarys* ist der Zugriff auf einen Wert über seinen Schlüssel.  \n",
    "Jeder mögliche Datentyp in Python kann ein Wert in einem *Dictionary* sein.    \n",
    "Als Schlüssel dürfen nur unveränderliche Datentypen (z.B. Zahlen, Strings, Tuples) verwendet werden.    \n",
    "Ein *Dictionary* wird mir geschweiften Klammern gebildet `{}`."
   ]
  },
  {
   "cell_type": "code",
   "execution_count": null,
   "metadata": {
    "slideshow": {
     "slide_type": "subslide"
    }
   },
   "outputs": [],
   "source": [
    "month_feb = [1, 2, 3, 4, 5, 6, 7, 8, 9, 10, 11, 12, 13, 14, 15, 16, 17, 18, 19, 20, 21, 22, 23, 24, 25, 26, 27, 28]\n",
    "month_short = month_feb + [29, 30]\n",
    "month_long = month_short + [31]\n",
    "year = {\n",
    "    \"Januar\": month_long,\n",
    "    \"Februar\": month_feb,\n",
    "    \"März\": month_long,\n",
    "    \"April\": month_short,\n",
    "    \"Mai\": month_long,\n",
    "    \"Juni\": month_short,\n",
    "    \"Juli\": month_long,\n",
    "    \"August\": month_long,\n",
    "    \"September\": month_short,\n",
    "    \"Oktober\": month_long,\n",
    "    \"November\": month_short,\n",
    "    \"Dezember\": month_long,\n",
    "}\n",
    "print(f\"Januar: {year['Januar']}\")\n",
    "print(f\"Februar: {year['Februar']}\")\n",
    "print(f\"März: {year['März']}\")\n",
    "print(f\"April: {year['April']}\")"
   ]
  },
  {
   "cell_type": "markdown",
   "metadata": {
    "slideshow": {
     "slide_type": "subslide"
    }
   },
   "source": [
    "Zugriff auf ein Element: `dict[key]` oder `dict.get(key)`"
   ]
  },
  {
   "cell_type": "code",
   "execution_count": null,
   "metadata": {
    "slideshow": {
     "slide_type": "subslide"
    }
   },
   "outputs": [],
   "source": [
    "d = {\"a\": 1, \"b\": 2}\n",
    "d[\"a\"] == d.get(\"a\")"
   ]
  },
  {
   "cell_type": "code",
   "execution_count": null,
   "metadata": {
    "slideshow": {
     "slide_type": "fragment"
    }
   },
   "outputs": [],
   "source": [
    "print(d.get(\"c\")) # ✅\n",
    "print(d.get(\"c\", \"default Wert\")) # ✅"
   ]
  },
  {
   "cell_type": "code",
   "execution_count": null,
   "metadata": {
    "slideshow": {
     "slide_type": "fragment"
    }
   },
   "outputs": [],
   "source": [
    "print(d[\"c\"]) # 💥"
   ]
  },
  {
   "cell_type": "markdown",
   "metadata": {
    "slideshow": {
     "slide_type": "subslide"
    }
   },
   "source": [
    "* Neue Elemente einfügen / überschreiben: `d[key] = value`    \n",
    "* Elemente Löschen: `d.pop(\"key\")` / `del d[\"key\"]`\n",
    "* Testen, ob Schlüssel existiert: `key in d`"
   ]
  },
  {
   "cell_type": "code",
   "execution_count": null,
   "metadata": {
    "slideshow": {
     "slide_type": "subslide"
    }
   },
   "outputs": [],
   "source": [
    "car = {\n",
    "  \"brand\": \"Ford\",\n",
    "  \"model\": \"Mustang\",\n",
    "  \"year\": 1964\n",
    "}"
   ]
  },
  {
   "cell_type": "code",
   "execution_count": null,
   "metadata": {
    "slideshow": {
     "slide_type": "fragment"
    }
   },
   "outputs": [],
   "source": [
    "\"color\" in car"
   ]
  },
  {
   "cell_type": "code",
   "execution_count": null,
   "metadata": {
    "slideshow": {
     "slide_type": "fragment"
    }
   },
   "outputs": [],
   "source": [
    "car.get(\"color\", \"gelb\")"
   ]
  },
  {
   "cell_type": "code",
   "execution_count": null,
   "metadata": {
    "slideshow": {
     "slide_type": "fragment"
    }
   },
   "outputs": [],
   "source": [
    "car[\"color\"] = \"grün\"\n",
    "print(car.get(\"color\", \"gelb\"))\n",
    "print(\"color\" in car)"
   ]
  },
  {
   "cell_type": "code",
   "execution_count": null,
   "metadata": {
    "slideshow": {
     "slide_type": "fragment"
    }
   },
   "outputs": [],
   "source": [
    "car.pop(\"color\")\n",
    "print(car.get(\"color\", \"gelb\"))\n",
    "print(\"color\" in car)"
   ]
  },
  {
   "cell_type": "markdown",
   "metadata": {
    "slideshow": {
     "slide_type": "subslide"
    }
   },
   "source": [
    "Über ein *Dictionary* iterieren: `dict.keys()`, `dict.values()`, `dict.items()` oder `for key in dict:`"
   ]
  },
  {
   "cell_type": "code",
   "execution_count": null,
   "metadata": {
    "slideshow": {
     "slide_type": "fragment"
    }
   },
   "outputs": [],
   "source": [
    "car = {\n",
    "  \"brand\": \"Ford\",\n",
    "  \"model\": \"Mustang\",\n",
    "  \"year\": 1964\n",
    "}\n",
    "print(f\"Alle Schlüssel: {car.keys()}\")\n",
    "print(f\"Alle Werte: {car.values()}\")\n",
    "print(f\"Alle Items: {car.items()}\")\n",
    "\n",
    "for k, v in car.items():\n",
    "    print(f\"Methode 1 - {k}: {v}\")\n",
    "\n",
    "for k in car:\n",
    "    print(f\"Methode 2 - {k}: {car[k]}\")"
   ]
  },
  {
   "cell_type": "markdown",
   "metadata": {
    "slideshow": {
     "slide_type": "subslide"
    }
   },
   "source": [
    "*Dictionaries* können mit `{**dict1, **dict2}` kombiniert werden:"
   ]
  },
  {
   "cell_type": "code",
   "execution_count": null,
   "metadata": {
    "slideshow": {
     "slide_type": "fragment"
    }
   },
   "outputs": [],
   "source": [
    "part1 = {'a': 1, 'b': 2}\n",
    "part2 = {'b': 3, 'c': 4}\n",
    "combined = {**part1, **part2}\n",
    "print(combined)"
   ]
  },
  {
   "cell_type": "markdown",
   "metadata": {
    "slideshow": {
     "slide_type": "fragment"
    }
   },
   "source": [
    "Das Element mit dem Schlüssel `b` taucht im zusammengeführten *Dictionary* nur einmal auf."
   ]
  },
  {
   "cell_type": "markdown",
   "metadata": {
    "slideshow": {
     "slide_type": "subslide"
    }
   },
   "source": [
    "**Übungen zu Dictionaries**: \n",
    "\n",
    "- https://www.w3schools.com/python/exercise.asp?x=xrcise_dictionaries1\n",
    "- Schreibe eine Python-Funktion, die ein Dictionary und einen Schlüssel als Parameter hat und den Wert für diesen Schlüssel zurückgibt, wenn er existiert, oder einen Standardwert, wenn er nicht existiert:\n",
    "```python\n",
    "def lookup_key(dictionary, key, default_value):\n",
    "    pass  # Your code here\n",
    "```\n",
    "- Schreibe eine Python-Funktion, die eine Liste von Elementen als Parameter hat und ein Dictionary zurückgibt, welches die Häufigkeit jedes Elements in der Liste anzeigt:\n",
    "```python\n",
    "def item_frequency(list):\n",
    "    pass  # Your code here\n",
    "```"
   ]
  },
  {
   "cell_type": "markdown",
   "metadata": {
    "slideshow": {
     "slide_type": "slide"
    }
   },
   "source": [
    "## Operationen\n",
    "\n",
    "`+`: auf Zahlen, Strings, Listen   \n",
    "`-`, `*`, `**`, `/`, `//` (ganzzahliges Teilen), `%` (modulo): auf Zahlen"
   ]
  },
  {
   "cell_type": "code",
   "execution_count": null,
   "metadata": {
    "slideshow": {
     "slide_type": "fragment"
    }
   },
   "outputs": [],
   "source": [
    "10*3"
   ]
  },
  {
   "cell_type": "code",
   "execution_count": null,
   "metadata": {
    "slideshow": {
     "slide_type": "fragment"
    }
   },
   "outputs": [],
   "source": [
    "10**3"
   ]
  },
  {
   "cell_type": "code",
   "execution_count": null,
   "metadata": {
    "slideshow": {
     "slide_type": "fragment"
    }
   },
   "outputs": [],
   "source": [
    "10/3"
   ]
  },
  {
   "cell_type": "code",
   "execution_count": null,
   "metadata": {
    "slideshow": {
     "slide_type": "fragment"
    }
   },
   "outputs": [],
   "source": [
    "10//3"
   ]
  },
  {
   "cell_type": "code",
   "execution_count": null,
   "metadata": {
    "slideshow": {
     "slide_type": "fragment"
    }
   },
   "outputs": [],
   "source": [
    "10%3"
   ]
  },
  {
   "cell_type": "markdown",
   "metadata": {
    "slideshow": {
     "slide_type": "subslide"
    }
   },
   "source": [
    "**Übungen zu Operationen**:   \n",
    "https://www.w3schools.com/python/exercise.asp?x=xrcise_operators1"
   ]
  },
  {
   "cell_type": "markdown",
   "metadata": {
    "slideshow": {
     "slide_type": "subslide"
    }
   },
   "source": [
    "**Vergleichsoperationen**: \n",
    "\n",
    "- `==`: ist gleich\n",
    "- `!=`: ist ungleich\n",
    "- `>`: grösser als\n",
    "- `>=`: grösser oder gleich\n",
    "- `<`: kleiner als\n",
    "- `<=`: kleiner oder gleich\n",
    "\n",
    "**Logische Operatoren**: `and`, `or`, `not`"
   ]
  },
  {
   "cell_type": "code",
   "execution_count": null,
   "metadata": {
    "slideshow": {
     "slide_type": "subslide"
    }
   },
   "outputs": [],
   "source": [
    "numbers = [0, 1, 2, 3, 4, 5, 6, 7, 8, 9]\n",
    "print(f\"and: {'True' if (4 in numbers) and len(numbers) == 10 else 'False'}\")\n",
    "print(f\"or: {'True' if (4 in numbers) or len(numbers) == 5 else 'False'}\")\n",
    "print(f\"not: {'True' if not ((4 in numbers) and len(numbers) == 10) else 'False'}\")"
   ]
  },
  {
   "cell_type": "markdown",
   "metadata": {
    "slideshow": {
     "slide_type": "subslide"
    }
   },
   "source": [
    "**Zuweisungs Operatoren**: `=`, `+=`, `-=`, `*=`, `/=`, `%=`, `**=`, `//=`                       "
   ]
  },
  {
   "cell_type": "code",
   "execution_count": null,
   "metadata": {
    "slideshow": {
     "slide_type": "fragment"
    }
   },
   "outputs": [],
   "source": [
    "a = 20\n",
    "b = 15"
   ]
  },
  {
   "cell_type": "code",
   "execution_count": null,
   "metadata": {
    "slideshow": {
     "slide_type": "fragment"
    }
   },
   "outputs": [],
   "source": [
    "a += b\n",
    "print(f\"a={a}\")"
   ]
  },
  {
   "cell_type": "code",
   "execution_count": null,
   "metadata": {
    "slideshow": {
     "slide_type": "fragment"
    }
   },
   "outputs": [],
   "source": [
    "a -= b\n",
    "print(f\"a={a}\")"
   ]
  },
  {
   "cell_type": "code",
   "execution_count": null,
   "metadata": {
    "slideshow": {
     "slide_type": "fragment"
    }
   },
   "outputs": [],
   "source": [
    "a *= b\n",
    "print(f\"a={a}\")"
   ]
  },
  {
   "cell_type": "code",
   "execution_count": null,
   "metadata": {
    "slideshow": {
     "slide_type": "fragment"
    }
   },
   "outputs": [],
   "source": [
    "a /= b\n",
    "print(f\"a={a}\")"
   ]
  },
  {
   "cell_type": "code",
   "execution_count": null,
   "metadata": {
    "slideshow": {
     "slide_type": "subslide"
    }
   },
   "outputs": [],
   "source": [
    "a = 300\n",
    "a //= b\n",
    "print(f\"a={a}\")"
   ]
  },
  {
   "cell_type": "code",
   "execution_count": null,
   "metadata": {
    "slideshow": {
     "slide_type": "fragment"
    }
   },
   "outputs": [],
   "source": [
    "a %= 6\n",
    "print(f\"a={a}\")"
   ]
  },
  {
   "cell_type": "code",
   "execution_count": null,
   "metadata": {
    "slideshow": {
     "slide_type": "fragment"
    }
   },
   "outputs": [],
   "source": [
    "a **= 3\n",
    "print(f\"a={a}\")"
   ]
  },
  {
   "cell_type": "markdown",
   "metadata": {
    "slideshow": {
     "slide_type": "slide"
    }
   },
   "source": [
    "**Ternary Operator**: bedingter Operator   \n",
    "```py\n",
    "true_value if condition else false_value\n",
    "```"
   ]
  },
  {
   "cell_type": "code",
   "execution_count": null,
   "metadata": {
    "slideshow": {
     "slide_type": "fragment"
    }
   },
   "outputs": [],
   "source": [
    "'Wahr' if 42 else 'Falsch'"
   ]
  },
  {
   "cell_type": "markdown",
   "metadata": {
    "slideshow": {
     "slide_type": "slide"
    }
   },
   "source": [
    "### None\n",
    "\n",
    "Das Schlüsselwort `None` wird verwendet, um einen Nullwert oder gar keinen Wert zu definieren.   \n",
    "*Hinweis*: `None` ist ein eigener Datentyp und somit nicht das Gleiche wie beispielsweise `0`, `False` oder ein Leerstring."
   ]
  },
  {
   "cell_type": "markdown",
   "metadata": {
    "slideshow": {
     "slide_type": "slide"
    }
   },
   "source": [
    "## Übungen zu Datentypen\n",
    "\n",
    "* Erzeuge eine Liste mit den Zahlen 1 bis 30 mit einem einzeiligen Befehl.    \n",
    "* Erzeuge mit einem einzeiligen Befehl die Elferreihe.   \n",
    "  ℹ *Tipp*: `range()` und *list comprehension* verwenden.\n",
    "\n"
   ]
  },
  {
   "cell_type": "markdown",
   "metadata": {},
   "source": []
  }
 ],
 "metadata": {
  "celltoolbar": "Slideshow",
  "kernelspec": {
   "display_name": "Python 3 (ipykernel)",
   "language": "python",
   "name": "python3"
  },
  "language_info": {
   "codemirror_mode": {
    "name": "ipython",
    "version": 3
   },
   "file_extension": ".py",
   "mimetype": "text/x-python",
   "name": "python",
   "nbconvert_exporter": "python",
   "pygments_lexer": "ipython3",
   "version": "3.9.12"
  }
 },
 "nbformat": 4,
 "nbformat_minor": 4
}
