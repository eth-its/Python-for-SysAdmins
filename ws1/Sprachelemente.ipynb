{
 "cells": [
  {
   "cell_type": "markdown",
   "metadata": {},
   "source": [
    "# Einführung in Python\n",
    "\n",
    "## Konventionen\n",
    "\n",
    "Vgl. https://gitlab.ethz.ch/vermeul/python-best-practices/-/blob/master/03-Naming_Conventions.md\n",
    "\n",
    "Namen mit Unterstrichen verwenden, um Lesbarkeit zu erhöhen.  \n",
    "Kleinschreibung: Funktionen, Methoden.   \n",
    "Gross- und Kleinbuchstaben gemischt: Variablen, Klassen.   \n",
    "Grossbuchstaben: Konstanten.\n",
    "\n",
    "Begriffe aus der Problemdomäne verwenden (und nicht aus dem technischen Lösungsraum):   \n",
    "Z.B. *next_gene_sample()* (statt *next_record()*).   \n",
    "\n",
    "Typische Begriffe aus dem technische Lösungsraum:   \n",
    "node, item, element, object, index, key, data, values, record, descriptor, list, tree\n",
    "\n"
   ]
  },
  {
   "cell_type": "markdown",
   "metadata": {},
   "source": [
    "## Eingebaute Funktionen (*built-in functions*)\n",
    "\n",
    "`print()`, `len()` oder `range()` sind sog. eingebaute Funktionen (*built-in functions*).   \n",
    "Sie werden auf das Objekt angewendet, welches als Parameter übergeben wird.\n",
    "\n",
    "Liste aller *built-in functions*: https://docs.python.org/3/library/functions.html"
   ]
  },
  {
   "cell_type": "markdown",
   "metadata": {},
   "source": [
    "## Datentypen\n",
    "\n",
    "### Listen\n",
    "\n",
    "Liste: Wird mit eckigen Klammern gebildet `[]` (leere Liste).\n",
    "\n",
    "Listenfunktionen:"
   ]
  },
  {
   "cell_type": "code",
   "execution_count": null,
   "metadata": {},
   "outputs": [],
   "source": [
    "list1 = [1,2,3]\n",
    "\n",
    "# append()\n",
    "list1.append(\"42\")\n",
    "print(f\"append: {list1}\")\n",
    "\n",
    "# copy()\n",
    "list2 = list1.copy()\n",
    "print(f\"copy: {list2}\") \n",
    "\n",
    "# count()\n",
    "list1.append(5)\n",
    "print(f\"count of 5 (in list1): {list1.count(5)}\")\n",
    "print(f\"count of 5 (in list2): {list2.count(5)}\")\n",
    "\n",
    "# index()\n",
    "print(f\"index of 5 (in list1): {list1.index(5)}\")\n",
    "\n",
    "# insert()\n",
    "list1.insert(0, 5)\n",
    "print(f\"insert: {list1}\")\n",
    "\n",
    "# pop()\n",
    "list1.pop(0)\n",
    "print(f\"pop: {list1}\")\n",
    "\n",
    "# remove()\n",
    "list1.remove(5)\n",
    "print(f\"remove: {list1}\")\n",
    "\n",
    "# reverse()\n",
    "list1.reverse()\n",
    "print(f\"reverse: {list1}\")\n",
    "\n",
    "# sort()\n",
    "list1.remove('42')\n",
    "list1.append(55)\n",
    "list1.append(22)\n",
    "list1.sort()\n",
    "print(f\"sort: {list1}\")\n",
    "\n",
    "# clear()\n",
    "list1.clear()\n",
    "print(f\"clear (list1): {list1}\")\n",
    "print(f\"clear (list2): {list2}\")\n",
    "\n",
    "# built-in len()\n",
    "print(f\"len list1: {len(list1)}\")\n",
    "print(f\"len list2: {len(list2)}\")"
   ]
  },
  {
   "cell_type": "markdown",
   "metadata": {},
   "source": [
    "Mit `v in list` kann überprüft werden, ob ein bestimmter Wert in der Liste existiert.   \n",
    "Mit `list.remove(v)` wird der (erste) Wert *v* aus der Liste entfernt.   \n",
    "Mit `del list[i]` wird der Wert an der Stelle *i* in der Liste entfernt. \n",
    "\n",
    "Zugriff auf Listenelement (index >= 0):   \n",
    "- `my_list[index]` Element an der Stelle *index-1* (*zero-based*)\n",
    "- `my_list[-index]` Element an der Stelle *len(my_list)-index*   \n",
    "\n",
    "Zugriff auf Listenbereich (*slicing*):    \n",
    "- `my_list[start:stop]` Elemente von *start* bis *stop-1*\n",
    "- `my_list[start:]` Elemente von *start* bis zum Listenende\n",
    "- `my_list[:stop]` Elemente am Listenanfang bis *stop-1*\n",
    "- `my_list[:]` Kope der ganzen Liste\n",
    "\n",
    "Mit `del list[start:stop]` werden die Elemente von *start* bis *stop-1* aus der Liste entfernt."
   ]
  },
  {
   "cell_type": "code",
   "execution_count": null,
   "metadata": {},
   "outputs": [],
   "source": [
    "list1 = [0,1,2,3,4,5,6,7,8,9]\n",
    "\n",
    "print(f\"1) {42 in list1}\")\n",
    "list1.append(42)\n",
    "print(f\"2) {42 in list1}\")\n",
    "list1.remove(42)\n",
    "print(f\"3) {42 in list1}\")\n",
    "\n",
    "print(list1[4])\n",
    "print(list1[1:4])\n",
    "print(list1[-1])\n",
    "print(list1[-4:])\n",
    "print(f\"Anzahl Elemente (1): {len(list1)}\")\n",
    "\n",
    "del list1[1:4]\n",
    "print(f\"Anzahl Elemente (2): {len(list1)}\")\n",
    "\n",
    "list2 = \"Ein String ist eine Liste von Zeichen\"\n",
    "print(list2[4])\n",
    "print(list2[1:4])\n",
    "print(list2[-1])\n",
    "print(list2[-4:])\n",
    "print(f\"count 'e': {list2.count('e')}\")\n",
    "print(f\"Anzahl Zeichen: {len(list2)}\")"
   ]
  },
  {
   "cell_type": "markdown",
   "metadata": {},
   "source": [
    "#### List comprehension\n",
    "\n",
    "*List comprehension* ist eine Technik, um auf einer Code-Zeile die Elemente einer Liste zu verwalten oder umzuorganisieren.   \n",
    "Der Code einer *list comprehension* sieht tyischerweise wie folgt aus: `[op(i) for i in list if condition(i)]`.    \n",
    "\n",
    "Beispiel: erzeuge eine Liste aller (ungeraden) Quadrate der Zahlen 1 bis 10:"
   ]
  },
  {
   "cell_type": "code",
   "execution_count": null,
   "metadata": {},
   "outputs": [],
   "source": [
    "squares = [i**2 for i in range(1,11)]\n",
    "print(squares)\n",
    "\n",
    "odd_squares = [i**2 for i in range(1,11) if i%2 == 1]\n",
    "print(odd_squares)"
   ]
  },
  {
   "cell_type": "markdown",
   "metadata": {},
   "source": [
    "Übungen zu Listen: https://www.w3schools.com/python/exercise.asp?filename=exercise_lists1"
   ]
  },
  {
   "cell_type": "markdown",
   "metadata": {},
   "source": [
    "### Tupel\n",
    "\n",
    "Tupel sind unveränderliche Listen. Sie werden mit runden Klammern `()` erzeugt."
   ]
  },
  {
   "cell_type": "code",
   "execution_count": null,
   "metadata": {},
   "outputs": [],
   "source": [
    "immutable = (0, 1, 2, 3)\n",
    "print(f\"{immutable}\")\n",
    "print(f\"{immutable[-2:]}\")"
   ]
  },
  {
   "cell_type": "markdown",
   "metadata": {},
   "source": [
    "### Strings\n",
    "\n",
    "Strings: `\"` oder `'`, Longstrings mit `\"\"\"` .  \n",
    "Ein String ist eine Liste von Zeichen.   \n",
    "f-String: `f\"String mit Wert={some_variable}!\"` (formattierte String)\n",
    "\n",
    "#### String-Methoden\n",
    "\n",
    "Methoden, welche speziell auf Strings wirken (siehe http://www.python-ds.com/python-3-string-methods).   \n",
    "Beispiel: *String.strip()*"
   ]
  },
  {
   "cell_type": "code",
   "execution_count": null,
   "metadata": {},
   "outputs": [],
   "source": [
    "# strip()\n",
    "text = \"          nur text         \"\n",
    "print(f\"original: >{text}<\")\n",
    "print(f\"stripped: >{text.strip()}<\")"
   ]
  },
  {
   "cell_type": "markdown",
   "metadata": {},
   "source": [
    "**Hinweis**: *String.join(list)*   \n",
    "Konvertiert eine Liste in einen String, wobei der String als Separator der Listenelemente verwendet wird.   \n",
    "\n",
    "**Effizienz**: Strings sind unveränderliche Objekte. Es ist deshalb einfacher, eine lange Liste mit `list.append(element)` zu erzeugen und danach die Liste mit `\"\".join(list)` zu einem String zu konvertieren, als den String mit `long_string + element` laufend neu zu erzeugen."
   ]
  },
  {
   "cell_type": "code",
   "execution_count": null,
   "metadata": {},
   "outputs": [],
   "source": [
    "long_list = ['a', 'b', 'c', 'd', 'e', 'f', 'g', 'h', 'i', 'j', 'k', 'l', 'm', 'n', 'o', 'p', 'q', 'r', 's', 't', 'u', 'v', 'w', 'x', 'y']\n",
    "long_list.append('z')\n",
    "\"\".join(long_list)\n",
    "print(\"\".join(long_list))\n",
    "\n",
    "# weniger effizient\n",
    "long_string = 'abcdefghijklmnopqrstuvwxy'\n",
    "long_string = long_string + 'z'\n",
    "print(long_string)\n",
    "\n",
    "print(\"\".join(long_list) == long_string)"
   ]
  },
  {
   "cell_type": "markdown",
   "metadata": {},
   "source": [
    "#### Zeichensätze\n",
    "\n",
    "Strings sind in Python 3 Unicode-Objekte. Strings können somit nicht nur ASCII-Zeichen, sondern auch aller Umlaute und sogar Emojis enthalten."
   ]
  },
  {
   "cell_type": "code",
   "execution_count": null,
   "metadata": {},
   "outputs": [],
   "source": [
    "unicode_string = \"Dieser Text enthält ein Emoji: 😘!\"\n",
    "print(unicode_string)\n",
    "print(type(unicode_string))"
   ]
  },
  {
   "cell_type": "markdown",
   "metadata": {},
   "source": [
    "Innerhalb einer Python-Applikation soll beim Arbeiten mit Strings ausschliesslich mit Unicode-Objekten gearbeitet werden. Das bedeutet, dass an einer Systemgrenze (z.B. an der Schnittstelle zum Filesystem oder zu einer Datenbank) Texte beim Lesen in Unicode umgewandelt (*decodiert*) werden müssen. Beim Schreiben erfolgt der umgekehrte Prozess, der String muss *codiert* werden (z.B. in *UTF-8* oder *iso_8859_1*)."
   ]
  },
  {
   "cell_type": "code",
   "execution_count": null,
   "metadata": {},
   "outputs": [],
   "source": [
    "lines = []\n",
    "with open('unicode.txt', encoding='utf-8') as f:\n",
    "    for line in f:\n",
    "        lines.append(line)\n",
    "        \n",
    "print(\"-> \".join(lines))"
   ]
  },
  {
   "cell_type": "markdown",
   "metadata": {},
   "source": [
    "### Dictionaries\n",
    "\n",
    "Ein *Python Dictionary* ist eine Zuordnung von Schlüssel zu Werten. Der Zweck eines *Dictionarys* ist der Zugriff auf einen Wert über seinen Schlüssel.  \n",
    "Jeder mögliche Datentyp in Python kann ein Wert in einem *Dictionary* sein.    \n",
    "Als Schlüssel dürfen nur unveränderliche Datentypen (z.B. Zahlen, Strings, Tuples) verwendet werden.    \n",
    "Ein *Dictionary* wird mir geschweiften Klammern gebildet `{}`."
   ]
  },
  {
   "cell_type": "code",
   "execution_count": null,
   "metadata": {},
   "outputs": [],
   "source": [
    "month_feb = [1, 2, 3, 4, 5, 6, 7, 8, 9, 10, 11, 12, 13, 14, 15, 16, 17, 18, 19, 20, 21, 22, 23, 24, 25, 26, 27, 28]\n",
    "month_short = month_feb + [29, 30]\n",
    "month_long = month_short + [31]\n",
    "year = {\n",
    "    \"Januar\": month_long,\n",
    "    \"Februar\": month_feb,\n",
    "    \"März\": month_long,\n",
    "    \"April\": month_short,\n",
    "    \"Mai\": month_long,\n",
    "    \"Juni\": month_short,\n",
    "    \"Juli\": month_long,\n",
    "    \"August\": month_long,\n",
    "    \"September\": month_short,\n",
    "    \"Oktober\": month_long,\n",
    "    \"November\": month_short,\n",
    "    \"Dezember\": month_long,\n",
    "}\n",
    "print(f\"Januar: {year['Januar']}\")\n",
    "print(f\"Februar: {year['Februar']}\")\n",
    "print(f\"März: {year['März']}\")\n",
    "print(f\"April: {year['April']}\")"
   ]
  },
  {
   "cell_type": "markdown",
   "metadata": {},
   "source": [
    "Zugriff auf ein Element: `dict[key]` oder `dict.get(key)`. Die Methode `get()` erlaubt mit dem zweiten Parameter einen Standardwert zu übergeben. Dieser wird zurückgegeben, falls im *Dictionary* kein Wert zum verlangten Schlüssel existiert. \n",
    "\n",
    "Ein neues Element kann mit `dict[key] = value` eingefügt oder überschrieben werden.    \n",
    "Mit `dict.pop(\"key\")` wird der Eintrag mit dem entsprechenden Schlüssel entfernt.   \n",
    "Mit `key in dict` kann überprüft werden, ob ein Element mit dem entsprechenden Schlüssel existiert."
   ]
  },
  {
   "cell_type": "code",
   "execution_count": null,
   "metadata": {},
   "outputs": [],
   "source": [
    "car = {\n",
    "  \"brand\": \"Ford\",\n",
    "  \"model\": \"Mustang\",\n",
    "  \"year\": 1964\n",
    "}\n",
    "print(car[\"brand\"])\n",
    "print(car.get(\"brand\", \"VW\"))\n",
    "print(car.get(\"color\", \"gelb\"))\n",
    "\n",
    "car[\"color\"] = \"grün\"\n",
    "print(car.get(\"color\", \"gelb\"))\n",
    "print(car[\"color\"])\n",
    "print(\"color\" in car)\n",
    "\n",
    "car.pop(\"color\")\n",
    "print(car.get(\"color\", \"gelb\"))\n",
    "print(\"color\" in car)"
   ]
  },
  {
   "cell_type": "markdown",
   "metadata": {},
   "source": [
    "Über ein *Dictionary* iterieren: `dict.keys()`, `dict.values()`, `dict.items()` oder `for key in dict:`"
   ]
  },
  {
   "cell_type": "code",
   "execution_count": null,
   "metadata": {},
   "outputs": [],
   "source": [
    "car = {\n",
    "  \"brand\": \"Ford\",\n",
    "  \"model\": \"Mustang\",\n",
    "  \"year\": 1964\n",
    "}\n",
    "print(f\"Alle Schlüssel: {car.keys()}\")\n",
    "print(f\"Alle Werte: {car.values()}\")\n",
    "print(f\"Alle Items: {car.items()}\")\n",
    "\n",
    "for k,v in car.items():\n",
    "    print(f\"Methode 1 - {k}: {v}\")\n",
    "\n",
    "for k in car:\n",
    "    print(f\"Methode 2 - {k}: {car[k]}\")"
   ]
  },
  {
   "cell_type": "markdown",
   "metadata": {},
   "source": [
    "Übungen zu Dictionaries: https://www.w3schools.com/python/exercise.asp?filename=exercise_dictionaries1"
   ]
  },
  {
   "cell_type": "markdown",
   "metadata": {},
   "source": [
    "### Boolean\n",
    "\n",
    "*True* / *False*\n",
    "\n",
    "Interpretation von numerischen Werten:\n",
    "\n",
    "0 -> *False* / != 0 -> *True*\n",
    "\n",
    "Interpretation von Strings:\n",
    "\n",
    "Leerstring -> *False*, sonst *True*\n",
    "\n",
    "Interpretation von Listen:\n",
    "\n",
    "Leere Liste -> *False*, sonst *True*"
   ]
  },
  {
   "cell_type": "code",
   "execution_count": null,
   "metadata": {},
   "outputs": [],
   "source": [
    "print(f\"1: {'True' if True else 'False'}\")\n",
    "print(f\"2: {'True' if False else 'False'}\")\n",
    "print(f\"3: {'True' if '' else 'False'}\")\n",
    "print(f\"4: {'True' if 'False' else 'False'}\")\n",
    "print(f\"5: {'True' if 3+4 else 'False'}\")\n",
    "print(f\"6: {'True' if 0 else 'False'}\")\n",
    "print(f\"7: {'True' if -1 else 'False'}\")\n",
    "print(f\"8: {'True' if [] else 'False'}\")\n",
    "print(f\"9: {'True' if [1,-1] else 'False'}\")\n",
    "print(f\"10: {'True' if 3==4 else 'False'}\")"
   ]
  },
  {
   "cell_type": "markdown",
   "metadata": {},
   "source": [
    "Übungen zu Boolean: https://www.w3schools.com/python/exercise.asp?filename=exercise_booleans1\n",
    "\n",
    "## Zahlen\n",
    "\n",
    "Python kennt ganze Zahlen und Fliesskommazahlen. Letztere können mit einem Punkt (z.B. `3.141`) oder in Exponentialschreibweise dargestellt werden."
   ]
  },
  {
   "cell_type": "code",
   "execution_count": null,
   "metadata": {},
   "outputs": [],
   "source": [
    "n = 42\n",
    "print(f\"Integer: {n}\")\n",
    "\n",
    "f = 4.2\n",
    "print(f\"Float: {f}\")\n",
    "\n",
    "nf = n * 1.0\n",
    "print(f\"Konvertierter Float: {nf}\")\n",
    "\n",
    "print(f\"Exponentialschreibweise: 4321e-3={4321e-3}\")"
   ]
  },
  {
   "cell_type": "markdown",
   "metadata": {},
   "source": [
    "## Operationen\n",
    "\n",
    "`+`: auf Zahlen, Strings, Listen   \n",
    "`-`, `*`, `**`, `/`, `//` (ganzzahliges Teilen), `%` (modulo): auf Zahlen"
   ]
  },
  {
   "cell_type": "code",
   "execution_count": null,
   "metadata": {},
   "outputs": [],
   "source": [
    "print(f\"{10*3}\")\n",
    "print(f\"{10**3}\")\n",
    "print(f\"{10/3}\")\n",
    "print(f\"{10//3}\")\n",
    "print(f\"{10%3}\")"
   ]
  },
  {
   "cell_type": "markdown",
   "metadata": {},
   "source": [
    "Übungen zu Operationen: https://www.w3schools.com/python/exercise.asp?filename=exercise_operators1"
   ]
  },
  {
   "cell_type": "markdown",
   "metadata": {},
   "source": [
    "**Vergleichsoperationen**: \n",
    "\n",
    "- `==`: ist gleich\n",
    "- `!=`: ist ungleich\n",
    "- `>`: grösser als\n",
    "- `>=`: grösser oder gleich\n",
    "- `<`: kleiner als\n",
    "- `<=`: kleiner oder gleich\n",
    "\n",
    "**Logische Operatoren**: `and`, `or`, `not`"
   ]
  },
  {
   "cell_type": "code",
   "execution_count": null,
   "metadata": {},
   "outputs": [],
   "source": [
    "numbers = [0, 1, 2, 3, 4, 5, 6, 7, 8, 9]\n",
    "print(f\"and: {'True' if (4 in numbers) and len(numbers) == 10 else 'False'}\")\n",
    "print(f\"or: {'True' if (4 in numbers) or len(numbers) == 5 else 'False'}\")\n",
    "print(f\"not: {'True' if not ((4 in numbers) and len(numbers) == 10) else 'False'}\")"
   ]
  },
  {
   "cell_type": "markdown",
   "metadata": {},
   "source": [
    "**Zuweisungs Operatoren**: `=`, `+=`, `-=`, `*=`, `/=`, `%=`, `**=`, `//=`                       "
   ]
  },
  {
   "cell_type": "code",
   "execution_count": null,
   "metadata": {},
   "outputs": [],
   "source": [
    "a = 20\n",
    "b = 15\n",
    "print(f\"1) a={a}\")\n",
    "a += b\n",
    "print(f\"2) a={a}\")\n",
    "a -= b\n",
    "print(f\"3) a={a}\")\n",
    "a *= b\n",
    "print(f\"4) a={a}\")\n",
    "a /= b\n",
    "print(f\"5) a={a}\")\n",
    "a = 300\n",
    "a //= b\n",
    "print(f\"6) a={a}\")\n",
    "a %= 6\n",
    "print(f\"7) a={a}\")\n",
    "a **= 3\n",
    "print(f\"8) a={a}\")"
   ]
  },
  {
   "cell_type": "markdown",
   "metadata": {},
   "source": [
    "**Ternary Operator**: bedingter Operator   \n",
    "`true_value if condition else false_value`"
   ]
  },
  {
   "cell_type": "code",
   "execution_count": null,
   "metadata": {},
   "outputs": [],
   "source": [
    "print(f\"ternary: {'Wahr' if 42 else 'Falsch'}\")"
   ]
  },
  {
   "cell_type": "markdown",
   "metadata": {},
   "source": [
    "### None\n",
    "\n",
    "Das Schlüsselwort `None` wird verwendet, um einen Nullwert oder gar keinen Wert zu definieren.   \n",
    "*Hinweis*: `None` ist ein eigener Datentyp und somit nicht das Gleiche wie beispielsweise `0`, `False` oder ein Leerstring.\n",
    "\n",
    "## Übungen zu Datentypen\n",
    "\n",
    "Erzeuge eine Liste mit den Zahlen 1 bis 30 mit einem einzeiligen Befehl.    \n",
    "Erzeuge mit einem einzeiligen Befehl die Elferreihe.   \n",
    "*Tipp*: *range()* und *list comprehension* verwenden.\n",
    "\n",
    "Allg.: https://www.w3schools.com/python/exercise.asp?filename=exercise_datatypes1\n"
   ]
  }
 ],
 "metadata": {
  "kernelspec": {
   "display_name": "Python 3",
   "language": "python",
   "name": "python3"
  },
  "language_info": {
   "codemirror_mode": {
    "name": "ipython",
    "version": 3
   },
   "file_extension": ".py",
   "mimetype": "text/x-python",
   "name": "python",
   "nbconvert_exporter": "python",
   "pygments_lexer": "ipython3",
   "version": "3.8.6"
  }
 },
 "nbformat": 4,
 "nbformat_minor": 4
}
