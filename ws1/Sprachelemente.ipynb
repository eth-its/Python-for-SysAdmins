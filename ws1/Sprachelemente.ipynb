{
 "cells": [
  {
   "cell_type": "markdown",
   "metadata": {},
   "source": [
    "# Einführung in Python\n",
    "\n",
    "(28 Jupyter Notebook Tips, Tricks, and Shortcuts: https://www.dataquest.io/blog/jupyter-notebook-tips-tricks-shortcuts/)\n",
    "\n",
    "## Konventionen\n",
    "\n",
    "Vgl. https://gitlab.ethz.ch/vermeul/python-best-practices/-/blob/master/03-Naming_Conventions.md\n",
    "\n",
    "Namen mit Unterstrichen verwenden, um Lesbarkeit zu erhöhen.  \n",
    "Kleinschreibung: Funktionen, Methoden.   \n",
    "Gross- und Kleinbuchstaben gemischt: Variablen, Klassen.   \n",
    "Grossbuchstaben: Konstanten.\n",
    "\n",
    "Begriffe aus der Problemdomäne verwenden (und nicht aus dem technischen Lösungsraum):   \n",
    "Z.B. *next_gene_sample()* (statt *next_record()*).   \n",
    "\n",
    "Typische Begriffe aus dem technische Lösungsraum:   \n",
    "node, item, element, object, index, key, data, values, record, descriptor, list, tree\n",
    "\n"
   ]
  },
  {
   "cell_type": "markdown",
   "metadata": {},
   "source": [
    "## Sprachelemente\n",
    "\n",
    "*Bem*: `print()` und `len()` sind sog. eingebaute Funktionen (*built-in functions*).   \n",
    "Sie werden auf das Objekt angewendet, welches als Parameter übergeben wird.\n",
    "\n",
    "Strings: `\"` oder `'`, Longstrings mit `\"\"\"` .  \n",
    "Ein String ist eine Liste von Zeichen.   \n",
    "f-String: `f\"String mit Wert={some_variable}!\"`\n",
    "\n",
    "Liste: Wird mit eckigen Klammern gebildet `[]` (leere Liste).\n",
    "\n",
    "Listenfunktionen:"
   ]
  },
  {
   "cell_type": "code",
   "execution_count": 35,
   "metadata": {},
   "outputs": [
    {
     "name": "stdout",
     "output_type": "stream",
     "text": [
      "append: [1, 2, 3, '42']\n",
      "copy: [1, 2, 3, '42']\n",
      "count of 5 (in list1): 1\n",
      "count of 5 (in list2): 0\n",
      "index of 5 (in list1): 4\n",
      "insert: [5, 1, 2, 3, '42', 5]\n",
      "pop: [1, 2, 3, '42', 5]\n",
      "remove: [1, 2, 3, '42']\n",
      "reverse: ['42', 3, 2, 1]\n",
      "sort: [1, 2, 3, 22, 55]\n",
      "clear (list1): []\n",
      "clear (list2): [1, 2, 3, '42']\n",
      "len list1: 0\n",
      "len list2: 4\n"
     ]
    }
   ],
   "source": [
    "list1 = [1,2,3]\n",
    "\n",
    "# append()\n",
    "list1.append(\"42\")\n",
    "print(f\"append: {list1}\")\n",
    "\n",
    "# copy()\n",
    "list2 = list1.copy()\n",
    "print(f\"copy: {list2}\") \n",
    "\n",
    "# count()\n",
    "list1.append(5)\n",
    "print(f\"count of 5 (in list1): {list1.count(5)}\")\n",
    "print(f\"count of 5 (in list2): {list2.count(5)}\")\n",
    "\n",
    "# index()\n",
    "print(f\"index of 5 (in list1): {list1.index(5)}\")\n",
    "\n",
    "# insert()\n",
    "list1.insert(0, 5)\n",
    "print(f\"insert: {list1}\")\n",
    "\n",
    "# pop()\n",
    "list1.pop(0)\n",
    "print(f\"pop: {list1}\")\n",
    "\n",
    "# remove()\n",
    "list1.remove(5)\n",
    "print(f\"remove: {list1}\")\n",
    "\n",
    "# reverse()\n",
    "list1.reverse()\n",
    "print(f\"reverse: {list1}\")\n",
    "\n",
    "# sort()\n",
    "list1.remove('42')\n",
    "list1.append(55)\n",
    "list1.append(22)\n",
    "list1.sort()\n",
    "print(f\"sort: {list1}\")\n",
    "\n",
    "# clear()\n",
    "list1.clear()\n",
    "print(f\"clear (list1): {list1}\")\n",
    "print(f\"clear (list2): {list2}\")\n",
    "\n",
    "# built-in len()\n",
    "print(f\"len list1: {len(list1)}\")\n",
    "print(f\"len list2: {len(list2)}\")"
   ]
  },
  {
   "cell_type": "markdown",
   "metadata": {},
   "source": [
    "Zugriff auf Listenelemente und -bereiche mit `[]`:"
   ]
  },
  {
   "cell_type": "code",
   "execution_count": 48,
   "metadata": {},
   "outputs": [
    {
     "name": "stdout",
     "output_type": "stream",
     "text": [
      "4\n",
      "[1, 2, 3]\n",
      "9\n",
      "[6, 7, 8, 9]\n",
      "Anzahl Elemente: 10\n",
      "S\n",
      "in \n",
      "n\n",
      "chen\n",
      "count 'e': 5\n",
      "Anzahl Zeichen: 37\n"
     ]
    }
   ],
   "source": [
    "list1 = [0,1,2,3,4,5,6,7,8,9]\n",
    "\n",
    "print(list1[4])\n",
    "print(list1[1:4])\n",
    "print(list1[-1])\n",
    "print(list1[-4:])\n",
    "print(f\"Anzahl Elemente: {len(list1)}\")\n",
    "\n",
    "list2 = \"Ein String ist eine Liste von Zeichen\"\n",
    "print(list2[4])\n",
    "print(list2[1:4])\n",
    "print(list2[-1])\n",
    "print(list2[-4:])\n",
    "print(f\"count 'e': {list2.count('e')}\")\n",
    "print(f\"Anzahl Zeichen: {len(list2)}\")"
   ]
  },
  {
   "cell_type": "markdown",
   "metadata": {},
   "source": [
    "Spezielle String-Methoden (siehe http://www.python-ds.com/python-3-string-methods)"
   ]
  },
  {
   "cell_type": "code",
   "execution_count": 49,
   "metadata": {},
   "outputs": [
    {
     "name": "stdout",
     "output_type": "stream",
     "text": [
      "          nur text         \n",
      "nur text\n"
     ]
    }
   ],
   "source": [
    "# strip()\n",
    "text = \"          nur text         \"\n",
    "print(text)\n",
    "print(text.strip())"
   ]
  }
 ],
 "metadata": {
  "kernelspec": {
   "display_name": "Python 3",
   "language": "python",
   "name": "python3"
  },
  "language_info": {
   "codemirror_mode": {
    "name": "ipython",
    "version": 3
   },
   "file_extension": ".py",
   "mimetype": "text/x-python",
   "name": "python",
   "nbconvert_exporter": "python",
   "pygments_lexer": "ipython3",
   "version": "3.8.6"
  }
 },
 "nbformat": 4,
 "nbformat_minor": 4
}
