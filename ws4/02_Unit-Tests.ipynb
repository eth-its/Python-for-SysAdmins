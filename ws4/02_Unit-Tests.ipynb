{
 "cells": [
  {
   "cell_type": "markdown",
   "metadata": {
    "slideshow": {
     "slide_type": "slide"
    }
   },
   "source": [
    "# Unit-Tests\n",
    "\n",
    "Mit Unit-Tests kann die Funktionalität einer Python-Anwendung automatisiert getestet werden.\n",
    "Gleichzeitig sind sie für später eine Dokumentation (wie können die einzelnen Funktionen / Methoden aufgerufen werden, was geben sie zurück).\n",
    "\n",
    "Tests werden üblicherweise in einem `test` / `tests` Ordner untergebracht.\n",
    "\n",
    "```\n",
    "projekt/\n",
    "├── README.md\n",
    "├── modul/\n",
    "|   ├── __init__.py\n",
    "|   └── ...\n",
    "└── test/\n",
    "    ├── test_a.py\n",
    "    ├── test_b.py\n",
    "    └── ...\n",
    "```\n",
    "\n",
    "Und dann mit einem Testrunner kollektiv / parallel gestestet.\n",
    "Die Python Standardbibliothek kommt bereits mit einem test framework / Testrunner [unittest](https://docs.python.org/3/library/unittest.html).\n",
    "Es hat sich jedoch in den meisten Projekten das Externe Framework [pytest](https://docs.pytest.org/en/7.3.x/) als Standard durchgesetzt."
   ]
  },
  {
   "cell_type": "markdown",
   "metadata": {
    "slideshow": {
     "slide_type": "subslide"
    }
   },
   "source": [
    "## Das *py.test* Framework:\n",
    "\n",
    "Das *pytest*-Modul ist ähnlich dem [unittest](https://docs.python.org/3/library/unittest.html)-Modul. Es muss mit `pip` installiert werden:"
   ]
  },
  {
   "cell_type": "code",
   "execution_count": null,
   "metadata": {
    "slideshow": {
     "slide_type": "fragment"
    }
   },
   "outputs": [],
   "source": [
    "!pip install pytest"
   ]
  },
  {
   "cell_type": "markdown",
   "metadata": {
    "slideshow": {
     "slide_type": "fragment"
    }
   },
   "source": [
    "In *pytest* beginnt jede Methode mit `test_`. Mit dem `assert` Schlüsselwort wird der erwartete Wert mit dem aktuellen Wert verglichen."
   ]
  },
  {
   "cell_type": "markdown",
   "metadata": {
    "slideshow": {
     "slide_type": "subslide"
    }
   },
   "source": [
    "### Beispiel: `SurveyResponse` Klasse\n",
    "\n",
    "Um direkt innerhalb dieses Notebooks tests laufen lassen zu können, verwenden wir die `ipython_pytest`-Erweiterung.\n",
    "Normalerweise würde aber der folgende Test in ein File im Ordner `test` / `tests` geschrieben werden und mittels\n",
    "```sh\n",
    "pytest\n",
    "```\n",
    "im Projektordner getestet werden."
   ]
  },
  {
   "cell_type": "code",
   "execution_count": null,
   "metadata": {
    "slideshow": {
     "slide_type": "fragment"
    }
   },
   "outputs": [],
   "source": [
    "%load_ext ipython_pytest"
   ]
  },
  {
   "cell_type": "code",
   "execution_count": null,
   "metadata": {
    "slideshow": {
     "slide_type": "subslide"
    }
   },
   "outputs": [],
   "source": [
    "%%pytest\n",
    "\n",
    "import pytest\n",
    "\n",
    "from survey_response import SurveyResponse\n",
    "\n",
    "BODY = \"\"\"First name: Chuck\n",
    "name: Norris\n",
    "mail: chucknorris@roundhouse.gov\n",
    "lecture: Roundhouse Kicks\n",
    "\"\"\"\n",
    "\n",
    "RESPONSE = SurveyResponse(\n",
    "    first_name=\"Chuck\",\n",
    "    name=\"Norris\",\n",
    "    lecture=\"Roundhouse Kicks\",\n",
    "    mail=\"chucknorris@roundhouse.gov\"\n",
    ")\n",
    "\n",
    "# unit tests using pyest:\n",
    "\n",
    "def test_survey_response_can_load_simple_response():\n",
    "    expected_response = RESPONSE\n",
    "    assert SurveyResponse.from_body(BODY) == expected_response\n",
    "\n",
    "def test_survey_response_raises_error_for_invalid_field():\n",
    "    body = BODY + \"comment: Chucknorris counted to ∞ - twice!\\n\"\n",
    "    with pytest.raises(TypeError):\n",
    "        SurveyResponse.from_body(body)\n",
    "\n",
    "def test_servey_response_creates_correct_csv_line():\n",
    "    csv_line = RESPONSE.to_csv()\n",
    "    expected_csv_line = \"; Chuck; Norris; chucknorris@roundhouse.gov; Roundhouse Kicks; 'Nein'; \"\n",
    "    assert csv_line == expected_csv_line\n"
   ]
  },
  {
   "cell_type": "markdown",
   "metadata": {
    "slideshow": {
     "slide_type": "subslide"
    }
   },
   "source": [
    "Stellt `assert` einen Fehler fest, wird eine ausführliche Meldung ausgegeben.\n",
    "\n",
    "Üblicherweise befindet die Funktionlität in einem Modul (z.B. *point.py*), während für die Tests ein zweites Modul erzeugt wird (z.B. *test_point.py*). Mit dem Befehl `pytest` werden die Module *test_???.py* im aktuellen Verzeichnis ausgefüht, d.h. es werden alle Funktionen in solchen Modulen, welche mit `test_` beginnen, aufgerufen.\n",
    "\n",
    "Wird *pytest* auf der Kommandozeile aufgerufen, können Flags angefügt werden (siehe [pytest - Usage and Invocations](https://docs.pytest.org/en/stable/usage.html)):\n",
    "- `pytest -x`: nach dem ersten Fehler stoppen\n",
    "- `pytest --lf`: den Test mit dem letzten Fehler aufrufen\n",
    "- `pytest --pdb`: in den Python-Debugger (PDB) wechseln, wenn ein Fehler gefunden wird\n",
    "\n"
   ]
  },
  {
   "cell_type": "markdown",
   "metadata": {
    "slideshow": {
     "slide_type": "subslide"
    }
   },
   "source": [
    "### Arbeiten mit *pytest fixtures*\n",
    "\n",
    "Im Test der `SurveyResponse`-Klasse wurden in den einzelnen Tests die Variablen `BODY` und `RESPONSE` mehrfach verwendet.\n",
    "Um unabsichtliches Überschreiben dieser dieser toplevel Objekte durch Tests zu vermeiden, können *Fixture*s verwendet werden. Eine Fixture ist eine Methode, welche mit `@pytest.fixture` annotiert ist und verwendet werden kann, um die Erzeugung von Testobjekten zu vereinfachen.  \n",
    "Die Fixture wird den Testmethoden als Parameter übergeben und kennzeichnet so explizit den Gebrauch dieses Parameters im Test."
   ]
  },
  {
   "cell_type": "code",
   "execution_count": null,
   "metadata": {
    "slideshow": {
     "slide_type": "subslide"
    }
   },
   "outputs": [],
   "source": [
    "%%pytest\n",
    "\n",
    "import pytest\n",
    "\n",
    "from survey_response import SurveyResponse\n",
    "\n",
    "@pytest.fixture\n",
    "def given_body():\n",
    "    return \"\"\"First name: Chuck\n",
    "name: Norris\n",
    "mail: chucknorris@roundhouse.gov\n",
    "lecture: Roundhouse Kicks\n",
    "\"\"\"\n",
    "\n",
    "@pytest.fixture\n",
    "def response():\n",
    "    return SurveyResponse(\n",
    "        first_name=\"Chuck\",\n",
    "        name=\"Norris\",\n",
    "        lecture=\"Roundhouse Kicks\",\n",
    "        mail=\"chucknorris@roundhouse.gov\"\n",
    "    )\n",
    "\n",
    "\n",
    "def test_survey_response_can_load_simple_response(given_body, response):\n",
    "    expected_response = response\n",
    "    assert SurveyResponse.from_body(given_body) == expected_response\n",
    "\n",
    "def test_survey_response_raises_error_for_invalid_field(given_body):\n",
    "    given_body += \"comment: Chucknorris counted to ∞ - twice!\\n\"\n",
    "    with pytest.raises(TypeError):\n",
    "        SurveyResponse.from_body(body)\n",
    "\n",
    "def test_servey_response_creates_correct_csv_line(response):\n",
    "    csv_line = response.to_csv()\n",
    "    expected_csv_line = \"; Chuck; Norris; chucknorris@roundhouse.gov; Roundhouse Kicks; 'Nein'; \"\n",
    "    assert csv_line == expected_csv_line\n"
   ]
  },
  {
   "cell_type": "markdown",
   "metadata": {
    "slideshow": {
     "slide_type": "subslide"
    }
   },
   "source": [
    "Fixtures eignen sich speziell, wenn Ressourcen zur Verfügung gestellt werden müssen, deren Erzeugung zeitaufwendig ist (z.B. DB- oder Online-Verbindungen). In diesem Fall kann die Fixture mit einem Scope versehen werden. Folgende Scopes sind möglich: \n",
    "- *function*: die Fixture wird für jede Testfunktion erstellt und zerstört (default).\n",
    "- *class*: die Fixture wird zerstört, nachdem die letzte Testfunktion einer Klasse aufgerufen worden ist.\n",
    "- *module*: die Fixture wird nach der letzten Funktion eines Moduls zerstört.\n",
    "- *package*: die Fixture wird nach der letzten Funktion eines Pakets zerstört.\n",
    "- *session*: die Fixture wird am Ende der Session zerstört.\n",
    "\n",
    "Wird in einem Testmodul eine Datenbank-Verbindung verwendet, dann kann diese beispielsweise in einer Fixture `@pytest.fixture(scope=\"module\")` erzeugt werden.\n",
    "\n",
    "Werden die Fixtures eines Projekts in ein Modul mit dem Namen `conftest.py` verschoben, werden sie von *pytest* automatisch gefunden, müssen also nicht explizit in das Testmodul importiert werden.\n",
    "\n",
    "(siehe [pytest fixtures: explicit, modular, scalable](https://docs.pytest.org/en/stable/fixture.html))"
   ]
  },
  {
   "cell_type": "markdown",
   "metadata": {
    "slideshow": {
     "slide_type": "subslide"
    }
   },
   "source": [
    "### *pytest* plugins\n",
    "\n",
    "Zu *pytest* gibt es eine grosse Anzahl von Plugins. Diese können mit *pip* installiert werden.\n",
    "\n",
    "Mit dem Plugin [*pytest-cov*](https://github.com/pytest-dev/pytest-cov) kann beispielsweise die Testabdeckung des Codes bestimmt werden."
   ]
  },
  {
   "cell_type": "markdown",
   "metadata": {
    "slideshow": {
     "slide_type": "subslide"
    }
   },
   "source": [
    "## Das *unittest* Modul:\n",
    "\n",
    "Die Testklasse leitet von `unittest.TestCase` ab. Mit der `unittest.assertEqual()`-Methoden wird der aktuelle Wert mit einem erwarteten Wert verglichen. Weitere `.assert*()`-Methoden: `.assertTrue(x)`, `.assertFalse(x)`, `.assertIs(a, b)`, `.assertIsNone(x)`, `.assertIn(a, b)`, `.assertIsInstance(a, b)`."
   ]
  },
  {
   "cell_type": "markdown",
   "metadata": {
    "slideshow": {
     "slide_type": "fragment"
    }
   },
   "source": [
    "### Beispiel: `SurveyResponse` Klasse"
   ]
  },
  {
   "cell_type": "code",
   "execution_count": null,
   "metadata": {
    "slideshow": {
     "slide_type": "subslide"
    }
   },
   "outputs": [],
   "source": [
    "%%writefile survey_response.py\n",
    "from dataclasses import dataclass\n",
    "\n",
    "@dataclass\n",
    "class SurveyResponse:\n",
    "    first_name: str = \"\"\n",
    "    name: str = \"\"\n",
    "    mail: str = \"\"\n",
    "    lecture: str = \"\"\n",
    "    kind: str = \"\"\n",
    "    with_pwd: bool = False\n",
    "    \n",
    "    @classmethod\n",
    "    def from_body(cls, body: str):\n",
    "        lines = filter(None, body.split(\"\\n\\r\"))\n",
    "        entry_lines = (line.split(\":\", 1) for line in lines if \":\" in line)\n",
    "        entries = {key.strip(): val.strip() for key, val in entry_lines}\n",
    "        key_mapping = {\"First name\": \"name\", \"Vorname\": \"name\"}\n",
    "        entries = {key_mapping.get(key, key): val for key, val in entries.items()}\n",
    "        return cls(**entries)\n",
    "\n",
    "    def to_csv(self):\n",
    "        return f\"{self.kind}; {self.first_name}; {self.name}; {self.mail}; {self.lecture}; 'Nein'; \""
   ]
  },
  {
   "cell_type": "code",
   "execution_count": null,
   "metadata": {
    "slideshow": {
     "slide_type": "subslide"
    }
   },
   "outputs": [],
   "source": [
    "import unittest\n",
    "\n",
    "from survey_response import SurveyResponse\n",
    "\n",
    "class TestSurveyResponse(unittest.TestCase):\n",
    "    \"\"\"Test suite for SurveyResponse\"\"\"\n",
    "    def setUp(self):\n",
    "        self.body = \"\"\"First name: Chuck\n",
    "name: Norris\n",
    "mail: chucknorris@roundhouse.gov\n",
    "lecture: Roundhouse Kicks\n",
    "\"\"\"\n",
    "        self.response = SurveyResponse(\n",
    "            first_name=\"Chuck\",\n",
    "            name=\"Norris\",\n",
    "            lecture=\"Roundhouse Kicks\",\n",
    "            mail=\"chucknorris@roundhouse.gov\"\n",
    "        )\n",
    "        \n",
    "    def tearDown(self):\n",
    "        \"\"\"Not needed here.\"\"\"\n",
    "    \n",
    "    def test_survey_response_can_load_simple_response(self):\n",
    "        expected_response = self.response\n",
    "        self.assertEqual(SurveyResponse.from_body(self.body), expected_response)\n",
    "        \n",
    "    def test_survey_response_raises_error_for_invalid_field(self):\n",
    "        body = self.body + \"comment: Chucknorris counted to ∞ - twice!\\n\"\n",
    "        with self.assertRaises(TypeError):\n",
    "            SurveyResponse.from_body(body)\n",
    "        \n",
    "    def test_servey_response_creates_correct_csv_line(self):\n",
    "        csv_line = self.response.to_csv()\n",
    "        expected_csv_line = \"; Chuck; Norris; chucknorris@roundhouse.gov; Roundhouse Kicks; 'Nein'; \"\n",
    "        self.assertEqual(csv_line, expected_csv_line)        \n",
    "\n",
    "unittest.main(argv=[\"\"], verbosity=2, exit=False)\n"
   ]
  },
  {
   "cell_type": "markdown",
   "metadata": {
    "slideshow": {
     "slide_type": "subslide"
    }
   },
   "source": [
    "## Testen mit *doctest*:\n",
    "\n",
    "Sogenannte *doctests* sind eine elegante Methode, Tests und Dokumentation gleichzeitig zu erledigen (viele fortgeschrittene Progammierer betrachten alle Tests als Dokumentation).\n",
    "Bei `doctest` wird eine Testanweisung im *docstring* definiert (mit `>>>`) und ausgewertet."
   ]
  },
  {
   "cell_type": "code",
   "execution_count": null,
   "metadata": {
    "slideshow": {
     "slide_type": "subslide"
    }
   },
   "outputs": [],
   "source": [
    "from dataclasses import dataclass\n",
    "import doctest\n",
    "\n",
    "@dataclass\n",
    "class SurveyResponse:\n",
    "    first_name: str = \"\"\n",
    "    name: str = \"\"\n",
    "    mail: str = \"\"\n",
    "    lecture: str = \"\"\n",
    "    kind: str = \"\"\n",
    "    with_pwd: bool = False\n",
    "    \n",
    "    @classmethod\n",
    "    def from_body(cls, body: str):\n",
    "        r\"\"\"\n",
    "        >>> SurveyResponse.from_body(\"name: Norris\\nfirst_name: Chuck\")\n",
    "        SurveyResponse(first_name='Chuck', name='Norris', mail='', lecture='', kind='', with_pwd=False)\n",
    "        \"\"\"\n",
    "        lines = filter(None, body.split(\"\\n\\r\"))\n",
    "        entry_lines = (line.split(\":\", 1) for line in lines if \":\" in line)\n",
    "        entries = {key.strip(): val.strip() for key, val in entry_lines}\n",
    "        key_mapping = {\"First name\": \"name\", \"Vorname\": \"name\"}\n",
    "        entries = {key_mapping.get(key, key): val for key, val in entries.items()}\n",
    "        return cls(**entries)\n",
    "\n",
    "    def to_csv(self):\n",
    "        \"\"\"\n",
    "        >>> SurveyResponse(first_name=\"Chuck\", name=\"Norris\").to_csv()\n",
    "        \"; Chuck; Norris; ; ; 'Nein'; \"\n",
    "        \"\"\"\n",
    "        return f\"{self.kind}; {self.first_name}; {self.name}; {self.mail}; {self.lecture}; 'Nein'; \"\n",
    "    \n",
    "doctest.testmod()"
   ]
  }
 ],
 "metadata": {
  "celltoolbar": "Slideshow",
  "kernelspec": {
   "display_name": "Python 3 (ipykernel)",
   "language": "python",
   "name": "python3"
  },
  "language_info": {
   "codemirror_mode": {
    "name": "ipython",
    "version": 3
   },
   "file_extension": ".py",
   "mimetype": "text/x-python",
   "name": "python",
   "nbconvert_exporter": "python",
   "pygments_lexer": "ipython3",
   "version": "3.10.10"
  }
 },
 "nbformat": 4,
 "nbformat_minor": 4
}
