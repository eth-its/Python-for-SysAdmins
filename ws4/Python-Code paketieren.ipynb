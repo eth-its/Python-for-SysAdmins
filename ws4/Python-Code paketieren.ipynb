{
 "cells": [
  {
   "cell_type": "markdown",
   "metadata": {},
   "source": [
    "(vgl. [Packaging Python Projects](https://packaging.python.org/tutorials/packaging-projects/))\n",
    "\n",
    "Wenn wir eine Python-Anwendung mit mehreren Modulen erstellt haben, möchten wir diese in ein Paket zusammenbinden, damit wir diese Funktionalität leicht auf anderen Systemen installieren können."
   ]
  },
  {
   "cell_type": "markdown",
   "metadata": {},
   "source": [
    "Ein Python-Paket hat üblicherweise folgende Struktur (Beispiel Kartenspiel-Applikation):\n",
    "```\n",
    "cardplay/\n",
    "    cardplay/\n",
    "        play.py\n",
    "        tests/\n",
    "            test_play.py\n",
    "    setup.py\n",
    "```\n",
    "Im obersten Verzeichnis liegt die Wurzel des (Git-) Repositories. Es enthält ein Unterverzeichnis mit dem gleichen Namen sowie das File *setup.py*.<br>\n",
    "Das gleichnamige Unterverzeichnis ist das eigentliche Python-Modul. In diesem Beispiel liegt der Code im File *play.py*.<br>\n",
    "Das File *setup.py* enthält Setup-Konfiguration. Diese wird benötigt, damit das Paket gebaut werden kann."
   ]
  },
  {
   "cell_type": "markdown",
   "metadata": {},
   "source": [
    "Beispiel:\n",
    "```\n",
    "from setuptools import setup, find_packages\n",
    "\n",
    "setup(name='cardplay_benno-luthiger',\n",
    "      version='0.0.1',\n",
    "      description='Simple card play exercise',\n",
    "      url='https://github.com/eth-its/Python-for-SysAdmins/',\n",
    "      author='Benno Luthiger',\n",
    "      author_email='exercise@example.com',\n",
    "      license='MIT',\n",
    "      packages=find_packages(),\n",
    "      zip_safe=False)\n",
    "```\n",
    "- **name** ist der *distribution name* der des Pakets. Er muss eindeutig sein. Dies kann z.B. erreicht werden, wenn ein beliebiger Name mit dem Usernamen ergänzt wird.\n",
    "- **version** ist die Version des Pakets.\n",
    "- **description** ist eine kurze, einzeilige Zusammenfassung des Pakets.\n",
    "- **packages** ist eine Liste aller importierten Python-Pakete, welche im Paket aufgenommen werden sollen. Diese Liste kann entweder manuell oder mit *setuptools.find_packages()* automatisiert erzeugt werden.\n"
   ]
  },
  {
   "cell_type": "markdown",
   "metadata": {},
   "source": [
    "Ist die Paketstruktur mit Code und Setup-Konfiguration bereit, kann das Paket erstellt werden. Zu diesem Zweck muss im Wurzelverzeichnis des Pakets folgender Befehl aufgerufen werden.:\n",
    "```\n",
    "$ pip install .\n",
    "```\n",
    "Damit ist das Python-Paket lokal installiert. Die kann mit `pip list` überprüft werden.\n",
    "\n",
    "Mit folgenden Befehlen kann ein Archiv des Python-Pakets erzeugt werden:\n",
    "```\n",
    "$ pip install --upgrade setuptools wheel\n",
    "$ python setup.py sdist bdist_wheel\n",
    "```\n",
    "Mit dem ersten Befehl wird sichergestellt, dass die aktuellsten Versionen von *setuptools* und *wheel* installiert sind. Mit dem zweiten Befehl wird das Paket in ein *tar*-File verpackt und im Unterverzeichnis *dist* abgelegt. Dieses File kann nun beispielsweise auf den Python Paket-Index [https://pypi.org/](https://pypi.org/) geladen werden."
   ]
  }
 ],
 "metadata": {
  "kernelspec": {
   "display_name": "Python 3",
   "language": "python",
   "name": "python3"
  },
  "language_info": {
   "codemirror_mode": {
    "name": "ipython",
    "version": 3
   },
   "file_extension": ".py",
   "mimetype": "text/x-python",
   "name": "python",
   "nbconvert_exporter": "python",
   "pygments_lexer": "ipython3",
   "version": "3.8.6"
  }
 },
 "nbformat": 4,
 "nbformat_minor": 4
}
