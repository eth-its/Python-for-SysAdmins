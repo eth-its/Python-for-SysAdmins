{
 "cells": [
  {
   "cell_type": "markdown",
   "metadata": {
    "slideshow": {
     "slide_type": "slide"
    }
   },
   "source": [
    "# Python-Objekte\n",
    "\n",
    "## Warum Objekte?\n",
    "\n",
    "Eigenschaften (*properties*) und Verhalten (*behavior*) können in individuellen Objekten gebündelt werden.\n",
    "\n",
    "Objekt-orientierte Programmierung (OOP) steht im Gegensatz zu prozeduralem Programmieren. \n",
    "- **prozedural** Struktur wie ein Kochrezept, im Zentrum stehen die Daten und der Datenfluss\n",
    "- **objekt-orientiert** Sytem wird modelliert in Form von Objekten (Eigenschaften und Verhalten) und deren Beziehung zueinander\n",
    "\n",
    "Oft kann ein Problem aus der Realität einfacher mit Hilfe einer OO-Struktur modelliert werden als mit einem (Koch-) Rezept."
   ]
  },
  {
   "cell_type": "markdown",
   "metadata": {
    "slideshow": {
     "slide_type": "subslide"
    }
   },
   "source": [
    "<div class=\"alert alert-block alert-warning\">\n",
    "⚠ Oft wird \"Classes are for combining related data and functions that act on that data\" missverstanden und es wird der gesamte Code eines Projekts in einer <a href=\"https://de.wikipedia.org/wiki/Gottobjekt\">Gott-Klasse</a> gebündelt.\n",
    "Dadurch wird meistens der Code extrem unübersichtlich, Zusammenhänge werden verschleiert und die Wartbarkeit erschwert (wenn man etwas ändern möchte muss man gleich alles ändern).\n",
    "</div>\n",
    "<div class=\"alert alert-block alert-success\">\n",
    "Regel: <a href=\"https://de.wikipedia.org/wiki/Single-Responsibility-Prinzip\">Single Responsibility Prinzip</a>:\n",
    "Bei einer Änderung am Code, sollte es nie mehr als einen Grund geben, eine Klasse zu ändern.\n",
    "</div>"
   ]
  },
  {
   "cell_type": "markdown",
   "metadata": {
    "slideshow": {
     "slide_type": "slide"
    }
   },
   "source": [
    "## Klassen - Objekte\n",
    "\n",
    "Eine *Klasse* ist eine Vorlage, um *Objekte* zu bauen.    \n",
    "Eine Objekt-Instanz (kurz *Instanz* oder *Objekt*) ist ein Datenstruktur, welche im Arbeitsspeicher des Computers \"lebt\" (d.h. instanziiert ist).\n",
    "\n",
    "Einfachste Form einer Klasse in Python:"
   ]
  },
  {
   "cell_type": "code",
   "execution_count": null,
   "metadata": {
    "slideshow": {
     "slide_type": "subslide"
    }
   },
   "outputs": [],
   "source": [
    "# Klasse definieren\n",
    "class Server:\n",
    "    pass\n",
    "\n",
    "# Klasse instanziieren, d.h. Objekt erzeugen\n",
    "my_server = Server()\n",
    "\n",
    "print(my_server)"
   ]
  },
  {
   "cell_type": "markdown",
   "metadata": {
    "slideshow": {
     "slide_type": "slide"
    }
   },
   "source": [
    "### Initialisierungsfunktion\n",
    "\n",
    "Die Initialisierungsfunktion ist eine Spezialmethode mit dem Namen `__init__()`. Sie wird von Python automatisch aufgerufen, wenn eine Instanz des Objekts instanziert wurde.\n",
    "Zweck:\n",
    "* Klassenvariablen mit Argumenten befüllen\n",
    "* Default-Werte setzen\n",
    "* ..."
   ]
  },
  {
   "cell_type": "code",
   "execution_count": null,
   "metadata": {
    "slideshow": {
     "slide_type": "subslide"
    }
   },
   "outputs": [],
   "source": [
    "# Klasse mit Konstruktor\n",
    "class Server:\n",
    "    def __init__(self, server_id, os=\"Linux\", number_of_cores=1):\n",
    "        self.server_id = server_id\n",
    "        self.os = os\n",
    "        self.number_of_cores = number_of_cores\n",
    "    \n",
    "my_server = Server(\"net42\")\n",
    "\n",
    "print(my_server)\n",
    "print(my_server.number_of_cores)\n",
    "print(my_server.os)"
   ]
  },
  {
   "cell_type": "markdown",
   "metadata": {
    "slideshow": {
     "slide_type": "fragment"
    }
   },
   "source": [
    "<div class=\"alert alert-block alert-info\">\n",
    "    ℹ das Schlüsselwort <code>self</code> bezeichnet die Instanz der Klasse. In <code>__init__</code> wird <code>self</code> automatisch mitgegeben. Bei Methoden muss die Instanz übergeben werden, auf welche die Methode angewendet wird.\n",
    "</div>"
   ]
  },
  {
   "cell_type": "markdown",
   "metadata": {
    "slideshow": {
     "slide_type": "subslide"
    }
   },
   "source": [
    "### Spezialmethoden\n",
    "\n",
    "Python bietet für Klassen diverse Spezialmethoden an. Diese sind durch einen doppelten Unterstrich am Anfang und am Ende gekennzeichnet. Mit der Methode `__str__()` kann beispielsweise die String-Repräsentation der Klasse festgelegt werden.    \n",
    "Übersicht über die Python-Spezialmethoden auf \"[Enriching Your Python Classes With Dunder (Magic, Special) Methods](https://dbader.org/blog/python-dunder-methods)\".\n",
    "\n",
    "Beispiel der Spezialmethode `__add__()`: Diese definiert den `+`-Operator einer Klasse."
   ]
  },
  {
   "cell_type": "code",
   "execution_count": null,
   "metadata": {
    "slideshow": {
     "slide_type": "subslide"
    }
   },
   "outputs": [],
   "source": [
    "class Server:\n",
    "    def __init__(self, server_id, os=\"Linux\", number_of_cores=1):\n",
    "        self.server_id = server_id\n",
    "        self.os = os\n",
    "        self.number_of_cores = number_of_cores\n",
    "        \n",
    "    def __str__(self):\n",
    "        return f\"The {self.os} server has {self.number_of_cores} cores.\"\n",
    "    \n",
    "my_server = Server(\"net42\")\n",
    "\n",
    "print(my_server)\n",
    "print(my_server.number_of_cores)\n",
    "print(my_server.os)"
   ]
  },
  {
   "cell_type": "code",
   "execution_count": null,
   "metadata": {
    "slideshow": {
     "slide_type": "subslide"
    }
   },
   "outputs": [],
   "source": [
    "class Server:\n",
    "    def __init__(self, software):\n",
    "        self.installed = software\n",
    "    \n",
    "    def __add__(self, other):\n",
    "        self.installed += other.installed\n",
    "        return self\n",
    "    \n",
    "s1 = Server(software=[\"Apache\", \"Python\", \"Jenkins\"])\n",
    "s2 = Server(software=[\"Outlook\", \"Office365\"])\n",
    "\n",
    "combined = s1 + s2\n",
    "print(combined.installed)"
   ]
  },
  {
   "cell_type": "markdown",
   "metadata": {
    "slideshow": {
     "slide_type": "slide"
    }
   },
   "source": [
    "### Methoden\n",
    "\n",
    "Methoden sehen ähnlich aus wie Funktionen. Methoden können nur auf Instanzen eine Klasse aufgerufen werden. Das `self`-Schlüsselwort verdeutlicht, dass eine Methode auf einem Objekt wirkt.   \n",
    "\n",
    "Methoden ändern den Zustand eines Objekts oder führen auf dem Objekt ein gewisses Verhalten aus. Der Zustand eines Objekts wird durch die Instanzvariablen einer Klasse definiert. Mit Klassenvariablen kann ein bestimmter Zustand über alle Instanzen eines Objekts geteilt werden."
   ]
  },
  {
   "cell_type": "code",
   "execution_count": null,
   "metadata": {
    "slideshow": {
     "slide_type": "subslide"
    }
   },
   "outputs": [],
   "source": [
    "class Server:\n",
    "    def __init__(self):\n",
    "        self.installed = []  # initialize instance variable\n",
    "    \n",
    "    def install(self, software):\n",
    "        self.installed.append(software)\n",
    "        return len(self.installed)\n",
    "        \n",
    "my_server = Server()\n",
    "number_of_installed = my_server.install(\"Apache\")\n",
    "\n",
    "my_server2 = Server()\n",
    "\n",
    "print(my_server.installed)\n",
    "print(number_of_installed)\n",
    "print(my_server2.installed)"
   ]
  },
  {
   "cell_type": "markdown",
   "metadata": {
    "slideshow": {
     "slide_type": "subslide"
    }
   },
   "source": [
    "### Statische Variablen"
   ]
  },
  {
   "cell_type": "code",
   "execution_count": null,
   "metadata": {
    "slideshow": {
     "slide_type": "fragment"
    }
   },
   "outputs": [],
   "source": [
    "class Server:\n",
    "    pre_installed = (\"coreutils\",)  # define static class variable (good practice: should be immutable).\n",
    "    def __init__(self):\n",
    "        self.installed = list(self.pre_installed)  # initialize instance variable\n",
    "    \n",
    "    def install(self, software):\n",
    "        self.installed.append(software)\n",
    "        return self\n",
    "        \n",
    "web_server = Server()\n",
    "web_server.install(\"Apache\")\n",
    "\n",
    "linux_server = Server()\n",
    "\n",
    "print(web_server.installed)\n",
    "print(linux_server.installed)\n",
    "\n",
    "# test static variable\n",
    "print(web_server.pre_installed)\n",
    "print(linux_server.pre_installed)\n",
    "print(Server.pre_installed)\n",
    "# ⚠ Bad practice:\n",
    "Server.pre_installed += (\"windows\",) \n",
    "print(linux_server.pre_installed)\n",
    "print(web_server.pre_installed)\n",
    "print(Server.pre_installed)"
   ]
  },
  {
   "cell_type": "markdown",
   "metadata": {
    "slideshow": {
     "slide_type": "slide"
    }
   },
   "source": [
    "### Vererbung\n",
    "\n",
    "Bei der Vererbung wird das Verhalen der Elternklasse (d.h. deren Methoden) an die Kindklasse weitergegeben. Die Kindklasse kann mit eigenen Methoden spezifisches Verhalten implementieren."
   ]
  },
  {
   "cell_type": "code",
   "execution_count": null,
   "metadata": {
    "slideshow": {
     "slide_type": "subslide"
    }
   },
   "outputs": [],
   "source": [
    "class Server:\n",
    "    def __init__(self):\n",
    "        print(\"init server\")\n",
    "        self.installed = []\n",
    "    \n",
    "    def install(self, software):\n",
    "        self.installed.append(software)\n",
    "    \n",
    "class MailServer(Server):\n",
    "    def __init__(self):\n",
    "        print(\"init mail server\")\n",
    "        super().__init__()\n",
    "        self.accounts = []\n",
    "        \n",
    "    def add_mail_box(self, account_id):\n",
    "        self.accounts.append(account_id)\n",
    "        \n",
    "mail_server = MailServer()\n",
    "\n",
    "print(isinstance(mail_server, Server))\n",
    "print(isinstance(mail_server, MailServer))\n",
    "\n",
    "other_server = Server()\n",
    "print(isinstance(other_server, MailServer))"
   ]
  },
  {
   "cell_type": "markdown",
   "metadata": {
    "slideshow": {
     "slide_type": "subslide"
    }
   },
   "source": [
    "Beispiel eines Systems mit mehreren Objekten, die in Beziehung zueinenader stehen:"
   ]
  },
  {
   "cell_type": "code",
   "execution_count": null,
   "metadata": {
    "slideshow": {
     "slide_type": "subslide"
    }
   },
   "outputs": [],
   "source": [
    "class System:\n",
    "    def __init__(self):\n",
    "        self.servers = []\n",
    "        \n",
    "    def add_server(self, server):\n",
    "        self.servers.append(server)\n",
    "        \n",
    "class Server:\n",
    "    def __init__(self, id, os=\"Linux\"):\n",
    "        self.installed = []\n",
    "        self.os = os\n",
    "        self.id = id\n",
    "    \n",
    "    def install(self, software):\n",
    "        self.installed.append(software)\n",
    "        \n",
    "class Software:\n",
    "    def __init__(self, name):\n",
    "        self.name = name\n",
    "\n",
    "my_system = System()\n",
    "\n",
    "linux1 = Server(1)\n",
    "linux2 = Server(2)\n",
    "windows = Server(3, os=\"Windows\")\n",
    "\n",
    "my_system.add_server(linux1)\n",
    "my_system.add_server(linux2)\n",
    "my_system.add_server(windows)\n",
    "\n",
    "apache = Software(\"Apache\")\n",
    "ff = Software(\"FireFox\")\n",
    "outlook = Software(\"Outlook\")\n",
    "\n",
    "linux1.install(apache)\n",
    "my_system.servers[1].install(apache)  # navigate using dot-notation\n",
    "windows.install(ff)\n",
    "windows.install(outlook)\n",
    "\n",
    "for server in my_system.servers:\n",
    "    for software in server.installed:\n",
    "        print(f\"{software.name} on server {server.id}.\")"
   ]
  },
  {
   "cell_type": "markdown",
   "metadata": {
    "slideshow": {
     "slide_type": "subslide"
    }
   },
   "source": [
    "Objektdiagramm dieses Systems: <img src=\"oop-object-diagram.png\">"
   ]
  },
  {
   "cell_type": "markdown",
   "metadata": {
    "slideshow": {
     "slide_type": "slide"
    }
   },
   "source": [
    "### Kapselung\n",
    "\n",
    "Python kennt keine zugriffseinschränkenden Schlüsselwörter wie `public` / `protected` / `private` (C++, java, ...).\n",
    "Trotzdem hat sich als Konvention eingebürgert, Methoden/Variablen die vom Entwickler nur für Klassen-interne Zwecke vorgesehen sind mit einem `_`-Präfix (protected) oder `__`-Präfix (private) zu versehen.\n",
    "\n",
    "Die öffentlichen Eigenschaften und Methoden einer Klasse bilden deren Interface. Wird dieses Interface verändert, müssen Programmteile, welche dieses Interface verwenden, möglicherweise angepasst werden. Indem man das Innere einer Klasse vor dem Zugriff von aussen versteckt, kann man eine Klasse weiterentwickeln, ohne dass man den Rest eines Programms anpassen muss. "
   ]
  },
  {
   "cell_type": "code",
   "execution_count": null,
   "metadata": {
    "slideshow": {
     "slide_type": "subslide"
    }
   },
   "outputs": [],
   "source": [
    "class Server:\n",
    "    def __init__(self, server_id, os=\"Linux\", number_of_cores=1):\n",
    "        self.__server_id = server_id\n",
    "        self.__os = os\n",
    "        self.__number_of_cores = number_of_cores\n",
    "        \n",
    "    def os(self):\n",
    "        return f\"The operation system of server ({self.__server_id}) is {self.__os}.\"\n",
    "        \n",
    "my_server = Server(42)\n",
    "\n",
    "print(my_server)\n",
    "print(my_server.os())\n",
    "\n",
    "try:\n",
    "    print(my_server.__os)\n",
    "except AttributeError:\n",
    "    print(\"Access to the private attribute Server.__os is prohibited!\")"
   ]
  },
  {
   "cell_type": "code",
   "execution_count": null,
   "metadata": {
    "slideshow": {
     "slide_type": "subslide"
    }
   },
   "outputs": [],
   "source": [
    "class Server:\n",
    "    def __init__(self, os):\n",
    "        self.__installed = []\n",
    "        self.__os = os\n",
    "    \n",
    "    def install(self, software):\n",
    "        self.__installed.append(software)\n",
    "        \n",
    "    def __str__(self):\n",
    "        return f\"Server with os={self.__os} has installed the following software: {', '.join(self.__installed)}.\"\n",
    "    \n",
    "class MailServer(Server):\n",
    "    def __init__(self):\n",
    "        super().__init__(\"Windows\")\n",
    "        super().install(\"Outlook\")\n",
    "        self.__accounts = []\n",
    "                \n",
    "    def add_mail_box(self, account_id):\n",
    "        self.__accounts.append(account_id)\n",
    "        \n",
    "my_mailserver = MailServer()\n",
    "print(my_mailserver)"
   ]
  },
  {
   "cell_type": "markdown",
   "metadata": {
    "slideshow": {
     "slide_type": "subslide"
    }
   },
   "source": [
    "Mit dem Schlüsselwort `super()` wird in der Hierarchie der Klassen, von welcher die aktuelle Klasse ableitet, nach einer Methode gesucht, welche in der Signatur (Name und Parameter) mit den gesuchten Werten übereinstimmt. \n",
    "\n",
    "Im Beispiel wird im Konstruktor von *MailServer* `super()` zwei Mail verwendet. Zuerst wird der Konstruktor der Elternklasse *Server* gefunden und mit dem Parameter `os`=\"Windows\" aufgerufen. Danach wird in der Elternklasse *Server* die Methode *install()* mit dem Parameter `software`=\"Outlook\" aufgerufen."
   ]
  },
  {
   "cell_type": "markdown",
   "metadata": {
    "slideshow": {
     "slide_type": "slide"
    }
   },
   "source": [
    "## Spezialform *Dataclass*\n",
    "\n",
    "Gut strukturiertes Datenobjekt. Mit *frozen=True* kann das Objekt auf einfache Weise schreibgeschützte (*read-only*) werden.\n",
    "\n",
    "Solche Klassen sind beispielsweise bei einem Log-File-Parser oder zum Deserialisieren von Config-Files nützlich.\n",
    "Z.B. kann ein einzelner Log-Eintrag als *Dataclass* modelliert werden und erlaubt so in der Folge einen übersichtlichen Zugriff auf die Bestandteile des Log-Eintrags."
   ]
  },
  {
   "cell_type": "code",
   "execution_count": null,
   "metadata": {
    "slideshow": {
     "slide_type": "subslide"
    }
   },
   "outputs": [],
   "source": [
    "from dataclasses import dataclass\n",
    "\n",
    "@dataclass(frozen=True)\n",
    "class Car:\n",
    "    model: str\n",
    "    color: str\n",
    "    price: float\n",
    "    \n",
    "vw_car = Car(color=\"blue\", model=\"VW\", price=20500.2)\n",
    "\n",
    "print(vw_car.model)\n",
    "print(vw_car.color)\n",
    "print(vw_car.color)"
   ]
  },
  {
   "cell_type": "code",
   "execution_count": null,
   "metadata": {
    "slideshow": {
     "slide_type": "fragment"
    }
   },
   "outputs": [],
   "source": [
    "# This will raise an error:\n",
    "vw_car.color = \"red\""
   ]
  },
  {
   "cell_type": "markdown",
   "metadata": {
    "slideshow": {
     "slide_type": "slide"
    }
   },
   "source": [
    "## Beispiele"
   ]
  },
  {
   "cell_type": "markdown",
   "metadata": {
    "slideshow": {
     "slide_type": "slide"
    }
   },
   "source": [
    "### 1) AEM-Projekt-Installation\n",
    "\n",
    "*Ausgangslage*: Die Entwickler im AEM-Projekt sollen auf standardisierte Weise auf ihrem Arbeitsrechner die Entwicklungsumgebung installieren können.\n",
    "\n",
    "*Umsetzung*: Das Skript erzeugt ein Unterverzeichnis und lädt die AEM-Applikation aus einem Fileshare in dieses Verzeichnis. Danach werden aus der Versionenverwaltung einige Konfigurationsfiles heruntergeladen. Im nächsten Schritt wird AEM-Applikation gestartet und angepasst, u.a. mit Hilfe der Konfigurationsfiles.   \n",
    "Die Instanz von `InstanceCreator` wird mit den notwendigen Angaben initialisiert und führt danach die verlangten Schritte aus. Weil der Zustand und das Verhalten in der Klasse `InstanceCreator` gekapselt sind, entsteht ein gut lesbarer Code."
   ]
  },
  {
   "cell_type": "code",
   "execution_count": null,
   "metadata": {
    "slideshow": {
     "slide_type": "subslide"
    }
   },
   "outputs": [],
   "source": [
    "class InstanceCreator:\n",
    "    def __init__(self, name, url, port, is_aem65=True):\n",
    "        self.name = name\n",
    "        self.url = url\n",
    "        self.port = port\n",
    "        self.is_aem65 = is_aem65\n",
    "        self.instance_dir = os.path.join(os.getcwd(), self.name)\n",
    "        \n",
    "    def create_dir(self):\n",
    "        if not os.path.isdir(self.instance_dir):\n",
    "            # create dir of AEM instance\n",
    "            pass\n",
    "        return True\n",
    "        \n",
    "    def download_aem(self):\n",
    "        self.target = os.path.join(self.instance_dir, self.url.split(\"/\")[-1])\n",
    "        #request.urlretrieve(self.url, self.target, self.reporthook)\n",
    "        \n",
    "    def reporthook(self, blocknum, blocksize, totalsize):\n",
    "        # private method: hook to write download progress\n",
    "        pass\n",
    "        \n",
    "    def download_config(self):\n",
    "        # download configuration files\n",
    "        pass\n",
    "        \n",
    "    def start_instance(self, java_home):\n",
    "        # start AEM instance\n",
    "        return True\n",
    "    \n",
    "    def adjust_instance(self):\n",
    "        # adjust running AEM instance\n",
    "        pass\n",
    "    \n",
    "    def kill_aem_instance(self):\n",
    "        # stop created AEM instance\n",
    "        pass\n",
    "    \n",
    "        \n",
    "#constants\n",
    "url63 = '''http://www.files.ethz.ch/webrelaunch/AEM_6.3_Quickstart.jar'''\n",
    "url65 = '''http://www.files.ethz.ch/webrelaunch/AEM_6.5_Quickstart.jar'''        \n",
    "        \n",
    "def create_instance(port, aem63, java_home):\n",
    "    instance_name=f'{\"aem63\" if aem63 else \"aem65\"}-{port}'\n",
    "    creator = InstanceCreator(instance_name, url63 if aem63 else url65, port, not aem63)\n",
    "    if creator.create_dir():\n",
    "        creator.download_aem()\n",
    "        creator.download_config()\n",
    "        if creator.start_instance(java_home):\n",
    "            creator.adjust_instance()\n",
    "            creator.kill_aem_instance()\n",
    "    return 0    \n",
    "\n",
    "if __name__ == \"__main__\":\n",
    "    create_instance('args.port', 'args.aemVersion', 'args.javaHome')"
   ]
  },
  {
   "cell_type": "markdown",
   "metadata": {
    "slideshow": {
     "slide_type": "slide"
    }
   },
   "source": [
    "### 2) Informationen aus Outlook-Mails extrahieren\n",
    "\n",
    "*Ausgangslage*: Der Kunde hat ca. 200 Outlook-Mails, welche die Benutzereingabe eines Web-Formulars enthalten. Der Kunde möchte aus diesen E-Mails gewisse Informationen extrahieren und in eine CSV-Tabelle zusammenführen, damit diese Eingaben in Excel ausgewertet werden können.\n",
    "\n",
    "*Umsetzung*: Alle E-Mails liegen im Outlook-Format in einem Verzeichnis. In der Funktion `mail_dir2csv()` wird das Modul *win32com.client* verwendet, um den Inhalt von Outlook-Mails auszulesen. Für jedes E-Mail wird eine Instanz der Klasse `SurveyResponse` erzeugt. Mit dieser Hilfsklasse können die aus der E-Mail extrahierten Informationen gesammelt und überprüft werden. Sind alle gewünschten Informationen vorhanden, werden diese mit der Methode `to_csv()` in eine Zeile im CSV-Format ausgeschrieben und der Liste `lines` angehängt. Als letzer Schritt wird der Inhalt dieser Liste in das Output-File geschrieben.\n",
    "\n",
    "In diesem Fall helfen die Objekte des Typs `SurveyResponse`, die Antworten von dem Webformular zu validieren und eine Zeile im zukünftigen CSV-File aufzubauen. "
   ]
  },
  {
   "cell_type": "code",
   "execution_count": null,
   "metadata": {
    "slideshow": {
     "slide_type": "subslide"
    }
   },
   "outputs": [],
   "source": [
    "%%writefile surveyresponse.py\n",
    "#!/bin/env python3\n",
    "\n",
    "import win32com.client\n",
    "from os import listdir\n",
    "from os.path import isfile, join\n",
    "\n",
    "class Mail:\n",
    "    # only for demo purpose\n",
    "    body = \"\"\n",
    "    subject = \"\"\n",
    "    to = \"\"\n",
    "\n",
    "\n",
    "from dataclasses import dataclass\n",
    "\n",
    "@dataclass\n",
    "class SurveyResponse:\n",
    "    first_name: str = \"\"\n",
    "    name: str = \"\"\n",
    "    mail: str = \"\"\n",
    "    lecture: str = \"\"\n",
    "    kind: str = \"\"\n",
    "    with_pwd: bool = False\n",
    "    \n",
    "    @classmethod\n",
    "    def from_body(cls, body: str):\n",
    "        lines = filter(None, body.splitlines())\n",
    "        # All lines containing a \":\", split at the first \":\" (iterable of 2-tuples):\n",
    "        entry_lines = (line.split(\":\", 1) for line in lines if \":\" in line)\n",
    "        # Remove leading / trailing whitespaces from keys and values:\n",
    "        entries = {key.strip(): val.strip() for key, val in entry_lines}\n",
    "        # If certain entries have keys which do not match the field names of SurveyResponse,\n",
    "        # map them:\n",
    "        key_mapping = {\"First name\": \"first_name\", \"Vorname\": \"first_name\"}\n",
    "        entries = {key_mapping.get(key, key): val for key, val in entries.items()}\n",
    "        return cls(**entries)\n",
    "\n",
    "        \n",
    "    def to_csv(self):\n",
    "        return f\"{self.kind}; {self.first_name}; {self.name}; {self.mail}; {self.lecture}; 'Nein'; \"            \n",
    "\n",
    "# constants\n",
    "path = './' # path to directory containing the mails\n",
    "titles = 'Typ; Vorname; Nachname; E-Mail; Lehrveranstaltungsreihe; Passwort; E-Mail-ID'\n",
    "\n",
    "def mail_dir2csv():\n",
    "    outlook = None #win32com.client.Dispatch(\"Outlook.Application\").GetNamespace(\"MAPI\")\n",
    "    \n",
    "    msgs = [f for f in listdir(path) if isfile(join(path, f))]\n",
    "    for msg in msgs:\n",
    "        mail = Mail() #outlook.OpenSharedItem(join(path, msg))\n",
    "        lines.append(SurveyResponse.from_body(mail.body).to_csv())    \n",
    "\n",
    "    with open('./mail_extract.csv', 'w') as out_file:\n",
    "        out_file.write(titles + \"\\n\")\n",
    "        for line in lines:\n",
    "            out_file.write(line + \"\\n\")\n",
    "\n",
    "if __name__ == \"__main__\":\n",
    "    mail_dir2csv()"
   ]
  },
  {
   "cell_type": "markdown",
   "metadata": {
    "slideshow": {
     "slide_type": "slide"
    }
   },
   "source": [
    "## Übung: Config file\n",
    "\n",
    "Schreibe eine `dataclass` namens `Config`, die über eine `@classmethod` namens `from_json()` ein json-File folgender Art laden kann:\n",
    "\n",
    "```json\n",
    "{\n",
    "  \"version\": \"0.1.0\",\n",
    "  \"compression\": {\n",
    "    \"algorithm\": \"gzip\",\n",
    "    \"level\": 4\n",
    "  },\n",
    "  \"confidential\": true\n",
    "}\n",
    "```\n",
    "\n",
    "Das Feld `compression` soll dabei mit einer eigenen `dataclass` namens `Compression` modelliert werden (verschachtelte `dataclasses`)."
   ]
  },
  {
   "cell_type": "code",
   "execution_count": null,
   "metadata": {
    "slideshow": {
     "slide_type": "subslide"
    }
   },
   "outputs": [],
   "source": [
    "path = \"config.json\"\n",
    "\n",
    "json_contents = \"\"\"{\"version\":\"0.1.0\",\"compression\":{\"algorithm\":\"gzip\",\"level\":4},\"confidential\":true}\"\"\"\n",
    "with open(path, \"w\") as f:\n",
    "    f.write(json_contents)"
   ]
  },
  {
   "cell_type": "code",
   "execution_count": null,
   "metadata": {
    "slideshow": {
     "slide_type": "fragment"
    }
   },
   "outputs": [],
   "source": [
    "from dataclasses import dataclass\n",
    "import json\n",
    "\n",
    "@dataclass\n",
    "class Config:\n",
    "    ... # Your code here\n",
    "    \n",
    "    @classmethod\n",
    "    def from_json(cls, path: str):\n",
    "        with open(path, \"rb\") as content:\n",
    "            ...\n",
    "        return ... # Your code here\n",
    "\n",
    "path = \"config.json\"\n",
    "config = Config.from_json(path)\n",
    "print(config)"
   ]
  },
  {
   "cell_type": "markdown",
   "metadata": {
    "slideshow": {
     "slide_type": "notes"
    }
   },
   "source": [
    "### Lösung"
   ]
  },
  {
   "cell_type": "code",
   "execution_count": null,
   "metadata": {
    "slideshow": {
     "slide_type": "notes"
    }
   },
   "outputs": [],
   "source": [
    "from dataclasses import dataclass\n",
    "import json\n",
    "\n",
    "@dataclass\n",
    "class Compression:\n",
    "    algorithm: str\n",
    "    level: int\n",
    "\n",
    "@dataclass\n",
    "class Config:\n",
    "    version: str\n",
    "    compression: Compression\n",
    "    confidential: bool\n",
    "    \n",
    "    @classmethod\n",
    "    def from_json(cls, path: str):\n",
    "        with open(path, \"rb\") as content:\n",
    "            data = json.load(content)\n",
    "        compression = Compression(**data.pop(\"compression\"))\n",
    "        return cls(**data, compression=compression)\n",
    "\n",
    "path = \"config.json\"\n",
    "\n",
    "config = Config.from_json(path)\n",
    "print(config)"
   ]
  },
  {
   "cell_type": "markdown",
   "metadata": {
    "slideshow": {
     "slide_type": "slide"
    }
   },
   "source": [
    "## Übung: Abstraktion AD / LDAP\n",
    "\n",
    "Szenario:\n",
    "Eine Skript zur LDAP / AD verwaltung muss sich häufig mit entweder AD oder LDAP verbinden.\n",
    "\n",
    "Ziel: Es soll eine abstrakte Klasse `Connector` verwendet werden, so dass in der Codebasis nicht mehr zwischen AD / LDAP spezifischen Details unterschieden werden muss.\n",
    "\n",
    "- [ ] Schreibe eine abstrakte Klasse `Connector` mit einer methode `def connect(server, user, password)`.\n",
    "  Abstrakt heisst, dass alle Methoden nichts anderes machen als\n",
    "  ```py\n",
    "  raise NotImplementedError(\"This method must be specialized in a derived class.\")\n",
    "  ```\n",
    "- [ ] Schreibe 2 Spezialisierungen `class LdapConnector(Connection): ...`, `class AdConnector(Connection): ...`,\n",
    "  die die methode `connect()` gemäss dem Abschnitt [Talking to LDAP servers](./03_ldap_servers.ipynb) implementieren."
   ]
  },
  {
   "cell_type": "markdown",
   "metadata": {
    "slideshow": {
     "slide_type": "notes"
    }
   },
   "source": [
    "### Lösung"
   ]
  },
  {
   "cell_type": "code",
   "execution_count": null,
   "metadata": {
    "slideshow": {
     "slide_type": "notes"
    }
   },
   "outputs": [],
   "source": [
    "from ldap3 import Server, Connection\n",
    "\n",
    "def ldap_connect(server: str, user_path: str, password: str) -> Connection:\n",
    "    conn = Connection(\n",
    "        server=Server(server, use_ssl=True), \n",
    "        user=user_path,\n",
    "        password=password\n",
    "    )\n",
    "    conn.bind()\n",
    "    return conn\n",
    "\n",
    "class Connector:\n",
    "    def connect(server: str, user: str, password: str) -> Connection:\n",
    "        raise NotImplementedError(\"This method must be specialized in a derived class.\")\n",
    "\n",
    "class LdapConnector(Connector):\n",
    "    def connect(server: str, user: str, password: str) -> Connection:\n",
    "        return ldap_connect(server, user_path=f\"cn={user},OU=ETHUsers,DC=d,DC=ethz,DC=ch\", password=password)\n",
    "\n",
    "class AdConnector(Connector):\n",
    "    def connect(server: str, user: str, password: str) -> Connection:\n",
    "        return ldap_connect(server, user_path=f\"d\\\\{user}\", password=password)       "
   ]
  }
 ],
 "metadata": {
  "celltoolbar": "Slideshow",
  "kernelspec": {
   "display_name": "Python 3 (ipykernel)",
   "language": "python",
   "name": "python3"
  },
  "language_info": {
   "codemirror_mode": {
    "name": "ipython",
    "version": 3
   },
   "file_extension": ".py",
   "mimetype": "text/x-python",
   "name": "python",
   "nbconvert_exporter": "python",
   "pygments_lexer": "ipython3",
   "version": "3.11.3"
  }
 },
 "nbformat": 4,
 "nbformat_minor": 4
}
