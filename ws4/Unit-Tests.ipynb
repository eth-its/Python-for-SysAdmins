{
 "cells": [
  {
   "cell_type": "markdown",
   "metadata": {},
   "source": [
    "# Unit-Tests\n",
    "\n",
    "Mit Unit-Tests kann die Funktionalität einer Python-Anwendung automatisiert getestet werden."
   ]
  },
  {
   "cell_type": "markdown",
   "metadata": {},
   "source": [
    "## Das *unittest* Modul:\n",
    "\n",
    "Die Testklasse leitet von `unittest.TestCase` ab. Mit der `unittest.assertEqual()`-Methoden wird der aktuelle Wert mit einem erwarteten Wert verglichen. Weitere `.assert*()`-Methoden: *.assertTrue(x)*, *.assertFalse(x)*, *.assertIs(a, b)*, *.assertIsNone(x)*, *.assertIn(a, b)*, *.assertIsInstance(a, b)*."
   ]
  },
  {
   "cell_type": "code",
   "execution_count": null,
   "metadata": {},
   "outputs": [],
   "source": [
    "from math import sqrt\n",
    "import unittest\n",
    "\n",
    "class Point:\n",
    "    def __init__(self, x, y):\n",
    "        self.x = x\n",
    "        self.y = y\n",
    "        \n",
    "    def move(self, dx, dy):\n",
    "        self.x += dx\n",
    "        self.y += dy\n",
    "        \n",
    "    def show(self):\n",
    "        return (self.x, self.y)\n",
    "    \n",
    "    def distance(self, other):\n",
    "        if isinstance(other, Point):\n",
    "            return sqrt((self.x - other.x)**2 + (self.y - other.y)**2)\n",
    "        else:\n",
    "            print(\"We need an instance of Point to calculate the distance!\")\n",
    "        return 0\n",
    "\n",
    "\n",
    "# test class for unit testin\n",
    "class PointTest(unittest.TestCase):\n",
    "    def setUp(self):\n",
    "        self.p1 = Point(6, -1)\n",
    "        \n",
    "    def tearDown(self):\n",
    "        pass\n",
    "    \n",
    "    def test_show(self):\n",
    "        self.assertEqual(self.p1.show(), (6, -1))\n",
    "        \n",
    "    def test_move(self):\n",
    "        self.assertEqual(self.p1.show(), (6, -1))\n",
    "        self.p1.move(-2, 5)\n",
    "        self.assertEqual(self.p1.show(), (4, 4))\n",
    "        \n",
    "    def test_distance(self):\n",
    "        p2 = Point(3, 3)\n",
    "        self.assertEqual(self.p1.distance(p2), 5.0)        \n",
    "      \n",
    "unittest.main(argv=[''], verbosity=2, exit=False)\n"
   ]
  },
  {
   "cell_type": "markdown",
   "metadata": {},
   "source": [
    "## Testen mit *doctest*:\n",
    "\n",
    "Bei `doctest` wird eine Testanweisung im *docstring* definiert (mit `>>>`) und ausgewertet."
   ]
  },
  {
   "cell_type": "code",
   "execution_count": null,
   "metadata": {},
   "outputs": [],
   "source": [
    "from math import sqrt\n",
    "import doctest\n",
    "\n",
    "class Point:    \n",
    "    def __init__(self, x, y):\n",
    "        self.x = x\n",
    "        self.y = y\n",
    "        \n",
    "    def move(self, dx, dy):\n",
    "        \"\"\"\n",
    "        >>> p = Point(6, -1)\n",
    "        >>> p.move(-2, 5)\n",
    "        >>> p.show()\n",
    "        (4, 4)\n",
    "        \"\"\"\n",
    "        self.x += dx\n",
    "        self.y += dy\n",
    "        \n",
    "    def show(self):\n",
    "        \"\"\"\n",
    "        >>> p = Point(6, -1)\n",
    "        >>> p.show()\n",
    "        (6, -1)\n",
    "        \"\"\"        \n",
    "        return (self.x, self.y)\n",
    "    \n",
    "    def distance(self, other):\n",
    "        \"\"\"\n",
    "        >>> p1 = Point(6, -1)\n",
    "        >>> p2 = Point(3, 3)\n",
    "        >>> p1.distance(p2)\n",
    "        5.0\n",
    "        \"\"\"\n",
    "        if isinstance(other, Point):\n",
    "            return sqrt((self.x - other.x)**2 + (self.y - other.y)**2)\n",
    "        else:\n",
    "            print(\"We need an instance of Point to calculate the distance!\")\n",
    "        return 0\n",
    "    \n",
    "doctest.testmod()"
   ]
  },
  {
   "cell_type": "markdown",
   "metadata": {},
   "source": [
    "## Das *py.test* Modul:\n",
    "\n",
    "Das *pytest*-Modul ist ähnlich dem *unittest*-Modul. Es muss mit *PIP* installiert werden   \n",
    "In *pytest* beginnt jede Methode mit `test_`. Mit dem `assert` Schlüsselwort wird der erwartete Wert mit dem aktuellen Wert verglichen."
   ]
  },
  {
   "cell_type": "code",
   "execution_count": null,
   "metadata": {},
   "outputs": [],
   "source": [
    "%load_ext ipython_pytest"
   ]
  },
  {
   "cell_type": "code",
   "execution_count": null,
   "metadata": {},
   "outputs": [],
   "source": [
    "%%pytest\n",
    "from math import sqrt\n",
    "\n",
    "class Point:\n",
    "    def __init__(self, x, y):\n",
    "        self.x = x\n",
    "        self.y = y\n",
    "        \n",
    "    def move(self, dx, dy):\n",
    "        self.x += dx\n",
    "        self.y += dy\n",
    "        \n",
    "    def show(self):\n",
    "        return (self.x, self.y)\n",
    "    \n",
    "    def distance(self, other):\n",
    "        if isinstance(other, Point):\n",
    "            return sqrt((self.x - other.x)**2 + (self.y - other.y)**2)\n",
    "        else:\n",
    "            print(\"We need an instance of Point to calculate the distance!\")\n",
    "        return 0\n",
    "\n",
    "# unit tests using pyest\n",
    "def test_show():\n",
    "    p = Point(6, -1)\n",
    "    assert p.show() == (6, -1)\n",
    "\n",
    "def test_move():\n",
    "    p = Point(6, -1)\n",
    "    p.move(-2, 5)\n",
    "    assert p.show() == (4, 4)\n",
    "    \n",
    "def test_distance():\n",
    "    p1 = Point(6, -1)\n",
    "    p2 = Point(3, 3)\n",
    "    assert p1.distance(p2) == 5.0\n",
    "    "
   ]
  },
  {
   "cell_type": "markdown",
   "metadata": {},
   "source": [
    "Stellt `assert` einen Fehler fest, wird eine ausführliche Meldung ausgegeben.\n",
    "\n",
    "Üblicherweise befindet die Funktionlität in einem Modul (z.B. *point.py*), während für die Tests ein zweites Modul erzeugt wird (z.B. *test_point.py*). Mit dem Befehl `pytest` werden die Module *test_???.py* im aktuellen Verzeichnis ausgefüht, d.h. es werden alle Funktionen in solchen Modueln, welche mit *test_* beginnen, aufgerufen.\n",
    "\n",
    "Wird *pytest* auf der Kommandozeile aufgerufen, können Flags angefügt werden (siehe [pytest - Usage and Invocations](https://docs.pytest.org/en/stable/usage.html)):\n",
    "- *pytest -x*: nach dem ersten Fehler stoppen\n",
    "- *pytest --lf*: den Test mit dem letzten Fehler aufrufen\n",
    "- *pytest --pdb*: in den Python-Debugger (PDB) wechseln, wenn ein Fehler gefunden wird\n",
    "\n"
   ]
  },
  {
   "cell_type": "markdown",
   "metadata": {},
   "source": [
    "### Arbeiten mit *pytest fixtures*\n",
    "\n",
    "Im Test der `Point`-Klasse wurde in jedem Test eine `Point`-Instanz erzeugt, meist mit den gleichen Werten. Mit einer *Fixture* kann dieser Prozess vereinfacht werden. Eine Fixture ist eine Methode, welche mit `@pytest.fixture` annotiert ist und verwendet werden kann, um die Erzeugung von Testobjekten zu vereinfachen.  \n",
    "Die Fixture muss den Testmethoden als Parameter übergeben werden."
   ]
  },
  {
   "cell_type": "code",
   "execution_count": null,
   "metadata": {},
   "outputs": [],
   "source": [
    "%%pytest\n",
    "from math import sqrt\n",
    "import pytest\n",
    "\n",
    "class Point:\n",
    "    def __init__(self, x, y):\n",
    "        self.x = x\n",
    "        self.y = y\n",
    "        \n",
    "    def move(self, dx, dy):\n",
    "        self.x += dx\n",
    "        self.y += dy\n",
    "        \n",
    "    def show(self):\n",
    "        return (self.x, self.y)\n",
    "    \n",
    "    def distance(self, other):\n",
    "        if isinstance(other, Point):\n",
    "            return sqrt((self.x - other.x)**2 + (self.y - other.y)**2)\n",
    "        else:\n",
    "            print(\"We need an instance of Point to calculate the distance!\")\n",
    "        return 0\n",
    "    \n",
    "@pytest.fixture\n",
    "def pt():\n",
    "    return Point(6, -1)\n",
    "\n",
    "def test_show(pt):\n",
    "    assert pt.show() == (6, -1)\n",
    "\n",
    "def test_move(pt):\n",
    "    pt.move(-2, 5)\n",
    "    assert pt.show() == (4, 4)\n",
    "    \n",
    "def test_distance(pt):\n",
    "    other = Point(3, 3)\n",
    "    assert pt.distance(other) == 5.0"
   ]
  },
  {
   "cell_type": "markdown",
   "metadata": {},
   "source": [
    "Fixtures eignen sich speziell, wenn Ressourcen zur Verfügung gestellt werden müssen, deren Erzeugung zeitaufwendig ist (z.B. DB- oder Online-Verbindungen). In diesem Fall kann die Fixture mit einem Scope versehen werden. Folgende Scopes sind möglich: \n",
    "- *function*: die Fixture wird für jede Testfunktion erstellt und zerstört (default).\n",
    "- *class*: die Fixture wird zerstört, nachdem die letzte Testfunktion einer Klasse aufgerufen worden ist.\n",
    "- *module*: die Fixture wird nach der letzten Funktion eines Moduls zerstört.\n",
    "- *package*: die Fixture wird nach der letzten Funktion eines Pakets zerstört.\n",
    "- *session*: die Fixture wird am Ende der Session zerstört.\n",
    "\n",
    "Wird in einem Testmodul eine Datenbank-Verbindung verwendet, dann kann diese beispielsweise in einer Fixture `@pytest.fixture(scope=\"module\")` erzeugt werden.\n",
    "\n",
    "Werden die Fixtures eines Projekts in ein Modul mit dem Namen `conftest.py` verschoben, werden sie von *pytest* automatisch gefunden, müssen also nicht explizit in das Testmodul importiert werden.\n",
    "\n",
    "(siehe [pytest fixtures: explicit, modular, scalable](https://docs.pytest.org/en/stable/fixture.html))"
   ]
  },
  {
   "cell_type": "markdown",
   "metadata": {},
   "source": [
    "### *pytest* plugins\n",
    "\n",
    "Zu *pytest* gibt es eine grosse Anzahl von Plugins. Diese können mit *pip* installiert werden.\n",
    "\n",
    "Mit dem Plugin [*pytest-cov*](https://github.com/pytest-dev/pytest-cov) kann beispielsweise die Testabdeckung des Codes bestimmt werden."
   ]
  }
 ],
 "metadata": {
  "kernelspec": {
   "display_name": "Python 3",
   "language": "python",
   "name": "python3"
  },
  "language_info": {
   "codemirror_mode": {
    "name": "ipython",
    "version": 3
   },
   "file_extension": ".py",
   "mimetype": "text/x-python",
   "name": "python",
   "nbconvert_exporter": "python",
   "pygments_lexer": "ipython3",
   "version": "3.8.6"
  }
 },
 "nbformat": 4,
 "nbformat_minor": 4
}