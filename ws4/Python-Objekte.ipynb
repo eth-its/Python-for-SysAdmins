{
 "cells": [
  {
   "cell_type": "markdown",
   "metadata": {},
   "source": [
    "# Python-Objekte\n",
    "\n",
    "## Warum Objekte?\n",
    "\n",
    "Eigenschaften (*properties*) und Verhalten (*behavior*) können in individuellen Objekten gebündelt werden.\n",
    "\n",
    "Objekt-orientierte Programmierung (OOP) steht im Gegensatz zu prozeduralem Programmieren. \n",
    "- **prozedural** Struktur wie ein Kochrezept, im Zentrum stehen die Daten und der Datenfluss\n",
    "- **objekt-orientiert** Sytem wird modelliert in Form von Objekten (Eigenschaften und Verhalten) und deren Beziehung zueinander\n",
    "\n",
    "Oft kann ein Problem aus der Realität einfacher mit Hilfe einer OO-Struktur modelliert werden als mit einem (Koch-) Rezept."
   ]
  },
  {
   "cell_type": "markdown",
   "metadata": {},
   "source": [
    "### Klassen - Objekte\n",
    "\n",
    "Eine *Klasse* ist eine Vorlage, um *Objekte* zu bauen.    \n",
    "Eine Objekt-Instanz (kurz *Instanz* oder *Objekt*) ist ein Datenstruktur, welche im Arbeitsspeicher des Computers \"lebt\" (d.h. instanziiert ist).\n",
    "\n",
    "Einfachste Form einer Klasse in Python:"
   ]
  },
  {
   "cell_type": "code",
   "execution_count": null,
   "metadata": {},
   "outputs": [],
   "source": [
    "# Klasse definieren\n",
    "class Server:\n",
    "    pass\n",
    "\n",
    "# Klasse instanziieren, d.h. Objekt erzeugen\n",
    "my_server = Server()\n",
    "\n",
    "print(my_server)"
   ]
  },
  {
   "cell_type": "markdown",
   "metadata": {},
   "source": [
    "### Konstruktor\n",
    "\n",
    "Der Konstruktor wird aufgerufen, wenn eine Instanz des Objekts erzeugt wird. Mit dem Konstruktor kann das Objekt initialisiert werden. Der Konstruktor ist eine Spezialmethode mit dem Namen `__init__()`."
   ]
  },
  {
   "cell_type": "code",
   "execution_count": null,
   "metadata": {},
   "outputs": [],
   "source": [
    "# Klasse mit Konstruktor\n",
    "class Server:\n",
    "    def __init__(self, server_id, os=\"Linux\", number_of_cores=1):\n",
    "        self.server_id = server_id\n",
    "        self.os = os\n",
    "        self.number_of_cores = number_of_cores\n",
    "        \n",
    "    def __str__(self):\n",
    "        return f\"The {self.os} server has {self.number_of_cores} cores.\"\n",
    "    \n",
    "my_server = Server(\"net42\", number_of_cores=8)\n",
    "\n",
    "print(my_server)\n",
    "print(my_server.number_of_cores)\n",
    "print(my_server.os)"
   ]
  },
  {
   "cell_type": "markdown",
   "metadata": {},
   "source": [
    "Beachte: \n",
    "* das Schlüsselwort `self` bezeichnet die Instanz der Klasse. Als erster Parameter beim Konstruktor (und bei Methoden) muss die Instanz übergeben werden, auf welcher die Methode angewendet wird. \n",
    "* Python bietet für Klassen diverse Spezialmethoden an. Diese sind durch einen doppelten Unterstrich am Anfang und am Ende gekennzeichnet. Mit der Methode `__str__()` kann beispielsweise die String-Repräsentation der Klasse festgelegt werden.    \n",
    "Übersicht über die Python-Spezialmethoden auf \"[Enriching Your Python Classes With Dunder (Magic, Special) Methods](https://dbader.org/blog/python-dunder-methods)\"."
   ]
  },
  {
   "cell_type": "markdown",
   "metadata": {},
   "source": [
    "### Methoden\n",
    "\n",
    "Methoden sehen ähnlich aus wie Funktionen. Methoden können nur auf Instanzen eine Klasse aufgerufen werden. Das `self`-Schlüsselwort verdeutlicht, dass eine Methode auf einem Objekt wirkt.   \n",
    "\n",
    "Methoden ändern den Zustand eines Objekts oder führen auf dem Objekt ein gewisses Verhalten aus. Der Zustand eines Objekts wird durch die Instanzvariablen einer Klasse definiert. Mit Klassenvariablen kann ein bestimmter Zustand über alle Instanzen eines Objekts geteilt werden."
   ]
  },
  {
   "cell_type": "code",
   "execution_count": null,
   "metadata": {},
   "outputs": [],
   "source": [
    "class Server:\n",
    "    static = \"ID-Server\"  # define static class variable\n",
    "    def __init__(self):\n",
    "        self.installed = []  # initialize instance variable\n",
    "    \n",
    "    def install(self, software):\n",
    "        self.installed.append(software)\n",
    "        return len(self.installed)\n",
    "        \n",
    "my_server = Server()\n",
    "number_of_installed = my_server.install(\"Apache\")\n",
    "\n",
    "my_server2 = Server()\n",
    "\n",
    "print(my_server.installed)\n",
    "print(number_of_installed)\n",
    "print(my_server2.installed)\n",
    "\n",
    "# test static variable\n",
    "print(my_server.static)\n",
    "print(my_server2.static)\n",
    "print(Server.static)\n",
    "Server.static = \"???\"\n",
    "print(my_server.static)\n",
    "print(my_server2.static)\n",
    "print(Server.static)\n"
   ]
  },
  {
   "cell_type": "markdown",
   "metadata": {},
   "source": [
    "### Vererbung\n",
    "\n",
    "Bei der Vererbung wird das Verhalen der Elternklasse (d.h. deren Methoden) an die Kindklasse weitergegeben. Die Kindklasse kann mit eigenen Methoden spezifisches Verhalten implementieren."
   ]
  },
  {
   "cell_type": "code",
   "execution_count": null,
   "metadata": {},
   "outputs": [],
   "source": [
    "class Server:\n",
    "    def __init__(self):\n",
    "        self.installed = []\n",
    "    \n",
    "    def install(self, software):\n",
    "        self.installed.append(software)\n",
    "    \n",
    "class MailServer(Server):\n",
    "    def __init__(self):\n",
    "        self.accounts = []\n",
    "        \n",
    "    def addMailBox(self, account_id):\n",
    "        self.accounts.append(account_id)\n",
    "        \n",
    "my_mailserver = MailServer()\n",
    "\n",
    "print(isinstance(my_mailserver, Server))\n",
    "print(isinstance(my_mailserver, MailServer))\n",
    "\n",
    "my_server = Server()\n",
    "print(isinstance(my_server, MailServer))"
   ]
  },
  {
   "cell_type": "markdown",
   "metadata": {},
   "source": [
    "Beispiel eines Systems mit mehreren Objekten, die in Beziehung zueinenader stehen:"
   ]
  },
  {
   "cell_type": "code",
   "execution_count": null,
   "metadata": {},
   "outputs": [],
   "source": [
    "class System:\n",
    "    def __init__(self):\n",
    "        self.servers = []\n",
    "        \n",
    "    def addServer(self, server):\n",
    "        self.servers.append(server)\n",
    "        \n",
    "class Server:\n",
    "    def __init__(self, id, os=\"Linux\"):\n",
    "        self.installed = []\n",
    "        self.os = os\n",
    "        self.id = id\n",
    "    \n",
    "    def install(self, software):\n",
    "        self.installed.append(software)\n",
    "        \n",
    "class Software:\n",
    "    def __init__(self, name):\n",
    "        self.name = name\n",
    "\n",
    "my_system = System()\n",
    "\n",
    "linux1 = Server(1)\n",
    "linux2 = Server(2)\n",
    "windows = Server(3, os=\"Windows\")\n",
    "\n",
    "my_system.addServer(linux1)\n",
    "my_system.addServer(linux2)\n",
    "my_system.addServer(windows)\n",
    "\n",
    "apache = Software(\"Apache\")\n",
    "ff = Software(\"FireFox\")\n",
    "outlook = Software(\"Outlook\")\n",
    "\n",
    "linux1.install(apache)\n",
    "my_system.servers[1].install(apache)  # navigate using dot-notation\n",
    "windows.install(ff)\n",
    "windows.install(outlook)\n",
    "\n",
    "for server in my_system.servers:\n",
    "    for software in server.installed:\n",
    "        print(f\"{software.name} on server {server.id}.\")"
   ]
  },
  {
   "cell_type": "markdown",
   "metadata": {},
   "source": [
    "Objektdiagramm dieses Systems: <img src=\"oop-object-diagram.png\">"
   ]
  },
  {
   "cell_type": "markdown",
   "metadata": {},
   "source": [
    "### Kapselung\n",
    "\n",
    "Der Zugriff auf die Eigeschaften und Methoden einer Klasse kann eingeschränkt werden. Python kennt *private* und *protected* Eigeschaften/Methoden. Eigeschaften/Methoden, welche *private* sind, beginnen mit zwei Unterstriche und  sind nur innerhalb der Klasse sichtbar. Eigeschaften/Methoden, welche *protected* sind, beginnen mit einem Unterstrich und sind nur innerhalb der Klasse sowie von abgeleiteten Klassen sichtbar.   \n",
    "\n",
    "Die öffentlichen Eigenschaften und Methoden einer Klasse bilden deren Interface. Wird dieses Interface verändert, müssen Programmteile, welche dieses Interface verwenden, möglicherweise angepasst werden. Indem man das Innere einer Klasse vor dem Zugriff von aussen versteckt, kann man eine Klasse weiterentwickeln, ohne dass man den Rest eines Programms anpassen muss. "
   ]
  },
  {
   "cell_type": "code",
   "execution_count": 9,
   "metadata": {},
   "outputs": [
    {
     "name": "stdout",
     "output_type": "stream",
     "text": [
      "<__main__.Server object at 0x00000246B8EC7FA0>\n",
      "The operation system of server (42) is Linux.\n",
      "Access to the private attribute Server.__os is prohibited!\n"
     ]
    }
   ],
   "source": [
    "class Server:\n",
    "    def __init__(self, server_id, os=\"Linux\", number_of_cores=1):\n",
    "        self.__server_id = server_id\n",
    "        self.__os = os\n",
    "        self.__number_of_cores = number_of_cores\n",
    "        \n",
    "    def os(self):\n",
    "        return f\"The operation system of server ({self.__server_id}) is {self.__os}.\"\n",
    "        \n",
    "my_server = Server(42)\n",
    "\n",
    "print(my_server)\n",
    "print(my_server.os())\n",
    "\n",
    "try:\n",
    "    print(my_server.__os)\n",
    "except AttributeError:\n",
    "    print(\"Access to the private attribute Server.__os is prohibited!\")"
   ]
  },
  {
   "cell_type": "code",
   "execution_count": 15,
   "metadata": {},
   "outputs": [
    {
     "name": "stdout",
     "output_type": "stream",
     "text": [
      "Server with os=Windows has installed the following software: Outlook.\n"
     ]
    }
   ],
   "source": [
    "class Server:\n",
    "    def __init__(self, os):\n",
    "        self.__installed = []\n",
    "        self.__os = os\n",
    "    \n",
    "    def install(self, software):\n",
    "        self.__installed.append(software)\n",
    "        \n",
    "    def __str__(self):\n",
    "        return f\"Server with os={self.__os} has installed the following software: {', '.join(self.__installed)}.\"\n",
    "    \n",
    "class MailServer(Server):\n",
    "    def __init__(self):\n",
    "        super().__init__(\"Windows\")\n",
    "        super().install(\"Outlook\")\n",
    "        self.__accounts = []\n",
    "                \n",
    "    def addMailBox(self, account_id):\n",
    "        self.__accounts.append(account_id)\n",
    "        \n",
    "my_mailserver = MailServer()\n",
    "print(my_mailserver)"
   ]
  },
  {
   "cell_type": "markdown",
   "metadata": {},
   "source": [
    "Mit dem Schlüsselwort `super()` wird in der Hierarchie der Klassen, von welcher die aktuelle Klasse ableitet, nach einer Methode gesucht, welche in der Signatur (Name und Parameter) mit den gesuchten Werten übereinstimmt. \n",
    "\n",
    "Im Beispiel wird im Konstruktor von *MailServer* `super()` zwei Mail verwendet. Zuerst wird der Konstruktor der Elternklasse *Server* gefunden und mit dem Parameter `os`=\"Windows\" aufgerufen. Danach wird in der Elternklasse *Server* die Methode *install()* mit dem Parameter `software`=\"Outlook\" aufgerufen."
   ]
  }
 ],
 "metadata": {
  "kernelspec": {
   "display_name": "Python 3",
   "language": "python",
   "name": "python3"
  },
  "language_info": {
   "codemirror_mode": {
    "name": "ipython",
    "version": 3
   },
   "file_extension": ".py",
   "mimetype": "text/x-python",
   "name": "python",
   "nbconvert_exporter": "python",
   "pygments_lexer": "ipython3",
   "version": "3.8.6"
  }
 },
 "nbformat": 4,
 "nbformat_minor": 4
}
