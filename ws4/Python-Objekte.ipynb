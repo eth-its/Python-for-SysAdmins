{
 "cells": [
  {
   "cell_type": "markdown",
   "metadata": {},
   "source": [
    "# Python-Objekte\n",
    "\n",
    "## Warum Objekte?\n",
    "\n",
    "Eigenschaften (*properties*) und Verhalten (*behavior*) können in individuellen Objekten gebündelt werden.\n",
    "\n",
    "Objekt-orientierte Programmierung (OO-Programmierung) steht im Gegensatz zu prozeduralem Programmieren. \n",
    "- **prozedural** Struktur wie ein Kochrezept, im Zentrum stehen die Daten und der Datenfluss\n",
    "- **objekt-orientiert** Sytem wird modelliert in Form von Objekten (Eigenschaften und Verhalten) und deren Beziehung zueinander\n",
    "\n",
    "Oft kann ein Problem aus der Realität einfacher mit Hilfe einer OO-Struktur modelliert werden als mit einem (Koch-) Rezept."
   ]
  },
  {
   "cell_type": "markdown",
   "metadata": {},
   "source": [
    "### Klassen - Objekte\n",
    "\n",
    "Eine *Klasse* ist eine Vorlage, um *Objekte* zu bauen.    \n",
    "Eine Objekt-Instanz (kurz *Instanz* oder *Objekt*) ist ein Datenstruktur, welche im Arbeitsspeicher des Computers \"lebt\" (d.h. instanziiert ist).\n",
    "\n",
    "Einfachste Form einer Klasse in Python:"
   ]
  },
  {
   "cell_type": "code",
   "execution_count": null,
   "metadata": {},
   "outputs": [],
   "source": [
    "# Klasse definieren\n",
    "class MyClass:\n",
    "    pass\n",
    "\n",
    "# Klasse instanziieren, d.h. Objekt erzeugen\n",
    "my_obj = MyClass()\n",
    "\n",
    "print(my_obj)"
   ]
  },
  {
   "cell_type": "markdown",
   "metadata": {},
   "source": [
    "### Konstruktor\n",
    "\n",
    "Der Konstruktor wird aufgerufen, wenn eine Instanz des Objekts erzeugt wird. Mit dem Konstruktor kann das Objekt initialisiert werden."
   ]
  },
  {
   "cell_type": "code",
   "execution_count": null,
   "metadata": {},
   "outputs": [],
   "source": [
    "# Klasse mit Konstruktor\n",
    "class MyClass:\n",
    "    def __init__(self, property):\n",
    "        self.property = property\n",
    "        \n",
    "my_obj = MyClass(\"My Property\")\n",
    "\n",
    "print(my_obj)\n",
    "print(my_obj.property)"
   ]
  }
 ],
 "metadata": {
  "kernelspec": {
   "display_name": "Python 3",
   "language": "python",
   "name": "python3"
  },
  "language_info": {
   "codemirror_mode": {
    "name": "ipython",
    "version": 3
   },
   "file_extension": ".py",
   "mimetype": "text/x-python",
   "name": "python",
   "nbconvert_exporter": "python",
   "pygments_lexer": "ipython3",
   "version": "3.8.6"
  }
 },
 "nbformat": 4,
 "nbformat_minor": 4
}
