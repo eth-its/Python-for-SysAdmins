{
 "cells": [
  {
   "cell_type": "markdown",
   "metadata": {
    "slideshow": {
     "slide_type": "slide"
    }
   },
   "source": [
    "# Python-Code paketieren\n",
    "\n",
    "(vgl. [Packaging Python Projects](https://packaging.python.org/tutorials/packaging-projects/))\n",
    "\n",
    "Wenn wir eine Python-Anwendung mit mehreren Modulen erstellt haben, möchten wir diese in ein Paket zusammenbinden, damit wir diese Funktionalität leicht auf anderen Systemen installieren können."
   ]
  },
  {
   "cell_type": "markdown",
   "metadata": {
    "slideshow": {
     "slide_type": "slide"
    }
   },
   "source": [
    "Ein Python-Paket hat üblicherweise folgende Struktur (Beispiel Kartenspiel-Applikation):\n",
    "```\n",
    "cardplay/\n",
    "    cardplay/\n",
    "        play.py\n",
    "        tests/\n",
    "            test_play.py\n",
    "    setup.cfg\n",
    "    setup.py\n",
    "```\n",
    "Im obersten Verzeichnis liegt die Wurzel des (Git-) Repositories. Es enthält ein Unterverzeichnis mit dem gleichen Namen sowie die Files *setup.cfg* und *setup.py*.<br>\n",
    "Das gleichnamige Unterverzeichnis ist das eigentliche Python-Modul. In diesem Beispiel liegt der Code im File *play.py*.<br>\n",
    "Das File *setup.cfg* enthält Setup-Konfiguration. Diese wird benötigt, damit das Paket gebaut werden kann."
   ]
  },
  {
   "cell_type": "markdown",
   "metadata": {
    "slideshow": {
     "slide_type": "subslide"
    }
   },
   "source": [
    "**Beispiel:**\n",
    "\n",
    "*setup.cfg*\n",
    "```\n",
    "[metadata]\n",
    "name = cardplay_benno-luthiger\n",
    "version = 0.0.1\n",
    "description = Simple card play exercise\n",
    "url = https://github.com/eth-its/Python-for-SysAdmins/\n",
    "author = Benno Luthiger\n",
    "author_email = python.sysadmins@id.ethz.ch\n",
    "license = MIT\n",
    "\n",
    "[options]\n",
    "zip_safe = False\n",
    "packages = find:\n",
    "```\n",
    "- **name** ist der *distribution name* der des Pakets. Er muss eindeutig sein. Dies kann z.B. erreicht werden, wenn ein beliebiger Name mit dem Usernamen ergänzt wird.\n",
    "- **version** ist die Version des Pakets.\n",
    "- **description** ist eine kurze, einzeilige Zusammenfassung des Pakets.\n",
    "- **packages** ist eine Liste aller importierten Python-Pakete, welche im Paket aufgenommen werden sollen. Diese Liste kann entweder manuell oder mit *find:* automatisiert erzeugt werden.\n",
    "\n",
    "*setup.py*\n",
    "```\n",
    "from setuptools import setup\n",
    "\n",
    "if __name__ == '__main__':\n",
    "    setup()\n",
    "```"
   ]
  },
  {
   "cell_type": "markdown",
   "metadata": {
    "slideshow": {
     "slide_type": "slide"
    }
   },
   "source": [
    "Ist die Paketstruktur mit Code und Setup-Konfiguration bereit, kann das Paket erstellt werden. Zu diesem Zweck muss im Wurzelverzeichnis des Pakets folgender Befehl aufgerufen werden.:\n",
    "```\n",
    "$ pip install .\n",
    "```\n",
    "Damit ist das Python-Paket lokal installiert. Dies kann mit `pip list` überprüft werden.\n",
    "\n",
    "Mit folgenden Befehlen kann ein Archiv des Python-Pakets erzeugt werden:\n",
    "```\n",
    "$ pip install --upgrade setuptools wheel\n",
    "$ python setup.py sdist bdist_wheel\n",
    "```\n",
    "Mit dem ersten Befehl wird sichergestellt, dass die aktuellsten Versionen von *setuptools* und *wheel* installiert sind. Mit dem zweiten Befehl wird das Paket in ein *tar*-File verpackt und im Unterverzeichnis *dist* abgelegt.<br> Dieses File kann nun beispielsweise auf den Python Paket-Index (*PyPI*) [https://pypi.org/](https://pypi.org/) geladen werden. Dieser Upload auf *PyPI* erfolgt am besten mit Hilfe von [twine](https://twine.readthedocs.io/en/latest/)."
   ]
  },
  {
   "cell_type": "markdown",
   "metadata": {
    "slideshow": {
     "slide_type": "slide"
    }
   },
   "source": [
    "## Versionsnummern\n",
    "\n",
    "Die Versionsnummer eines Pakets, welches auf *PyPI* geladen werden soll, muss sich von einem existierenden Paket (mit dem gleichen Namen) unterscheiden. Sinnvollerweies wird die Versionsnummer im Format gemäss (*Semantic Versioning*)[https://semver.org/] angegeben: MAJOR.MINOR.PATCH.\n",
    "\n",
    "Vor einem wichtigen Release (z.B. *1.0.0*) müssen unter Umständen sog. Alpha- und Beta-Release veröffentlicht werden. Eine gültie Versionshistorie kann wie folgt aussehen: `0.9.99` -> `1.0.0-alpha.1` -> `1.0.0-alpha.2` -> `1.0.0-beta.1` -> `1.0.0`."
   ]
  },
  {
   "cell_type": "markdown",
   "metadata": {
    "slideshow": {
     "slide_type": "slide"
    }
   },
   "source": [
    "## Kommandozeile\n",
    "\n",
    "Wird eine Funktionalität, welche mit Python implementier worden ist, häufig gebraucht, ist es umständlich, immer `python my_func.py` eingeben zu müssen. Einfacher wäre es, nur `my_func` einzugeben.\n",
    "\n",
    "Das kann mit dem *options.entry_points* in *setup.cfg* erreicht werden:\n",
    "```\n",
    "[options.entry_points]\n",
    "console_scripts =\n",
    "    executable-name = cardplay=cardplay.play:main\n",
    "```\n",
    "Mit dem *entry_points* `console_scripts` wird der Setup so konfiguriert, dass ein Kommandozeilen-Programm mit dem Namen *cardplay* erzeugt wird. Wird dieses gestartet, so wird die `main`-Funktion im Modul *cardplay.play* ausgeführt.\n",
    "\n",
    "Wird in diesem Beispiel das Paket mit `python setup.py develop` erzeugt, kann es von der Kommandozeile mit `cardplay` gestartet werden.  \n",
    "\n",
    "Weiterführende Informationen auf [Setuptools Integration](https://click.palletsprojects.com/en/7.x/setuptools/) oder [Command Line Scripts](https://python-packaging.readthedocs.io/en/latest/command-line-scripts.html)."
   ]
  }
 ],
 "metadata": {
  "celltoolbar": "Slideshow",
  "kernelspec": {
   "display_name": "Python 3 (ipykernel)",
   "language": "python",
   "name": "python3"
  },
  "language_info": {
   "codemirror_mode": {
    "name": "ipython",
    "version": 3
   },
   "file_extension": ".py",
   "mimetype": "text/x-python",
   "name": "python",
   "nbconvert_exporter": "python",
   "pygments_lexer": "ipython3",
   "version": "3.8.6"
  }
 },
 "nbformat": 4,
 "nbformat_minor": 4
}
