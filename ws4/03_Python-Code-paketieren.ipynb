{
 "cells": [
  {
   "cell_type": "markdown",
   "metadata": {
    "editable": true,
    "slideshow": {
     "slide_type": "slide"
    },
    "tags": []
   },
   "source": [
    "# Python-Code paketieren\n",
    "\n",
    "(vgl. [Packaging Python Projects](https://packaging.python.org/tutorials/packaging-projects/))\n",
    "\n",
    "Wenn wir eine Python-Anwendung mit mehreren Modulen oder auch nur ein einzelnes Skript mit Abhängigkeiten erstellt haben, möchten wir diese in ein Paket zusammenbinden, damit wir diese Funktionalität leicht auf anderen Systemen installieren können.\n",
    "\n",
    "Beispiel: [surveyresponse.py](surveyresponse.py)\n",
    "\n",
    "Dieses Paket benötigt unter Linux keine Abhängigkeiten, auf Windows jedoch `pywin32`."
   ]
  },
  {
   "cell_type": "markdown",
   "metadata": {
    "slideshow": {
     "slide_type": "slide"
    }
   },
   "source": [
    "Ein Python-Paket hat üblicherweise folgende Struktur (Beispiel Survey Response-Applikation):\n",
    "```\n",
    "survey_response/\n",
    "├── README.md\n",
    "├── pyproject.toml\n",
    "├── survey_response.py\n",
    "└── test/\n",
    "    └── test_survey_response.py\n",
    "```\n",
    "Im obersten Verzeichnis liegt die Wurzel des (Git-) Repositories. Es enthält ein Unterverzeichnis mit dem gleichen Namen sowie das File *pyproject.toml*.\n",
    "In *README.md* sollte Zweck und eine kurze Anleitung angegeben werden.\n",
    "\n",
    "Das gleichnamige Unterverzeichnis ist das eigentliche Python-Modul. In diesem Beispiel liegt der Code im File *survey_response.py* (single file Modul).\n",
    "\n",
    "Das File *pyproject.toml* enthält Projekt-Metadaten, welche zur Paketierung benötigt werden (ausführlichere Anleitung auf der Seite von [setuptools](https://setuptools.pypa.io/en/latest/userguide/declarative_config.html))."
   ]
  },
  {
   "cell_type": "markdown",
   "metadata": {
    "slideshow": {
     "slide_type": "subslide"
    }
   },
   "source": [
    "**pyproject.toml** ([doc](https://pip.pypa.io/en/stable/reference/build-system/pyproject-toml/))\n",
    "* deklariert welches build system verwendet wird (hier: setuptools)\n",
    "* deklariert abhängigkeiten, Projekt-Metainformation, Entry-Points\n",
    "* enthält konfiguration von code quality tools wie pylint, tox, formatting\n",
    "\n",
    "```toml\n",
    "[build-system]\n",
    "requires = [\"setuptools >= 40.6.0\", \"wheel\"]\n",
    "build-backend = \"setuptools.build_meta\"\n",
    "```\n",
    "\n",
    "**pyproject.toml** kann nicht nur mit [setuptools](https://setuptools.pypa.io) eingesetzt werden, sondern ist universell für jede Paketierungslösung gültig.\n",
    "Die prominenteste Alternative als Paketierungs-Tool ist [Poetry](https://python-poetry.org/)."
   ]
  },
  {
   "cell_type": "markdown",
   "metadata": {
    "slideshow": {
     "slide_type": "subslide"
    }
   },
   "source": [
    "```toml\n",
    "[build-system]\n",
    "requires = [\"setuptools >= 40.6.0\", \"wheel\"]\n",
    "build-backend = \"setuptools.build_meta\"\n",
    "\n",
    "[project]\n",
    "name = \"survey_response\"\n",
    "version = 0.0.1\n",
    "authors = [\n",
    "    {name = \"Chuck Norris\", email = \"python.sysadmins@id.ethz.ch\"},\n",
    "]\n",
    "description = \"Tool to collect mail survey responses in a folder in a csv file.\"\n",
    "readme = {file = \"README.md\", content_type = \"text/markdown\"}\n",
    "license = {text = \"BSD-3-Clause\"}\n",
    "classifiers = [\n",
    "    \"Programming Language :: Python :: 3\",\n",
    "]\n",
    "dependencies = [\n",
    "    \"importlib-metadata; platform_system=='Windows'\",\n",
    "]\n",
    "\n",
    "[project.scripts]\n",
    "mail_dir2csv = \"survey_response:main\"\n",
    "\n",
    "[options]\n",
    "zip_safe = False\n",
    "packages = find:\n",
    "```"
   ]
  },
  {
   "cell_type": "markdown",
   "metadata": {
    "slideshow": {
     "slide_type": "subslide"
    }
   },
   "source": [
    "- **name**: Der *distribution name* der des Pakets. Er muss eindeutig sein. Dies kann z.B. erreicht werden, wenn ein beliebiger Name mit dem Usernamen ergänzt wird.\n",
    "- **version**: Version des Pakets.\n",
    "- **description**: Kurze, einzeilige Zusammenfassung des Pakets.\n",
    "- **readme**: Kann via `file=` den Inhalt von `README.md` einlesen und als ausführliche Version von **description** verwenden.\n",
    "- **dependencies**: Liste aller importierten Python-Pakete, welche im Paket aufgenommen werden sollen. Diese Liste kann entweder manuell oder mit `find:` automatisiert erzeugt werden.\n",
    "- **dependencies**: Abhängigkeiten zu externen Python packages. Hier wird mit `platform_system=='Windows'` angegeben, dass die Abhängigkeit nur unter Windows benötigt wird."
   ]
  },
  {
   "cell_type": "markdown",
   "metadata": {
    "slideshow": {
     "slide_type": "slide"
    }
   },
   "source": [
    "Ist die Paketstruktur mit Code und Setup-Konfiguration bereit, kann das Paket erstellt werden. Zu diesem Zweck muss im Wurzelverzeichnis des Pakets folgender Befehl aufgerufen werden.:\n",
    "\n",
    "```sh\n",
    "pip install .\n",
    "```\n",
    "\n",
    "Damit ist das Python-Paket lokal installiert. Dies kann mit `pip list` überprüft werden.\n",
    "\n",
    "Mit folgenden Befehlen kann ein Archiv des Python-Pakets erzeugt werden:\n",
    "\n",
    "```sh\n",
    "pip install --upgrade build\n",
    "python -m build\n",
    "```\n",
    "Mit dem ersten Befehl wird sichergestellt, dass die aktuellsten Versionen von *build* installiert ist. Mit dem zweiten Befehl wird das Paket als *tar*-File und als *wheel* verpackt und im Unterverzeichnis *dist* abgelegt.\n",
    "\n",
    "Dieses File kann nun beispielsweise auf den Python Paket-Index (*PyPI*) [https://pypi.org/](https://pypi.org/) geladen werden. Dieser Upload auf *PyPI* erfolgt am besten mit Hilfe von [twine](https://twine.readthedocs.io/en/latest/)."
   ]
  },
  {
   "cell_type": "markdown",
   "metadata": {
    "editable": true,
    "slideshow": {
     "slide_type": "slide"
    },
    "tags": []
   },
   "source": [
    "## Versionsnummern\n",
    "\n",
    "Die Versionsnummer eines Pakets, welches auf *PyPI* geladen werden soll, muss sich von einem existierenden Paket (mit dem gleichen Namen) unterscheiden. Sinnvollerweies wird die Versionsnummer im Format gemäss\n",
    "[*Semantic Versioning*](https://semver.org/) angegeben: MAJOR.MINOR.PATCH.\n",
    "\n",
    "Vor einem wichtigen Release (z.B. *1.0.0*) müssen unter Umständen sog. Alpha- und Beta-Release veröffentlicht werden. Eine gültie Versionshistorie kann wie folgt aussehen: `0.9.99` -> `1.0.0-alpha.1` -> `1.0.0-alpha.2` -> `1.0.0-beta.1` -> `1.0.0`."
   ]
  },
  {
   "cell_type": "markdown",
   "metadata": {
    "editable": true,
    "slideshow": {
     "slide_type": "slide"
    },
    "tags": []
   },
   "source": [
    "## Kommandozeilen-Tool paketieren\n",
    "\n",
    "Wenn man `ethz-iam-webservice` installiert:\n",
    "```sh\n",
    "pip install ethz-iam-webservice\n",
    "```\n",
    "ist danach automatisch ein Kommandozeilen-Tool `iam` verfügbar.\n",
    "Wie macht man das?\n",
    "\n",
    "Das kann mit dem *project.scripts* in *pyproject.toml* erreicht werden:\n",
    "```toml\n",
    "[project.scripts]\n",
    "iam = ethz_iam_webservice.main:cli\n",
    "```\n",
    "\n",
    "`setuptools` erstellt automatisch ein kleines Python Skript `iam` (wrapper script) im `bin/`\n",
    "Unterordner vom Home Ordner (`~/.local/bin` (🐧/🍏) / `AppData\\Roaming\\bin` (🪟)) oder vom virtual environment falls im Einsatz. \n",
    "Das Skript führt `ethz_iam_webservice.main:cli` aus:\n",
    "\n",
    "```\n",
    "ethz_iam_webservice.main:cli\n",
    "      ^              ^    ^\n",
    "      |              |    |\n",
    "  module name   main.py  method name\n",
    "```\n",
    "\n",
    "Im Beispiel von `survey_response` was nur aus einem py File besteht, verwenden wir:\n",
    "\n",
    "```toml\n",
    "[project.scripts]\n",
    "mail_dir2csv = \"survey_response:main\"\n",
    "```\n",
    "\n",
    "Weiterführende Informationen auf [setuptools.pypa.io](https://setuptools.pypa.io/en/latest/userguide/entry_point.html)."
   ]
  },
  {
   "cell_type": "markdown",
   "metadata": {
    "editable": true,
    "slideshow": {
     "slide_type": "subslide"
    },
    "tags": []
   },
   "source": [
    "## Multi file Modules\n",
    "\n",
    "Im obigen Beispiel haben wir nur ein einzelnes Skript [surveyresponse.py](surveyresponse.py) paketiert.\n",
    "Wenn das Prokekt wächst und das Skript in mehrere Files gegliedert wird, verändert sich die Ordnerstruktur wie folgt:\n",
    "```\n",
    "survey_response/\n",
    "├── README.md\n",
    "├── pyproject.toml\n",
    "├── survey_response\n",
    "|   ├── __init__.py\n",
    "|   ├── __main__.py\n",
    "|   ├── file_module_a.py\n",
    "|   ├── folder_module_b\n",
    "|   |   ├── __init__.py\n",
    "|   |   ├── file_sub_module.py\n",
    "|   |   └── ...\n",
    "|   └── ...\n",
    "|\n",
    "└── test/\n",
    "    └── test_survey_response.py\n",
    "```"
   ]
  },
  {
   "cell_type": "markdown",
   "metadata": {
    "editable": true,
    "slideshow": {
     "slide_type": "subslide"
    },
    "tags": []
   },
   "source": [
    "`project.scripts` muss lediglich zu\n",
    "```toml\n",
    "[project.scripts]\n",
    "mail_dir2csv = \"survey_response.__main__:main\"\n",
    "```\n",
    "verändert werden."
   ]
  },
  {
   "cell_type": "markdown",
   "metadata": {
    "editable": true,
    "slideshow": {
     "slide_type": "subslide"
    },
    "tags": []
   },
   "source": [
    "## Example (standalone script)\n",
    "\n",
    "```\n",
    "examples/stand_alone_script/\n",
    "├── pyproject.toml\n",
    "└── user.py\n",
    "```\n",
    "`user.py`\n",
    "```python\n",
    "def main():\n",
    "    print(\"🎉\")\n",
    "```\n",
    "\n",
    "`pyproject.toml`\n",
    "```toml\n",
    "[build-system]\n",
    "requires = [\"setuptools\", \"wheel\"]\n",
    "build-backend = \"setuptools.build_meta\"\n",
    "\n",
    "[project]\n",
    "name = \"user\"\n",
    "version = \"0.0.1\"\n",
    "\n",
    "[project.scripts]\n",
    "user-ctl = \"user:main\"\n",
    "```"
   ]
  },
  {
   "cell_type": "markdown",
   "metadata": {
    "editable": true,
    "slideshow": {
     "slide_type": "subslide"
    },
    "tags": []
   },
   "source": [
    "## Example (multi file package)\n",
    "\n",
    "```\n",
    "examples/multi_file_package/\n",
    "├── pyproject.toml  # <- 1 line changed\n",
    "└── user/\n",
    "    ├── __init__.py # <- empty\n",
    "    ├── user.py\n",
    "    ├── gui.py\n",
    "    └── cli.py\n",
    "\n",
    "```\n",
    "`user.py`\n",
    "```python\n",
    "def add_user():\n",
    "    print(\"➕👤\")\n",
    "```\n",
    "`cli.py`\n",
    "```python\n",
    "from user.user import add_user\n",
    "def main():\n",
    "    print(\"CLI\")\n",
    "    add_user()\n",
    "```\n",
    "`gui.py`\n",
    "```python\n",
    "from user.user import add_user\n",
    "def main():\n",
    "    print(\"GUI\")\n",
    "    add_user()\n",
    "```\n",
    "\n",
    "`pyproject.toml`\n",
    "```diff\n",
    " version = \"0.0.1\"\n",
    " \n",
    " [project.scripts]\n",
    "-user-ctl = \"user:main\"\n",
    "+user-ctl = \"user.cli:main\"\n",
    "```"
   ]
  },
  {
   "cell_type": "markdown",
   "metadata": {
    "editable": true,
    "slideshow": {
     "slide_type": "subslide"
    },
    "tags": []
   },
   "source": [
    "### Exercise: install your command-line tool locally\n",
    "\n",
    "- [ ] use `pip install . --prefix local_python_packages` to specify a folder where packages are installed\n",
    "   - Notice how a `local_python_packages` folder is created\n",
    "- [ ] add the `local_python_packages` folder to your `PYTHONPATH` (make sure you pick the right Python version!)\n",
    "  ```sh\n",
    "  export PYTHONPATH=\"$PWD/$(find local_python_packages -name site-packages)\"\n",
    "  ```\n",
    "- [ ] add this path to your `PATH`:\n",
    "  ```sh\n",
    "  export PATH=\"$PWD/local_python_packages/bin:$PATH\"\n",
    "  ```\n",
    "- [ ] try out the new utility:\n",
    "  ```sh\n",
    "  user-ctl\n",
    "  ```"
   ]
  }
 ],
 "metadata": {
  "celltoolbar": "Slideshow",
  "kernelspec": {
   "display_name": "Python 3 (ipykernel)",
   "language": "python",
   "name": "python3"
  },
  "language_info": {
   "codemirror_mode": {
    "name": "ipython",
    "version": 3
   },
   "file_extension": ".py",
   "mimetype": "text/x-python",
   "name": "python",
   "nbconvert_exporter": "python",
   "pygments_lexer": "ipython3",
   "version": "3.11.3"
  }
 },
 "nbformat": 4,
 "nbformat_minor": 4
}
