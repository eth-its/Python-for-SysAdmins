{
 "cells": [
  {
   "cell_type": "markdown",
   "metadata": {
    "slideshow": {
     "slide_type": "slide"
    }
   },
   "source": [
    "# Python-Code paketieren\n",
    "\n",
    "(vgl. [Packaging Python Projects](https://packaging.python.org/tutorials/packaging-projects/))\n",
    "\n",
    "Wenn wir eine Python-Anwendung mit mehreren Modulen oder auch nur ein einzelnes Skript mit Abhängigkeiten erstellt haben, möchten wir diese in ein Paket zusammenbinden, damit wir diese Funktionalität leicht auf anderen Systemen installieren können.\n",
    "\n",
    "Beispiel: [surveyresponse.py](surveyresponse.py)\n",
    "\n",
    "Dieses Paket benötigt unter Linux keine Abhängigkeiten, auf Windows jedoch `pywin32`."
   ]
  },
  {
   "cell_type": "markdown",
   "metadata": {
    "slideshow": {
     "slide_type": "slide"
    }
   },
   "source": [
    "Ein Python-Paket hat üblicherweise folgende Struktur (Beispiel Survey Response-Applikation):\n",
    "```\n",
    "survey_response/\n",
    "├── README.md\n",
    "├── setup.cfg\n",
    "├── pyproject.toml\n",
    "├── survey_response.py\n",
    "└── test/\n",
    "    └── test_survey_response.py\n",
    "```\n",
    "Im obersten Verzeichnis liegt die Wurzel des (Git-) Repositories. Es enthält ein Unterverzeichnis mit dem gleichen Namen sowie die Files *setup.cfg* und *pyproject.toml*.\n",
    "In *README.md* sollte Zweck und eine kurze Anleitung angegeben werden.\n",
    "\n",
    "Das gleichnamige Unterverzeichnis ist das eigentliche Python-Modul. In diesem Beispiel liegt der Code im File *survey_response.py* (single file Modul).\n",
    "\n",
    "Das File *setup.cfg* enthält Projekt-Metadaten, welche zur Paketierung benötigt werden (ausführlichere Anleitung auf der Seite von [setuptools](https://setuptools.pypa.io/en/latest/userguide/declarative_config.html))."
   ]
  },
  {
   "cell_type": "markdown",
   "metadata": {
    "slideshow": {
     "slide_type": "subslide"
    }
   },
   "source": [
    "**pyproject.toml** ([doc](https://pip.pypa.io/en/stable/reference/build-system/pyproject-toml/))\n",
    "* deklariert welches build system verwendet wird (hier: setuptools)\n",
    "* enthält konfiguration von code quality tools wie pylint, tox, formatting\n",
    "\n",
    "```toml\n",
    "[build-system]\n",
    "requires = [\"setuptools >= 40.6.0\", \"wheel\"]\n",
    "build-backend = \"setuptools.build_meta\"\n",
    "```\n",
    "\n",
    "Dieses File soll in Zukunft `setup.cfg` ablösen. Experimentell kann [bereits jetzt](https://setuptools.pypa.io/en/latest/userguide/pyproject_config.html) der Inhalt von `setup.cfg` in `pyproject.toml` eingebettet werden. Im Gegensatz zu `setup.cfg` welches spezifisch für [setuptools](https://setuptools.pypa.io) ist, ist `pyproject.toml` universell und für jede Paketierungslösung gültig.\n",
    "Die prominenteste Alternative als Paketierungs-Tool ist [Poetry](https://python-poetry.org/)."
   ]
  },
  {
   "cell_type": "markdown",
   "metadata": {
    "slideshow": {
     "slide_type": "subslide"
    }
   },
   "source": [
    "**setup.cfg** (Paket-Metainformation / Abhängigkeiten / Entry-Points / ...)\n",
    "\n",
    "```ini\n",
    "[metadata]\n",
    "name = survey_response\n",
    "version = 0.0.1\n",
    "description = Tool to collect mail survey responses in a folder in a csv file.\n",
    "long_description = file: README.md\n",
    "long_description_content_type = text/markdown\n",
    "url = https://github.com/eth-its/Python-for-SysAdmins/\n",
    "author = Chuck Norris\n",
    "author_email = python.sysadmins@id.ethz.ch\n",
    "license = MIT\n",
    "\n",
    "[options]\n",
    "zip_safe = False\n",
    "packages = find:\n",
    "install_requires =\n",
    "    pywin32; platform_system=='Windows'\n",
    "```"
   ]
  },
  {
   "cell_type": "markdown",
   "metadata": {
    "slideshow": {
     "slide_type": "subslide"
    }
   },
   "source": [
    "- **name**: Der *distribution name* der des Pakets. Er muss eindeutig sein. Dies kann z.B. erreicht werden, wenn ein beliebiger Name mit dem Usernamen ergänzt wird.\n",
    "- **version**: Version des Pakets.\n",
    "- **description**: Kurze, einzeilige Zusammenfassung des Pakets.\n",
    "- **long_description**: Kann via `file:` den Inhalt von `README.md` einlesen und als ausführliche Version von **description** verwenden.\n",
    "- **long_description_content_type**: Gibt hier markdown als Inhaltstyp von `README.md` an\n",
    "- **packages**: Liste aller importierten Python-Pakete, welche im Paket aufgenommen werden sollen. Diese Liste kann entweder manuell oder mit `find:` automatisiert erzeugt werden.\n",
    "- **install_requires**: Abhängigkeiten zu externen Python packages. Hier wird mit `platform_system=='Windows'` angegeben, dass die Abhängigkeit nur unter Windows benötigt wird."
   ]
  },
  {
   "cell_type": "markdown",
   "metadata": {
    "slideshow": {
     "slide_type": "slide"
    }
   },
   "source": [
    "Ist die Paketstruktur mit Code und Setup-Konfiguration bereit, kann das Paket erstellt werden. Zu diesem Zweck muss im Wurzelverzeichnis des Pakets folgender Befehl aufgerufen werden.:\n",
    "\n",
    "```sh\n",
    "pip install .\n",
    "```\n",
    "\n",
    "Damit ist das Python-Paket lokal installiert. Dies kann mit `pip list` überprüft werden.\n",
    "\n",
    "Mit folgenden Befehlen kann ein Archiv des Python-Pakets erzeugt werden:\n",
    "\n",
    "```sh\n",
    "pip install --upgrade build\n",
    "python -m build\n",
    "```\n",
    "Mit dem ersten Befehl wird sichergestellt, dass die aktuellsten Versionen von *build* installiert ist. Mit dem zweiten Befehl wird das Paket als *tar*-File und als *wheel* verpackt und im Unterverzeichnis *dist* abgelegt.\n",
    "\n",
    "Dieses File kann nun beispielsweise auf den Python Paket-Index (*PyPI*) [https://pypi.org/](https://pypi.org/) geladen werden. Dieser Upload auf *PyPI* erfolgt am besten mit Hilfe von [twine](https://twine.readthedocs.io/en/latest/)."
   ]
  },
  {
   "cell_type": "markdown",
   "metadata": {
    "slideshow": {
     "slide_type": "slide"
    }
   },
   "source": [
    "## Versionsnummern\n",
    "\n",
    "Die Versionsnummer eines Pakets, welches auf *PyPI* geladen werden soll, muss sich von einem existierenden Paket (mit dem gleichen Namen) unterscheiden. Sinnvollerweies wird die Versionsnummer im Format gemäss\n",
    "[*Semantic Versioning*](https://semver.org/) angegeben: MAJOR.MINOR.PATCH.\n",
    "\n",
    "Vor einem wichtigen Release (z.B. *1.0.0*) müssen unter Umständen sog. Alpha- und Beta-Release veröffentlicht werden. Eine gültie Versionshistorie kann wie folgt aussehen: `0.9.99` -> `1.0.0-alpha.1` -> `1.0.0-alpha.2` -> `1.0.0-beta.1` -> `1.0.0`."
   ]
  },
  {
   "cell_type": "markdown",
   "metadata": {
    "slideshow": {
     "slide_type": "slide"
    }
   },
   "source": [
    "## Kommandozeile\n",
    "\n",
    "Wird eine Funktionalität, welche mit Python implementier worden ist, häufig gebraucht, ist es umständlich, immer `python my_func.py` eingeben zu müssen. Einfacher wäre es, nur `my_func` einzugeben.\n",
    "\n",
    "Das kann mit dem *options.entry_points* in *setup.cfg* erreicht werden:\n",
    "```ini\n",
    "[options.entry_points]\n",
    "console_scripts =\n",
    "    mail_dir2csv=survey_response:main\n",
    "```\n",
    "Mit dem `entry_points` in `console_scripts` wird der Setup so konfiguriert, dass ein Kommandozeilen-Programm mit dem Namen *mail_dir2csv* erzeugt wird. Wird dieses gestartet, so wird die `main`-Funktion im Modul *survey_response.main* ausgeführt.\n",
    "\n",
    "Weiterführende Informationen auf [setuptools.pypa.io](https://setuptools.pypa.io/en/latest/userguide/entry_point.html)."
   ]
  },
  {
   "cell_type": "markdown",
   "metadata": {
    "slideshow": {
     "slide_type": "subslide"
    }
   },
   "source": [
    "## Multi file Modules\n",
    "\n",
    "Im obigen Beispiel haben wir nur ein einzelnes Skript [surveyresponse.py](surveyresponse.py) paketiert.\n",
    "Wenn das Prokekt wächst und das Skript in mehrere Files gegliedert wird, verändert sich die Ordnerstruktur wie folgt:\n",
    "```\n",
    "survey_response/\n",
    "├── README.md\n",
    "├── setup.cfg\n",
    "├── pyproject.toml\n",
    "├── survey_response\n",
    "|   ├── __init__.py\n",
    "|   ├── __main__.py\n",
    "|   ├── file_module_a.py\n",
    "|   ├── folder_module_b\n",
    "|   |   ├── __init__.py\n",
    "|   |   ├── file_sub_module.py\n",
    "|   |   └── ...\n",
    "|   └── ...\n",
    "|\n",
    "└── test/\n",
    "    └── test_survey_response.py\n",
    "```"
   ]
  },
  {
   "cell_type": "markdown",
   "metadata": {},
   "source": [
    "`options.entry_points` muss lediglich zu\n",
    "```ini\n",
    "[options.entry_points]\n",
    "console_scripts =\n",
    "    mail_dir2csv=survey_response.__main__:main\n",
    "```\n",
    "verändert werden."
   ]
  }
 ],
 "metadata": {
  "celltoolbar": "Slideshow",
  "kernelspec": {
   "display_name": "Python 3 (ipykernel)",
   "language": "python",
   "name": "python3"
  },
  "language_info": {
   "codemirror_mode": {
    "name": "ipython",
    "version": 3
   },
   "file_extension": ".py",
   "mimetype": "text/x-python",
   "name": "python",
   "nbconvert_exporter": "python",
   "pygments_lexer": "ipython3",
   "version": "3.11.3"
  }
 },
 "nbformat": 4,
 "nbformat_minor": 4
}
