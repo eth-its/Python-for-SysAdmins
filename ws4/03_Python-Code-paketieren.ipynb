{
 "cells": [
  {
   "cell_type": "markdown",
   "metadata": {
    "editable": true,
    "slideshow": {
     "slide_type": "slide"
    },
    "tags": []
   },
   "source": [
    "# Python-Code paketieren\n",
    "\n",
    "(Offizielle Dokumentation: [Packaging Python Projects](https://packaging.python.org/tutorials/packaging-projects/))\n",
    "\n",
    "Wenn wir eine Python-Anwendung mit mehreren Modulen oder auch nur ein einzelnes Skript mit Abhängigkeiten erstellt haben, möchten wir diese in ein Paket zusammenbinden, damit wir diese Funktionalität leicht auf anderen Systemen installieren können.\n",
    "\n",
    "Beispiel: [surveyresponse.py](surveyresponse.py)\n",
    "\n",
    "Dieses Paket benötigt unter Linux keine Abhängigkeiten, auf Windows jedoch `pywin32`."
   ]
  },
  {
   "cell_type": "markdown",
   "metadata": {
    "slideshow": {
     "slide_type": "slide"
    }
   },
   "source": [
    "Ein Python-Paket hat üblicherweise folgende Struktur (Beispiel Survey Response-Applikation):\n",
    "```\n",
    "survey_response/\n",
    "├── README.md\n",
    "├── pyproject.toml\n",
    "├── survey_response.py\n",
    "└── test/\n",
    "    └── test_survey_response.py\n",
    "```\n",
    "Im obersten Verzeichnis liegt die Wurzel des (Git-) Repositories. Es enthält ein `README.md` (enthält Verwendungszweck und eine kurze Anleitung), ein Unterverzeichnis mit dem gleichen Namen wie das Projekt sowie das File `pyproject.toml`.\n",
    "\n",
    "Das Unterverzeichnis enthält das eigentliche Python-Modul. In unserem Beispiel haben wir *kein* Unterverzeichnis, stattdessen liegt der Code im File `survey_response.py` (single file Modul).\n",
    "\n",
    "Das File `pyproject.toml` ist ein Konfigurationsfile für unser Projekt. Es enthält Projekt-Metadaten, welche zur Paketierung benötigt werden (ausführlichere Anleitung auf der Seite von [setuptools](https://setuptools.pypa.io/en/latest/userguide/declarative_config.html)). Es ersetzt die früher üblichen `setup.cfg` und `setup.py` Files. [Dieser Blogpost](https://ianhopkinson.org.uk/2022/02/understanding-setup-py-setup-cfg-and-pyproject-toml-in-python/) erklärt die etwas komplizierte Geschichte etwas ausführlicher."
   ]
  },
  {
   "cell_type": "markdown",
   "metadata": {
    "slideshow": {
     "slide_type": "subslide"
    }
   },
   "source": [
    "**pyproject.toml** ([doc](https://pip.pypa.io/en/stable/reference/build-system/pyproject-toml/))\n",
    "* globales Konfigurationsfile für das Projekt\n",
    "* deklariert, welches *build system* verwendet wird (hier: [setuptools](https://setuptools.pypa.io)). Gemeint ist, welches Tool benutzt wird, um unser Projekt zusammenzubauen. Es gibt zwar eine grössere Auswahl, aber setuptools ist das am häufigsten verwendete. Die prominenteste Alternative zu setuptools ist [Poetry](https://python-poetry.org/).\n",
    "* deklariert Abhängigkeiten, Projekt-Metainformation, Programm-Einstiegspunkte\n",
    "* enthält Konfiguration von Code Quality Tools wie [pylint](https://pylint.readthedocs.io/en/stable/), [tox](https://tox.wiki/en/4.15.0/), [ruff](https://github.com/astral-sh/ruff) etc."
   ]
  },
  {
   "cell_type": "markdown",
   "metadata": {},
   "source": [
    "Hier ist ein Beispiel für eines `pyproject.toml` Konfigurationsfiles für unser Projekt:"
   ]
  },
  {
   "cell_type": "markdown",
   "metadata": {
    "slideshow": {
     "slide_type": "subslide"
    }
   },
   "source": [
    "```toml\n",
    "[build-system]\n",
    "requires = [\"setuptools >= 40.6.0\", \"wheel\"]\n",
    "build-backend = \"setuptools.build_meta\"\n",
    "\n",
    "[project]\n",
    "name = \"survey_response\"\n",
    "version = 0.0.1\n",
    "authors = [\n",
    "    {name = \"Chuck Norris\", email = \"python.sysadmins@id.ethz.ch\"},\n",
    "]\n",
    "description = \"Tool to collect mail survey responses in a folder in a csv file.\"\n",
    "readme = {file = \"README.md\", content_type = \"text/markdown\"}\n",
    "license = {text = \"BSD-3-Clause\"}\n",
    "classifiers = [\n",
    "    \"Programming Language :: Python :: 3\",\n",
    "]\n",
    "dependencies = [\n",
    "    \"importlib-metadata; platform_system=='Windows'\",\n",
    "]\n",
    "\n",
    "[options]\n",
    "zip_safe = False\n",
    "packages = find:\n",
    "```"
   ]
  },
  {
   "cell_type": "markdown",
   "metadata": {
    "slideshow": {
     "slide_type": "subslide"
    }
   },
   "source": [
    "- `name` Der *distribution name* der des Pakets. Falls das Paket auf [pypi.org](pypi.org) veröffentlicht wird, sollte der Name eindeutig sein und noch nicht existieren. \n",
    "- `version`: Version des Pakets.\n",
    "- `description`: Kurze, einzeilige Zusammenfassung des Pakets.\n",
    "- `readme`: Kann via `file = \"README.md\"` unser Projekt-README einlesen und als ausführliche Version von `description` dienen.\n",
    "- `dependencies`: Liste aller importierten Python-Pakete, welche im Paket aufgenommen werden sollen. Diese Liste kann entweder manuell oder mit `find:` automatisiert erzeugt werden.\n",
    "- `dependencies`: Abhängigkeiten zu externen Python packages. Hier kann auch mit `platform_system=='Windows'` angegeben werden, dass die Abhängigkeit nur unter Windows benötigt wird."
   ]
  },
  {
   "cell_type": "markdown",
   "metadata": {
    "slideshow": {
     "slide_type": "slide"
    }
   },
   "source": [
    "Ist die Paketstruktur mit Code und Setup-Konfiguration bereit, kann das Paket erstellt werden. Zu diesem Zweck muss im Wurzelverzeichnis des Pakets folgender Befehl aufgerufen werden.:\n",
    "\n",
    "```sh\n",
    "pip install .\n",
    "```\n",
    "\n",
    "Damit ist das Python-Paket lokal installiert. Dies kann mit `pip list` überprüft werden.\n",
    "\n",
    "Mit folgenden Befehlen kann ein Archiv des Python-Pakets erzeugt werden:\n",
    "\n",
    "```sh\n",
    "pip install --upgrade build\n",
    "python -m build\n",
    "```\n",
    "Mit dem ersten Befehl wird sichergestellt, dass die aktuellsten Versionen von *build* installiert ist. Mit dem zweiten Befehl wird das Paket als *tar*-File und als *wheel* verpackt und im Unterverzeichnis *dist* abgelegt.\n",
    "\n",
    "Dieses File kann nun beispielsweise auf den Python Paket-Index (*PyPI*) [https://pypi.org/](https://pypi.org/) geladen werden. Dieser Upload auf *PyPI* erfolgt am besten mit Hilfe von [twine](https://twine.readthedocs.io/en/latest/)."
   ]
  },
  {
   "cell_type": "markdown",
   "metadata": {
    "editable": true,
    "slideshow": {
     "slide_type": "slide"
    },
    "tags": []
   },
   "source": [
    "## Versionsnummern\n",
    "\n",
    "Die Versionsnummer eines Pakets, welches auf [PyPi](https://pypi.org/) geladen werden soll, muss sich von einem existierenden Paket (mit dem gleichen Namen) unterscheiden. Sinnvollerweies wird die Versionsnummer im Format gemäss\n",
    "[*Semantic Versioning*](https://semver.org/) angegeben: `MAJOR.MINOR.PATCH`\n",
    "\n",
    "Vor einem wichtigen Release (z.B. `1.0.0`) müssen unter Umständen sog. Alpha- und Beta-Release veröffentlicht werden. Eine gültie Versionshistorie kann wie folgt aussehen: `0.9.99` -> `1.0.0-alpha.1` -> `1.0.0-alpha.2` -> `1.0.0-beta.1` -> `1.0.0`."
   ]
  },
  {
   "cell_type": "markdown",
   "metadata": {
    "editable": true,
    "slideshow": {
     "slide_type": "slide"
    },
    "tags": []
   },
   "source": [
    "## Kommandozeilen-Tool paketieren\n",
    "\n",
    "Nachdem man das Paket `ethz-iam-webservice` installiert hat:\n",
    "```sh\n",
    "pip install ethz-iam-webservice\n",
    "```\n",
    "ist automatisch ein Kommandozeilen-Tool `iam` verfügbar.\n",
    "Wie macht man so etwas?"
   ]
  },
  {
   "cell_type": "markdown",
   "metadata": {
    "editable": true,
    "slideshow": {
     "slide_type": "fragment"
    },
    "tags": []
   },
   "source": [
    "Ausführbare Skripte können in [pyproject.toml](https://gitlab.ethz.ch/vermeul/ethz-iam-webservice/-/blob/master/pyproject.toml?ref_type=heads) im Abschnitt `[project.scripts]` wie folgt definiert werden:\n",
    "```toml\n",
    "[project.scripts]\n",
    "iam = ethz_iam_webservice.main:cli\n",
    "```"
   ]
  },
  {
   "cell_type": "markdown",
   "metadata": {},
   "source": [
    "[setuptools](https://setuptools.pypa.io) erstellt während der Installation des Paketes zunächst ein kleines, ausführbares «wrapper Skript» namens `iam`. Dieses Skript (unter Unix ein Shell-Skript, unter Windows ein `.exe`) startet den Python und führt schliesslich die Einstiegsmethode `ethz_iam_webservice.main:cli` aus:"
   ]
  },
  {
   "cell_type": "markdown",
   "metadata": {
    "editable": true,
    "slideshow": {
     "slide_type": "subslide"
    },
    "tags": []
   },
   "source": [
    "```\n",
    "ethz_iam_webservice.main:cli\n",
    "      ^              ^    ^\n",
    "      |              |    |\n",
    "  module name   main.py  function name\n",
    "```\n",
    "\n",
    "```\n",
    "ethz-iam-webservice/\n",
    "├── README.md\n",
    "├── pyproject.toml\n",
    "├── ethz_iam_webservice/\n",
    "|   ├── __init__.py\n",
    "|   ├── main.py\n",
    "|   └── ...\n",
    "└── tests/\n",
    "    ├── test_guests.py\n",
    "    └── ...\n",
    "```"
   ]
  },
  {
   "cell_type": "markdown",
   "metadata": {},
   "source": [
    "Damit dieses «wrapper Skript» bei der Eingabe in der Kommandozeile überhaupt gefunden wird, wird es von `setuptools` in einen der bekannten Ordner (Pfade) platziert, in denen üblicherweise nach Programmen gesucht wird. Die Liste dieser Pfade wird auf allen Plattformen in der Variable `PATH` festgelegt. Einer dieser Pfade ist für lokal installierte Programme vorgesehen:"
   ]
  },
  {
   "cell_type": "markdown",
   "metadata": {
    "editable": true,
    "slideshow": {
     "slide_type": "notes"
    },
    "tags": []
   },
   "source": [
    "- `~/.local/bin` (Linux/Apple)\n",
    "- `AppData\\Roaming\\bin` (Windows)\n",
    "- `./venv/bin` (falls ein virtual environment im Einsatz ist)"
   ]
  },
  {
   "cell_type": "markdown",
   "metadata": {
    "editable": true,
    "slideshow": {
     "slide_type": "subslide"
    },
    "tags": []
   },
   "source": [
    "## Standalone script package\n",
    "\n",
    "Im Beispiel von `survey_response`, welches nur aus einem `py` File besteht, verwenden wir:\n",
    "\n",
    "```toml\n",
    "[project.scripts]\n",
    "mail_dir2csv = \"survey_response:main\"\n",
    "```\n",
    "\n",
    "```\n",
    "   survey_response.main\n",
    "         ^           ^\n",
    "         |           |\n",
    "survey_response.py  function name\n",
    "```\n",
    "\n",
    "Weiterführende Informationen auf [setuptools.pypa.io](https://setuptools.pypa.io/en/latest/userguide/entry_point.html)."
   ]
  },
  {
   "cell_type": "markdown",
   "metadata": {
    "editable": true,
    "slideshow": {
     "slide_type": "subslide"
    },
    "tags": []
   },
   "source": [
    "## Beispiel 1: standalone script\n",
    "\n",
    "```\n",
    "examples/stand_alone_script/\n",
    "├── pyproject.toml\n",
    "└── user.py\n",
    "```\n",
    "[`user.py`](examples/stand_alone_script/user.py)\n",
    "```python\n",
    "def main():\n",
    "    print(\"🎉\")\n",
    "```\n",
    "\n",
    "[`pyproject.toml`](examples/stand_alone_script/pyproject.toml)\n",
    "```toml\n",
    "[build-system]\n",
    "requires = [\"setuptools\", \"wheel\"]\n",
    "build-backend = \"setuptools.build_meta\"\n",
    "\n",
    "[project]\n",
    "name = \"user\"\n",
    "version = \"0.0.1\"\n",
    "\n",
    "[project.scripts]\n",
    "user-ctl = \"user:main\"\n",
    "```"
   ]
  },
  {
   "cell_type": "markdown",
   "metadata": {
    "editable": true,
    "slideshow": {
     "slide_type": "subslide"
    },
    "tags": []
   },
   "source": [
    "## Beispiel 2: multi file package\n",
    "\n",
    "```\n",
    "examples/multi_file_package/\n",
    "├── pyproject.toml  # <- 1 line changed\n",
    "└── user/\n",
    "    ├── __init__.py # <- empty\n",
    "    ├── user.py\n",
    "    ├── gui.py\n",
    "    └── cli.py\n",
    "\n",
    "```\n",
    "[`user.py`](examples/multi_file_package/user/user.py)\n",
    "```python\n",
    "def add_user():\n",
    "    print(\"➕👤\")\n",
    "```\n",
    "[`cli.py`](examples/multi_file_package/user/cli.py)\n",
    "```python\n",
    "from user.user import add_user\n",
    "def main():\n",
    "    print(\"CLI\")\n",
    "    add_user()\n",
    "```\n",
    "[`gui.py`](examples/multi_file_package/user/gui.py)\n",
    "```python\n",
    "from user.user import add_user\n",
    "def main():\n",
    "    print(\"GUI\")\n",
    "    add_user()\n",
    "```\n",
    "\n",
    "[`pyproject.toml`](examples/multi_file_package/pyproject.toml)\n",
    "```diff\n",
    " version = \"0.0.1\"\n",
    " \n",
    " [project.scripts]\n",
    "-user-ctl = \"user:main\"\n",
    "+user-ctl = \"user.cli:main\"\n",
    "```"
   ]
  },
  {
   "cell_type": "markdown",
   "metadata": {
    "editable": true,
    "slideshow": {
     "slide_type": "subslide"
    },
    "tags": []
   },
   "source": [
    "### Exercise: install your command-line tool locally\n",
    "\n",
    "- [ ] use `pip install . --prefix local_python_packages` to specify a folder where packages are installed\n",
    "   - Notice how a `local_python_packages` folder is created\n",
    "- [ ] add the `local_python_packages` folder to your `PYTHONPATH` (make sure you pick the right Python version!)\n",
    "  ```sh\n",
    "  export PYTHONPATH=\"$PWD/$(find local_python_packages -name site-packages)\"\n",
    "  ```\n",
    "- [ ] add this path to your `PATH`:\n",
    "  ```sh\n",
    "  export PATH=\"$PWD/local_python_packages/bin:$PATH\"\n",
    "  ```\n",
    "- [ ] try out the new utility:\n",
    "  ```sh\n",
    "  user-ctl\n",
    "  ```"
   ]
  }
 ],
 "metadata": {
  "celltoolbar": "Slideshow",
  "kernelspec": {
   "display_name": "Python 3 (ipykernel)",
   "language": "python",
   "name": "python3"
  },
  "language_info": {
   "codemirror_mode": {
    "name": "ipython",
    "version": 3
   },
   "file_extension": ".py",
   "mimetype": "text/x-python",
   "name": "python",
   "nbconvert_exporter": "python",
   "pygments_lexer": "ipython3",
   "version": "3.11.4"
  }
 },
 "nbformat": 4,
 "nbformat_minor": 4
}
