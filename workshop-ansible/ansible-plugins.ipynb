{
 "cells": [
  {
   "cell_type": "markdown",
   "id": "59b757da",
   "metadata": {
    "slideshow": {
     "slide_type": "slide"
    }
   },
   "source": [
    "# Writing ansible plugins"
   ]
  },
  {
   "cell_type": "markdown",
   "id": "6677cc9c",
   "metadata": {
    "slideshow": {
     "slide_type": "subslide"
    }
   },
   "source": [
    "## Ansible filters\n",
    "\n",
    "Ansible already comes with a large collection of [filters](https://docs.ansible.com/ansible/latest/playbook_guide/playbooks_filters.html).\n",
    "For example\n",
    "\n",
    "```yml\n",
    "{{ some_variable | to_nice_json }}\n",
    "```\n",
    "\n",
    "can be used to automatically create and deploy config files based on gathered variables.\n",
    "\n",
    "However sometimes it is either very cumbersome or not possible to achieve certain tasks and a small custom filter plugin might be very useful."
   ]
  },
  {
   "cell_type": "markdown",
   "id": "11718c78",
   "metadata": {
    "slideshow": {
     "slide_type": "subslide"
    }
   },
   "source": [
    "### Example: `to_dot_env` to automatically format .env files\n",
    "\n",
    "We want to be able to do the following:"
   ]
  },
  {
   "cell_type": "code",
   "execution_count": null,
   "id": "3d92c022",
   "metadata": {
    "scrolled": true,
    "slideshow": {
     "slide_type": "fragment"
    }
   },
   "outputs": [],
   "source": [
    "from IPython.display import Code\n",
    "Code(filename=\"playbook.yml\", language=\"yaml\")"
   ]
  },
  {
   "cell_type": "markdown",
   "id": "ddccb146",
   "metadata": {
    "slideshow": {
     "slide_type": "subslide"
    }
   },
   "source": [
    "As a result the `.env` file should look like\n",
    "\n",
    "```\n",
    "PYTHONPATH=/var/service/lib/python/site_packages\n",
    "PATH=/var/service/bin\n",
    "```"
   ]
  },
  {
   "cell_type": "markdown",
   "id": "a02df70c",
   "metadata": {
    "slideshow": {
     "slide_type": "subslide"
    }
   },
   "source": [
    "### Where to start?\n",
    "From the [ansible doc](https://docs.ansible.com/ansible/latest/plugins/filter.html):\n",
    "> You can add a custom filter plugin by dropping it into a `filter_plugins` directory adjacent to your play, inside\n",
    "> a role, or by putting it in one of the filter plugin directory sources configured in [ansible.cfg](https://docs.ansible.com/ansible/latest/reference_appendices/config.html#ansible-configuration-settings).\n"
   ]
  },
  {
   "cell_type": "markdown",
   "id": "cc087a90",
   "metadata": {
    "slideshow": {
     "slide_type": "subslide"
    }
   },
   "source": [
    "### Step 1: Create `filter_plugins` folder\n",
    "\n",
    "Given the playbook `playbook.yml`, create a folder `filter_plugins` next to the playbook.\n",
    "And create a file `to_dot_env.py` inside.\n",
    "\n",
    "```\n",
    "playbook.yml\n",
    "filter_plugins/\n",
    "└── to_dot_env.py\n",
    "```"
   ]
  },
  {
   "cell_type": "code",
   "execution_count": null,
   "id": "84c08bf6",
   "metadata": {
    "slideshow": {
     "slide_type": "fragment"
    }
   },
   "outputs": [],
   "source": [
    "!mkdir filter_plugins"
   ]
  },
  {
   "cell_type": "markdown",
   "id": "edec9852",
   "metadata": {
    "slideshow": {
     "slide_type": "subslide"
    }
   },
   "source": [
    "### Step 2: Write a filter class\n",
    "\n",
    "Open `to_dot_env.py`,\n",
    "\n",
    "Put the following inside:"
   ]
  },
  {
   "cell_type": "code",
   "execution_count": null,
   "id": "043477b7",
   "metadata": {
    "slideshow": {
     "slide_type": "fragment"
    }
   },
   "outputs": [],
   "source": [
    "%%writefile filter_plugins/to_dot_env.py\n",
    "\n",
    "\n",
    "class FilterModule:\n",
    "    @staticmethod\n",
    "    def filters():\n",
    "        return {\"to_dot_env\": to_dot_env}\n",
    "\n",
    "\n",
    "def to_dot_env(keys):\n",
    "    # your code here\n",
    "    return \"...\""
   ]
  },
  {
   "cell_type": "markdown",
   "id": "726c6016",
   "metadata": {
    "slideshow": {
     "slide_type": "subslide"
    }
   },
   "source": [
    "Lets check what the filter currently does:"
   ]
  },
  {
   "cell_type": "code",
   "execution_count": null,
   "id": "0adc7fee",
   "metadata": {
    "slideshow": {
     "slide_type": "fragment"
    }
   },
   "outputs": [],
   "source": [
    "%%script bash --no-raise-error\n",
    "\n",
    "ansible-playbook playbook.yml"
   ]
  },
  {
   "cell_type": "markdown",
   "id": "378cef0d",
   "metadata": {
    "slideshow": {
     "slide_type": "subslide"
    }
   },
   "source": [
    "It should have written something to `/tmp/.env`. Lets check the content:"
   ]
  },
  {
   "cell_type": "code",
   "execution_count": null,
   "id": "7cb6c2dd",
   "metadata": {
    "slideshow": {
     "slide_type": "fragment"
    }
   },
   "outputs": [],
   "source": [
    "!cat /tmp/.env"
   ]
  },
  {
   "cell_type": "markdown",
   "id": "34d38191",
   "metadata": {
    "slideshow": {
     "slide_type": "subslide"
    }
   },
   "source": [
    "If ansible finds a python file in the folder `filter_plugins`, it first looks if the file contains a class `FilterModule` with a method `filters`. It uses this method as an index of filter plugins inside the python file.\n",
    "In our case it is `to_dot_env` and it calls the function with the same name in the python file.\n",
    "\n",
    "If in the playbook `... | to_dot_env` is used, then ansible will call `to_dot_env(...)` passing to the function whatever `...` evaluates to.\n",
    "\n",
    "Tasks:\n",
    "- [ ] Make sure that in `to_dot_env(keys)`, `keys` is a `dict`. Otherwise rise a `TypeError` exception.\n",
    "- [ ] After this check, convert the `dict` to a `str` of the form\n",
    "  ```\n",
    "  key1=val1\n",
    "  key2=val2\n",
    "  ...\n",
    "  ```\n",
    "  and return this string\n",
    "- [ ] Run the playbook to check, that the filter works"
   ]
  },
  {
   "cell_type": "markdown",
   "id": "58749d05",
   "metadata": {
    "slideshow": {
     "slide_type": "slide"
    }
   },
   "source": [
    "# Ansible modules\n",
    "\n",
    "Ansible modules are what you use in your playbooks:\n",
    "```yml\n",
    "- name: Use module\n",
    "  ansible.builtin.copy: # <- copy is a module\n",
    "  ...\n",
    "```"
   ]
  },
  {
   "cell_type": "markdown",
   "id": "f40b2032",
   "metadata": {
    "slideshow": {
     "slide_type": "subslide"
    }
   },
   "source": [
    "### Example 1: Hello world\n",
    "\n",
    "Source: https://auscunningham.medium.com/write-a-ansible-module-with-python-527f0b292b4d\n",
    "\n",
    "First, we create a playbook which will call our plugin `hello_world`:"
   ]
  },
  {
   "cell_type": "code",
   "execution_count": null,
   "id": "cb729035",
   "metadata": {
    "scrolled": false,
    "slideshow": {
     "slide_type": "fragment"
    }
   },
   "outputs": [],
   "source": [
    "from IPython.display import Code\n",
    "Code(filename=\"helloworld.yml\", language=\"yaml\")"
   ]
  },
  {
   "cell_type": "markdown",
   "id": "a4c7ccd0",
   "metadata": {
    "slideshow": {
     "slide_type": "subslide"
    }
   },
   "source": [
    "The following module just will return a field `msg` in its return value."
   ]
  },
  {
   "cell_type": "code",
   "execution_count": null,
   "id": "d9eab3dc",
   "metadata": {
    "slideshow": {
     "slide_type": "fragment"
    }
   },
   "outputs": [],
   "source": [
    "!mkdir -p library"
   ]
  },
  {
   "cell_type": "code",
   "execution_count": null,
   "id": "716d1ae4",
   "metadata": {
    "slideshow": {
     "slide_type": "fragment"
    }
   },
   "outputs": [],
   "source": [
    "%%writefile library/hello_world.py\n",
    "#!/bin/env python3\n",
    "\n",
    "from ansible.module_utils.basic import AnsibleModule\n",
    "\n",
    "def main():\n",
    "    module = AnsibleModule(argument_spec={})\n",
    "    module.exit_json(changed=False, msg=\"Chuck Norris killed Bambi\")\n",
    "\n",
    "if __name__ == \"__main__\":\n",
    "    main()"
   ]
  },
  {
   "cell_type": "markdown",
   "id": "164319a1",
   "metadata": {
    "slideshow": {
     "slide_type": "subslide"
    }
   },
   "source": [
    "Call `ansible-playbook` to test the module:"
   ]
  },
  {
   "cell_type": "code",
   "execution_count": null,
   "id": "ea8cf066",
   "metadata": {
    "scrolled": true,
    "slideshow": {
     "slide_type": "fragment"
    }
   },
   "outputs": [],
   "source": [
    "%%script bash --no-raise-error\n",
    "\n",
    "ansible-playbook helloworld.yml"
   ]
  },
  {
   "cell_type": "markdown",
   "id": "60b5c061",
   "metadata": {
    "slideshow": {
     "slide_type": "subslide"
    }
   },
   "source": [
    "### Example 2: Assemble a config file starting from an example config\n",
    "\n",
    "Note: this also can by some ansible modules and some filters, but here we develop one simple (for the enduser) module.\n",
    "\n",
    "Assume a os package (e.g. installed py `ansible.builtin.apt`) comes with some example config in `/var/lib/pkg/example.json`.\n",
    "\n",
    "Goal: use this as a template, fill in some values passed by a parameter.\n",
    "\n",
    "Our template config will be:"
   ]
  },
  {
   "cell_type": "code",
   "execution_count": null,
   "id": "1c0af810",
   "metadata": {
    "scrolled": true,
    "slideshow": {
     "slide_type": "fragment"
    }
   },
   "outputs": [],
   "source": [
    "from IPython.display import Code\n",
    "Code(filename=\"example.json\", language=\"json\")"
   ]
  },
  {
   "cell_type": "markdown",
   "id": "ffbe1418",
   "metadata": {
    "slideshow": {
     "slide_type": "subslide"
    }
   },
   "source": [
    "And our playbook will pass some values to fill in:"
   ]
  },
  {
   "cell_type": "code",
   "execution_count": null,
   "id": "5b9ab4eb",
   "metadata": {
    "slideshow": {
     "slide_type": "fragment"
    }
   },
   "outputs": [],
   "source": [
    "from IPython.display import Code\n",
    "Code(filename=\"assemble_config.yml\", language=\"yaml\")"
   ]
  },
  {
   "cell_type": "code",
   "execution_count": null,
   "id": "98eb5ad6",
   "metadata": {
    "slideshow": {
     "slide_type": "fragment"
    }
   },
   "outputs": [],
   "source": [
    "!mkdir -p library"
   ]
  },
  {
   "cell_type": "code",
   "execution_count": null,
   "id": "ddbac048",
   "metadata": {
    "slideshow": {
     "slide_type": "subslide"
    }
   },
   "outputs": [],
   "source": [
    "%%writefile library/assemble_config.py\n",
    "#!/bin/env python3\n",
    "\n",
    "from ansible.module_utils.basic import AnsibleModule\n",
    "\n",
    "DOCUMENTATION = \"\"\"---\n",
    "module: assemble_config.py\n",
    "short_description: ...\n",
    "description:\n",
    "  - ...\n",
    "options:\n",
    "  template:\n",
    "    description:\n",
    "      - ...\n",
    "  ...\n",
    "\"\"\"\n",
    "\n",
    "def main():\n",
    "    module = AnsibleModule(argument_spec={\n",
    "        \"template\": {\"required\": True, \"type\": \"str\"},\n",
    "        \"dest\": {\"required\": True, \"type\": \"str\"},\n",
    "        \"values\": {\"required\": True, \"type\": \"dict\"},\n",
    "    })\n",
    "    changed = assemble_config(**module.params)\n",
    "    module.exit_json(changed=changed)\n",
    "\n",
    "def assemble_config(template: str, dest: str, values: dict) -> bool:\n",
    "    # Your code here\n",
    "    return False\n",
    "    \n",
    "if __name__ == \"__main__\":\n",
    "    main()"
   ]
  },
  {
   "cell_type": "code",
   "execution_count": null,
   "id": "6a8f840a",
   "metadata": {
    "scrolled": true,
    "slideshow": {
     "slide_type": "subslide"
    }
   },
   "outputs": [],
   "source": [
    "%%script bash --no-raise-error\n",
    "\n",
    "ansible-playbook assemble_config.yml"
   ]
  }
 ],
 "metadata": {
  "celltoolbar": "Slideshow",
  "kernelspec": {
   "display_name": "Python 3 (ipykernel)",
   "language": "python",
   "name": "python3"
  },
  "language_info": {
   "codemirror_mode": {
    "name": "ipython",
    "version": 3
   },
   "file_extension": ".py",
   "mimetype": "text/x-python",
   "name": "python",
   "nbconvert_exporter": "python",
   "pygments_lexer": "ipython3",
   "version": "3.10.10"
  }
 },
 "nbformat": 4,
 "nbformat_minor": 5
}
