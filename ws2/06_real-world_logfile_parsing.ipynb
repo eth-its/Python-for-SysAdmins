{
 "cells": [
  {
   "cell_type": "markdown",
   "metadata": {
    "slideshow": {
     "slide_type": "slide"
    }
   },
   "source": [
    "# Real-world logfile parsing"
   ]
  },
  {
   "cell_type": "markdown",
   "metadata": {
    "slideshow": {
     "slide_type": "notes"
    }
   },
   "source": [
    "The real world is a bit more complicated and does not match the training examples. Sysadmins use `grep`, `awk` and `sed` to extract parts of a logfile and pipe the output into another. However, these one-liners become unreadable line-noise. Here is an example how you would extract information from a logfile, using Python."
   ]
  },
  {
   "cell_type": "markdown",
   "metadata": {
    "slideshow": {
     "slide_type": "fragment"
    }
   },
   "source": [
    "open the [sfbios.log](data/sfbios.log) in the filebrowser, so you can get an idea what kind of logfile we are dealing with."
   ]
  },
  {
   "cell_type": "markdown",
   "metadata": {
    "slideshow": {
     "slide_type": "fragment"
    }
   },
   "source": [
    "Now somebody (i.e. your boss 🧐) would like to extract a list of all sip usernames. The sip usernames can be found in a structure like this:\n",
    "\n",
    "```xml\n",
    "<property name=\"uri\">sip:rolands@tdl.lv</property>\n",
    "```\n",
    "\n",
    "The logfile is encoded in utf-8."
   ]
  },
  {
   "cell_type": "markdown",
   "metadata": {
    "slideshow": {
     "slide_type": "subslide"
    }
   },
   "source": [
    "## regex best practises: `re.X`"
   ]
  },
  {
   "cell_type": "markdown",
   "metadata": {
    "slideshow": {
     "slide_type": "fragment"
    }
   },
   "source": [
    "**Always use the extended regular expression syntax with `re.X`, unless the regex is really trivial.**"
   ]
  },
  {
   "cell_type": "markdown",
   "metadata": {
    "slideshow": {
     "slide_type": "fragment"
    }
   },
   "source": [
    "Let's say, the super-genius 🤓 just left your team and left you a regular expression which does some very clever data extraction:"
   ]
  },
  {
   "cell_type": "code",
   "execution_count": null,
   "metadata": {
    "slideshow": {
     "slide_type": "fragment"
    }
   },
   "outputs": [],
   "source": [
    "import re\n",
    "regex = re.compile('^(?P<alias_alternative>(?P<requested_entity>sample|object)(\\.(?P<attribute>\\w+))?)(\\s+(?i)AS\\s+(?P<alias>\\w+))?\\s*$')"
   ]
  },
  {
   "cell_type": "markdown",
   "metadata": {
    "slideshow": {
     "slide_type": "fragment"
    }
   },
   "source": [
    "❓ Anyone here can explain me what this regex should do? It is _somehow_ broken!"
   ]
  },
  {
   "cell_type": "markdown",
   "metadata": {
    "slideshow": {
     "slide_type": "notes"
    }
   },
   "source": [
    "With the `re.X` flag, you can use the extended syntax and comment every piece of your regular expression separately. The same regex as above is now much easier to read and comprehend, the original intention is preserved. Because you can span the regex over many lines, you also need to specify all whitespace explicitly with `\\s` or `\\s+`:"
   ]
  },
  {
   "cell_type": "code",
   "execution_count": null,
   "metadata": {
    "slideshow": {
     "slide_type": "subslide"
    }
   },
   "outputs": [],
   "source": [
    "import re\n",
    "regex = re.compile(\n",
    "    r\"\"\"^                                              # beginning of the string\n",
    "        (?P<alias_alternative>                         # use first part as alias, if no alias is defined\n",
    "          (?P<requested_entity>sample|object)          # string starts with sample or object\n",
    "          (\\.(?P<attribute>\\w+))?                      # capture an optional .attribute\n",
    "        )\n",
    "        (                                              # capture an optional alias: entity.attribute AS alias\n",
    "          \\s+(?i)AS\\s+                                 # whitespace, ignore case of 'AS', whitespace\n",
    "          (?P<alias>\\w+)                               # capture the alias\n",
    "        )?                                             # \n",
    "        \\s*                                            # ignore any trailing whitespace\n",
    "        $                                              # end of string\n",
    "    \"\"\",\n",
    "    re.X + re.I\n",
    ")"
   ]
  },
  {
   "cell_type": "markdown",
   "metadata": {
    "slideshow": {
     "slide_type": "subslide"
    }
   },
   "source": [
    "## regex best practises: Do not use `re.match`, always use `re.search`"
   ]
  },
  {
   "cell_type": "markdown",
   "metadata": {
    "slideshow": {
     "slide_type": "fragment"
    }
   },
   "source": [
    "This regular expression below does **not match anything**:"
   ]
  },
  {
   "cell_type": "code",
   "execution_count": null,
   "metadata": {
    "slideshow": {
     "slide_type": "fragment"
    }
   },
   "outputs": [],
   "source": [
    "import re\n",
    "line = \"Cats are smarter than dogs\"\n",
    "re.match(\"dogs$\", line)"
   ]
  },
  {
   "cell_type": "markdown",
   "metadata": {
    "slideshow": {
     "slide_type": "fragment"
    }
   },
   "source": [
    "but this **does**:"
   ]
  },
  {
   "cell_type": "code",
   "execution_count": null,
   "metadata": {
    "slideshow": {
     "slide_type": "fragment"
    }
   },
   "outputs": [],
   "source": [
    "import re\n",
    "line = \"Cats are smarter than dogs\"\n",
    "re.search(\"dogs$\", line)"
   ]
  },
  {
   "cell_type": "markdown",
   "metadata": {
    "slideshow": {
     "slide_type": "notes"
    }
   },
   "source": [
    "**Why?** The difference between `re.match()` and `re.search()` is that `re.match()` behaves as if every pattern has `\\A` prepended (or `^` if you don't use multiline). Anyone accustomed to Perl, grep, or sed regular expression matching is mislead by `re.match()`.\n",
    "\n",
    "There is actually a reason why re.match exists at all: it is **speed**. When `re.search()` is used and no matching is possible, it takes a considerable amount [more time](https://stackoverflow.com/questions/29007197/why-have-re-match) than `re.match()` until the matching fails. I am inclined to say: Python has an implementation problem here. I think `re.match()` should better be *deprecated*, because it leads to unnecessary problems, despite the speed gain one might observe."
   ]
  },
  {
   "cell_type": "markdown",
   "metadata": {
    "slideshow": {
     "slide_type": "subslide"
    }
   },
   "source": [
    "## regex best practises: named capture groups\n",
    "\n",
    "A very common practice is to group elements in a regular expression:"
   ]
  },
  {
   "cell_type": "code",
   "execution_count": null,
   "metadata": {
    "slideshow": {
     "slide_type": "fragment"
    }
   },
   "outputs": [],
   "source": [
    "import re\n",
    "\n",
    "url = '/some/url/our_first_parameter/our_second_parameter'\n",
    "match = re.search(\"^/some/url/((.*?)/(.*?))$\", url)\n",
    "match.groups()"
   ]
  },
  {
   "cell_type": "markdown",
   "metadata": {
    "slideshow": {
     "slide_type": "notes"
    }
   },
   "source": [
    "However, this leads to the problem that the parameters fetched are positional.  If you have nested group captures, you have to count the number of the opening round brackets `(` to get the position of every parameter right. And if you decide to remove a grouping later, you will have to check every position again.\n",
    "\n",
    "\n",
    "Instead, you would rather give your groups a name so you can easily rearrange your groupings without having to worry about their positions:"
   ]
  },
  {
   "cell_type": "code",
   "execution_count": null,
   "metadata": {
    "slideshow": {
     "slide_type": "subslide"
    }
   },
   "outputs": [],
   "source": [
    "import re\n",
    "\n",
    "url = '/some/url/our_first_parameter/our_second_parameter'\n",
    "match = re.search(r\"\"\"\n",
    "    ^                       # beginning of the string\n",
    "    /some/url/              # match the base-url\n",
    "    (?P<the_whole_thing>    # capture both parameters\n",
    "      (?P<param1>.*)        # capture the first parameter only\n",
    "      /                     # ... followed by a /\n",
    "      (?P<param2>.*)        # capture the second parameter only\n",
    "    )\n",
    "    $                       # end of the string\n",
    "    \"\"\", url, re.X)\n",
    "if (match):\n",
    "    print(match.groupdict())"
   ]
  },
  {
   "cell_type": "markdown",
   "metadata": {
    "slideshow": {
     "slide_type": "subslide"
    }
   },
   "source": [
    "This leads to much more robust regular expressions, especially when we are adding new or removing existing captures.\n",
    "\n",
    "In **substitutions** or within regular expressions, named capture groups are back-referenced by\n",
    "\n",
    "```\n",
    "\\g<the_name_of_the_captured_group>\n",
    "```"
   ]
  },
  {
   "cell_type": "markdown",
   "metadata": {
    "slideshow": {
     "slide_type": "subslide"
    }
   },
   "source": [
    "## regex best practises in real-world parsing problem"
   ]
  },
  {
   "cell_type": "markdown",
   "metadata": {
    "slideshow": {
     "slide_type": "fragment"
    }
   },
   "source": [
    "Now back to our real problem, we will use this extended regex syntax:"
   ]
  },
  {
   "cell_type": "code",
   "execution_count": null,
   "metadata": {
    "slideshow": {
     "slide_type": "fragment"
    }
   },
   "outputs": [],
   "source": [
    "import re\n",
    "\n",
    "regex = re.compile(r'''\n",
    "    <property\\s name=\"uri\">  # beginning of the property element\n",
    "    (?P<sip>.*?)             # fetch content, put it named capture group «sip»\n",
    "    <\\/property>             # end of element\n",
    "    ''', re.X)"
   ]
  },
  {
   "cell_type": "code",
   "execution_count": null,
   "metadata": {
    "slideshow": {
     "slide_type": "subslide"
    }
   },
   "outputs": [],
   "source": [
    "import re\n",
    " \n",
    "regex = re.compile(r'''\n",
    "    <property\\s name=\"uri\">  # beginning of element\n",
    "    (?P<sip>.*?)             # fetch content, put it named capture group «sip»\n",
    "    <\\/property>             # end of element\n",
    "    ''', re.X)\n",
    "\n",
    "log_file_path = \"data/sfbios.log\"\n",
    "\n",
    "with open(log_file_path, \"r\", encoding=\"utf-8\") as log_file, \\\n",
    "     open(\"sip_list\", \"w\") as out:\n",
    "    for line in log_file:\n",
    "        match = regex.search(line)    # BE AWARE: always use re.search, NEVER re.match!\n",
    "        if match:\n",
    "            out.write(match.groupdict()['sip'] + \"\\n\")"
   ]
  },
  {
   "cell_type": "markdown",
   "metadata": {
    "slideshow": {
     "slide_type": "subslide"
    }
   },
   "source": [
    "Voilà!"
   ]
  },
  {
   "cell_type": "code",
   "execution_count": null,
   "metadata": {
    "slideshow": {
     "slide_type": "fragment"
    }
   },
   "outputs": [],
   "source": [
    "!cat sip_list"
   ]
  },
  {
   "cell_type": "markdown",
   "metadata": {},
   "source": [
    "## Things never go right from the beginning. The Python debugger"
   ]
  },
  {
   "cell_type": "markdown",
   "metadata": {},
   "source": [
    "To start the debugger in the most typical way, enter this line of code somewhere in the code above:\n",
    "\n",
    "```py\n",
    "import pdb; pdb.set_trace()\n",
    "```\n",
    "\n",
    "Then, run the cell again."
   ]
  },
  {
   "cell_type": "markdown",
   "metadata": {},
   "source": [
    "Use the following commands to control your debugger:\n",
    "\n",
    "* `h` for help\n",
    "* `n` next line\n",
    "* `s` step into (follow into function call)\n",
    "* `r` contintue, until function returns\n",
    "* `l` list the current code\n",
    "* `ll` show even more of the current code\n",
    "* `p expr` print a variable etc.\n",
    "* `c` continue until next breakpoint\n",
    "* `q` quit the debugger"
   ]
  },
  {
   "cell_type": "markdown",
   "metadata": {},
   "source": [
    "**Your task:**\n",
    "    \n",
    "Set breakpoints at various places in your code, use the commands above or use this [cheatsheet](https://www.nnja.io/2019/python-debugging-cheatsheet.pdf) to get a feeling how the debugger works."
   ]
  }
 ],
 "metadata": {
  "celltoolbar": "Slideshow",
  "kernelspec": {
   "display_name": "Python 3 (ipykernel)",
   "language": "python",
   "name": "python3"
  },
  "language_info": {
   "codemirror_mode": {
    "name": "ipython",
    "version": 3
   },
   "file_extension": ".py",
   "mimetype": "text/x-python",
   "name": "python",
   "nbconvert_exporter": "python",
   "pygments_lexer": "ipython3",
   "version": "3.9.6"
  }
 },
 "nbformat": 4,
 "nbformat_minor": 4
}
