{
 "cells": [
  {
   "cell_type": "markdown",
   "metadata": {
    "editable": true,
    "slideshow": {
     "slide_type": "slide"
    },
    "tags": []
   },
   "source": [
    "# Python for SysAdmins – Jupyter Notebook Tricks"
   ]
  },
  {
   "cell_type": "markdown",
   "metadata": {},
   "source": [
    "Jupyter notebooks (like this one) are great for combining text (Markdown), code and output in a compact format. It is also great to try out code snippets. To get most out of it, a few tricks and keyboard shortcuts are presented here."
   ]
  },
  {
   "cell_type": "markdown",
   "metadata": {
    "editable": true,
    "slideshow": {
     "slide_type": "subslide"
    },
    "tags": []
   },
   "source": [
    "## get the _docstring_ of a module\n",
    "\n",
    "All widely used modules and their functions and methods come with a _docstring_ that is explaining what it does and how it works. It is documentation that is directly embedded in the code, no need to lookup documentation online!\n",
    "\n",
    "To use it, put a `?` directly after the symbol:"
   ]
  },
  {
   "cell_type": "code",
   "execution_count": null,
   "metadata": {
    "editable": true,
    "slideshow": {
     "slide_type": "fragment"
    },
    "tags": []
   },
   "outputs": [],
   "source": [
    "import os\n",
    "os?"
   ]
  },
  {
   "cell_type": "markdown",
   "metadata": {
    "editable": true,
    "slideshow": {
     "slide_type": "subslide"
    },
    "tags": []
   },
   "source": [
    "## get docstrings of built-in functions\n",
    "\n",
    "All [built-in Python functions](https://docs.python.org/3/library/functions.html) come with docstrings too:"
   ]
  },
  {
   "cell_type": "code",
   "execution_count": null,
   "metadata": {
    "editable": true,
    "slideshow": {
     "slide_type": "fragment"
    },
    "tags": []
   },
   "outputs": [],
   "source": [
    "print?"
   ]
  },
  {
   "cell_type": "code",
   "execution_count": null,
   "metadata": {},
   "outputs": [],
   "source": [
    "isinstance?"
   ]
  },
  {
   "cell_type": "code",
   "execution_count": null,
   "metadata": {},
   "outputs": [],
   "source": [
    "range?"
   ]
  },
  {
   "cell_type": "markdown",
   "metadata": {
    "editable": true,
    "slideshow": {
     "slide_type": "subslide"
    },
    "tags": []
   },
   "source": [
    "## get list of arguments\n",
    "\n",
    "Even more handy is to hit `shift-TAB` (tabulator key, left on your keyboard, directly above the caps lock key) when your cursor blinks inside the brackets of a function or a method:"
   ]
  },
  {
   "cell_type": "code",
   "execution_count": null,
   "metadata": {
    "editable": true,
    "slideshow": {
     "slide_type": "fragment"
    },
    "tags": []
   },
   "outputs": [],
   "source": [
    "print()"
   ]
  },
  {
   "cell_type": "markdown",
   "metadata": {
    "editable": true,
    "slideshow": {
     "slide_type": "subslide"
    },
    "tags": []
   },
   "source": [
    "## list available functions and methods\n",
    "\n",
    "In the following cell, move the cursor right after `sys.`, then hit the `TAB` (tabulator) key: a list of possible methods will appear as a vertical list (first time it may take a while)"
   ]
  },
  {
   "cell_type": "code",
   "execution_count": null,
   "metadata": {
    "editable": true,
    "slideshow": {
     "slide_type": "fragment"
    },
    "tags": []
   },
   "outputs": [],
   "source": [
    "import sys\n",
    "sys."
   ]
  },
  {
   "cell_type": "markdown",
   "metadata": {
    "editable": true,
    "raw_mimetype": "",
    "slideshow": {
     "slide_type": "subslide"
    },
    "tags": []
   },
   "source": [
    "## navigate with your keyboard\n",
    "\n",
    "Jupyter has an **insert** and a **browse mode**, like the famous [vim editor](https://geekflare.com/saving-and-quitting-vim-editor/). \n",
    "\n",
    "- To enter the **browse mode**, hit the `ESC` key, the cursor will stop blinking\n",
    "- To enter the **insert mode**, just hit `Enter`\n",
    "- To **execute a cell** and move to the next, hit `Shift + Enter`\n",
    "- To **execute a cell** repeatedly, hit `CTRL + Enter`, it won't move to the next cell\n",
    "\n",
    "\n",
    "In **browse mode**, you can use these keys to move within the notebook: \n",
    "\n",
    "- the `k` and `j` keys to **move up and down**\n",
    "- `d d` to **delete a cell** (hit `d` twice)\n",
    "- `z` to **undo** a deletion\n",
    "- `b` to insert a **cell below** the current one\n",
    "- `a` to insert a **cell above** the current one\n",
    "- `m` to **convert a cell** [markdown](https://www.markdownguide.org/basic-syntax/)\n",
    "- `y` to **convert a cell** into code"
   ]
  },
  {
   "cell_type": "markdown",
   "metadata": {},
   "source": [
    "## more keyboard shortcuts\n",
    "\n",
    "See Help -> Show Keyboard Shortcuts for additional keybindings."
   ]
  },
  {
   "cell_type": "markdown",
   "metadata": {},
   "source": [
    "## execute a shell command\n",
    "\n",
    "Jupyter obviously runs in a browser. Sometimes you'll need to quickly execute a shell command, i.e. to quickly install a Python module. To do this, put a `!` at the beginning of the cell:"
   ]
  },
  {
   "cell_type": "code",
   "execution_count": null,
   "metadata": {},
   "outputs": [],
   "source": [
    "!ls -la"
   ]
  },
  {
   "cell_type": "code",
   "execution_count": null,
   "metadata": {},
   "outputs": [],
   "source": [
    "!python --version"
   ]
  },
  {
   "cell_type": "code",
   "execution_count": null,
   "metadata": {},
   "outputs": [],
   "source": [
    "!pip install pandas"
   ]
  },
  {
   "cell_type": "markdown",
   "metadata": {
    "editable": true,
    "slideshow": {
     "slide_type": ""
    },
    "tags": []
   },
   "source": [
    "## Exercises\n",
    "\n",
    "- [ ] Move up and down cells, enter and leave them without using your mouse\n",
    "- [ ] create a new cell below or a above the current one\n",
    "- [ ] enter a new cell, add some code, execute the code\n",
    "- [ ] delete the cell and undo the deletion\n",
    "- [ ] create a new cell, change its type to Markdown. Enter a new title or subtitle (put `## ` at the beginning). Execute the cell to render it's content.\n",
    "- [ ] find out the keys how to copy a cell and paste it below\n",
    "- [ ] try stopping and restarting the kernel (the Python interpreter) using the stop **⏹** and restart **↻** buttons\n",
    "- [ ] try to execute a few shell commands"
   ]
  }
 ],
 "metadata": {
  "celltoolbar": "Slideshow",
  "kernelspec": {
   "display_name": "Python 3 (ipykernel)",
   "language": "python",
   "name": "python3"
  },
  "language_info": {
   "codemirror_mode": {
    "name": "ipython",
    "version": 3
   },
   "file_extension": ".py",
   "mimetype": "text/x-python",
   "name": "python",
   "nbconvert_exporter": "python",
   "pygments_lexer": "ipython3",
   "version": "3.11.4"
  }
 },
 "nbformat": 4,
 "nbformat_minor": 4
}
