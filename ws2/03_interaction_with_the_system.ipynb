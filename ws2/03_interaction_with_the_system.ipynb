{
 "cells": [
  {
   "cell_type": "markdown",
   "metadata": {
    "slideshow": {
     "slide_type": "slide"
    }
   },
   "source": [
    "# Interaction with the system"
   ]
  },
  {
   "cell_type": "markdown",
   "metadata": {
    "slideshow": {
     "slide_type": "slide"
    }
   },
   "source": [
    "## Execute a command and capture the output\n"
   ]
  },
  {
   "cell_type": "markdown",
   "metadata": {
    "slideshow": {
     "slide_type": "fragment"
    }
   },
   "source": [
    "the following **only works with Python 3.7 and onwards:**"
   ]
  },
  {
   "cell_type": "code",
   "execution_count": null,
   "metadata": {},
   "outputs": [],
   "source": [
    "import subprocess\n",
    "result = subprocess.run([\"ls\", \"-la\"], capture_output=True)\n",
    "print(result.stdout.decode(\"utf-8\"))   # stdout is in bytes, we need to decode"
   ]
  },
  {
   "cell_type": "markdown",
   "metadata": {
    "slideshow": {
     "slide_type": "fragment"
    }
   },
   "source": [
    "If you are still running **Python 3.6 or less** use this:"
   ]
  },
  {
   "cell_type": "code",
   "execution_count": null,
   "metadata": {},
   "outputs": [],
   "source": [
    "import subprocess\n",
    "result = subprocess.run([\"ls\", \"-la\"], stdout=subprocess.PIPE)\n",
    "print(result.stdout.decode(\"utf-8\"))   # stdout is in bytes, we need to decode"
   ]
  },
  {
   "cell_type": "markdown",
   "metadata": {},
   "source": [
    "**Note:** As of 2023, Python 3.6 is no longer maintained, so please make sure you upgrade to a newer version (currently: Python 3.11.x)"
   ]
  },
  {
   "cell_type": "markdown",
   "metadata": {
    "slideshow": {
     "slide_type": "slide"
    }
   },
   "source": [
    "\n",
    "## Pipe a command to another \n",
    "\n",
    "In Unix, piping the results of one command into another is one of the biggest inventions since the invention of the surfboard. Unfortunately, in Python, piping is not very straight-forward to get it right:\n",
    "\n",
    "1. start a subprocess p1 for the first command\n",
    "2. retrieve the `stdout` from p1\n",
    "3. start a subprocess p2, feed the `p1.stdout` into the `stdin` of p2\n",
    "4. close the `stdout` of p1\n",
    "5. invoke the `p2.communicate()` method\n",
    "6. retrieve the output of p2\n",
    "\n",
    "Here is a simple example which actually works, so you don't have to google it yourself."
   ]
  },
  {
   "cell_type": "code",
   "execution_count": null,
   "metadata": {
    "slideshow": {
     "slide_type": "slide"
    }
   },
   "outputs": [],
   "source": [
    "import subprocess\n",
    "\n",
    "p1 = subprocess.Popen([\"ls\", \"-la\"], stdout=subprocess.PIPE)\n",
    "p2 = subprocess.Popen(\n",
    "    [\"grep\", \"interaction\"], \n",
    "    stdin=p1.stdout, \n",
    "    stdout=subprocess.PIPE\n",
    ")\n",
    "p1.stdout.close()  # Allow p1 to receive a SIGPIPE if p2 exits.\n",
    "output = p2.communicate()[0]\n",
    "print(output.decode('utf-8'))\n"
   ]
  },
  {
   "cell_type": "markdown",
   "metadata": {
    "vscode": {
     "languageId": "plaintext"
    }
   },
   "source": [
    "## Execute PowerShell scripts"
   ]
  },
  {
   "cell_type": "code",
   "execution_count": null,
   "metadata": {},
   "outputs": [],
   "source": [
    "import subprocess\n",
    "\n",
    "\n",
    "def run_powershell(cmd):\n",
    "    completed = subprocess.run([\"pwsh\", \"-Command\", cmd], capture_output=True)\n",
    "    return completed\n",
    "\n",
    "\n",
    "hello_command = \"Write-Host 'Hello Wolrd!'\"\n",
    "completed = run_powershell(hello_command)\n",
    "if completed.returncode != 0:\n",
    "    print(\"An error occured: %s\", completed.stderr)\n",
    "else:\n",
    "    print(\"Hello command executed successfully!\")\n",
    "    \n",
    "print(\"-------------------------\")\n",
    "\n",
    "bad_syntax_command = \"Write-Hst 'Incorrect syntax command!'\"\n",
    "completed = run_powershell(bad_syntax_command)\n",
    "if completed.returncode != 0:\n",
    "    print(\"An error occured: %s\", completed.stderr)\n",
    "else:\n",
    "    print(\"Bad syntax command executed successfully!\")"
   ]
  }
 ],
 "metadata": {
  "celltoolbar": "Slideshow",
  "kernelspec": {
   "display_name": "Python 3 (ipykernel)",
   "language": "python",
   "name": "python3"
  },
  "language_info": {
   "codemirror_mode": {
    "name": "ipython",
    "version": 3
   },
   "file_extension": ".py",
   "mimetype": "text/x-python",
   "name": "python",
   "nbconvert_exporter": "python",
   "pygments_lexer": "ipython3",
   "version": "3.9.6"
  }
 },
 "nbformat": 4,
 "nbformat_minor": 4
}
