{
 "cells": [
  {
   "cell_type": "markdown",
   "metadata": {
    "slideshow": {
     "slide_type": "slide"
    }
   },
   "source": [
    "# Interaction with the system process"
   ]
  },
  {
   "cell_type": "markdown",
   "metadata": {
    "slideshow": {
     "slide_type": "slide"
    }
   },
   "source": [
    "## Execute a command and capture the output\n"
   ]
  },
  {
   "cell_type": "markdown",
   "metadata": {
    "slideshow": {
     "slide_type": "fragment"
    }
   },
   "source": [
    "the following **only works with Python 3.7 and onwards:**"
   ]
  },
  {
   "cell_type": "code",
   "execution_count": null,
   "metadata": {
    "slideshow": {
     "slide_type": "fragment"
    }
   },
   "outputs": [],
   "source": [
    "import subprocess\n",
    "result = subprocess.run([\"ls\", \"-la\"], capture_output=True)\n",
    "print(result.stdout.decode(\"utf-8\"))   # stdout is a bytestream, we need to decode it to utf-8"
   ]
  },
  {
   "cell_type": "markdown",
   "metadata": {
    "slideshow": {
     "slide_type": "fragment"
    }
   },
   "source": [
    "If you are (still) running **Python 3.6 or less** use this:"
   ]
  },
  {
   "cell_type": "code",
   "execution_count": null,
   "metadata": {
    "slideshow": {
     "slide_type": "fragment"
    }
   },
   "outputs": [],
   "source": [
    "import subprocess\n",
    "result = subprocess.run([\"ls\", \"-la\"], stdout=subprocess.PIPE)\n",
    "print(result.stdout.decode(\"utf-8\"))   # stdout is a bytestream, we need to decode it to utf-8"
   ]
  },
  {
   "cell_type": "markdown",
   "metadata": {
    "slideshow": {
     "slide_type": "fragment"
    }
   },
   "source": [
    "**Note:** As of 2024, Python 3.6 is no longer maintained, so please make sure you upgrade to a newer version (currently: Python 3.12.x)"
   ]
  },
  {
   "cell_type": "markdown",
   "metadata": {
    "slideshow": {
     "slide_type": "slide"
    }
   },
   "source": [
    "\n",
    "## Pipe the output of a command to another command \n",
    "\n",
    "In Unix, piping the results of one command into another is one of the biggest inventions since the invention of the surfboard. Unfortunately, in Python, piping is not very straight-forward to get it right:\n",
    "\n",
    "1. start a subprocess p1 for the first command\n",
    "2. retrieve the `stdout` from p1\n",
    "3. start a subprocess p2, feed the `p1.stdout` into the `stdin` of p2\n",
    "4. close the `stdout` of p1\n",
    "5. invoke the `p2.communicate()` method\n",
    "6. retrieve the output of p2\n",
    "\n",
    "Here is a simple example which actually works, so you don't have to google it yourself."
   ]
  },
  {
   "cell_type": "code",
   "execution_count": null,
   "metadata": {
    "slideshow": {
     "slide_type": "subslide"
    }
   },
   "outputs": [],
   "source": [
    "import subprocess\n",
    "\n",
    "p1 = subprocess.Popen([\"ls\", \"-la\"], stdout=subprocess.PIPE)\n",
    "p2 = subprocess.Popen(\n",
    "    [\"grep\", \"interaction\"], \n",
    "    stdin=p1.stdout, \n",
    "    stdout=subprocess.PIPE\n",
    ")\n",
    "p1.stdout.close()  # Allow p1 to receive a SIGPIPE if p2 exits.\n",
    "output = p2.communicate()[0]\n",
    "print(output.decode('utf-8'))\n"
   ]
  },
  {
   "cell_type": "markdown",
   "metadata": {
    "slideshow": {
     "slide_type": "slide"
    },
    "vscode": {
     "languageId": "plaintext"
    }
   },
   "source": [
    "## Execute PowerShell scripts\n",
    "\n",
    "This obviously only runs correctly if you're on a Windows machine or if you have PowerShell installed. First, we define a `run_powershell` function that runs a subprocess `pwsh`:"
   ]
  },
  {
   "cell_type": "code",
   "execution_count": null,
   "metadata": {
    "slideshow": {
     "slide_type": "subslide"
    }
   },
   "outputs": [],
   "source": [
    "import subprocess\n",
    "\n",
    "def run_powershell(cmd):\n",
    "    completed = subprocess.run([\"pwsh\", \"-Command\", cmd], capture_output=True)\n",
    "    return completed"
   ]
  },
  {
   "cell_type": "markdown",
   "metadata": {},
   "source": [
    "Then, we can use this function to run a hello-world. We need to call `.stdout.decode('utf-8')` to access the standard output of our subprocess and convert its bytestream into `utf-8`:"
   ]
  },
  {
   "cell_type": "code",
   "execution_count": null,
   "metadata": {},
   "outputs": [],
   "source": [
    "hello_command = \"Write-Host 'Hello World!'\"\n",
    "completed = run_powershell(hello_command)\n",
    "\n",
    "print(\"Output was:\", completed.stdout.decode('utf-8'))"
   ]
  },
  {
   "cell_type": "markdown",
   "metadata": {},
   "source": [
    "If anything _can_ go wrong, it eventually _will_ go wrong. Make sure you always check the return code. If it is other than 0, something went wrong:"
   ]
  },
  {
   "cell_type": "code",
   "execution_count": null,
   "metadata": {},
   "outputs": [],
   "source": [
    "bad_syntax_command = \"Write-Hst 'Incorrect syntax command!'\"\n",
    "completed = run_powershell(bad_syntax_command)\n",
    "\n",
    "if completed.returncode != 0:\n",
    "    print(\"An error occured:\", completed.stderr.decode('utf-8'))\n",
    "else:\n",
    "    print(\"Bad syntax command executed successfully!\")"
   ]
  },
  {
   "cell_type": "markdown",
   "metadata": {},
   "source": [
    "## Exercise 1\n",
    "\n",
    "- [ ] play with the examples above, modify them to fit your ideas and needs\n",
    "- [ ] remove the `.decode('utf-8')` method in the first subprocess example and observe the output. What does it mean?\n",
    "- [ ] Replace `.decode('utf-8')` with `.decode('utf-16')` and run it again\n",
    "- [ ] create a file containing an Umlaut (e.g. `äöü`). Replace `decode('utf-8')` with `decode('latin-1')` and observe the output "
   ]
  }
 ],
 "metadata": {
  "celltoolbar": "Slideshow",
  "kernelspec": {
   "display_name": "Python 3 (ipykernel)",
   "language": "python",
   "name": "python3"
  },
  "language_info": {
   "codemirror_mode": {
    "name": "ipython",
    "version": 3
   },
   "file_extension": ".py",
   "mimetype": "text/x-python",
   "name": "python",
   "nbconvert_exporter": "python",
   "pygments_lexer": "ipython3",
   "version": "3.11.4"
  }
 },
 "nbformat": 4,
 "nbformat_minor": 4
}
