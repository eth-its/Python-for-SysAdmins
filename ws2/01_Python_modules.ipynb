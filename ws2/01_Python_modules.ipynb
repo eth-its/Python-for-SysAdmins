{
 "cells": [
  {
   "cell_type": "markdown",
   "metadata": {
    "editable": true,
    "slideshow": {
     "slide_type": "slide"
    },
    "tags": []
   },
   "source": [
    "# Python for SysAdmins – Modules\n",
    "\n",
    "**just in case...**\n",
    "\n",
    "* ... you wonder where you can find this script: it is available at [Github](https://github.com/eth-its/Python-for-SysAdmins/tree/main/ws2)\n",
    "* ... you have a mess with your Python installation: [Python Best Practices – Getting Started](https://gitlab.ethz.ch/vermeul/python-best-practices/-/blob/master/01-Getting_Started.md) might help"
   ]
  },
  {
   "cell_type": "markdown",
   "metadata": {
    "editable": true,
    "slideshow": {
     "slide_type": "subslide"
    },
    "tags": []
   },
   "source": [
    "## Batteries included: The standard library"
   ]
  },
  {
   "cell_type": "markdown",
   "metadata": {
    "editable": true,
    "slideshow": {
     "slide_type": "fragment"
    },
    "tags": []
   },
   "source": [
    "Python comes with a lot of pre-installed modules ([Python standard library](https://docs.python.org/3/library/index.html)) which greatly extend the language.\n",
    "\n",
    "Visit the [Python Module of the Week](https://pymotw.com/3/) website to get a useful introduction.\n",
    "\n",
    "All these modules are directly shipped with every Python installation, hence **batteries included**. Which means, often no external module needs to be installed in order to run your code on a different machine. "
   ]
  },
  {
   "cell_type": "markdown",
   "metadata": {
    "editable": true,
    "slideshow": {
     "slide_type": "fragment"
    },
    "tags": []
   },
   "source": [
    "For dealing with files and directories, we are going to look into a few modules of the [Python standard library](https://docs.python.org/3/library/index.html):\n",
    "\n",
    "- [`os`](https://docs.python.org/3/library/os.html) – operating system interactions\n",
    "- [`sys`](https://docs.python.org/3/library/sys.html) – Python runtime\n",
    "- [`pathlib`](https://docs.python.org/3/library/pathlib.html) – object-oriented filesystem paths\n",
    "- [`shutil`](https://docs.python.org/3/library/shutil.html) – High-level file operations (shell utilities)\n",
    "- [`re`](https://docs.python.org/3/library/re.html) – Regular Expressions to extract text\n",
    "- [`json`](https://docs.python.org/3/library/json.html) – JSON encoder and decoder\n",
    "- [`csv`](https://docs.python.org/3/library/csv.html) – CSV files, reading and writing"
   ]
  },
  {
   "cell_type": "markdown",
   "metadata": {},
   "source": [
    "To **use a module** in your code, you need to `import` it. Python will look in every path of listed in the `PYTHONPATH` environment variable until it finds it:"
   ]
  },
  {
   "cell_type": "code",
   "execution_count": null,
   "metadata": {},
   "outputs": [],
   "source": [
    "import sys\n",
    "sys.path"
   ]
  },
  {
   "cell_type": "markdown",
   "metadata": {
    "editable": true,
    "slideshow": {
     "slide_type": ""
    },
    "tags": []
   },
   "source": [
    "### Excercise 1\n",
    "\n",
    "- [ ] choose any of the modules in the standard library, create a new code cell and `import` that module. Execute the cell.\n",
    "- [ ] Enter the cell again and use the `TAB` completion or read its docstring"
   ]
  },
  {
   "cell_type": "markdown",
   "metadata": {
    "editable": true,
    "slideshow": {
     "slide_type": "subslide"
    },
    "tags": []
   },
   "source": [
    "## External modules: PyPi and its Python Package Manager `pip`"
   ]
  },
  {
   "cell_type": "markdown",
   "metadata": {
    "editable": true,
    "slideshow": {
     "slide_type": "fragment"
    },
    "tags": []
   },
   "source": [
    "But there is much more! The [Python Package Index](https://pypi.org) hosts thousands of additional modules which solve almost all possible everyday problems. Simply use the `pip` command line tool, the Python package manager which is being shipped with Python, to install them."
   ]
  },
  {
   "cell_type": "markdown",
   "metadata": {
    "editable": true,
    "slideshow": {
     "slide_type": ""
    },
    "tags": []
   },
   "source": [
    "<div class=\"alert alert-block alert-info\">\n",
    "    \n",
    "**Note**: In Jupyter, simply put an exclamation mark `!` at the beginning of a code cell to execute a command as if you where in a command shell.\n",
    "\n",
    "</div>"
   ]
  },
  {
   "cell_type": "markdown",
   "metadata": {
    "editable": true,
    "slideshow": {
     "slide_type": ""
    },
    "tags": []
   },
   "source": [
    "### Installing and upgrading packages\n",
    "\n",
    "To **install** a new module, e.g. `pandas`, a library for data analysis, just issue this command:"
   ]
  },
  {
   "cell_type": "code",
   "execution_count": null,
   "metadata": {
    "editable": true,
    "slideshow": {
     "slide_type": "fragment"
    },
    "tags": []
   },
   "outputs": [],
   "source": [
    "!pip install pandas"
   ]
  },
  {
   "cell_type": "markdown",
   "metadata": {
    "editable": true,
    "slideshow": {
     "slide_type": ""
    },
    "tags": []
   },
   "source": [
    "To **upgrade** an existing module to the latest version, you do:"
   ]
  },
  {
   "cell_type": "code",
   "execution_count": null,
   "metadata": {
    "editable": true,
    "slideshow": {
     "slide_type": "fragment"
    },
    "tags": []
   },
   "outputs": [],
   "source": [
    "!pip install --upgrade pandas"
   ]
  },
  {
   "cell_type": "markdown",
   "metadata": {
    "editable": true,
    "slideshow": {
     "slide_type": "fragment"
    },
    "tags": []
   },
   "source": [
    "A **variant how to use** the pip module. The `-m` flag tells Python to use the module `pip`, followed by the subcommand `install` and the argument `pandas` :"
   ]
  },
  {
   "cell_type": "code",
   "execution_count": null,
   "metadata": {
    "editable": true,
    "slideshow": {
     "slide_type": "fragment"
    },
    "tags": []
   },
   "outputs": [],
   "source": [
    "!python -m pip install pandas"
   ]
  },
  {
   "cell_type": "markdown",
   "metadata": {},
   "source": [
    "### Installing optional packages"
   ]
  },
  {
   "cell_type": "markdown",
   "metadata": {
    "editable": true,
    "slideshow": {
     "slide_type": ""
    },
    "tags": []
   },
   "source": [
    "Some bigger frameworks come with optional installable dependencies, like the highly recommended [FastAPI Framework](https://fastapi.tiangolo.com). You can install the framework with the usual\n",
    "\n",
    "```\n",
    "pip install fastapi\n",
    "```\n",
    "\n",
    "but also with\n",
    "\n",
    "```\n",
    "pip install fastapi[all]\n",
    "```\n",
    "\n",
    "to install a number of optional modules, such as [`pydantic-extra-types`](https://github.com/pydantic/pydantic-extra-types) .\n"
   ]
  },
  {
   "cell_type": "markdown",
   "metadata": {},
   "source": [
    "### Show installed packages"
   ]
  },
  {
   "cell_type": "markdown",
   "metadata": {},
   "source": [
    "To get a nice list of all currently installed packages"
   ]
  },
  {
   "cell_type": "code",
   "execution_count": null,
   "metadata": {},
   "outputs": [],
   "source": [
    "!pip list"
   ]
  },
  {
   "cell_type": "markdown",
   "metadata": {},
   "source": [
    "The list is nice to read, however, to create a machine readable list of modules (i.e. a **lock file**), you would typically use this command instead:"
   ]
  },
  {
   "cell_type": "code",
   "execution_count": null,
   "metadata": {
    "editable": true,
    "slideshow": {
     "slide_type": ""
    },
    "tags": []
   },
   "outputs": [],
   "source": [
    "!pip freeze > requirements.txt"
   ]
  },
  {
   "cell_type": "markdown",
   "metadata": {
    "editable": true,
    "slideshow": {
     "slide_type": "slide"
    },
    "tags": []
   },
   "source": [
    "Later, other users that user your code can install exactly the same modules in their exact versions, like this:\n",
    "\n",
    "```sh\n",
    "pip install -r requirements.txt\n",
    "```"
   ]
  },
  {
   "cell_type": "markdown",
   "metadata": {
    "editable": true,
    "slideshow": {
     "slide_type": "slide"
    },
    "tags": []
   },
   "source": [
    "In **WS4** we will learn about [setuptools](https://setuptools.pypa.io/en/latest/userguide/quickstart.html) which helps you **packaging and distribute your own project**."
   ]
  },
  {
   "cell_type": "markdown",
   "metadata": {
    "editable": true,
    "slideshow": {
     "slide_type": ""
    },
    "tags": []
   },
   "source": [
    "### Exercise 2\n",
    "\n",
    "* [ ] install a module from the Python Package Index. You can try [this list](https://hackr.io/blog/best-python-libraries) for an inspiring starting point.\n",
    "* [ ] create a list of the installed modules and look what's inside it"
   ]
  },
  {
   "cell_type": "markdown",
   "metadata": {
    "editable": true,
    "slideshow": {
     "slide_type": "subslide"
    },
    "tags": []
   },
   "source": [
    "## How modules are imported\n",
    "\n",
    "At the beginning of most Python files, you will see a list of `import` statements.\n",
    "\n",
    "With the `import` statement we tell Python look for a module and treat that module like a variable.\n",
    "\n",
    "The **order** where Python looks for modules in the system is as follows:\n",
    "\n",
    "1. look in the current path\n",
    "2. look in the paths specified by the `PYTHONPATH` environment variable, if this variable exists\n",
    "3. look in the standard library path (`.../lib/python3.x/`)\n",
    "4. look in the path where all external modules (e.g. from [pypi.org](https://pypi.org)) are installed (`.../lib/python3.x/site-packages`)\n"
   ]
  },
  {
   "cell_type": "markdown",
   "metadata": {
    "editable": true,
    "slideshow": {
     "slide_type": ""
    },
    "tags": []
   },
   "source": [
    "As demonstrated before, the `sys.path` tells us _exactly_ where the Python interpreter is looking for modules and in which order:"
   ]
  },
  {
   "cell_type": "code",
   "execution_count": null,
   "metadata": {
    "editable": true,
    "slideshow": {
     "slide_type": "subslide"
    },
    "tags": []
   },
   "outputs": [],
   "source": [
    "import sys\n",
    "sys.path"
   ]
  },
  {
   "cell_type": "markdown",
   "metadata": {},
   "source": [
    "## Module parts and aliases"
   ]
  },
  {
   "cell_type": "markdown",
   "metadata": {
    "editable": true,
    "slideshow": {
     "slide_type": ""
    },
    "tags": []
   },
   "source": [
    "When importing modules, we often don't need the whole module, just some parts from it.\n",
    "\n",
    "We can achieve this using the `from <module> import <function/submodule>`\n",
    " syntax:"
   ]
  },
  {
   "cell_type": "code",
   "execution_count": null,
   "metadata": {
    "editable": true,
    "slideshow": {
     "slide_type": "slide"
    },
    "tags": []
   },
   "outputs": [],
   "source": [
    "from datetime import date, datetime\n",
    "print(date.today())\n",
    "print(datetime.now())"
   ]
  },
  {
   "cell_type": "markdown",
   "metadata": {
    "editable": true,
    "slideshow": {
     "slide_type": "subslide"
    },
    "tags": []
   },
   "source": [
    "Sometimes, module names are rather long to type or **conflicting with existing names**, so we give it an **alias**:"
   ]
  },
  {
   "cell_type": "code",
   "execution_count": null,
   "metadata": {},
   "outputs": [],
   "source": [
    "import cachecontrol as cctrl\n",
    "import collections as coll"
   ]
  },
  {
   "cell_type": "markdown",
   "metadata": {},
   "source": [
    "Likewise, we also can assign subparts of a module an alias as well:"
   ]
  },
  {
   "cell_type": "code",
   "execution_count": null,
   "metadata": {
    "editable": true,
    "slideshow": {
     "slide_type": "fragment"
    },
    "tags": []
   },
   "outputs": [],
   "source": [
    "from datetime import datetime as dt\n",
    "dt.now()"
   ]
  },
  {
   "cell_type": "markdown",
   "metadata": {
    "editable": true,
    "slideshow": {
     "slide_type": "subslide"
    },
    "tags": []
   },
   "source": [
    "### How to write your own module"
   ]
  },
  {
   "cell_type": "markdown",
   "metadata": {
    "editable": true,
    "slideshow": {
     "slide_type": "fragment"
    },
    "tags": []
   },
   "source": [
    "In your file browser, inside the folder `my_module/`, you'll find a Python file [my_hello_world.py](my_module/my_hello_world.py) .\n",
    "We can tell Python to refer to that file inside that folder by using the `from <folder> import <module>` syntax, like so:"
   ]
  },
  {
   "cell_type": "code",
   "execution_count": null,
   "metadata": {
    "editable": true,
    "slideshow": {
     "slide_type": "fragment"
    },
    "tags": []
   },
   "outputs": [],
   "source": [
    "from my_module import my_hello_world\n",
    "my_hello_world.say_hello(\"World!\")"
   ]
  },
  {
   "cell_type": "markdown",
   "metadata": {},
   "source": [
    "Make sure you include an empty file named `__init__.py`. It declares Python that this folder should be treated as a **module**. It also helps to only present the most important functions to the user while hiding away the implementation details."
   ]
  },
  {
   "cell_type": "markdown",
   "metadata": {
    "editable": true,
    "slideshow": {
     "slide_type": ""
    },
    "tags": []
   },
   "source": [
    "### Exercise 3\n",
    "\n",
    "- [ ] `import my_module` in a cell and use `TAB` to see what's in there\n",
    "- [ ] edit the file `my_module/__init__.py` and add uncomment the lines that are commented out\n",
    "- [ ] run the `import` again and observe what changed (maybe restart the kernel)\n",
    "- [ ] directly import the functions of `my_module`, using the `from <module> import <function>` syntax\n",
    "- [ ] invoke the methods, use the `Shift+TAB` to find out which arguments you need to pass"
   ]
  },
  {
   "cell_type": "markdown",
   "metadata": {
    "editable": true,
    "slideshow": {
     "slide_type": "slide"
    },
    "tags": []
   },
   "source": [
    "## The `sys` module"
   ]
  },
  {
   "cell_type": "markdown",
   "metadata": {
    "editable": true,
    "slideshow": {
     "slide_type": "fragment"
    },
    "tags": []
   },
   "source": [
    "This module shows a lot of information about the **Python interpreter** itself and its location"
   ]
  },
  {
   "cell_type": "code",
   "execution_count": null,
   "metadata": {
    "editable": true,
    "slideshow": {
     "slide_type": "fragment"
    },
    "tags": []
   },
   "outputs": [],
   "source": [
    "sys.version"
   ]
  },
  {
   "cell_type": "code",
   "execution_count": null,
   "metadata": {
    "editable": true,
    "slideshow": {
     "slide_type": "fragment"
    },
    "tags": []
   },
   "outputs": [],
   "source": [
    "sys.version_info"
   ]
  },
  {
   "cell_type": "code",
   "execution_count": null,
   "metadata": {
    "editable": true,
    "slideshow": {
     "slide_type": "fragment"
    },
    "tags": []
   },
   "outputs": [],
   "source": [
    "sys.executable"
   ]
  },
  {
   "cell_type": "markdown",
   "metadata": {
    "editable": true,
    "slideshow": {
     "slide_type": "subslide"
    },
    "tags": []
   },
   "source": [
    "A typical example how we can avoid a script from being executed with the **wrong Python interpreter**:"
   ]
  },
  {
   "cell_type": "code",
   "execution_count": null,
   "metadata": {
    "editable": true,
    "slideshow": {
     "slide_type": "fragment"
    },
    "tags": []
   },
   "outputs": [],
   "source": [
    "if sys.version_info < (3,9):\n",
    "    sys.exit('Sorry, Python < 3.9 is no longer maintained')"
   ]
  },
  {
   "cell_type": "code",
   "execution_count": null,
   "metadata": {},
   "outputs": [],
   "source": [
    "sys.path"
   ]
  },
  {
   "cell_type": "markdown",
   "metadata": {},
   "source": [
    "## install packages in user-space"
   ]
  },
  {
   "cell_type": "markdown",
   "metadata": {
    "editable": true,
    "slideshow": {
     "slide_type": ""
    },
    "tags": []
   },
   "source": [
    "Sometimes, we cannot install a package into the standard Python package folder (typically named `site-packages`), because of **lack of privileges**. However, we can tell the Python package manager to install a package in user-space instead:"
   ]
  },
  {
   "cell_type": "code",
   "execution_count": null,
   "metadata": {
    "editable": true,
    "slideshow": {
     "slide_type": ""
    },
    "tags": []
   },
   "outputs": [],
   "source": [
    "!pip install pandas --user"
   ]
  },
  {
   "cell_type": "markdown",
   "metadata": {
    "editable": true,
    "slideshow": {
     "slide_type": ""
    },
    "tags": []
   },
   "source": [
    "The `--user` option will install the package into the `site.USER_SITE` folder:"
   ]
  },
  {
   "cell_type": "code",
   "execution_count": null,
   "metadata": {
    "editable": true,
    "slideshow": {
     "slide_type": ""
    },
    "tags": []
   },
   "outputs": [],
   "source": [
    "import site\n",
    "site.USER_SITE"
   ]
  },
  {
   "cell_type": "markdown",
   "metadata": {
    "editable": true,
    "slideshow": {
     "slide_type": ""
    },
    "tags": []
   },
   "source": [
    "After installing in user-space, the following statement might still fail:"
   ]
  },
  {
   "cell_type": "code",
   "execution_count": null,
   "metadata": {
    "editable": true,
    "slideshow": {
     "slide_type": ""
    },
    "tags": []
   },
   "outputs": [],
   "source": [
    "import pandas  # this might fail if pandas is only installed in user-space"
   ]
  },
  {
   "cell_type": "markdown",
   "metadata": {
    "editable": true,
    "slideshow": {
     "slide_type": ""
    },
    "tags": []
   },
   "source": [
    "To import the package from user-space, we can **manipulate `sys.path`** by appending `site.USER_SITE`:"
   ]
  },
  {
   "cell_type": "code",
   "execution_count": null,
   "metadata": {
    "editable": true,
    "slideshow": {
     "slide_type": ""
    },
    "tags": []
   },
   "outputs": [],
   "source": [
    "import sys\n",
    "import site\n",
    "sys.path.append(site.USER_SITE)"
   ]
  },
  {
   "cell_type": "markdown",
   "metadata": {
    "editable": true,
    "slideshow": {
     "slide_type": ""
    },
    "tags": []
   },
   "source": [
    "Now the import should work (if it hasn't worked before):"
   ]
  },
  {
   "cell_type": "code",
   "execution_count": null,
   "metadata": {
    "editable": true,
    "slideshow": {
     "slide_type": ""
    },
    "tags": []
   },
   "outputs": [],
   "source": [
    "import pandas"
   ]
  },
  {
   "cell_type": "markdown",
   "metadata": {},
   "source": [
    "### Exercise 4\n",
    "- [ ] play around with the `sys.path`. Use the `.pop()` and `.append()` methods\n",
    "- [ ] make `sys.path` an empty array and look at the list after an `import` statement and `TAB`\n",
    "- [ ] Restart the kernel of the Jupyter notebook and try again"
   ]
  }
 ],
 "metadata": {
  "celltoolbar": "Slideshow",
  "kernelspec": {
   "display_name": "Python 3 (ipykernel)",
   "language": "python",
   "name": "python3"
  },
  "language_info": {
   "codemirror_mode": {
    "name": "ipython",
    "version": 3
   },
   "file_extension": ".py",
   "mimetype": "text/x-python",
   "name": "python",
   "nbconvert_exporter": "python",
   "pygments_lexer": "ipython3",
   "version": "3.11.4"
  }
 },
 "nbformat": 4,
 "nbformat_minor": 4
}
