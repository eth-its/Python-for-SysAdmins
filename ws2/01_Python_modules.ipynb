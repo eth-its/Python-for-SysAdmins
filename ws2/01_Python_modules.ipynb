{
 "cells": [
  {
   "cell_type": "markdown",
   "metadata": {
    "editable": true,
    "slideshow": {
     "slide_type": "slide"
    },
    "tags": []
   },
   "source": [
    "# Python for SysAdmins – Modules\n",
    "\n",
    "**just in case...**\n",
    "\n",
    "* ... you wonder where you can find this script: it is available at [Github](https://github.com/eth-its/Python-for-SysAdmins/tree/main/ws2)\n",
    "* ... you have a mess with your Python installation: [Python Best Practices – Getting Started](https://gitlab.ethz.ch/vermeul/python-best-practices/-/blob/master/01-Getting_Started.md) might help"
   ]
  },
  {
   "cell_type": "markdown",
   "metadata": {
    "editable": true,
    "slideshow": {
     "slide_type": "slide"
    },
    "tags": []
   },
   "source": [
    "## before we begin: a few Jupyter tricks"
   ]
  },
  {
   "cell_type": "markdown",
   "metadata": {
    "editable": true,
    "slideshow": {
     "slide_type": "subslide"
    },
    "tags": []
   },
   "source": [
    "**1) put a question mark ? directly after any method or module name** and execute the cell to receive the so called _docstring_. "
   ]
  },
  {
   "cell_type": "code",
   "execution_count": null,
   "metadata": {
    "editable": true,
    "slideshow": {
     "slide_type": "fragment"
    },
    "tags": []
   },
   "outputs": [],
   "source": [
    "import os\n",
    "os?"
   ]
  },
  {
   "cell_type": "markdown",
   "metadata": {
    "editable": true,
    "slideshow": {
     "slide_type": "subslide"
    },
    "tags": []
   },
   "source": [
    "It becomes especially handy if you can't remember the parameters that you need to provide:"
   ]
  },
  {
   "cell_type": "code",
   "execution_count": null,
   "metadata": {
    "editable": true,
    "slideshow": {
     "slide_type": "fragment"
    },
    "tags": []
   },
   "outputs": [],
   "source": [
    "print?"
   ]
  },
  {
   "cell_type": "markdown",
   "metadata": {
    "editable": true,
    "slideshow": {
     "slide_type": "subslide"
    },
    "tags": []
   },
   "source": [
    "Even more handy is to hit `shift-TAB` when you are inside the brackets of a function or a method:"
   ]
  },
  {
   "cell_type": "code",
   "execution_count": null,
   "metadata": {
    "editable": true,
    "slideshow": {
     "slide_type": "fragment"
    },
    "tags": []
   },
   "outputs": [],
   "source": [
    "print()"
   ]
  },
  {
   "cell_type": "markdown",
   "metadata": {
    "editable": true,
    "slideshow": {
     "slide_type": "subslide"
    },
    "tags": []
   },
   "source": [
    "**2) use Jupyter’s TAB completion to list all methods**\n",
    "\n",
    "enter the following cell, move the cursor right after `sys.`, then hit the tabulator key: a list of possible methods will appear as a vertical list (first time it may take a while)"
   ]
  },
  {
   "cell_type": "code",
   "execution_count": null,
   "metadata": {
    "editable": true,
    "slideshow": {
     "slide_type": "fragment"
    },
    "tags": []
   },
   "outputs": [],
   "source": [
    "import sys\n",
    "sys."
   ]
  },
  {
   "cell_type": "markdown",
   "metadata": {
    "editable": true,
    "raw_mimetype": "",
    "slideshow": {
     "slide_type": "subslide"
    },
    "tags": []
   },
   "source": [
    "**3) Use your keyboard to navigate (VIM bindings)**\n",
    "\n",
    "Jupyter has an _insert_ and a _browse_ (or normal) mode, like the famous [vim editor](https://geekflare.com/saving-and-quitting-vim-editor/). Hit the `Esc` key to enter browse mode, then use:\n",
    "\n",
    "- the `k` and `jp` keys to go up and down\n",
    "- `d d` to delete a cell\n",
    "- `z` to undo a deletion\n",
    "- `b` to insert a cell below the current one\n",
    "- `a` to insert a cell above the current one\n",
    "- `y`, `c` and `r` to convert a cell into code, markdown or raw text\n",
    "- Hit `Enter` to enter the insert mode. Hit `Esc` to go back to browse mode.\n",
    "- Hit `Shift + Enter` to execute a cell\n",
    "\n",
    "See Help -> Show Keyboard Shortcuts for additional keybindings."
   ]
  },
  {
   "cell_type": "markdown",
   "metadata": {
    "editable": true,
    "slideshow": {
     "slide_type": ""
    },
    "tags": []
   },
   "source": [
    "### Exercise 1\n",
    "\n",
    "- [ ] Move up and down cells, enter and leave them without using your mouse\n",
    "- [ ] create a new cell below or a above the current one, change it's type to Markdown and enter a new title or subtitle. Execute the cell to render it's content.\n",
    "- [ ] find out the keys how to copy a cell and paste it below\n",
    "- [ ] try stopping and restarting the kernel (the Python interpreter) using the stop/restart symbols"
   ]
  },
  {
   "cell_type": "markdown",
   "metadata": {
    "editable": true,
    "slideshow": {
     "slide_type": "subslide"
    },
    "tags": []
   },
   "source": [
    "## Everyday modules: The standard library"
   ]
  },
  {
   "cell_type": "markdown",
   "metadata": {
    "editable": true,
    "slideshow": {
     "slide_type": "fragment"
    },
    "tags": []
   },
   "source": [
    "Python comes with a lot of pre-installed modules (standard Python library) which greatly extend the language.\n",
    "\n",
    "Visit the [Python Module of the Week](https://pymotw.com/3/) website to get a good overview. [The complete list can be found here](https://docs.python.org/3/library/index.html).\n",
    "\n",
    "All these modules are directly shipped with every Python installation, hence «batteries included». Which means, no extra installation is necessary in order to run your module on a different machine. "
   ]
  },
  {
   "cell_type": "markdown",
   "metadata": {
    "editable": true,
    "slideshow": {
     "slide_type": "fragment"
    },
    "tags": []
   },
   "source": [
    "For dealing with files and directories, we are going to look into a few modules of the standard library:\n",
    "\n",
    "- [`os`](https://docs.python.org/3/library/os.html) – operating system interactions\n",
    "- [`sys`](https://docs.python.org/3/library/sys.html) – Python runtime environment manipulation\n",
    "- [`pathlib`](https://docs.python.org/3/library/pathlib.html) – object-oriented filesystem paths\n",
    "- [`shutil`](https://docs.python.org/3/library/shutil.html) – High-level file operation\n",
    "- [`re`](https://docs.python.org/3/library/re.html) – Regular Expressions\n",
    "- [`json`](https://docs.python.org/3/library/json.html) – JSON encoder and decoder\n",
    "- [`csv`](https://docs.python.org/3/library/csv.html) – CSV files, reading and writing"
   ]
  },
  {
   "cell_type": "markdown",
   "metadata": {
    "editable": true,
    "slideshow": {
     "slide_type": ""
    },
    "tags": []
   },
   "source": [
    "### Excercise 2\n",
    "\n",
    "- [ ] choose any of the modules in the standard library, create a new code cell and `import` that module. Execute the cell.\n",
    "- [ ] Enter the cell again and use the `TAB` completion or `?` to find out what's inside the module"
   ]
  },
  {
   "cell_type": "markdown",
   "metadata": {
    "editable": true,
    "slideshow": {
     "slide_type": "subslide"
    },
    "tags": []
   },
   "source": [
    "## Additional modules: PyPi and the Python Package Manager `pip`"
   ]
  },
  {
   "cell_type": "markdown",
   "metadata": {
    "editable": true,
    "slideshow": {
     "slide_type": "fragment"
    },
    "tags": []
   },
   "source": [
    "But there is much more! The [Python Package Index](https://pypi.org) hosts thousands of additional modules which solve almost all possible everyday problems. Simply use the `pip` command line tool, the Python package manager which is being shipped with Python, to install them."
   ]
  },
  {
   "cell_type": "markdown",
   "metadata": {
    "editable": true,
    "slideshow": {
     "slide_type": ""
    },
    "tags": []
   },
   "source": [
    "**Hint**: In Jupyter, simply put an exclamation mark `!` at the beginning of a code cell to execute a command as if you where in a command shell."
   ]
  },
  {
   "cell_type": "markdown",
   "metadata": {
    "editable": true,
    "slideshow": {
     "slide_type": ""
    },
    "tags": []
   },
   "source": [
    "To install a new module/library/framework, e.g. `pandas`, a library for data analysis, just issue this command:p"
   ]
  },
  {
   "cell_type": "code",
   "execution_count": null,
   "metadata": {
    "editable": true,
    "slideshow": {
     "slide_type": "fragment"
    },
    "tags": []
   },
   "outputs": [],
   "source": [
    "!pip install pandas"
   ]
  },
  {
   "cell_type": "markdown",
   "metadata": {
    "editable": true,
    "slideshow": {
     "slide_type": ""
    },
    "tags": []
   },
   "source": [
    "To upgrade an existing module to the latest version, you do:"
   ]
  },
  {
   "cell_type": "code",
   "execution_count": null,
   "metadata": {
    "editable": true,
    "slideshow": {
     "slide_type": "fragment"
    },
    "tags": []
   },
   "outputs": [],
   "source": [
    "!pip install --upgrade pandas"
   ]
  },
  {
   "cell_type": "markdown",
   "metadata": {
    "editable": true,
    "slideshow": {
     "slide_type": "fragment"
    },
    "tags": []
   },
   "source": [
    "The following command does the same as above. It tells the Python interpreter with the `-m` parameter to use the module `pip`, followed by the subcommand `install` and the argument `pandas` :"
   ]
  },
  {
   "cell_type": "code",
   "execution_count": null,
   "metadata": {
    "editable": true,
    "slideshow": {
     "slide_type": "fragment"
    },
    "tags": []
   },
   "outputs": [],
   "source": [
    "!python -m pip install pandas"
   ]
  },
  {
   "cell_type": "markdown",
   "metadata": {
    "editable": true,
    "slideshow": {
     "slide_type": ""
    },
    "tags": []
   },
   "source": [
    "Some bigger frameworks come with optional installable dependencies, like the highly recommended [FastAPI Framework](https://fastapi.tiangolo.com). You can install the framework with the usual\n",
    "\n",
    "```\n",
    "pip install fastapi\n",
    "```\n",
    "\n",
    "but also with\n",
    "\n",
    "```\n",
    "pip install fastapi[all]\n",
    "```\n",
    "\n",
    "to install a number of additional modules, such as [`pydantic-extra-types`](https://github.com/pydantic/pydantic-extra-types) .\n"
   ]
  },
  {
   "cell_type": "markdown",
   "metadata": {
    "editable": true,
    "slideshow": {
     "slide_type": "slide"
    },
    "tags": []
   },
   "source": [
    "### Sneak preview: run your project somewhere else\n",
    "\n",
    "Before you can run your script on another machine, you need to know which packages you've installed, and which versions you used.\n",
    "If you distribute your script, you want to put these in some configuration:\n",
    "* `pyproject.toml` (modern approach)\n",
    "* `pyproject.toml` + `setup.cfg` (almost modern approach)\n",
    "* `pyproject.toml` + `setup.py` (conservative approach)\n",
    "* `requirements.txt` (old school / data science)\n",
    "\n",
    "More info: https://setuptools.pypa.io/en/latest/userguide/quickstart.html\n",
    "\n",
    "We will discuss packaging later in WS4."
   ]
  },
  {
   "cell_type": "markdown",
   "metadata": {
    "editable": true,
    "slideshow": {
     "slide_type": "slide"
    },
    "tags": []
   },
   "source": [
    "For now, we'll only learn how to get the list of used libraries (including their exact versions) and put them into a file.  "
   ]
  },
  {
   "cell_type": "code",
   "execution_count": null,
   "metadata": {
    "editable": true,
    "slideshow": {
     "slide_type": ""
    },
    "tags": []
   },
   "outputs": [],
   "source": [
    "!pip freeze > requirements.txt"
   ]
  },
  {
   "cell_type": "markdown",
   "metadata": {
    "editable": true,
    "slideshow": {
     "slide_type": "slide"
    },
    "tags": []
   },
   "source": [
    "then later, people can install exactly the same modules in their exact versions, like this:\n",
    "\n",
    "```sh\n",
    "pip install -r requirements.txt\n",
    "```"
   ]
  },
  {
   "cell_type": "markdown",
   "metadata": {
    "editable": true,
    "slideshow": {
     "slide_type": ""
    },
    "tags": []
   },
   "source": [
    "### Exercise 3\n",
    "\n",
    "* [ ] install a module from the Python Package Index. You can try [this list](https://hackr.io/blog/best-python-libraries) for an inspiring starting point.\n",
    "* [ ] create a list of the installed modules and look what's inside it"
   ]
  },
  {
   "cell_type": "markdown",
   "metadata": {
    "editable": true,
    "slideshow": {
     "slide_type": "subslide"
    },
    "tags": []
   },
   "source": [
    "## How modules are imported"
   ]
  },
  {
   "cell_type": "markdown",
   "metadata": {
    "editable": true,
    "slideshow": {
     "slide_type": "fragment"
    },
    "tags": []
   },
   "source": [
    "At the beginning of most Python files, you will see a list of `import` statements.\n",
    "\n",
    "With the `import` statement we tell Python look for a module and treat that module like a variable.\n",
    "\n",
    "The **order** where Python looks for modules in the system is as follows:\n",
    "\n",
    "1. look in the current path\n",
    "2. look in the paths specified by the `PYTHONPATH` environment variable, if this variable exists\n",
    "3. look in the standard library path (`.../lib/python3.x/`)\n",
    "4. look in the path where all external modules (e.g. from [pypi.org](https://pypi.org)) are installed (`.../lib/python3.x/site-packages`)"
   ]
  },
  {
   "cell_type": "markdown",
   "metadata": {
    "editable": true,
    "slideshow": {
     "slide_type": ""
    },
    "tags": []
   },
   "source": [
    "The `sys.path` tells us _exactly_ where the Python interpreter is looking for modules and in which order:"
   ]
  },
  {
   "cell_type": "code",
   "execution_count": null,
   "metadata": {
    "editable": true,
    "slideshow": {
     "slide_type": "subslide"
    },
    "tags": []
   },
   "outputs": [],
   "source": [
    "import sys\n",
    "sys.path"
   ]
  },
  {
   "cell_type": "markdown",
   "metadata": {
    "editable": true,
    "slideshow": {
     "slide_type": ""
    },
    "tags": []
   },
   "source": [
    "When importing modules, we often don't need the whole module, just some parts from it.\n",
    "\n",
    "We can achieve this using the `from <module> import <function/submodule>`\n",
    " syntax:"
   ]
  },
  {
   "cell_type": "code",
   "execution_count": null,
   "metadata": {
    "editable": true,
    "slideshow": {
     "slide_type": "slide"
    },
    "tags": []
   },
   "outputs": [],
   "source": [
    "from datetime import date, datetime\n",
    "print(date.today())\n",
    "print(datetime.now())"
   ]
  },
  {
   "cell_type": "markdown",
   "metadata": {
    "editable": true,
    "slideshow": {
     "slide_type": "subslide"
    },
    "tags": []
   },
   "source": [
    "Sometimes, module names seem rather long to type, so we give it an **alias**:"
   ]
  },
  {
   "cell_type": "code",
   "execution_count": null,
   "metadata": {
    "editable": true,
    "slideshow": {
     "slide_type": "fragment"
    },
    "tags": []
   },
   "outputs": [],
   "source": [
    "from datetime import datetime as dt\n",
    "dt.now()"
   ]
  },
  {
   "cell_type": "markdown",
   "metadata": {
    "editable": true,
    "slideshow": {
     "slide_type": "subslide"
    },
    "tags": []
   },
   "source": [
    "### Write your own modules: the infamous `__init__.py` file"
   ]
  },
  {
   "cell_type": "markdown",
   "metadata": {
    "editable": true,
    "slideshow": {
     "slide_type": "fragment"
    },
    "tags": []
   },
   "source": [
    "In your file browser, inside the folder `my_module/`, you'll find a Python file [my_hello_world.py](my_module/my_hello_world.py) .\n",
    "We can tell Python to refer to that file inside that folder by using the `from <folder> import <module>` syntax, like so:"
   ]
  },
  {
   "cell_type": "code",
   "execution_count": null,
   "metadata": {
    "editable": true,
    "slideshow": {
     "slide_type": "fragment"
    },
    "tags": []
   },
   "outputs": [],
   "source": [
    "from my_module import my_hello_world\n",
    "my_hello_world.say_hello(\"World!\")"
   ]
  },
  {
   "cell_type": "markdown",
   "metadata": {
    "editable": true,
    "slideshow": {
     "slide_type": "subslide"
    },
    "tags": []
   },
   "source": [
    "If you have many functions in separate `.py` files, that might get cumbersome to import them. It is easier to bundle them into a module and present it to the user. That's where the `__init__.py` file becomes important. With this file, you can treat the whole directory `my_module` like as it was a Python file."
   ]
  },
  {
   "cell_type": "markdown",
   "metadata": {
    "editable": true,
    "slideshow": {
     "slide_type": ""
    },
    "tags": []
   },
   "source": [
    "### Exercise 4\n",
    "\n",
    "- [ ] `import my_module` in a cell and use `TAB` to see what's in there\n",
    "- [ ] edit the file `my_module/__init__.py` and add uncomment the lines that are commented out\n",
    "- [ ] run the `import` again and observe what changed (maybe restart the kernel)\n",
    "- [ ] directly import the functions of `my_module`, using the `from <module> import <function>` syntax\n",
    "- [ ] invoke the methods, use the `Shift+TAB` to find out which arguments you need to pass"
   ]
  },
  {
   "cell_type": "markdown",
   "metadata": {
    "editable": true,
    "slideshow": {
     "slide_type": "slide"
    },
    "tags": []
   },
   "source": [
    "## The `sys` module"
   ]
  },
  {
   "cell_type": "markdown",
   "metadata": {
    "editable": true,
    "slideshow": {
     "slide_type": "fragment"
    },
    "tags": []
   },
   "source": [
    "This module shows a lot of information about the **Python interpreter** itself and its location"
   ]
  },
  {
   "cell_type": "code",
   "execution_count": null,
   "metadata": {
    "editable": true,
    "slideshow": {
     "slide_type": "fragment"
    },
    "tags": []
   },
   "outputs": [],
   "source": [
    "sys.version"
   ]
  },
  {
   "cell_type": "code",
   "execution_count": null,
   "metadata": {
    "editable": true,
    "slideshow": {
     "slide_type": "fragment"
    },
    "tags": []
   },
   "outputs": [],
   "source": [
    "sys.version_info"
   ]
  },
  {
   "cell_type": "code",
   "execution_count": null,
   "metadata": {
    "editable": true,
    "slideshow": {
     "slide_type": "fragment"
    },
    "tags": []
   },
   "outputs": [],
   "source": [
    "sys.executable"
   ]
  },
  {
   "cell_type": "markdown",
   "metadata": {
    "editable": true,
    "slideshow": {
     "slide_type": "subslide"
    },
    "tags": []
   },
   "source": [
    "A typical example how we can avoid a script from being executed with the **wrong Python interpreter**:"
   ]
  },
  {
   "cell_type": "code",
   "execution_count": null,
   "metadata": {
    "editable": true,
    "slideshow": {
     "slide_type": "fragment"
    },
    "tags": []
   },
   "outputs": [],
   "source": [
    "if sys.version_info < (3,9):\n",
    "    sys.exit('Sorry, Python < 3.9 is no longer maintained')"
   ]
  },
  {
   "cell_type": "markdown",
   "metadata": {
    "editable": true,
    "slideshow": {
     "slide_type": ""
    },
    "tags": []
   },
   "source": [
    "Add the **locally installed packages** to the `PYTHONPATH`.\n",
    "\n",
    "Sometimes, we cannot install a package into the standard `.../python3.xx/site-packages` folder, because of lack of privileges. However, the `pip` package manager can install it in user-space:"
   ]
  },
  {
   "cell_type": "code",
   "execution_count": null,
   "metadata": {
    "editable": true,
    "slideshow": {
     "slide_type": ""
    },
    "tags": []
   },
   "outputs": [],
   "source": [
    "!pip install pandas --user"
   ]
  },
  {
   "cell_type": "markdown",
   "metadata": {
    "editable": true,
    "slideshow": {
     "slide_type": ""
    },
    "tags": []
   },
   "source": [
    "The `--user` option will install the package into the `site.USER_SITE` folder:"
   ]
  },
  {
   "cell_type": "code",
   "execution_count": null,
   "metadata": {
    "editable": true,
    "slideshow": {
     "slide_type": ""
    },
    "tags": []
   },
   "outputs": [],
   "source": [
    "import site\n",
    "site.USER_SITE"
   ]
  },
  {
   "cell_type": "markdown",
   "metadata": {
    "editable": true,
    "slideshow": {
     "slide_type": ""
    },
    "tags": []
   },
   "source": [
    "However, after installing, the following statement might fail:"
   ]
  },
  {
   "cell_type": "code",
   "execution_count": null,
   "metadata": {
    "editable": true,
    "slideshow": {
     "slide_type": ""
    },
    "tags": []
   },
   "outputs": [],
   "source": [
    "import pandas  # this might if pandas is only installed in user-space"
   ]
  },
  {
   "cell_type": "markdown",
   "metadata": {
    "editable": true,
    "slideshow": {
     "slide_type": ""
    },
    "tags": []
   },
   "source": [
    "The `sys.path` is an array (list) of paths. We can use the `.append` method on it to add another item, in our case it is the `site.USER_SITE` folder:"
   ]
  },
  {
   "cell_type": "code",
   "execution_count": null,
   "metadata": {
    "editable": true,
    "slideshow": {
     "slide_type": ""
    },
    "tags": []
   },
   "outputs": [],
   "source": [
    "import sys\n",
    "import site\n",
    "sys.path.append(site.USER_SITE)"
   ]
  },
  {
   "cell_type": "markdown",
   "metadata": {
    "editable": true,
    "slideshow": {
     "slide_type": ""
    },
    "tags": []
   },
   "source": [
    "Now the import should work (if it hasn't worked before):"
   ]
  },
  {
   "cell_type": "code",
   "execution_count": null,
   "metadata": {
    "editable": true,
    "slideshow": {
     "slide_type": ""
    },
    "tags": []
   },
   "outputs": [],
   "source": [
    "import pandas"
   ]
  },
  {
   "cell_type": "markdown",
   "metadata": {},
   "source": [
    "### Exercise 5\n",
    "- [ ] play around with the `sys.path`. Use the `.pop()` and `.append()` methods\n",
    "- [ ] make `sys.path` an empty array and look at the list after an `import` statement and `TAB`\n",
    "- [ ] Restart the kernel of the Jupyter notebook and try again"
   ]
  }
 ],
 "metadata": {
  "celltoolbar": "Slideshow",
  "kernelspec": {
   "display_name": "Python 3 (ipykernel)",
   "language": "python",
   "name": "python3"
  },
  "language_info": {
   "codemirror_mode": {
    "name": "ipython",
    "version": 3
   },
   "file_extension": ".py",
   "mimetype": "text/x-python",
   "name": "python",
   "nbconvert_exporter": "python",
   "pygments_lexer": "ipython3",
   "version": "3.11.4"
  }
 },
 "nbformat": 4,
 "nbformat_minor": 4
}
