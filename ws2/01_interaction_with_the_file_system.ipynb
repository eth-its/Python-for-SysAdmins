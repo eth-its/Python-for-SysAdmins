{
 "cells": [
  {
   "cell_type": "markdown",
   "metadata": {},
   "source": [
    "# Interaction with the file system"
   ]
  },
  {
   "cell_type": "markdown",
   "metadata": {},
   "source": [
    "## classic: the `os` module"
   ]
  },
  {
   "cell_type": "markdown",
   "metadata": {},
   "source": [
    "Python comes with a lot of pre-installed modules (standard Python library) which greatly extend the language. This is also known as «batteries included»."
   ]
  },
  {
   "cell_type": "markdown",
   "metadata": {},
   "source": [
    "The `os` module is probably the most often used module, it is part of the **standard Python library** and offers a lot of system-independent file operations. To use this module, you have to `import` it. Importing a module means, you import the _symbol_ `os` into your script. Typically, you will be using quite a few Python modules, as they are the strength of the language. Import statements should be placed at the top of your script."
   ]
  },
  {
   "cell_type": "markdown",
   "metadata": {},
   "source": [
    "**importing the `os` module**"
   ]
  },
  {
   "cell_type": "code",
   "execution_count": 1,
   "metadata": {},
   "outputs": [
    {
     "name": "stdout",
     "output_type": "stream",
     "text": [
      "now 'os' is a module: <module 'os' from '/Users/vermeul/.pyenv/versions/3.6.9/lib/python3.6/os.py'>\n",
      "now 'os' is: something else\n",
      "now 'os' is a module again: <module 'os' from '/Users/vermeul/.pyenv/versions/3.6.9/lib/python3.6/os.py'>\n"
     ]
    }
   ],
   "source": [
    "import os\n",
    "\n",
    "print(\"now 'os' is a module:\", os)\n",
    "os = \"something else\"\n",
    "print(\"now 'os' is:\", os)\n",
    "\n",
    "import os\n",
    "print(\"now 'os' is a module again:\", os)"
   ]
  },
  {
   "cell_type": "markdown",
   "metadata": {},
   "source": [
    "### Sidenote 1: symbols"
   ]
  },
  {
   "cell_type": "markdown",
   "metadata": {},
   "source": [
    "Python offers **no protection to imported symbols**, even the built-in functions – such as `print` – can be overwritten:"
   ]
  },
  {
   "cell_type": "code",
   "execution_count": 13,
   "metadata": {},
   "outputs": [],
   "source": [
    "if type(print) == 'builtin_function_or_method':\n",
    "    print_original = print\n",
    "def new_print(*items_to_print):\n",
    "    print_original(\">>>>>>\", *items_to_print, \"<<<<<<\")\n",
    "print = new_print"
   ]
  },
  {
   "cell_type": "markdown",
   "metadata": {},
   "source": [
    "now the original print method is gone:"
   ]
  },
  {
   "cell_type": "code",
   "execution_count": 14,
   "metadata": {},
   "outputs": [
    {
     "name": "stdout",
     "output_type": "stream",
     "text": [
      ">>>>>> hello world <<<<<<\n"
     ]
    }
   ],
   "source": [
    "print(\"hello\", \"world\")"
   ]
  },
  {
   "cell_type": "markdown",
   "metadata": {},
   "source": [
    "better back to the original..."
   ]
  },
  {
   "cell_type": "code",
   "execution_count": 15,
   "metadata": {},
   "outputs": [
    {
     "name": "stdout",
     "output_type": "stream",
     "text": [
      "hello, here we are again\n"
     ]
    }
   ],
   "source": [
    "print = print_original\n",
    "print(\"hello, here we are again\")"
   ]
  },
  {
   "cell_type": "markdown",
   "metadata": {},
   "source": [
    "### Sidenote 2: get information about a module and its methods in Jupyter"
   ]
  },
  {
   "cell_type": "markdown",
   "metadata": {},
   "source": [
    "**put a question mark ? directly after any method or module name** and execute the cell to receive the docstring."
   ]
  },
  {
   "cell_type": "code",
   "execution_count": 21,
   "metadata": {},
   "outputs": [
    {
     "data": {
      "text/plain": [
       "\u001b[0;31mType:\u001b[0m        module\n",
       "\u001b[0;31mString form:\u001b[0m <module 'os' from '/Users/vermeul/.pyenv/versions/3.6.9/lib/python3.6/os.py'>\n",
       "\u001b[0;31mFile:\u001b[0m        ~/.pyenv/versions/3.6.9/lib/python3.6/os.py\n",
       "\u001b[0;31mDocstring:\u001b[0m  \n",
       "OS routines for NT or Posix depending on what system we're on.\n",
       "\n",
       "This exports:\n",
       "  - all functions from posix or nt, e.g. unlink, stat, etc.\n",
       "  - os.path is either posixpath or ntpath\n",
       "  - os.name is either 'posix' or 'nt'\n",
       "  - os.curdir is a string representing the current directory (always '.')\n",
       "  - os.pardir is a string representing the parent directory (always '..')\n",
       "  - os.sep is the (or a most common) pathname separator ('/' or '\\\\')\n",
       "  - os.extsep is the extension separator (always '.')\n",
       "  - os.altsep is the alternate pathname separator (None or '/')\n",
       "  - os.pathsep is the component separator used in $PATH etc\n",
       "  - os.linesep is the line separator in text files ('\\r' or '\\n' or '\\r\\n')\n",
       "  - os.defpath is the default search path for executables\n",
       "  - os.devnull is the file path of the null device ('/dev/null', etc.)\n",
       "\n",
       "Programs that import and use 'os' stand a better chance of being\n",
       "portable between different platforms.  Of course, they must then\n",
       "only use functions that are defined by all platforms (e.g., unlink\n",
       "and opendir), and leave all pathname manipulation to os.path\n",
       "(e.g., split and join).\n"
      ]
     },
     "metadata": {},
     "output_type": "display_data"
    }
   ],
   "source": [
    "import os\n",
    "os?"
   ]
  },
  {
   "cell_type": "code",
   "execution_count": 23,
   "metadata": {},
   "outputs": [
    {
     "data": {
      "text/plain": [
       "\u001b[0;31mSignature:\u001b[0m \u001b[0mos\u001b[0m\u001b[0;34m.\u001b[0m\u001b[0mpath\u001b[0m\u001b[0;34m.\u001b[0m\u001b[0mexists\u001b[0m\u001b[0;34m(\u001b[0m\u001b[0mpath\u001b[0m\u001b[0;34m)\u001b[0m\u001b[0;34m\u001b[0m\u001b[0;34m\u001b[0m\u001b[0m\n",
       "\u001b[0;31mDocstring:\u001b[0m Test whether a path exists.  Returns False for broken symbolic links\n",
       "\u001b[0;31mFile:\u001b[0m      ~/.pyenv/versions/3.6.9/lib/python3.6/genericpath.py\n",
       "\u001b[0;31mType:\u001b[0m      function\n"
      ]
     },
     "metadata": {},
     "output_type": "display_data"
    }
   ],
   "source": [
    "os.path.exists?"
   ]
  },
  {
   "cell_type": "code",
   "execution_count": 24,
   "metadata": {},
   "outputs": [
    {
     "data": {
      "text/plain": [
       "\u001b[0;31mDocstring:\u001b[0m\n",
       "print(value, ..., sep=' ', end='\\n', file=sys.stdout, flush=False)\n",
       "\n",
       "Prints the values to a stream, or to sys.stdout by default.\n",
       "Optional keyword arguments:\n",
       "file:  a file-like object (stream); defaults to the current sys.stdout.\n",
       "sep:   string inserted between values, default a space.\n",
       "end:   string appended after the last value, default a newline.\n",
       "flush: whether to forcibly flush the stream.\n",
       "\u001b[0;31mType:\u001b[0m      builtin_function_or_method\n"
      ]
     },
     "metadata": {},
     "output_type": "display_data"
    }
   ],
   "source": [
    "print?"
   ]
  },
  {
   "cell_type": "markdown",
   "metadata": {},
   "source": [
    "\n",
    "**use Jupyter’s TAB completion to list all methods**\n",
    "\n",
    "enter the following cell, then hit the tabulator key after the dot: a list of possible methods will appear as a vertical list."
   ]
  },
  {
   "cell_type": "code",
   "execution_count": null,
   "metadata": {},
   "outputs": [],
   "source": [
    "os."
   ]
  },
  {
   "cell_type": "markdown",
   "metadata": {},
   "source": [
    "### Sidenote 3: install new modules from pypi (= the Python Package Index)"
   ]
  },
  {
   "cell_type": "markdown",
   "metadata": {},
   "source": [
    "simply use the `pip` command line tool, which is being shipped with Python"
   ]
  },
  {
   "cell_type": "code",
   "execution_count": 25,
   "metadata": {},
   "outputs": [
    {
     "name": "stdout",
     "output_type": "stream",
     "text": [
      "Requirement already satisfied: pandas in /Users/vermeul/.pyenv/versions/3.6.9/lib/python3.6/site-packages (1.1.0)\n",
      "Requirement already satisfied: numpy>=1.15.4 in /Users/vermeul/.pyenv/versions/3.6.9/lib/python3.6/site-packages (from pandas) (1.19.1)\n",
      "Requirement already satisfied: python-dateutil>=2.7.3 in /Users/vermeul/.pyenv/versions/3.6.9/lib/python3.6/site-packages (from pandas) (2.8.1)\n",
      "Requirement already satisfied: pytz>=2017.2 in /Users/vermeul/.pyenv/versions/3.6.9/lib/python3.6/site-packages (from pandas) (2020.1)\n",
      "Requirement already satisfied: six>=1.5 in /Users/vermeul/.pyenv/versions/3.6.9/lib/python3.6/site-packages (from python-dateutil>=2.7.3->pandas) (1.15.0)\n"
     ]
    }
   ],
   "source": [
    "!pip install pandas"
   ]
  },
  {
   "cell_type": "markdown",
   "metadata": {},
   "source": [
    "the same with the `-m` parameter to use a specific module"
   ]
  },
  {
   "cell_type": "code",
   "execution_count": 27,
   "metadata": {},
   "outputs": [
    {
     "name": "stdout",
     "output_type": "stream",
     "text": [
      "Requirement already satisfied: pandas in /Users/vermeul/.pyenv/versions/3.6.9/lib/python3.6/site-packages (1.1.0)\n",
      "Requirement already satisfied: python-dateutil>=2.7.3 in /Users/vermeul/.pyenv/versions/3.6.9/lib/python3.6/site-packages (from pandas) (2.8.1)\n",
      "Requirement already satisfied: pytz>=2017.2 in /Users/vermeul/.pyenv/versions/3.6.9/lib/python3.6/site-packages (from pandas) (2020.1)\n",
      "Requirement already satisfied: numpy>=1.15.4 in /Users/vermeul/.pyenv/versions/3.6.9/lib/python3.6/site-packages (from pandas) (1.19.1)\n",
      "Requirement already satisfied: six>=1.5 in /Users/vermeul/.pyenv/versions/3.6.9/lib/python3.6/site-packages (from python-dateutil>=2.7.3->pandas) (1.15.0)\n"
     ]
    }
   ],
   "source": [
    "!python3 -m pip install pandas"
   ]
  },
  {
   "cell_type": "markdown",
   "metadata": {},
   "source": [
    "**list installed modules**"
   ]
  },
  {
   "cell_type": "code",
   "execution_count": 28,
   "metadata": {},
   "outputs": [
    {
     "name": "stdout",
     "output_type": "stream",
     "text": [
      "alabaster==0.7.12\n",
      "alembic==1.4.2\n",
      "appnope==0.1.0\n",
      "argon2-cffi==20.1.0\n",
      "astroid==2.4.2\n",
      "async-generator==1.10\n",
      "attrs==19.3.0\n",
      "Babel==2.8.0\n",
      "backcall==0.2.0\n",
      "beautifulsoup4==4.9.1\n",
      "bleach==3.1.5\n",
      "blis==0.4.1\n",
      "bs4==0.0.1\n",
      "cachetools==4.1.1\n",
      "catalogue==1.0.0\n",
      "certifi==2020.6.20\n",
      "certipy==0.1.3\n",
      "cffi==1.14.1\n",
      "chardet==3.0.4\n",
      "chartpress==0.6.0\n",
      "click==7.1.2\n",
      "codecov==2.1.9\n",
      "colorama==0.4.3\n",
      "CommonMark==0.5.4\n",
      "contextvars==2.4\n",
      "coverage==5.3\n",
      "cryptography==3.0\n",
      "cycler==0.10.0\n",
      "cymem==2.0.3\n",
      "DateTime==4.3\n",
      "de-core-news-sm @ https://github.com/explosion/spacy-models/releases/download/de_core_news_sm-2.3.0/de_core_news_sm-2.3.0.tar.gz\n",
      "decorator==4.4.2\n",
      "defusedxml==0.6.0\n",
      "docker==4.3.0\n",
      "docutils==0.16\n",
      "english==2020.7.0\n",
      "entrypoints==0.3\n",
      "escapism==1.0.1\n",
      "ethz-iam-webservice==0.3.1\n",
      "-e git+git@gitlab.ethz.ch:jnowotny/edition-louis-ginzberg.git@1549d7495c3dbbcaef717900f27be93b1caa6560#egg=ginzberg2tei&subdirectory=Ginzberg2Tei\n",
      "gitdb==4.0.5\n",
      "GitPython==3.1.8\n",
      "google-auth==1.21.1\n",
      "h11==0.11.0\n",
      "html5lib==1.1\n",
      "httpcore==0.12.1\n",
      "httpx==0.16.1\n",
      "idna==2.10\n",
      "imagesize==1.2.0\n",
      "immutables==0.14\n",
      "importlib-metadata==1.7.0\n",
      "iniconfig==1.0.1\n",
      "ipykernel==5.3.4\n",
      "ipython==7.16.1\n",
      "ipython-genutils==0.2.0\n",
      "ipywidgets==7.5.1\n",
      "isort==5.5.2\n",
      "jedi==0.17.2\n",
      "Jinja2==2.11.2\n",
      "json5==0.9.5\n",
      "jsonschema==3.2.0\n",
      "jupyter==1.0.0\n",
      "jupyter-client==6.1.6\n",
      "jupyter-console==6.2.0\n",
      "jupyter-core==4.6.3\n",
      "-e git+git@sissource.ethz.ch:sispub/jupyter-openbis-integration.git@0fcae8ce9d94f3cd428eadd3bc69ad5b47b93d53#egg=jupyter_openbis_authenticator&subdirectory=jupyter_openbis_authenticator\n",
      "-e git+https://github.com/jupyterhub/repo2docker.git@30ef2209cc767826e2647886854fac12469a06c1#egg=jupyter_repo2docker\n",
      "jupyter-telemetry==0.1.0\n",
      "jupyterhub==1.1.0\n",
      "jupyterlab==2.2.8\n",
      "jupyterlab-server==1.2.0\n",
      "keyring==21.3.0\n",
      "kiwisolver==1.2.0\n",
      "kubernetes==9.0.1\n",
      "lab==6.1\n",
      "lazy-object-proxy==1.4.3\n",
      "ldap3==2.8.1\n",
      "limit==0.2.3\n",
      "line-profiler==3.0.2\n",
      "lxml==4.5.2\n",
      "Mako==1.1.3\n",
      "MarkupSafe==1.1.1\n",
      "matplotlib==3.3.2\n",
      "mccabe==0.6.1\n",
      "mistune==0.8.4\n",
      "monotonic==1.5\n",
      "more-itertools==8.4.0\n",
      "murmurhash==1.0.2\n",
      "nbconvert==5.6.1\n",
      "nbformat==5.0.7\n",
      "neotime==1.7.4\n",
      "notebook==6.1.1\n",
      "numpy==1.19.1\n",
      "oauthlib==3.1.0\n",
      "packaging==20.4\n",
      "pamela==1.0.0\n",
      "pandas==1.1.0\n",
      "pandocfilters==1.4.2\n",
      "pansi==2020.7.3\n",
      "parso==0.7.1\n",
      "pexpect==4.8.0\n",
      "pickleshare==0.7.5\n",
      "Pillow==7.2.0\n",
      "pkginfo==1.5.0.1\n",
      "plac==1.1.3\n",
      "pluggy==0.13.1\n",
      "preshed==3.0.2\n",
      "prometheus-client==0.8.0\n",
      "prompt-toolkit==2.0.10\n",
      "ptyprocess==0.6.0\n",
      "py==1.9.0\n",
      "py2neo==2020.0.0\n",
      "pyasn1==0.4.8\n",
      "pyasn1-modules==0.2.8\n",
      "-e git+git@sissource.ethz.ch:sispub/openbis.git@661d238fd5b424ac702cdba9a4bdc7665caeed98#egg=PyBIS&subdirectory=pybis/src/python\n",
      "pycparser==2.20\n",
      "pycurl==7.43.0.5\n",
      "pydata-sphinx-theme==0.4.0\n",
      "Pygments==2.6.1\n",
      "pylint==2.6.0\n",
      "pyOpenSSL==19.1.0\n",
      "pyparsing==2.4.7\n",
      "pyrsistent==0.16.0\n",
      "pytest==6.0.1\n",
      "pytest-asyncio==0.14.0\n",
      "pytest-cov==2.10.1\n",
      "python-dateutil==2.8.1\n",
      "python-docx==0.8.10\n",
      "python-editor==1.0.4\n",
      "python-git-info==0.6.1\n",
      "python-json-logger==0.1.11\n",
      "pytz==2020.1\n",
      "PyYAML==5.3.1\n",
      "pyzmq==19.0.2\n",
      "qtconsole==4.7.7\n",
      "QtPy==1.9.0\n",
      "readme-renderer==26.0\n",
      "recommonmark==0.4.0\n",
      "requests==2.24.0\n",
      "requests-oauthlib==1.3.0\n",
      "requests-toolbelt==0.9.1\n",
      "rfc3986==1.4.0\n",
      "rsa==4.6\n",
      "ruamel.yaml==0.16.10\n",
      "ruamel.yaml.clib==0.2.0\n",
      "semver==2.10.2\n",
      "Send2Trash==1.5.0\n",
      "shortuuid==1.0.1\n",
      "simplejson==3.17.2\n",
      "six==1.15.0\n",
      "smmap==3.0.4\n",
      "sniffio==1.2.0\n",
      "snowballstemmer==2.0.0\n",
      "soupsieve==2.0.1\n",
      "spacy==2.3.2\n",
      "Sphinx==3.2.1\n",
      "sphinx-copybutton==0.3.0\n",
      "sphinxcontrib-applehelp==1.0.2\n",
      "sphinxcontrib-devhelp==1.0.2\n",
      "sphinxcontrib-htmlhelp==1.0.3\n",
      "sphinxcontrib-jsmath==1.0.1\n",
      "sphinxcontrib-qthelp==1.0.3\n",
      "sphinxcontrib-serializinghtml==1.1.4\n",
      "SQLAlchemy==1.3.18\n",
      "srsly==1.0.2\n",
      "sudospawner==0.5.2\n",
      "suds-py3==1.4.1.0\n",
      "-e git+git@sissource.ethz.ch:sis/swisspkcdw-data-import.git@400e98dfe930878f12c66c75bb1dfa7a74003d94#egg=swisspkcdw_data_import&subdirectory=swisspkcdw_data_import\n",
      "tabulate==0.8.7\n",
      "-e git+git@sissource.ethz.ch:sis/semper-parser.git@042c3a866856f79dececdf670bcadbbf2ee6bdd8#egg=tei2neo&subdirectory=TEIParse\n",
      "terminado==0.8.3\n",
      "testpath==0.4.4\n",
      "texttable==1.6.2\n",
      "thinc==7.4.1\n",
      "toml==0.10.1\n",
      "tornado==6.0.4\n",
      "tqdm==4.48.2\n",
      "traitlets==4.3.3\n",
      "twine==3.2.0\n",
      "txt2tags==3.7\n",
      "typed-ast==1.4.1\n",
      "urllib3==1.25.10\n",
      "wasabi==0.8.0\n",
      "wcwidth==0.2.5\n",
      "webencodings==0.5.1\n",
      "websocket-client==0.57.0\n",
      "widgetsnbextension==3.5.1\n",
      "word-ginzberg2tei==0.1.0\n",
      "wos==0.2.5\n",
      "wrapt==1.12.1\n",
      "yapf==0.30.0\n",
      "zipp==3.1.0\n",
      "zope.interface==5.1.0\n"
     ]
    }
   ],
   "source": [
    "!pip freeze"
   ]
  },
  {
   "cell_type": "markdown",
   "metadata": {},
   "source": [
    "**The not so easy way to list all installed packages from within Python**"
   ]
  },
  {
   "cell_type": "code",
   "execution_count": 31,
   "metadata": {},
   "outputs": [
    {
     "name": "stdout",
     "output_type": "stream",
     "text": [
      "zope.interface==5.1.0\n",
      "zipp==3.1.0\n",
      "yapf==0.30.0\n",
      "wrapt==1.12.1\n",
      "wos==0.2.5\n",
      "widgetsnbextension==3.5.1\n",
      "wheel==0.35.1\n",
      "websocket-client==0.57.0\n",
      "webencodings==0.5.1\n",
      "wcwidth==0.2.5\n",
      "wasabi==0.8.0\n",
      "urllib3==1.25.10\n",
      "typed-ast==1.4.1\n",
      "txt2tags==3.7\n",
      "twine==3.2.0\n",
      "traitlets==4.3.3\n",
      "tqdm==4.48.2\n",
      "tornado==6.0.4\n",
      "toml==0.10.1\n",
      "thinc==7.4.1\n",
      "texttable==1.6.2\n",
      "testpath==0.4.4\n",
      "terminado==0.8.3\n",
      "tabulate==0.8.7\n",
      "suds-py3==1.4.1.0\n",
      "sudospawner==0.5.2\n",
      "srsly==1.0.2\n",
      "sqlalchemy==1.3.18\n",
      "sphinxcontrib-serializinghtml==1.1.4\n",
      "sphinxcontrib-qthelp==1.0.3\n",
      "sphinxcontrib-jsmath==1.0.1\n",
      "sphinxcontrib-htmlhelp==1.0.3\n",
      "sphinxcontrib-devhelp==1.0.2\n",
      "sphinxcontrib-applehelp==1.0.2\n",
      "sphinx==3.2.1\n",
      "sphinx-copybutton==0.3.0\n",
      "spacy==2.3.2\n",
      "soupsieve==2.0.1\n",
      "snowballstemmer==2.0.0\n",
      "sniffio==1.2.0\n",
      "smmap==3.0.4\n",
      "six==1.15.0\n",
      "simplejson==3.17.2\n",
      "shortuuid==1.0.1\n",
      "setuptools==40.6.2\n",
      "send2trash==1.5.0\n",
      "semver==2.10.2\n",
      "ruamel.yaml==0.16.10\n",
      "ruamel.yaml.clib==0.2.0\n",
      "rsa==4.6\n",
      "rfc3986==1.4.0\n",
      "requests==2.24.0\n",
      "requests-toolbelt==0.9.1\n",
      "requests-oauthlib==1.3.0\n",
      "recommonmark==0.4.0\n",
      "readme-renderer==26.0\n",
      "qtpy==1.9.0\n",
      "qtconsole==4.7.7\n",
      "pyzmq==19.0.2\n",
      "pyyaml==5.3.1\n",
      "pytz==2020.1\n",
      "python-json-logger==0.1.11\n",
      "python-git-info==0.6.1\n",
      "python-editor==1.0.4\n",
      "python-docx==0.8.10\n",
      "python-dateutil==2.8.1\n",
      "pytest==6.0.1\n",
      "pytest-cov==2.10.1\n",
      "pytest-asyncio==0.14.0\n",
      "pyrsistent==0.16.0\n",
      "pyparsing==2.4.7\n",
      "pyopenssl==19.1.0\n",
      "pylint==2.6.0\n",
      "pygments==2.6.1\n",
      "pydata-sphinx-theme==0.4.0\n",
      "pycurl==7.43.0.5\n",
      "pycparser==2.20\n",
      "pyasn1==0.4.8\n",
      "pyasn1-modules==0.2.8\n",
      "py2neo==2020.0.0\n",
      "py==1.9.0\n",
      "ptyprocess==0.6.0\n",
      "prompt-toolkit==2.0.10\n",
      "prometheus-client==0.8.0\n",
      "preshed==3.0.2\n",
      "pluggy==0.13.1\n",
      "plac==1.1.3\n",
      "pkginfo==1.5.0.1\n",
      "pip==20.2.4\n",
      "pillow==7.2.0\n",
      "pickleshare==0.7.5\n",
      "pexpect==4.8.0\n",
      "parso==0.7.1\n",
      "pansi==2020.7.3\n",
      "pandocfilters==1.4.2\n",
      "pandas==1.1.0\n",
      "pamela==1.0.0\n",
      "packaging==20.4\n",
      "oauthlib==3.1.0\n",
      "numpy==1.19.1\n",
      "notebook==6.1.1\n",
      "neotime==1.7.4\n",
      "nbformat==5.0.7\n",
      "nbconvert==5.6.1\n",
      "murmurhash==1.0.2\n",
      "more-itertools==8.4.0\n",
      "monotonic==1.5\n",
      "mistune==0.8.4\n",
      "mccabe==0.6.1\n",
      "matplotlib==3.3.2\n",
      "markupsafe==1.1.1\n",
      "mako==1.1.3\n",
      "lxml==4.5.2\n",
      "line-profiler==3.0.2\n",
      "limit==0.2.3\n",
      "ldap3==2.8.1\n",
      "lazy-object-proxy==1.4.3\n",
      "lab==6.1\n",
      "kubernetes==9.0.1\n",
      "kiwisolver==1.2.0\n",
      "keyring==21.3.0\n",
      "jupyterlab==2.2.8\n",
      "jupyterlab-server==1.2.0\n",
      "jupyterhub==1.1.0\n",
      "jupyter==1.0.0\n",
      "jupyter-telemetry==0.1.0\n",
      "jupyter-core==4.6.3\n",
      "jupyter-console==6.2.0\n",
      "jupyter-client==6.1.6\n",
      "jsonschema==3.2.0\n",
      "json5==0.9.5\n",
      "jinja2==2.11.2\n",
      "jedi==0.17.2\n",
      "isort==5.5.2\n",
      "ipywidgets==7.5.1\n",
      "ipython==7.16.1\n",
      "ipython-genutils==0.2.0\n",
      "ipykernel==5.3.4\n",
      "iniconfig==1.0.1\n",
      "importlib-metadata==1.7.0\n",
      "immutables==0.14\n",
      "imagesize==1.2.0\n",
      "idna==2.10\n",
      "httpx==0.16.1\n",
      "httpcore==0.12.1\n",
      "html5lib==1.1\n",
      "h11==0.11.0\n",
      "google-auth==1.21.1\n",
      "gitpython==3.1.8\n",
      "gitdb==4.0.5\n",
      "ethz-iam-webservice==0.3.1\n",
      "escapism==1.0.1\n",
      "entrypoints==0.3\n",
      "english==2020.7.0\n",
      "docutils==0.16\n",
      "docker==4.3.0\n",
      "defusedxml==0.6.0\n",
      "decorator==4.4.2\n",
      "de-core-news-sm==2.3.0\n",
      "datetime==4.3\n",
      "cymem==2.0.3\n",
      "cycler==0.10.0\n",
      "cryptography==3.0\n",
      "coverage==5.3\n",
      "contextvars==2.4\n",
      "commonmark==0.5.4\n",
      "colorama==0.4.3\n",
      "codecov==2.1.9\n",
      "click==7.1.2\n",
      "chartpress==0.6.0\n",
      "chardet==3.0.4\n",
      "cffi==1.14.1\n",
      "certipy==0.1.3\n",
      "certifi==2020.6.20\n",
      "catalogue==1.0.0\n",
      "cachetools==4.1.1\n",
      "bs4==0.0.1\n",
      "blis==0.4.1\n",
      "bleach==3.1.5\n",
      "beautifulsoup4==4.9.1\n",
      "backcall==0.2.0\n",
      "babel==2.8.0\n",
      "attrs==19.3.0\n",
      "async-generator==1.10\n",
      "astroid==2.4.2\n",
      "argon2-cffi==20.1.0\n",
      "appnope==0.1.0\n",
      "alembic==1.4.2\n",
      "alabaster==0.7.12\n",
      "pybis==1.16.2\n",
      "swisspkcdw-data-import==0.2.0\n",
      "word-ginzberg2tei==0.1.0\n",
      "ginzberg2tei==0.1.0\n",
      "jupyter-openbis-authenticator==0.4.0\n",
      "tei2neo==0.2.2\n",
      "jupyter-repo2docker==0.11.0+184.g30ef220\n"
     ]
    }
   ],
   "source": [
    "import pkg_resources\n",
    "print(\"\\n\".join([\n",
    "    \"{}=={}\".format(i.key, i.version) for i in pkg_resources.working_set\n",
    "    ])\n",
    ")"
   ]
  },
  {
   "cell_type": "markdown",
   "metadata": {},
   "source": [
    "### back to our `os` module..."
   ]
  },
  {
   "cell_type": "markdown",
   "metadata": {},
   "source": [
    "**current working directory**"
   ]
  },
  {
   "cell_type": "code",
   "execution_count": 143,
   "metadata": {},
   "outputs": [
    {
     "data": {
      "text/plain": [
       "'/Users/vermeul/Python-for-SysAdmins/ws2'"
      ]
     },
     "execution_count": 143,
     "metadata": {},
     "output_type": "execute_result"
    }
   ],
   "source": [
    "os.getcwd()"
   ]
  },
  {
   "cell_type": "markdown",
   "metadata": {},
   "source": [
    "**all files in a directory**"
   ]
  },
  {
   "cell_type": "code",
   "execution_count": 26,
   "metadata": {},
   "outputs": [
    {
     "data": {
      "text/plain": [
       "['01_interaction_with_the_file_system.ipynb',\n",
       " '02_open_and_close_files.ipynb',\n",
       " 'README.md',\n",
       " 'Python for Sysadmins2.md',\n",
       " 'Python for Sysadmins3.md',\n",
       " '.ipynb_checkpoints']"
      ]
     },
     "execution_count": 26,
     "metadata": {},
     "output_type": "execute_result"
    }
   ],
   "source": [
    "os.listdir('.')"
   ]
  },
  {
   "cell_type": "markdown",
   "metadata": {},
   "source": [
    "**create, rename and delete a file**"
   ]
  },
  {
   "cell_type": "code",
   "execution_count": 39,
   "metadata": {},
   "outputs": [],
   "source": [
    "!touch _testfile"
   ]
  },
  {
   "cell_type": "code",
   "execution_count": 40,
   "metadata": {},
   "outputs": [
    {
     "data": {
      "text/plain": [
       "True"
      ]
     },
     "execution_count": 40,
     "metadata": {},
     "output_type": "execute_result"
    }
   ],
   "source": [
    "os.path.exists('_testfile')"
   ]
  },
  {
   "cell_type": "code",
   "execution_count": 41,
   "metadata": {},
   "outputs": [],
   "source": [
    "os.rename('_testfile', 'testfile')"
   ]
  },
  {
   "cell_type": "code",
   "execution_count": 42,
   "metadata": {},
   "outputs": [
    {
     "data": {
      "text/plain": [
       "False"
      ]
     },
     "execution_count": 42,
     "metadata": {},
     "output_type": "execute_result"
    }
   ],
   "source": [
    "os.path.exists('_testfile')"
   ]
  },
  {
   "cell_type": "code",
   "execution_count": 137,
   "metadata": {},
   "outputs": [],
   "source": [
    "os.remove('_testfile')"
   ]
  },
  {
   "cell_type": "markdown",
   "metadata": {},
   "source": [
    "**file permissions**"
   ]
  },
  {
   "cell_type": "code",
   "execution_count": 121,
   "metadata": {},
   "outputs": [],
   "source": [
    "!touch _test_file_permissions"
   ]
  },
  {
   "cell_type": "code",
   "execution_count": 122,
   "metadata": {},
   "outputs": [
    {
     "data": {
      "text/plain": [
       "os.stat_result(st_mode=33188, st_ino=21840500, st_dev=16777221, st_nlink=1, st_uid=502, st_gid=20, st_size=0, st_atime=1605827131, st_mtime=1605827131, st_ctime=1605827131)"
      ]
     },
     "execution_count": 122,
     "metadata": {},
     "output_type": "execute_result"
    }
   ],
   "source": [
    "os.stat('_test_file_permissions')"
   ]
  },
  {
   "cell_type": "code",
   "execution_count": 123,
   "metadata": {},
   "outputs": [
    {
     "data": {
      "text/plain": [
       "33188"
      ]
     },
     "execution_count": 123,
     "metadata": {},
     "output_type": "execute_result"
    }
   ],
   "source": [
    "os.stat('_test_file_permissions').st_mode"
   ]
  },
  {
   "cell_type": "markdown",
   "metadata": {},
   "source": [
    "get the octal representation of the file permission"
   ]
  },
  {
   "cell_type": "code",
   "execution_count": 124,
   "metadata": {},
   "outputs": [
    {
     "data": {
      "text/plain": [
       "'0o100644'"
      ]
     },
     "execution_count": 124,
     "metadata": {},
     "output_type": "execute_result"
    }
   ],
   "source": [
    "oct(os.stat('_test_file_permissions').st_mode)"
   ]
  },
  {
   "cell_type": "markdown",
   "metadata": {},
   "source": [
    "shorten the octal representation"
   ]
  },
  {
   "cell_type": "code",
   "execution_count": 125,
   "metadata": {},
   "outputs": [
    {
     "data": {
      "text/plain": [
       "'0o644'"
      ]
     },
     "execution_count": 125,
     "metadata": {},
     "output_type": "execute_result"
    }
   ],
   "source": [
    "oct(os.stat('_test_file_permissions').st_mode & 0o777)"
   ]
  },
  {
   "cell_type": "markdown",
   "metadata": {},
   "source": [
    "change file permissions"
   ]
  },
  {
   "cell_type": "code",
   "execution_count": 126,
   "metadata": {},
   "outputs": [
    {
     "data": {
      "text/plain": [
       "'0o666'"
      ]
     },
     "execution_count": 126,
     "metadata": {},
     "output_type": "execute_result"
    }
   ],
   "source": [
    "os.chmod('_test_file_permissions', 0o666)\n",
    "oct(os.stat('_test_file_permissions').st_mode & 0o777)"
   ]
  },
  {
   "cell_type": "code",
   "execution_count": 127,
   "metadata": {},
   "outputs": [],
   "source": [
    "os.remove('_test_file_permissions')"
   ]
  },
  {
   "cell_type": "markdown",
   "metadata": {},
   "source": [
    "**change file ownership**"
   ]
  },
  {
   "cell_type": "code",
   "execution_count": 130,
   "metadata": {},
   "outputs": [],
   "source": [
    "!touch _test_file_ownership"
   ]
  },
  {
   "cell_type": "code",
   "execution_count": 131,
   "metadata": {},
   "outputs": [
    {
     "data": {
      "text/plain": [
       "502"
      ]
     },
     "execution_count": 131,
     "metadata": {},
     "output_type": "execute_result"
    }
   ],
   "source": [
    "os.stat('_test_file_ownership').st_uid"
   ]
  },
  {
   "cell_type": "code",
   "execution_count": 132,
   "metadata": {},
   "outputs": [
    {
     "data": {
      "text/plain": [
       "20"
      ]
     },
     "execution_count": 132,
     "metadata": {},
     "output_type": "execute_result"
    }
   ],
   "source": [
    "os.stat('_test_file_ownership').st_gid"
   ]
  },
  {
   "cell_type": "code",
   "execution_count": 133,
   "metadata": {},
   "outputs": [
    {
     "data": {
      "text/plain": [
       "[20, 502, 12, 61, 79, 80, 81, 98, 33, 100, 204, 250, 395, 398, 103, 400, 701]"
      ]
     },
     "execution_count": 133,
     "metadata": {},
     "output_type": "execute_result"
    }
   ],
   "source": [
    "os.getgroups()"
   ]
  },
  {
   "cell_type": "code",
   "execution_count": 134,
   "metadata": {},
   "outputs": [],
   "source": [
    "os.chown('_test_file_ownership', os.getuid(), 400)"
   ]
  },
  {
   "cell_type": "code",
   "execution_count": 135,
   "metadata": {},
   "outputs": [
    {
     "data": {
      "text/plain": [
       "400"
      ]
     },
     "execution_count": 135,
     "metadata": {},
     "output_type": "execute_result"
    }
   ],
   "source": [
    "os.stat('_test_file_ownership').st_gid"
   ]
  },
  {
   "cell_type": "code",
   "execution_count": 136,
   "metadata": {},
   "outputs": [],
   "source": [
    "os.remove('_test_file_ownership')"
   ]
  },
  {
   "cell_type": "markdown",
   "metadata": {},
   "source": [
    "**directories**"
   ]
  },
  {
   "cell_type": "code",
   "execution_count": 69,
   "metadata": {},
   "outputs": [],
   "source": [
    "os.mkdir('tmp')"
   ]
  },
  {
   "cell_type": "code",
   "execution_count": 68,
   "metadata": {},
   "outputs": [],
   "source": [
    "os.makedirs('tmp2/some/more/dirs')"
   ]
  },
  {
   "cell_type": "code",
   "execution_count": 70,
   "metadata": {},
   "outputs": [],
   "source": [
    "os.rmdir('tmp')"
   ]
  },
  {
   "cell_type": "code",
   "execution_count": 71,
   "metadata": {},
   "outputs": [],
   "source": [
    "os.removedirs('tmp2/some/more/dirs')"
   ]
  },
  {
   "cell_type": "markdown",
   "metadata": {},
   "source": [
    "## interesting alternatives: the `pathlib` and `shutil` modules"
   ]
  },
  {
   "cell_type": "markdown",
   "metadata": {},
   "source": [
    "**import pathlib and shutil**"
   ]
  },
  {
   "cell_type": "code",
   "execution_count": 34,
   "metadata": {},
   "outputs": [],
   "source": [
    "import pathlib\n",
    "import shutil"
   ]
  },
  {
   "cell_type": "code",
   "execution_count": 158,
   "metadata": {},
   "outputs": [],
   "source": [
    "info = pathlib.Path('/home/ihritik/Desktop/file.txt') "
   ]
  },
  {
   "cell_type": "code",
   "execution_count": 159,
   "metadata": {},
   "outputs": [
    {
     "data": {
      "text/plain": [
       "False"
      ]
     },
     "execution_count": 159,
     "metadata": {},
     "output_type": "execute_result"
    }
   ],
   "source": [
    "info.exists()"
   ]
  },
  {
   "cell_type": "code",
   "execution_count": 160,
   "metadata": {},
   "outputs": [],
   "source": [
    "info = pathlib.Path('.')"
   ]
  },
  {
   "cell_type": "code",
   "execution_count": 161,
   "metadata": {},
   "outputs": [
    {
     "data": {
      "text/plain": [
       "True"
      ]
     },
     "execution_count": 161,
     "metadata": {},
     "output_type": "execute_result"
    }
   ],
   "source": [
    "info.exists()"
   ]
  },
  {
   "cell_type": "markdown",
   "metadata": {},
   "source": [
    "**create a file, test if it exists, delete the file**"
   ]
  },
  {
   "cell_type": "code",
   "execution_count": 53,
   "metadata": {},
   "outputs": [],
   "source": [
    "file = pathlib.Path('_pathlib_testfile')\n",
    "file.touch()"
   ]
  },
  {
   "cell_type": "code",
   "execution_count": 54,
   "metadata": {},
   "outputs": [
    {
     "data": {
      "text/plain": [
       "True"
      ]
     },
     "execution_count": 54,
     "metadata": {},
     "output_type": "execute_result"
    }
   ],
   "source": [
    "file.exists()"
   ]
  },
  {
   "cell_type": "code",
   "execution_count": 64,
   "metadata": {},
   "outputs": [],
   "source": [
    "file.unlink()"
   ]
  },
  {
   "cell_type": "markdown",
   "metadata": {},
   "source": [
    "**open file, write content, close file**"
   ]
  },
  {
   "cell_type": "code",
   "execution_count": 70,
   "metadata": {},
   "outputs": [],
   "source": [
    "file = pathlib.Path('_pathlib_file_with_content')"
   ]
  },
  {
   "cell_type": "code",
   "execution_count": 71,
   "metadata": {},
   "outputs": [
    {
     "data": {
      "text/plain": [
       "23"
      ]
     },
     "execution_count": 71,
     "metadata": {},
     "output_type": "execute_result"
    }
   ],
   "source": [
    "file.write_text('here comes some content')"
   ]
  },
  {
   "cell_type": "code",
   "execution_count": 72,
   "metadata": {},
   "outputs": [
    {
     "data": {
      "text/plain": [
       "'here comes some content'"
      ]
     },
     "execution_count": 72,
     "metadata": {},
     "output_type": "execute_result"
    }
   ],
   "source": [
    "file.read_text()"
   ]
  },
  {
   "cell_type": "markdown",
   "metadata": {},
   "source": [
    "overwrite content"
   ]
  },
  {
   "cell_type": "code",
   "execution_count": 74,
   "metadata": {},
   "outputs": [
    {
     "data": {
      "text/plain": [
       "17"
      ]
     },
     "execution_count": 74,
     "metadata": {},
     "output_type": "execute_result"
    }
   ],
   "source": [
    "file.write_text('some more content')"
   ]
  },
  {
   "cell_type": "code",
   "execution_count": 75,
   "metadata": {},
   "outputs": [
    {
     "data": {
      "text/plain": [
       "'some more content'"
      ]
     },
     "execution_count": 75,
     "metadata": {},
     "output_type": "execute_result"
    }
   ],
   "source": [
    "file.read_text()"
   ]
  },
  {
   "cell_type": "code",
   "execution_count": 76,
   "metadata": {},
   "outputs": [],
   "source": [
    "file.unlink()"
   ]
  },
  {
   "cell_type": "code",
   "execution_count": 77,
   "metadata": {},
   "outputs": [
    {
     "data": {
      "text/plain": [
       "False"
      ]
     },
     "execution_count": 77,
     "metadata": {},
     "output_type": "execute_result"
    }
   ],
   "source": [
    "file.exists()"
   ]
  },
  {
   "cell_type": "markdown",
   "metadata": {},
   "source": [
    "**change ownership of a file**"
   ]
  },
  {
   "cell_type": "code",
   "execution_count": 178,
   "metadata": {},
   "outputs": [],
   "source": [
    "info = pathlib.Path('_pathlib_ownership_testfile')\n",
    "info.touch()"
   ]
  },
  {
   "cell_type": "code",
   "execution_count": 179,
   "metadata": {},
   "outputs": [
    {
     "name": "stdout",
     "output_type": "stream",
     "text": [
      "owner: vermeul\n",
      "group: staff\n"
     ]
    }
   ],
   "source": [
    "print(\"owner:\", info.owner())\n",
    "print(\"group:\", info.group())"
   ]
  },
  {
   "cell_type": "code",
   "execution_count": 208,
   "metadata": {},
   "outputs": [],
   "source": [
    "shutil.chown(path='_pathlib_ownership_testfile', group='everyone')"
   ]
  },
  {
   "cell_type": "code",
   "execution_count": 209,
   "metadata": {},
   "outputs": [
    {
     "data": {
      "text/plain": [
       "'everyone'"
      ]
     },
     "execution_count": 209,
     "metadata": {},
     "output_type": "execute_result"
    }
   ],
   "source": [
    "info.group()"
   ]
  },
  {
   "cell_type": "code",
   "execution_count": 211,
   "metadata": {},
   "outputs": [],
   "source": [
    "info.unlink()"
   ]
  },
  {
   "cell_type": "markdown",
   "metadata": {},
   "source": [
    "## match file patterns (1): `glob`"
   ]
  },
  {
   "cell_type": "markdown",
   "metadata": {},
   "source": [
    "## match file patterns (2): `fmatch`"
   ]
  },
  {
   "cell_type": "code",
   "execution_count": null,
   "metadata": {},
   "outputs": [],
   "source": []
  }
 ],
 "metadata": {
  "kernelspec": {
   "display_name": "Python 3",
   "language": "python",
   "name": "python3"
  },
  "language_info": {
   "codemirror_mode": {
    "name": "ipython",
    "version": 3
   },
   "file_extension": ".py",
   "mimetype": "text/x-python",
   "name": "python",
   "nbconvert_exporter": "python",
   "pygments_lexer": "ipython3",
   "version": "3.6.9"
  }
 },
 "nbformat": 4,
 "nbformat_minor": 4
}
