{
 "cells": [
  {
   "cell_type": "markdown",
   "metadata": {
    "slideshow": {
     "slide_type": "slide"
    }
   },
   "source": [
    "# open and close files"
   ]
  },
  {
   "cell_type": "markdown",
   "metadata": {
    "slideshow": {
     "slide_type": "slide"
    }
   },
   "source": [
    "## write to a file, the error-prone way"
   ]
  },
  {
   "cell_type": "markdown",
   "metadata": {
    "slideshow": {
     "slide_type": "fragment"
    }
   },
   "source": [
    "Until Python 2.5, the usual way to open a file and write something into it was like this:"
   ]
  },
  {
   "cell_type": "code",
   "execution_count": null,
   "metadata": {
    "slideshow": {
     "slide_type": "fragment"
    }
   },
   "outputs": [],
   "source": [
    "out = open(\"say_hello.txt\", \"w\")\n",
    "out.write(\"hello\\n\")\n",
    "out.write(\"world\\n\")\n",
    "not_allowed = 1/0     # simulate the real world: an error happens while we are writing to a file\n",
    "\n",
    "out.close()"
   ]
  },
  {
   "cell_type": "code",
   "execution_count": null,
   "metadata": {
    "slideshow": {
     "slide_type": "fragment"
    }
   },
   "outputs": [],
   "source": [
    "!cat say_hello.txt"
   ]
  },
  {
   "cell_type": "markdown",
   "metadata": {
    "slideshow": {
     "slide_type": "notes"
    }
   },
   "source": [
    "what has been written to the file? Nothing! The file is empty!\n",
    "\n",
    "This is because the content is still in a **memory buffer** which has not been _flushed_ to the file. The reason for this is I/O optimization: Writing to a disk is costly, so Python only does it from time to time.\n",
    "\n",
    "We can enforce writing to disk every time by providing `flush=True` to the `print` function:"
   ]
  },
  {
   "cell_type": "code",
   "execution_count": null,
   "metadata": {
    "scrolled": true,
    "slideshow": {
     "slide_type": "subslide"
    }
   },
   "outputs": [],
   "source": [
    "out = open(\"say_hello.txt\", \"w\")\n",
    "print(\"hello\", file=out, flush=True)\n",
    "print(\"world\", file=out, flush=True)\n",
    "not_allowed = 1/0     # simulate the real world: an error happens druring the write process\n",
    "\n",
    "out.close()"
   ]
  },
  {
   "cell_type": "markdown",
   "metadata": {
    "slideshow": {
     "slide_type": "notes"
    }
   },
   "source": [
    "now we have flushed and written the data just before the crash:"
   ]
  },
  {
   "cell_type": "code",
   "execution_count": null,
   "metadata": {
    "slideshow": {
     "slide_type": "fragment"
    }
   },
   "outputs": [],
   "source": [
    "!cat say_hello.txt"
   ]
  },
  {
   "cell_type": "markdown",
   "metadata": {
    "slideshow": {
     "slide_type": "subslide"
    }
   },
   "source": [
    "**However, this is error prone, a lot to type and easy to forget.** 🤢"
   ]
  },
  {
   "cell_type": "markdown",
   "metadata": {},
   "source": [
    "## always use the `with` statement to safely open and write to a file"
   ]
  },
  {
   "cell_type": "markdown",
   "metadata": {
    "slideshow": {
     "slide_type": "notes"
    }
   },
   "source": [
    "The `with` statement is a safe way to open a file and write content. If anything happens during the writing process, the memory buffer gets automatically flushed and written to the file, and the file gets closed properly:"
   ]
  },
  {
   "cell_type": "code",
   "execution_count": null,
   "metadata": {
    "slideshow": {
     "slide_type": "fragment"
    }
   },
   "outputs": [],
   "source": [
    "with open(\"say_hello.txt\", \"w\", encoding=\"utf-8\") as out:  # always be explicit which encoding you use\n",
    "    out.write(\"I ❤︎ ♚ and ♛\\n\")\n",
    "    not_allowed = 1/0     # still creates an error, but now the content gets flushed before the program is terminating\n"
   ]
  },
  {
   "cell_type": "markdown",
   "metadata": {
    "slideshow": {
     "slide_type": "notes"
    }
   },
   "source": [
    "We still receive the error, but at least our content has now reached its destiny:"
   ]
  },
  {
   "cell_type": "code",
   "execution_count": null,
   "metadata": {
    "slideshow": {
     "slide_type": "fragment"
    }
   },
   "outputs": [],
   "source": [
    "!cat say_hello.txt"
   ]
  },
  {
   "cell_type": "markdown",
   "metadata": {},
   "source": [
    "## Exercise 1\n",
    "- [ ] catch the provoked error correctly and print out a message instead"
   ]
  },
  {
   "cell_type": "markdown",
   "metadata": {
    "slideshow": {
     "slide_type": "slide"
    }
   },
   "source": [
    "## read from one file, write to another"
   ]
  },
  {
   "cell_type": "markdown",
   "metadata": {
    "slideshow": {
     "slide_type": "notes"
    }
   },
   "source": [
    "The `with` statement also allows to open multiple files at the same time, allowing to copy content safely.\n",
    "\n",
    "**Note:** The backslash `\\` at the end of line 1 is needed to break the statement in two separate lines, making it more readable:"
   ]
  },
  {
   "cell_type": "code",
   "execution_count": null,
   "metadata": {
    "slideshow": {
     "slide_type": "fragment"
    }
   },
   "outputs": [],
   "source": [
    "with open(\"say_hello.txt\", \"r\", encoding=\"utf-8\") as src, \\\n",
    "     open(\"say_many_hello.txt\", \"w\", encoding=\"utf-8\") as dest:\n",
    "    \n",
    "    content = src.read()             # read in all content\n",
    "    content = content.rstrip(\"\\n\")   # remove trailing newline \n",
    "    \n",
    "    for i in range(1,15):\n",
    "        dest.write(f\"{i}:\\t{content}\\n\")\n"
   ]
  },
  {
   "cell_type": "code",
   "execution_count": null,
   "metadata": {
    "slideshow": {
     "slide_type": "fragment"
    }
   },
   "outputs": [],
   "source": [
    "!cat say_many_hello.txt"
   ]
  },
  {
   "cell_type": "markdown",
   "metadata": {
    "slideshow": {
     "slide_type": "slide"
    }
   },
   "source": [
    "## read a file, line by line"
   ]
  },
  {
   "cell_type": "markdown",
   "metadata": {
    "slideshow": {
     "slide_type": "fragment"
    }
   },
   "source": [
    "There is a `readline()` method available which does what it says on the lid: it reads a line!"
   ]
  },
  {
   "cell_type": "code",
   "execution_count": null,
   "metadata": {
    "slideshow": {
     "slide_type": "fragment"
    }
   },
   "outputs": [],
   "source": [
    "with open(\"say_many_hello.txt\", \"r\", encoding=\"utf-8\") as src:\n",
    "    line = src.readline()\n",
    "    while line:\n",
    "        print(line, end=\"\")  # the line already contains a newline, so we set end=\"\" to avoid double newlines\n",
    "        line = src.readline()"
   ]
  },
  {
   "cell_type": "markdown",
   "metadata": {
    "slideshow": {
     "slide_type": "subslide"
    }
   },
   "source": [
    "This is doable, but not really convenient. Fortunately, Python allows us to use **a loop** instead:"
   ]
  },
  {
   "cell_type": "code",
   "execution_count": null,
   "metadata": {
    "slideshow": {
     "slide_type": "fragment"
    }
   },
   "outputs": [],
   "source": [
    "with open(\"say_many_hello.txt\", \"r\", encoding=\"utf-8\") as src:\n",
    "    for line in src:\n",
    "        print(line)"
   ]
  },
  {
   "cell_type": "markdown",
   "metadata": {},
   "source": [
    "## Exercise 2\n",
    "\n",
    "- [ ] get rid of the additional newline above, by modifying the `print` statement\n",
    "- [ ] get rid of the additional newline by removing the `\\n` at the end of each line"
   ]
  },
  {
   "cell_type": "markdown",
   "metadata": {
    "slideshow": {
     "slide_type": "slide"
    }
   },
   "source": [
    "## get all lines of a file as a list"
   ]
  },
  {
   "cell_type": "markdown",
   "metadata": {
    "slideshow": {
     "slide_type": "fragment"
    }
   },
   "source": [
    "for this task we could use the `readlines()` method:"
   ]
  },
  {
   "cell_type": "code",
   "execution_count": null,
   "metadata": {
    "slideshow": {
     "slide_type": "fragment"
    }
   },
   "outputs": [],
   "source": [
    "with open(\"say_many_hello.txt\", \"r\", encoding=\"utf-8\") as src:\n",
    "    all_lines = src.readlines()"
   ]
  },
  {
   "cell_type": "code",
   "execution_count": null,
   "metadata": {
    "slideshow": {
     "slide_type": "fragment"
    }
   },
   "outputs": [],
   "source": [
    "all_lines"
   ]
  },
  {
   "cell_type": "markdown",
   "metadata": {
    "slideshow": {
     "slide_type": "subslide"
    }
   },
   "source": [
    "Almost. We still have the unecessary newline in every item, which we want to get rid of. And we might want to get rid of the numbers and the tabs, too. The most elegant way is by using a **list comprehension**:"
   ]
  },
  {
   "cell_type": "code",
   "execution_count": null,
   "metadata": {},
   "outputs": [],
   "source": [
    "with open(\"say_many_hello.txt\", \"r\", encoding=\"utf-8\") as src:\n",
    "    all_lines = [\n",
    "        line.rstrip('\\n').split(\"\\t\")[1]     # 2. remove the newline `\\n`, split the rest on the TAB `\\t', use the second element `[1]`\n",
    "        for line in src.readlines()          # 1. for every line in src.readlines()\n",
    "    ]"
   ]
  },
  {
   "cell_type": "code",
   "execution_count": null,
   "metadata": {},
   "outputs": [],
   "source": [
    "all_lines"
   ]
  },
  {
   "cell_type": "markdown",
   "metadata": {},
   "source": [
    "## Excercise 3\n",
    "\n",
    "- [ ] rewrite the example above, using traditional for-loops instead of list-comprehension\n",
    "- [ ] list comprehensions can contain an `if` statement (after the `for line in src.readlines()`). Use it to filter only the lines starting with `1` "
   ]
  },
  {
   "cell_type": "markdown",
   "metadata": {
    "slideshow": {
     "slide_type": "slide"
    }
   },
   "source": [
    "## in-place file editing"
   ]
  },
  {
   "cell_type": "markdown",
   "metadata": {
    "slideshow": {
     "slide_type": "subslide"
    }
   },
   "source": [
    "With the `open` statement, you cannot do inplace file editing – you would need to write the changes into a temporary file and later overwrite the original one. Because this is a often needed task, there is a standard library for it: [`fileinput`](https://docs.python.org/3/library/fileinput.html)"
   ]
  },
  {
   "cell_type": "code",
   "execution_count": null,
   "metadata": {
    "slideshow": {
     "slide_type": "fragment"
    },
    "tags": []
   },
   "outputs": [],
   "source": [
    "import fileinput\n",
    "\n",
    "with fileinput.input(files=('say_many_hello.txt'), inplace=True) as f:\n",
    "    for line in f:\n",
    "        # do some processing\n",
    "        op = line.replace('♚', 'king (♚)')\n",
    "        op = op.replace('♛', 'queen (♛)')\n",
    "        # print() the text you want to write back to the input files\n",
    "        print(op, end='')  # make sure you don't add another newline"
   ]
  },
  {
   "cell_type": "code",
   "execution_count": null,
   "metadata": {
    "scrolled": true,
    "slideshow": {
     "slide_type": "fragment"
    }
   },
   "outputs": [],
   "source": [
    "!cat say_many_hello.txt"
   ]
  }
 ],
 "metadata": {
  "celltoolbar": "Slideshow",
  "kernelspec": {
   "display_name": "Python 3 (ipykernel)",
   "language": "python",
   "name": "python3"
  },
  "language_info": {
   "codemirror_mode": {
    "name": "ipython",
    "version": 3
   },
   "file_extension": ".py",
   "mimetype": "text/x-python",
   "name": "python",
   "nbconvert_exporter": "python",
   "pygments_lexer": "ipython3",
   "version": "3.11.4"
  }
 },
 "nbformat": 4,
 "nbformat_minor": 4
}
